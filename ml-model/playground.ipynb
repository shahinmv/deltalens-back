{
 "cells": [
  {
   "cell_type": "code",
   "execution_count": 11,
   "metadata": {},
   "outputs": [
    {
     "name": "stdout",
     "output_type": "stream",
     "text": [
      "Collecting xgboost\n",
      "  Downloading xgboost-2.1.4-py3-none-macosx_12_0_arm64.whl (1.9 MB)\n",
      "\u001b[2K     \u001b[90m━━━━━━━━━━━━━━━━━━━━━━━━━━━━━━━━━━━━━━━━\u001b[0m \u001b[32m1.9/1.9 MB\u001b[0m \u001b[31m3.6 MB/s\u001b[0m eta \u001b[36m0:00:00\u001b[0ma \u001b[36m0:00:01\u001b[0m0m\n",
      "\u001b[?25hRequirement already satisfied: numpy in /Users/shahinmammadov/Desktop/CLASSES/MSc Project/env/lib/python3.9/site-packages (from xgboost) (2.0.2)\n",
      "Requirement already satisfied: scipy in /Users/shahinmammadov/Desktop/CLASSES/MSc Project/env/lib/python3.9/site-packages (from xgboost) (1.13.1)\n",
      "Installing collected packages: xgboost\n",
      "Successfully installed xgboost-2.1.4\n",
      "\u001b[33mWARNING: There was an error checking the latest version of pip.\u001b[0m\u001b[33m\n",
      "\u001b[0mNote: you may need to restart the kernel to use updated packages.\n"
     ]
    }
   ],
   "source": [
    "pip install xgboost"
   ]
  },
  {
   "cell_type": "code",
   "execution_count": 12,
   "metadata": {},
   "outputs": [],
   "source": [
    "import sqlite3\n",
    "import pandas as pd\n",
    "import numpy as np\n",
    "import tensorflow as tf\n",
    "from datetime import timedelta\n",
    "from tensorflow.keras.models import Sequential, Model\n",
    "from tensorflow.keras.layers import LSTM, Dense, Dropout, Input, Concatenate, BatchNormalization\n",
    "from tensorflow.keras.optimizers import Adam\n",
    "from tensorflow.keras.callbacks import EarlyStopping, ReduceLROnPlateau\n",
    "from sklearn.ensemble import RandomForestRegressor, RandomForestClassifier\n",
    "from sklearn.preprocessing import StandardScaler, RobustScaler\n",
    "from sklearn.linear_model import LinearRegression, LogisticRegression\n",
    "from nltk.sentiment.vader import SentimentIntensityAnalyzer\n",
    "from sklearn.preprocessing import MinMaxScaler, StandardScaler\n",
    "from sklearn.metrics import mean_squared_error, mean_absolute_error, accuracy_score, classification_report, confusion_matrix\n",
    "import matplotlib.pyplot as plt\n",
    "import xgboost as xgb\n",
    "import nltk\n",
    "import warnings\n",
    "warnings.filterwarnings('ignore')\n",
    "\n",
    "# Set random seeds for reproducibility\n",
    "np.random.seed(42)\n",
    "tf.random.set_seed(42)\n"
   ]
  },
  {
   "cell_type": "code",
   "execution_count": 26,
   "metadata": {},
   "outputs": [],
   "source": [
    "DB_PATH = '../db.sqlite3'\n",
    "BTC_DAILY = 'btc_daily_ohlcv'\n",
    "OI_TABLE_NAME = 'open_interest'\n",
    "FD_TABLE_NAME = 'funding_rates'\n",
    "NEWS_TABLE_NAME = 'news'\n"
   ]
  },
  {
   "cell_type": "code",
   "execution_count": null,
   "metadata": {},
   "outputs": [],
   "source": [
    "conn = sqlite3.connect(DB_PATH)\n",
    "query = f\"SELECT * FROM {BTC_DAILY}\"\n",
    "btc_ohlcv = pd.read_sql_query(query, conn)\n",
    "# btc_ohlcv = pd.read_csv('btc_daily_ohlcv_from_db.csv')\n",
    "btc_ohlcv['datetime'] = pd.to_datetime(btc_ohlcv['datetime'])\n",
    "btc_ohlcv.set_index('datetime', inplace=True)\n",
    "btc_ohlcv.index = btc_ohlcv.index.date\n",
    "\n",
    "conn.close()"
   ]
  },
  {
   "cell_type": "code",
   "execution_count": 28,
   "metadata": {},
   "outputs": [],
   "source": [
    "conn = sqlite3.connect(DB_PATH)\n",
    "query = f\"SELECT * FROM {OI_TABLE_NAME}\"\n",
    "df = pd.read_sql_query(query, conn, parse_dates=['timestamp'])\n",
    "conn.close()\n",
    "\n",
    "# Ensure timestamp is datetime and set as index\n",
    "df['timestamp'] = pd.to_datetime(df['timestamp'])\n",
    "df.set_index('timestamp', inplace=True)\n",
    "\n",
    "# Resample to daily (1D) frequency\n",
    "# For open interest, you might want the last value of each day (or you can use mean, first, etc.)\n",
    "daily_oi = df.resample('1D').mean()  # or .mean(), .first(), etc."
   ]
  },
  {
   "cell_type": "code",
   "execution_count": 29,
   "metadata": {},
   "outputs": [],
   "source": [
    "conn = sqlite3.connect(DB_PATH)\n",
    "query = f\"SELECT * FROM {FD_TABLE_NAME}\"\n",
    "df = pd.read_sql_query(query, conn, parse_dates=['funding_time'])\n",
    "conn.close()\n",
    "\n",
    "# Ensure timestamp is datetime and set as index\n",
    "df['funding_time'] = pd.to_datetime(df['funding_time'])\n",
    "df.set_index('funding_time', inplace=True)\n",
    "\n",
    "# Resample to daily (1D) frequency\n",
    "# For open interest, you might want the last value of each day (or you can use mean, first, etc.)\n",
    "daily_funding_rate = df.drop(columns=['symbol']).resample('1D').last()  # or .mean(), .first(), etc."
   ]
  },
  {
   "cell_type": "code",
   "execution_count": 30,
   "metadata": {},
   "outputs": [],
   "source": [
    "conn = sqlite3.connect(DB_PATH)\n",
    "query = f\"SELECT * FROM {NEWS_TABLE_NAME}\"\n",
    "df_news = pd.read_sql_query(query, conn, parse_dates=['date'])\n",
    "conn.close()"
   ]
  },
  {
   "cell_type": "code",
   "execution_count": 31,
   "metadata": {},
   "outputs": [
    {
     "name": "stderr",
     "output_type": "stream",
     "text": [
      "[nltk_data] Downloading package vader_lexicon to\n",
      "[nltk_data]     /Users/shahinmammadov/nltk_data...\n",
      "[nltk_data]   Package vader_lexicon is already up-to-date!\n"
     ]
    },
    {
     "data": {
      "text/plain": [
       "True"
      ]
     },
     "execution_count": 31,
     "metadata": {},
     "output_type": "execute_result"
    }
   ],
   "source": [
    "nltk.download('vader_lexicon')"
   ]
  },
  {
   "cell_type": "code",
   "execution_count": 32,
   "metadata": {},
   "outputs": [],
   "source": [
    "sia = SentimentIntensityAnalyzer()\n",
    "\n",
    "# 4. Define a helper to score a single row\n",
    "def score_row(row):\n",
    "    text = f\"{row['title']} . {row['description']}\"\n",
    "    scores = sia.polarity_scores(text)\n",
    "    # we’ll keep ‘compound’ but you can also use pos/neu/neg separately\n",
    "    return scores['compound']\n"
   ]
  },
  {
   "cell_type": "code",
   "execution_count": 33,
   "metadata": {},
   "outputs": [],
   "source": [
    "df_news['vader_score'] = df_news.apply(score_row, axis=1)"
   ]
  },
  {
   "cell_type": "code",
   "execution_count": 34,
   "metadata": {},
   "outputs": [],
   "source": [
    "df_newsdaily_sentiment = (\n",
    "    df_news\n",
    "      .groupby(df_news['date'].dt.date)         # group by calendar date\n",
    "      .agg({\n",
    "          'vader_score':'mean',\n",
    "          'title':'count'                       # count of articles per day\n",
    "      })\n",
    "      .rename(columns={\n",
    "          'vader_score':'avg_vader_compound',\n",
    "          'title':'article_count'\n",
    "      })\n",
    "      .reset_index()\n",
    ")\n",
    "\n",
    "df_newsdaily_sentiment['date'] = pd.to_datetime(df_newsdaily_sentiment['date'])\n",
    "df_newsdaily_sentiment.set_index('date', inplace=True)\n",
    "df_newsdaily_sentiment.index = df_newsdaily_sentiment.index.date"
   ]
  },
  {
   "cell_type": "code",
   "execution_count": 35,
   "metadata": {},
   "outputs": [],
   "source": [
    "df_daily = (\n",
    "    btc_ohlcv\n",
    "      .join(daily_oi, how='left')\n",
    "      .join(daily_funding_rate, how='left')\n",
    "      .join(df_newsdaily_sentiment, how='left')\n",
    ")"
   ]
  },
  {
   "cell_type": "code",
   "execution_count": 36,
   "metadata": {},
   "outputs": [],
   "source": [
    "df_daily.to_csv(\"test_check.csv\")"
   ]
  },
  {
   "cell_type": "code",
   "execution_count": 18,
   "metadata": {},
   "outputs": [],
   "source": [
    "class BitcoinLSTMPredictor:\n",
    "    def __init__(self, df_daily):\n",
    "        self.df = df_daily.copy()\n",
    "        self.price_scaler = MinMaxScaler(feature_range=(0, 1))\n",
    "        self.feature_scaler = RobustScaler()\n",
    "        self.target_scaler = MinMaxScaler(feature_range=(0, 1))\n",
    "        self.sequence_length = 30  # Look back 30 days\n",
    "        self.price_model = None\n",
    "        self.direction_model = None\n",
    "        self.feature_names = None\n",
    "        \n",
    "    def engineer_features(self):\n",
    "        \"\"\"Create technical indicators and features\"\"\"\n",
    "        df = self.df.copy()\n",
    "        \n",
    "        # Ensure we have enough data\n",
    "        if len(df) < 100:\n",
    "            raise ValueError(\"Need at least 100 data points for proper LSTM training\")\n",
    "        \n",
    "        # Basic price ratios (more stable than absolute differences)\n",
    "        df['high_close_ratio'] = df['high'] / df['close']\n",
    "        df['low_close_ratio'] = df['low'] / df['close']\n",
    "        df['open_close_ratio'] = df['open'] / df['close']\n",
    "        df['volume_avg_ratio'] = df['volume'] / df['volume'].rolling(20).mean()\n",
    "        \n",
    "        # Returns instead of absolute prices (more stationary)\n",
    "        df['returns_1d'] = df['close'].pct_change()\n",
    "        df['returns_3d'] = df['close'].pct_change(3)\n",
    "        df['returns_7d'] = df['close'].pct_change(7)\n",
    "        df['log_returns'] = np.log(df['close'] / df['close'].shift(1))\n",
    "        \n",
    "        # Moving average ratios\n",
    "        for window in [5, 10, 20]:\n",
    "            df[f'ma_{window}'] = df['close'].rolling(window).mean()\n",
    "            df[f'price_ma_{window}_ratio'] = df['close'] / df[f'ma_{window}']\n",
    "        \n",
    "        # Exponential moving averages\n",
    "        df['ema_12'] = df['close'].ewm(span=12).mean()\n",
    "        df['ema_26'] = df['close'].ewm(span=26).mean()\n",
    "        \n",
    "        # MACD (normalized)\n",
    "        df['macd'] = df['ema_12'] - df['ema_26']\n",
    "        df['macd_signal'] = df['macd'].ewm(span=9).mean()\n",
    "        df['macd_normalized'] = df['macd'] / df['close']\n",
    "        df['macd_signal_normalized'] = df['macd_signal'] / df['close']\n",
    "        \n",
    "        # RSI\n",
    "        delta = df['close'].diff()\n",
    "        gain = (delta.where(delta > 0, 0)).rolling(window=14).mean()\n",
    "        loss = (-delta.where(delta < 0, 0)).rolling(window=14).mean()\n",
    "        rs = gain / loss\n",
    "        df['rsi'] = 100 - (100 / (1 + rs))\n",
    "        df['rsi_normalized'] = df['rsi'] / 100  # Normalize to 0-1\n",
    "        \n",
    "        # Bollinger Bands (normalized)\n",
    "        df['bb_middle'] = df['close'].rolling(20).mean()\n",
    "        bb_std = df['close'].rolling(20).std()\n",
    "        df['bb_upper'] = df['bb_middle'] + (bb_std * 2)\n",
    "        df['bb_lower'] = df['bb_middle'] - (bb_std * 2)\n",
    "        df['bb_position'] = (df['close'] - df['bb_lower']) / (df['bb_upper'] - df['bb_lower'])\n",
    "        df['bb_width'] = (df['bb_upper'] - df['bb_lower']) / df['bb_middle']\n",
    "        \n",
    "        # Volatility (normalized)\n",
    "        df['volatility_10'] = df['returns_1d'].rolling(10).std()\n",
    "        df['volatility_20'] = df['returns_1d'].rolling(20).std()\n",
    "        \n",
    "        # Volume indicators (normalized)\n",
    "        df['volume_sma_20'] = df['volume'].rolling(20).mean()\n",
    "        df['volume_change'] = df['volume'].pct_change()\n",
    "        \n",
    "        # Sentiment features (already mostly normalized)\n",
    "        df['vader_ma_3'] = df['avg_vader_compound'].rolling(3).mean()\n",
    "        df['vader_ma_7'] = df['avg_vader_compound'].rolling(7).mean()\n",
    "        df['article_count_norm'] = df['article_count'] / df['article_count'].rolling(30).mean()\n",
    "        \n",
    "        # Funding rate (already mostly normalized)\n",
    "        df['funding_rate_ma'] = df['funding_rate'].rolling(7).mean()\n",
    "        \n",
    "        # Momentum indicators\n",
    "        df['momentum_5'] = df['close'].pct_change(5)\n",
    "        df['momentum_10'] = df['close'].pct_change(10)\n",
    "        \n",
    "        # Time features (cyclical encoding)\n",
    "        df['day_of_week'] = df.index.dayofweek\n",
    "        df['day_sin'] = np.sin(2 * np.pi * df['day_of_week'] / 7)\n",
    "        df['day_cos'] = np.cos(2 * np.pi * df['day_of_week'] / 7)\n",
    "        \n",
    "        # Target: predict next day's return instead of absolute price\n",
    "        df['next_close'] = df['close'].shift(-1)\n",
    "        df['target_return'] = (df['next_close'] - df['close']) / df['close']\n",
    "        df['target_direction'] = (df['target_return'] > 0).astype(int)\n",
    "        \n",
    "        # Clean data\n",
    "        df = df.replace([np.inf, -np.inf], np.nan)\n",
    "        df.to_csv(\"my_data.csv\")\n",
    "\n",
    "        df = df.dropna()\n",
    "        print(len(df))\n",
    "        if len(df) < 50:\n",
    "            raise ValueError(\"Not enough clean data after preprocessing\")\n",
    "        \n",
    "        self.df_processed = df\n",
    "        print(f\"Processed {len(df)} data points with {df.shape[1]} features\")\n",
    "        \n",
    "        return df\n",
    "    \n",
    "    def create_sequences(self, data, target, sequence_length):\n",
    "        \"\"\"Create sequences for LSTM input\"\"\"\n",
    "        X, y = [], []\n",
    "        for i in range(sequence_length, len(data)):\n",
    "            X.append(data[i-sequence_length:i])\n",
    "            y.append(target[i])\n",
    "        return np.array(X), np.array(y)\n",
    "    \n",
    "    def prepare_data(self, test_size=0.2, val_size=0.1):\n",
    "        \"\"\"Prepare data for LSTM training with better scaling\"\"\"\n",
    "        df = self.df_processed\n",
    "        \n",
    "        # Select features (focus on ratios and normalized indicators)\n",
    "        feature_cols = [\n",
    "            'high_close_ratio', 'low_close_ratio', 'open_close_ratio',\n",
    "            'returns_1d', 'returns_3d', 'returns_7d',\n",
    "            'price_ma_5_ratio', 'price_ma_10_ratio', 'price_ma_20_ratio',\n",
    "            'macd_normalized', 'macd_signal_normalized',\n",
    "            'rsi_normalized', 'bb_position', 'bb_width',\n",
    "            'volatility_10', 'volatility_20',\n",
    "            'volume_avg_ratio', 'volume_change',\n",
    "            'vader_ma_3', 'vader_ma_7', 'article_count_norm',\n",
    "            'funding_rate', 'funding_rate_ma',\n",
    "            'momentum_5', 'momentum_10',\n",
    "            'day_sin', 'day_cos'\n",
    "        ]\n",
    "        \n",
    "        # Filter existing columns\n",
    "        available_cols = [col for col in feature_cols if col in df.columns]\n",
    "        print(f\"Using {len(available_cols)} features: {available_cols}\")\n",
    "        \n",
    "        # Prepare feature data\n",
    "        feature_data = df[available_cols].values\n",
    "        \n",
    "        # Handle any remaining NaN or inf values\n",
    "        feature_data = np.nan_to_num(feature_data, nan=0.0, posinf=1.0, neginf=-1.0)\n",
    "        \n",
    "        # Scale features\n",
    "        feature_data_scaled = self.feature_scaler.fit_transform(feature_data)\n",
    "        \n",
    "        # Prepare targets\n",
    "        target_returns = df['target_return'].values\n",
    "        target_directions = df['target_direction'].values\n",
    "        \n",
    "        # Scale target returns\n",
    "        target_returns_scaled = self.target_scaler.fit_transform(target_returns.reshape(-1, 1)).flatten()\n",
    "        \n",
    "        # Create sequences\n",
    "        X, y_returns = self.create_sequences(feature_data_scaled, target_returns_scaled, self.sequence_length)\n",
    "        _, y_directions = self.create_sequences(feature_data_scaled, target_directions, self.sequence_length)\n",
    "        \n",
    "        # Split data (time series split)\n",
    "        total_samples = len(X)\n",
    "        train_size = int(total_samples * (1 - test_size - val_size))\n",
    "        val_size_samples = int(total_samples * val_size)\n",
    "        \n",
    "        # Training data\n",
    "        self.X_train = X[:train_size]\n",
    "        self.y_return_train = y_returns[:train_size]\n",
    "        self.y_dir_train = y_directions[:train_size]\n",
    "        \n",
    "        # Validation data\n",
    "        self.X_val = X[train_size:train_size + val_size_samples]\n",
    "        self.y_return_val = y_returns[train_size:train_size + val_size_samples]\n",
    "        self.y_dir_val = y_directions[train_size:train_size + val_size_samples]\n",
    "        \n",
    "        # Test data\n",
    "        self.X_test = X[train_size + val_size_samples:]\n",
    "        self.y_return_test = y_returns[train_size + val_size_samples:]\n",
    "        self.y_dir_test = y_directions[train_size + val_size_samples:]\n",
    "        \n",
    "        # Store current prices for test period (for converting returns back to prices)\n",
    "        self.test_current_prices = df['close'].iloc[train_size + val_size_samples + self.sequence_length:].values\n",
    "        \n",
    "        # Store dates for test period - this is the key addition for date tracking\n",
    "        self.test_dates = df.index[train_size + val_size_samples + self.sequence_length:]\n",
    "        \n",
    "        # Store the last date in the dataset to calculate prediction date\n",
    "        self.last_date = df.index[-1]\n",
    "        \n",
    "        self.feature_names = available_cols\n",
    "        \n",
    "        print(f\"Training sequences: {len(self.X_train)}\")\n",
    "        print(f\"Validation sequences: {len(self.X_val)}\")\n",
    "        print(f\"Test sequences: {len(self.X_test)}\")\n",
    "        print(f\"Features per timestep: {self.X_train.shape[2]}\")\n",
    "        print(f\"Last date in dataset: {self.last_date}\")\n",
    "        \n",
    "    def build_return_model(self):\n",
    "        \"\"\"Build LSTM model for return prediction (more stable than price prediction)\"\"\"\n",
    "        model = Sequential([\n",
    "            LSTM(64, return_sequences=True, input_shape=(self.sequence_length, self.X_train.shape[2])),\n",
    "            Dropout(0.2),\n",
    "            BatchNormalization(),\n",
    "            \n",
    "            LSTM(32, return_sequences=False),\n",
    "            Dropout(0.2),\n",
    "            \n",
    "            Dense(16, activation='relu'),\n",
    "            Dropout(0.1),\n",
    "            Dense(1, activation='tanh')  # tanh for bounded returns\n",
    "        ])\n",
    "        \n",
    "        model.compile(\n",
    "            optimizer=Adam(learning_rate=0.001),\n",
    "            loss='mse',\n",
    "            metrics=['mae']\n",
    "        )\n",
    "        \n",
    "        return model\n",
    "    \n",
    "    def build_direction_model(self):\n",
    "        \"\"\"Build LSTM model for direction prediction\"\"\"\n",
    "        model = Sequential([\n",
    "            LSTM(32, return_sequences=True, input_shape=(self.sequence_length, self.X_train.shape[2])),\n",
    "            Dropout(0.3),\n",
    "            BatchNormalization(),\n",
    "            \n",
    "            LSTM(16, return_sequences=False),\n",
    "            Dropout(0.3),\n",
    "            \n",
    "            Dense(8, activation='relu'),\n",
    "            Dropout(0.2),\n",
    "            Dense(1, activation='sigmoid')\n",
    "        ])\n",
    "        \n",
    "        model.compile(\n",
    "            optimizer=Adam(learning_rate=0.001),\n",
    "            loss='binary_crossentropy',\n",
    "            metrics=['accuracy']\n",
    "        )\n",
    "        \n",
    "        return model\n",
    "    \n",
    "    def train_models(self, epochs=50, batch_size=32):\n",
    "        \"\"\"Train both LSTM models\"\"\"\n",
    "        # Callbacks\n",
    "        early_stopping = EarlyStopping(\n",
    "            monitor='val_loss',\n",
    "            patience=10,\n",
    "            restore_best_weights=True\n",
    "        )\n",
    "        \n",
    "        reduce_lr = ReduceLROnPlateau(\n",
    "            monitor='val_loss',\n",
    "            factor=0.5,\n",
    "            patience=5,\n",
    "            min_lr=1e-6\n",
    "        )\n",
    "        \n",
    "        # Train return prediction model\n",
    "        print(\"Training return prediction LSTM...\")\n",
    "        self.return_model = self.build_return_model()\n",
    "        \n",
    "        return_history = self.return_model.fit(\n",
    "            self.X_train, self.y_return_train,\n",
    "            validation_data=(self.X_val, self.y_return_val),\n",
    "            epochs=epochs,\n",
    "            batch_size=batch_size,\n",
    "            callbacks=[early_stopping, reduce_lr],\n",
    "            verbose=1\n",
    "        )\n",
    "        \n",
    "        # Train direction prediction model\n",
    "        print(\"\\nTraining direction prediction LSTM...\")\n",
    "        self.direction_model = self.build_direction_model()\n",
    "        \n",
    "        direction_history = self.direction_model.fit(\n",
    "            self.X_train, self.y_dir_train,\n",
    "            validation_data=(self.X_val, self.y_dir_val),\n",
    "            epochs=epochs,\n",
    "            batch_size=batch_size,\n",
    "            callbacks=[early_stopping, reduce_lr],\n",
    "            verbose=1\n",
    "        )\n",
    "        \n",
    "        return return_history, direction_history\n",
    "    \n",
    "    def evaluate_models(self):\n",
    "        \"\"\"Evaluate both LSTM models\"\"\"\n",
    "        print(\"\\n\" + \"=\"*50)\n",
    "        print(\"LSTM RETURN PREDICTION RESULTS\")\n",
    "        print(\"=\"*50)\n",
    "        \n",
    "        # Return predictions\n",
    "        y_return_pred_scaled = self.return_model.predict(self.X_test)\n",
    "        \n",
    "        # Inverse transform returns\n",
    "        y_return_pred = self.target_scaler.inverse_transform(y_return_pred_scaled).flatten()\n",
    "        y_return_actual = self.target_scaler.inverse_transform(self.y_return_test.reshape(-1, 1)).flatten()\n",
    "        \n",
    "        # Convert returns to prices\n",
    "        y_price_pred = self.test_current_prices * (1 + y_return_pred)\n",
    "        y_price_actual = self.test_current_prices * (1 + y_return_actual)\n",
    "        \n",
    "        # Calculate metrics\n",
    "        mse_return = mean_squared_error(y_return_actual, y_return_pred)\n",
    "        mae_return = mean_absolute_error(y_return_actual, y_return_pred)\n",
    "        mse_price = mean_squared_error(y_price_actual, y_price_pred)\n",
    "        mae_price = mean_absolute_error(y_price_actual, y_price_pred)\n",
    "        mape_price = np.mean(np.abs((y_price_actual - y_price_pred) / y_price_actual)) * 100\n",
    "        \n",
    "        print(f\"Return MSE: {mse_return:.6f}\")\n",
    "        print(f\"Return MAE: {mae_return:.6f}\")\n",
    "        print(f\"Price MSE: ${mse_price:,.2f}\")\n",
    "        print(f\"Price MAE: ${mae_price:,.2f}\")\n",
    "        print(f\"Price MAPE: {mape_price:.2f}%\")\n",
    "        \n",
    "        # Direction predictions\n",
    "        print(\"\\n\" + \"=\"*50)\n",
    "        print(\"LSTM DIRECTION PREDICTION RESULTS\")\n",
    "        print(\"=\"*50)\n",
    "        \n",
    "        y_dir_pred_proba = self.direction_model.predict(self.X_test)\n",
    "        y_dir_pred = (y_dir_pred_proba > 0.5).astype(int).flatten()\n",
    "        \n",
    "        accuracy = accuracy_score(self.y_dir_test, y_dir_pred)\n",
    "        print(f\"Direction Accuracy: {accuracy:.4f} ({accuracy*100:.2f}%)\")\n",
    "        \n",
    "        # Calculate additional metrics\n",
    "        tp = np.sum((self.y_dir_test == 1) & (y_dir_pred == 1))\n",
    "        fp = np.sum((self.y_dir_test == 0) & (y_dir_pred == 1))\n",
    "        fn = np.sum((self.y_dir_test == 1) & (y_dir_pred == 0))\n",
    "        tn = np.sum((self.y_dir_test == 0) & (y_dir_pred == 0))\n",
    "        \n",
    "        precision = tp / (tp + fp) if (tp + fp) > 0 else 0\n",
    "        recall = tp / (tp + fn) if (tp + fn) > 0 else 0\n",
    "        f1 = 2 * (precision * recall) / (precision + recall) if (precision + recall) > 0 else 0\n",
    "        \n",
    "        print(f\"Precision (Up): {precision:.4f}\")\n",
    "        print(f\"Recall (Up): {recall:.4f}\")\n",
    "        print(f\"F1-Score: {f1:.4f}\")\n",
    "        \n",
    "        return {\n",
    "            'return_predictions': y_return_pred,\n",
    "            'return_actual': y_return_actual,\n",
    "            'price_predictions': y_price_pred,\n",
    "            'price_actual': y_price_actual,\n",
    "            'direction_predictions': y_dir_pred,\n",
    "            'direction_probabilities': y_dir_pred_proba.flatten(),\n",
    "            'return_metrics': {'mse': mse_return, 'mae': mae_return},\n",
    "            'price_metrics': {'mse': mse_price, 'mae': mae_price, 'mape': mape_price},\n",
    "            'direction_accuracy': accuracy,\n",
    "            'direction_metrics': {'precision': precision, 'recall': recall, 'f1': f1}\n",
    "        }\n",
    "    \n",
    "    def predict_next_day(self):\n",
    "        \"\"\"Predict next day return and direction\"\"\"\n",
    "        \n",
    "        # Use the last sequence from test data\n",
    "        last_sequence = self.X_test[-1:] \n",
    "        \n",
    "        # Predict return\n",
    "        predicted_return_scaled = self.return_model.predict(last_sequence)[0][0]\n",
    "        predicted_return = self.target_scaler.inverse_transform([[predicted_return_scaled]])[0][0]\n",
    "        \n",
    "        # Get current price (last known price)\n",
    "        current_price = self.test_current_prices[-1]\n",
    "        \n",
    "        # Calculate the prediction date (next business day after last date)\n",
    "        import pandas as pd\n",
    "        prediction_date = self.last_date + pd.Timedelta(days=1)\n",
    "        \n",
    "        # If it's a weekend, adjust to next Monday\n",
    "        if prediction_date.weekday() >= 5:  # Saturday=5, Sunday=6\n",
    "            days_to_add = 7 - prediction_date.weekday()\n",
    "            prediction_date = prediction_date + pd.Timedelta(days=days_to_add)\n",
    "        \n",
    "        # Calculate predicted price\n",
    "        predicted_price = current_price * (1 + predicted_return)\n",
    "        \n",
    "        # Ensure predicted price is positive\n",
    "        if predicted_price <= 0:\n",
    "            print(\"Warning: Negative price prediction corrected\")\n",
    "            predicted_price = current_price * 1.001  # Small positive change\n",
    "            predicted_return = 0.001\n",
    "        \n",
    "        # Predict direction\n",
    "        direction_prob = self.direction_model.predict(last_sequence)[0][0]\n",
    "        predicted_direction = \"UP\" if direction_prob > 0.5 else \"DOWN\"\n",
    "        confidence = max(direction_prob, 1 - direction_prob) * 100\n",
    "        \n",
    "        # Calculate expected return percentage\n",
    "        expected_return_pct = predicted_return * 100\n",
    "        \n",
    "        print(\"\\n\" + \"=\"*50)\n",
    "        print(\"LSTM NEXT DAY PREDICTION\")\n",
    "        print(\"=\"*50)\n",
    "        print(f\"Last Known Date: {self.last_date.strftime('%Y-%m-%d (%A)')}\")\n",
    "        print(f\"Prediction Date: {prediction_date.strftime('%Y-%m-%d (%A)')}\")\n",
    "        print(f\"Current Price: ${current_price:,.2f}\")\n",
    "        print(f\"Predicted Price: ${predicted_price:,.2f}\")\n",
    "        print(f\"Expected Return: {expected_return_pct:+.2f}%\")\n",
    "        print(f\"Predicted Direction: {predicted_direction}\")\n",
    "        print(f\"Direction Confidence: {confidence:.1f}%\")\n",
    "        print(f\"Probability UP: {direction_prob*100:.1f}%\")\n",
    "        print(f\"Probability DOWN: {(1-direction_prob)*100:.1f}%\")\n",
    "        \n",
    "        # Sanity checks\n",
    "        if abs(predicted_return) > 0.5:  # More than 50% change\n",
    "            print(f\"WARNING: Large predicted return ({expected_return_pct:.1f}%) - consider model retraining\")\n",
    "        \n",
    "        return {\n",
    "            'last_known_date': self.last_date,\n",
    "            'prediction_date': prediction_date,\n",
    "            'current_price': current_price,\n",
    "            'predicted_price': predicted_price,\n",
    "            'expected_return': predicted_return,\n",
    "            'predicted_direction': predicted_direction,\n",
    "            'confidence': confidence,\n",
    "            'prob_up': direction_prob,\n",
    "            'prob_down': 1 - direction_prob\n",
    "        }\n",
    "    \n",
    "    def plot_predictions(self, results, n_days=30):\n",
    "        \"\"\"Plot recent predictions vs actual\"\"\"\n",
    "        fig, (ax1, ax2) = plt.subplots(2, 1, figsize=(12, 10))\n",
    "        \n",
    "        # Plot last n_days of predictions\n",
    "        recent_actual = results['price_actual'][-n_days:]\n",
    "        recent_pred = results['price_predictions'][-n_days:]\n",
    "        recent_dates = self.test_dates[-n_days:]\n",
    "        \n",
    "        ax1.plot(recent_dates, recent_actual, label='Actual Price', color='blue', linewidth=2)\n",
    "        ax1.plot(recent_dates, recent_pred, label='Predicted Price', color='red', linewidth=2, alpha=0.7)\n",
    "        ax1.set_title('Recent Price Predictions vs Actual')\n",
    "        ax1.set_ylabel('Price ($)')\n",
    "        ax1.legend()\n",
    "        ax1.grid(True, alpha=0.3)\n",
    "        ax1.tick_params(axis='x', rotation=45)\n",
    "        \n",
    "        # Plot returns\n",
    "        recent_return_actual = results['return_actual'][-n_days:]\n",
    "        recent_return_pred = results['return_predictions'][-n_days:]\n",
    "        \n",
    "        ax2.plot(recent_dates, recent_return_actual, label='Actual Return', color='blue', linewidth=2)\n",
    "        ax2.plot(recent_dates, recent_return_pred, label='Predicted Return', color='red', linewidth=2, alpha=0.7)\n",
    "        ax2.axhline(y=0, color='black', linestyle='--', alpha=0.5)\n",
    "        ax2.set_title('Recent Return Predictions vs Actual')\n",
    "        ax2.set_xlabel('Date')\n",
    "        ax2.set_ylabel('Return')\n",
    "        ax2.legend()\n",
    "        ax2.grid(True, alpha=0.3)\n",
    "        ax2.tick_params(axis='x', rotation=45)\n",
    "        \n",
    "        plt.tight_layout()\n",
    "        plt.show()"
   ]
  },
  {
   "cell_type": "code",
   "execution_count": 19,
   "metadata": {},
   "outputs": [
    {
     "name": "stdout",
     "output_type": "stream",
     "text": [
      "1045\n",
      "Processed 1045 data points with 53 features\n",
      "Using 27 features: ['high_close_ratio', 'low_close_ratio', 'open_close_ratio', 'returns_1d', 'returns_3d', 'returns_7d', 'price_ma_5_ratio', 'price_ma_10_ratio', 'price_ma_20_ratio', 'macd_normalized', 'macd_signal_normalized', 'rsi_normalized', 'bb_position', 'bb_width', 'volatility_10', 'volatility_20', 'volume_avg_ratio', 'volume_change', 'vader_ma_3', 'vader_ma_7', 'article_count_norm', 'funding_rate', 'funding_rate_ma', 'momentum_5', 'momentum_10', 'day_sin', 'day_cos']\n",
      "Training sequences: 710\n",
      "Validation sequences: 101\n",
      "Test sequences: 204\n",
      "Features per timestep: 27\n",
      "Last date in dataset: 2025-05-06 00:00:00\n",
      "Training return prediction LSTM...\n",
      "Epoch 1/100\n",
      "\u001b[1m23/23\u001b[0m \u001b[32m━━━━━━━━━━━━━━━━━━━━\u001b[0m\u001b[37m\u001b[0m \u001b[1m2s\u001b[0m 14ms/step - loss: 0.5465 - mae: 0.6327 - val_loss: 0.0749 - val_mae: 0.2308 - learning_rate: 0.0010\n",
      "Epoch 2/100\n",
      "\u001b[1m23/23\u001b[0m \u001b[32m━━━━━━━━━━━━━━━━━━━━\u001b[0m\u001b[37m\u001b[0m \u001b[1m0s\u001b[0m 8ms/step - loss: 0.0736 - mae: 0.2180 - val_loss: 0.0352 - val_mae: 0.1555 - learning_rate: 0.0010\n",
      "Epoch 3/100\n",
      "\u001b[1m23/23\u001b[0m \u001b[32m━━━━━━━━━━━━━━━━━━━━\u001b[0m\u001b[37m\u001b[0m \u001b[1m0s\u001b[0m 8ms/step - loss: 0.0378 - mae: 0.1498 - val_loss: 0.0357 - val_mae: 0.1572 - learning_rate: 0.0010\n",
      "Epoch 4/100\n",
      "\u001b[1m23/23\u001b[0m \u001b[32m━━━━━━━━━━━━━━━━━━━━\u001b[0m\u001b[37m\u001b[0m \u001b[1m0s\u001b[0m 8ms/step - loss: 0.0342 - mae: 0.1460 - val_loss: 0.0351 - val_mae: 0.1543 - learning_rate: 0.0010\n",
      "Epoch 5/100\n",
      "\u001b[1m23/23\u001b[0m \u001b[32m━━━━━━━━━━━━━━━━━━━━\u001b[0m\u001b[37m\u001b[0m \u001b[1m0s\u001b[0m 8ms/step - loss: 0.0360 - mae: 0.1495 - val_loss: 0.0261 - val_mae: 0.1319 - learning_rate: 0.0010\n",
      "Epoch 6/100\n",
      "\u001b[1m23/23\u001b[0m \u001b[32m━━━━━━━━━━━━━━━━━━━━\u001b[0m\u001b[37m\u001b[0m \u001b[1m0s\u001b[0m 8ms/step - loss: 0.0299 - mae: 0.1345 - val_loss: 0.0255 - val_mae: 0.1311 - learning_rate: 0.0010\n",
      "Epoch 7/100\n",
      "\u001b[1m23/23\u001b[0m \u001b[32m━━━━━━━━━━━━━━━━━━━━\u001b[0m\u001b[37m\u001b[0m \u001b[1m0s\u001b[0m 8ms/step - loss: 0.0303 - mae: 0.1326 - val_loss: 0.0227 - val_mae: 0.1218 - learning_rate: 0.0010\n",
      "Epoch 8/100\n",
      "\u001b[1m23/23\u001b[0m \u001b[32m━━━━━━━━━━━━━━━━━━━━\u001b[0m\u001b[37m\u001b[0m \u001b[1m0s\u001b[0m 9ms/step - loss: 0.0270 - mae: 0.1303 - val_loss: 0.0217 - val_mae: 0.1214 - learning_rate: 0.0010\n",
      "Epoch 9/100\n",
      "\u001b[1m23/23\u001b[0m \u001b[32m━━━━━━━━━━━━━━━━━━━━\u001b[0m\u001b[37m\u001b[0m \u001b[1m0s\u001b[0m 8ms/step - loss: 0.0235 - mae: 0.1184 - val_loss: 0.0198 - val_mae: 0.1149 - learning_rate: 0.0010\n",
      "Epoch 10/100\n",
      "\u001b[1m23/23\u001b[0m \u001b[32m━━━━━━━━━━━━━━━━━━━━\u001b[0m\u001b[37m\u001b[0m \u001b[1m0s\u001b[0m 8ms/step - loss: 0.0261 - mae: 0.1250 - val_loss: 0.0187 - val_mae: 0.1118 - learning_rate: 0.0010\n",
      "Epoch 11/100\n",
      "\u001b[1m23/23\u001b[0m \u001b[32m━━━━━━━━━━━━━━━━━━━━\u001b[0m\u001b[37m\u001b[0m \u001b[1m0s\u001b[0m 8ms/step - loss: 0.0196 - mae: 0.1063 - val_loss: 0.0210 - val_mae: 0.1195 - learning_rate: 0.0010\n",
      "Epoch 12/100\n",
      "\u001b[1m23/23\u001b[0m \u001b[32m━━━━━━━━━━━━━━━━━━━━\u001b[0m\u001b[37m\u001b[0m \u001b[1m0s\u001b[0m 8ms/step - loss: 0.0207 - mae: 0.1080 - val_loss: 0.0154 - val_mae: 0.1009 - learning_rate: 0.0010\n",
      "Epoch 13/100\n",
      "\u001b[1m23/23\u001b[0m \u001b[32m━━━━━━━━━━━━━━━━━━━━\u001b[0m\u001b[37m\u001b[0m \u001b[1m0s\u001b[0m 8ms/step - loss: 0.0227 - mae: 0.1126 - val_loss: 0.0153 - val_mae: 0.1005 - learning_rate: 0.0010\n",
      "Epoch 14/100\n",
      "\u001b[1m23/23\u001b[0m \u001b[32m━━━━━━━━━━━━━━━━━━━━\u001b[0m\u001b[37m\u001b[0m \u001b[1m0s\u001b[0m 8ms/step - loss: 0.0219 - mae: 0.1112 - val_loss: 0.0130 - val_mae: 0.0922 - learning_rate: 0.0010\n",
      "Epoch 15/100\n",
      "\u001b[1m23/23\u001b[0m \u001b[32m━━━━━━━━━━━━━━━━━━━━\u001b[0m\u001b[37m\u001b[0m \u001b[1m0s\u001b[0m 9ms/step - loss: 0.0201 - mae: 0.1101 - val_loss: 0.0140 - val_mae: 0.0961 - learning_rate: 0.0010\n",
      "Epoch 16/100\n",
      "\u001b[1m23/23\u001b[0m \u001b[32m━━━━━━━━━━━━━━━━━━━━\u001b[0m\u001b[37m\u001b[0m \u001b[1m0s\u001b[0m 8ms/step - loss: 0.0200 - mae: 0.1069 - val_loss: 0.0127 - val_mae: 0.0905 - learning_rate: 0.0010\n",
      "Epoch 17/100\n",
      "\u001b[1m23/23\u001b[0m \u001b[32m━━━━━━━━━━━━━━━━━━━━\u001b[0m\u001b[37m\u001b[0m \u001b[1m0s\u001b[0m 8ms/step - loss: 0.0190 - mae: 0.1028 - val_loss: 0.0120 - val_mae: 0.0884 - learning_rate: 0.0010\n",
      "Epoch 18/100\n",
      "\u001b[1m23/23\u001b[0m \u001b[32m━━━━━━━━━━━━━━━━━━━━\u001b[0m\u001b[37m\u001b[0m \u001b[1m0s\u001b[0m 9ms/step - loss: 0.0168 - mae: 0.0995 - val_loss: 0.0108 - val_mae: 0.0831 - learning_rate: 0.0010\n",
      "Epoch 19/100\n",
      "\u001b[1m23/23\u001b[0m \u001b[32m━━━━━━━━━━━━━━━━━━━━\u001b[0m\u001b[37m\u001b[0m \u001b[1m0s\u001b[0m 8ms/step - loss: 0.0204 - mae: 0.1057 - val_loss: 0.0120 - val_mae: 0.0879 - learning_rate: 0.0010\n",
      "Epoch 20/100\n",
      "\u001b[1m23/23\u001b[0m \u001b[32m━━━━━━━━━━━━━━━━━━━━\u001b[0m\u001b[37m\u001b[0m \u001b[1m0s\u001b[0m 8ms/step - loss: 0.0191 - mae: 0.1052 - val_loss: 0.0101 - val_mae: 0.0790 - learning_rate: 0.0010\n",
      "Epoch 21/100\n",
      "\u001b[1m23/23\u001b[0m \u001b[32m━━━━━━━━━━━━━━━━━━━━\u001b[0m\u001b[37m\u001b[0m \u001b[1m0s\u001b[0m 8ms/step - loss: 0.0192 - mae: 0.1053 - val_loss: 0.0106 - val_mae: 0.0813 - learning_rate: 0.0010\n",
      "Epoch 22/100\n",
      "\u001b[1m23/23\u001b[0m \u001b[32m━━━━━━━━━━━━━━━━━━━━\u001b[0m\u001b[37m\u001b[0m \u001b[1m0s\u001b[0m 9ms/step - loss: 0.0159 - mae: 0.0941 - val_loss: 0.0103 - val_mae: 0.0796 - learning_rate: 0.0010\n",
      "Epoch 23/100\n",
      "\u001b[1m23/23\u001b[0m \u001b[32m━━━━━━━━━━━━━━━━━━━━\u001b[0m\u001b[37m\u001b[0m \u001b[1m0s\u001b[0m 8ms/step - loss: 0.0182 - mae: 0.1012 - val_loss: 0.0119 - val_mae: 0.0867 - learning_rate: 0.0010\n",
      "Epoch 24/100\n",
      "\u001b[1m23/23\u001b[0m \u001b[32m━━━━━━━━━━━━━━━━━━━━\u001b[0m\u001b[37m\u001b[0m \u001b[1m0s\u001b[0m 8ms/step - loss: 0.0165 - mae: 0.0947 - val_loss: 0.0093 - val_mae: 0.0740 - learning_rate: 0.0010\n",
      "Epoch 25/100\n",
      "\u001b[1m23/23\u001b[0m \u001b[32m━━━━━━━━━━━━━━━━━━━━\u001b[0m\u001b[37m\u001b[0m \u001b[1m0s\u001b[0m 8ms/step - loss: 0.0154 - mae: 0.0945 - val_loss: 0.0096 - val_mae: 0.0757 - learning_rate: 0.0010\n",
      "Epoch 26/100\n",
      "\u001b[1m23/23\u001b[0m \u001b[32m━━━━━━━━━━━━━━━━━━━━\u001b[0m\u001b[37m\u001b[0m \u001b[1m0s\u001b[0m 8ms/step - loss: 0.0149 - mae: 0.0917 - val_loss: 0.0097 - val_mae: 0.0766 - learning_rate: 0.0010\n",
      "Epoch 27/100\n",
      "\u001b[1m23/23\u001b[0m \u001b[32m━━━━━━━━━━━━━━━━━━━━\u001b[0m\u001b[37m\u001b[0m \u001b[1m0s\u001b[0m 8ms/step - loss: 0.0150 - mae: 0.0927 - val_loss: 0.0100 - val_mae: 0.0781 - learning_rate: 0.0010\n",
      "Epoch 28/100\n",
      "\u001b[1m23/23\u001b[0m \u001b[32m━━━━━━━━━━━━━━━━━━━━\u001b[0m\u001b[37m\u001b[0m \u001b[1m0s\u001b[0m 8ms/step - loss: 0.0151 - mae: 0.0913 - val_loss: 0.0103 - val_mae: 0.0796 - learning_rate: 0.0010\n",
      "Epoch 29/100\n",
      "\u001b[1m23/23\u001b[0m \u001b[32m━━━━━━━━━━━━━━━━━━━━\u001b[0m\u001b[37m\u001b[0m \u001b[1m0s\u001b[0m 8ms/step - loss: 0.0148 - mae: 0.0930 - val_loss: 0.0102 - val_mae: 0.0789 - learning_rate: 0.0010\n",
      "Epoch 30/100\n",
      "\u001b[1m23/23\u001b[0m \u001b[32m━━━━━━━━━━━━━━━━━━━━\u001b[0m\u001b[37m\u001b[0m \u001b[1m0s\u001b[0m 8ms/step - loss: 0.0175 - mae: 0.0998 - val_loss: 0.0101 - val_mae: 0.0787 - learning_rate: 5.0000e-04\n",
      "Epoch 31/100\n",
      "\u001b[1m23/23\u001b[0m \u001b[32m━━━━━━━━━━━━━━━━━━━━\u001b[0m\u001b[37m\u001b[0m \u001b[1m0s\u001b[0m 8ms/step - loss: 0.0128 - mae: 0.0871 - val_loss: 0.0101 - val_mae: 0.0787 - learning_rate: 5.0000e-04\n",
      "Epoch 32/100\n",
      "\u001b[1m23/23\u001b[0m \u001b[32m━━━━━━━━━━━━━━━━━━━━\u001b[0m\u001b[37m\u001b[0m \u001b[1m0s\u001b[0m 8ms/step - loss: 0.0147 - mae: 0.0903 - val_loss: 0.0098 - val_mae: 0.0769 - learning_rate: 5.0000e-04\n",
      "Epoch 33/100\n",
      "\u001b[1m23/23\u001b[0m \u001b[32m━━━━━━━━━━━━━━━━━━━━\u001b[0m\u001b[37m\u001b[0m \u001b[1m0s\u001b[0m 8ms/step - loss: 0.0141 - mae: 0.0908 - val_loss: 0.0094 - val_mae: 0.0753 - learning_rate: 5.0000e-04\n",
      "Epoch 34/100\n",
      "\u001b[1m23/23\u001b[0m \u001b[32m━━━━━━━━━━━━━━━━━━━━\u001b[0m\u001b[37m\u001b[0m \u001b[1m0s\u001b[0m 8ms/step - loss: 0.0132 - mae: 0.0844 - val_loss: 0.0090 - val_mae: 0.0733 - learning_rate: 5.0000e-04\n",
      "Epoch 35/100\n",
      "\u001b[1m23/23\u001b[0m \u001b[32m━━━━━━━━━━━━━━━━━━━━\u001b[0m\u001b[37m\u001b[0m \u001b[1m0s\u001b[0m 8ms/step - loss: 0.0129 - mae: 0.0860 - val_loss: 0.0088 - val_mae: 0.0723 - learning_rate: 5.0000e-04\n",
      "Epoch 36/100\n",
      "\u001b[1m23/23\u001b[0m \u001b[32m━━━━━━━━━━━━━━━━━━━━\u001b[0m\u001b[37m\u001b[0m \u001b[1m0s\u001b[0m 8ms/step - loss: 0.0153 - mae: 0.0931 - val_loss: 0.0089 - val_mae: 0.0727 - learning_rate: 5.0000e-04\n",
      "Epoch 37/100\n",
      "\u001b[1m23/23\u001b[0m \u001b[32m━━━━━━━━━━━━━━━━━━━━\u001b[0m\u001b[37m\u001b[0m \u001b[1m0s\u001b[0m 8ms/step - loss: 0.0149 - mae: 0.0884 - val_loss: 0.0095 - val_mae: 0.0752 - learning_rate: 5.0000e-04\n",
      "Epoch 38/100\n",
      "\u001b[1m23/23\u001b[0m \u001b[32m━━━━━━━━━━━━━━━━━━━━\u001b[0m\u001b[37m\u001b[0m \u001b[1m0s\u001b[0m 8ms/step - loss: 0.0133 - mae: 0.0857 - val_loss: 0.0093 - val_mae: 0.0736 - learning_rate: 5.0000e-04\n",
      "Epoch 39/100\n",
      "\u001b[1m23/23\u001b[0m \u001b[32m━━━━━━━━━━━━━━━━━━━━\u001b[0m\u001b[37m\u001b[0m \u001b[1m0s\u001b[0m 8ms/step - loss: 0.0139 - mae: 0.0885 - val_loss: 0.0092 - val_mae: 0.0735 - learning_rate: 5.0000e-04\n",
      "Epoch 40/100\n",
      "\u001b[1m23/23\u001b[0m \u001b[32m━━━━━━━━━━━━━━━━━━━━\u001b[0m\u001b[37m\u001b[0m \u001b[1m0s\u001b[0m 8ms/step - loss: 0.0135 - mae: 0.0864 - val_loss: 0.0096 - val_mae: 0.0752 - learning_rate: 5.0000e-04\n",
      "Epoch 41/100\n",
      "\u001b[1m23/23\u001b[0m \u001b[32m━━━━━━━━━━━━━━━━━━━━\u001b[0m\u001b[37m\u001b[0m \u001b[1m0s\u001b[0m 8ms/step - loss: 0.0142 - mae: 0.0896 - val_loss: 0.0096 - val_mae: 0.0754 - learning_rate: 2.5000e-04\n",
      "Epoch 42/100\n",
      "\u001b[1m23/23\u001b[0m \u001b[32m━━━━━━━━━━━━━━━━━━━━\u001b[0m\u001b[37m\u001b[0m \u001b[1m0s\u001b[0m 8ms/step - loss: 0.0131 - mae: 0.0876 - val_loss: 0.0095 - val_mae: 0.0747 - learning_rate: 2.5000e-04\n",
      "Epoch 43/100\n",
      "\u001b[1m23/23\u001b[0m \u001b[32m━━━━━━━━━━━━━━━━━━━━\u001b[0m\u001b[37m\u001b[0m \u001b[1m0s\u001b[0m 8ms/step - loss: 0.0129 - mae: 0.0854 - val_loss: 0.0095 - val_mae: 0.0749 - learning_rate: 2.5000e-04\n",
      "Epoch 44/100\n",
      "\u001b[1m23/23\u001b[0m \u001b[32m━━━━━━━━━━━━━━━━━━━━\u001b[0m\u001b[37m\u001b[0m \u001b[1m0s\u001b[0m 8ms/step - loss: 0.0136 - mae: 0.0864 - val_loss: 0.0096 - val_mae: 0.0750 - learning_rate: 2.5000e-04\n",
      "Epoch 45/100\n",
      "\u001b[1m23/23\u001b[0m \u001b[32m━━━━━━━━━━━━━━━━━━━━\u001b[0m\u001b[37m\u001b[0m \u001b[1m0s\u001b[0m 8ms/step - loss: 0.0127 - mae: 0.0858 - val_loss: 0.0096 - val_mae: 0.0753 - learning_rate: 2.5000e-04\n",
      "\n",
      "Training direction prediction LSTM...\n",
      "Epoch 1/100\n",
      "\u001b[1m23/23\u001b[0m \u001b[32m━━━━━━━━━━━━━━━━━━━━\u001b[0m\u001b[37m\u001b[0m \u001b[1m1s\u001b[0m 13ms/step - accuracy: 0.5224 - loss: 0.7221 - val_accuracy: 0.5347 - val_loss: 0.6902 - learning_rate: 0.0010\n",
      "Epoch 2/100\n",
      "\u001b[1m23/23\u001b[0m \u001b[32m━━━━━━━━━━━━━━━━━━━━\u001b[0m\u001b[37m\u001b[0m \u001b[1m0s\u001b[0m 6ms/step - accuracy: 0.5001 - loss: 0.7068 - val_accuracy: 0.5545 - val_loss: 0.6892 - learning_rate: 0.0010\n",
      "Epoch 3/100\n",
      "\u001b[1m23/23\u001b[0m \u001b[32m━━━━━━━━━━━━━━━━━━━━\u001b[0m\u001b[37m\u001b[0m \u001b[1m0s\u001b[0m 6ms/step - accuracy: 0.5100 - loss: 0.6999 - val_accuracy: 0.5545 - val_loss: 0.6872 - learning_rate: 0.0010\n",
      "Epoch 4/100\n",
      "\u001b[1m23/23\u001b[0m \u001b[32m━━━━━━━━━━━━━━━━━━━━\u001b[0m\u001b[37m\u001b[0m \u001b[1m0s\u001b[0m 6ms/step - accuracy: 0.5458 - loss: 0.6898 - val_accuracy: 0.5446 - val_loss: 0.6882 - learning_rate: 0.0010\n",
      "Epoch 5/100\n",
      "\u001b[1m23/23\u001b[0m \u001b[32m━━━━━━━━━━━━━━━━━━━━\u001b[0m\u001b[37m\u001b[0m \u001b[1m0s\u001b[0m 6ms/step - accuracy: 0.5301 - loss: 0.6996 - val_accuracy: 0.5743 - val_loss: 0.6875 - learning_rate: 0.0010\n",
      "Epoch 6/100\n",
      "\u001b[1m23/23\u001b[0m \u001b[32m━━━━━━━━━━━━━━━━━━━━\u001b[0m\u001b[37m\u001b[0m \u001b[1m0s\u001b[0m 7ms/step - accuracy: 0.5585 - loss: 0.6849 - val_accuracy: 0.5842 - val_loss: 0.6875 - learning_rate: 0.0010\n",
      "Epoch 7/100\n",
      "\u001b[1m23/23\u001b[0m \u001b[32m━━━━━━━━━━━━━━━━━━━━\u001b[0m\u001b[37m\u001b[0m \u001b[1m0s\u001b[0m 6ms/step - accuracy: 0.5107 - loss: 0.6894 - val_accuracy: 0.5743 - val_loss: 0.6860 - learning_rate: 0.0010\n",
      "Epoch 8/100\n",
      "\u001b[1m23/23\u001b[0m \u001b[32m━━━━━━━━━━━━━━━━━━━━\u001b[0m\u001b[37m\u001b[0m \u001b[1m0s\u001b[0m 8ms/step - accuracy: 0.5502 - loss: 0.6866 - val_accuracy: 0.5644 - val_loss: 0.6849 - learning_rate: 0.0010\n",
      "Epoch 9/100\n",
      "\u001b[1m23/23\u001b[0m \u001b[32m━━━━━━━━━━━━━━━━━━━━\u001b[0m\u001b[37m\u001b[0m \u001b[1m0s\u001b[0m 6ms/step - accuracy: 0.5525 - loss: 0.6811 - val_accuracy: 0.5545 - val_loss: 0.6895 - learning_rate: 0.0010\n",
      "Epoch 10/100\n",
      "\u001b[1m23/23\u001b[0m \u001b[32m━━━━━━━━━━━━━━━━━━━━\u001b[0m\u001b[37m\u001b[0m \u001b[1m0s\u001b[0m 6ms/step - accuracy: 0.5463 - loss: 0.6836 - val_accuracy: 0.5545 - val_loss: 0.6876 - learning_rate: 0.0010\n",
      "Epoch 11/100\n",
      "\u001b[1m23/23\u001b[0m \u001b[32m━━━━━━━━━━━━━━━━━━━━\u001b[0m\u001b[37m\u001b[0m \u001b[1m0s\u001b[0m 7ms/step - accuracy: 0.5798 - loss: 0.6795 - val_accuracy: 0.5644 - val_loss: 0.6884 - learning_rate: 0.0010\n",
      "Epoch 12/100\n",
      "\u001b[1m23/23\u001b[0m \u001b[32m━━━━━━━━━━━━━━━━━━━━\u001b[0m\u001b[37m\u001b[0m \u001b[1m0s\u001b[0m 6ms/step - accuracy: 0.5711 - loss: 0.6767 - val_accuracy: 0.5446 - val_loss: 0.6942 - learning_rate: 0.0010\n",
      "Epoch 13/100\n",
      "\u001b[1m23/23\u001b[0m \u001b[32m━━━━━━━━━━━━━━━━━━━━\u001b[0m\u001b[37m\u001b[0m \u001b[1m0s\u001b[0m 6ms/step - accuracy: 0.5507 - loss: 0.6762 - val_accuracy: 0.5446 - val_loss: 0.6985 - learning_rate: 0.0010\n",
      "Epoch 14/100\n",
      "\u001b[1m23/23\u001b[0m \u001b[32m━━━━━━━━━━━━━━━━━━━━\u001b[0m\u001b[37m\u001b[0m \u001b[1m0s\u001b[0m 6ms/step - accuracy: 0.6117 - loss: 0.6616 - val_accuracy: 0.5248 - val_loss: 0.6991 - learning_rate: 5.0000e-04\n",
      "Epoch 15/100\n",
      "\u001b[1m23/23\u001b[0m \u001b[32m━━━━━━━━━━━━━━━━━━━━\u001b[0m\u001b[37m\u001b[0m \u001b[1m0s\u001b[0m 6ms/step - accuracy: 0.5259 - loss: 0.6851 - val_accuracy: 0.5644 - val_loss: 0.6989 - learning_rate: 5.0000e-04\n",
      "Epoch 16/100\n",
      "\u001b[1m23/23\u001b[0m \u001b[32m━━━━━━━━━━━━━━━━━━━━\u001b[0m\u001b[37m\u001b[0m \u001b[1m0s\u001b[0m 6ms/step - accuracy: 0.5758 - loss: 0.6678 - val_accuracy: 0.5644 - val_loss: 0.6967 - learning_rate: 5.0000e-04\n",
      "Epoch 17/100\n",
      "\u001b[1m23/23\u001b[0m \u001b[32m━━━━━━━━━━━━━━━━━━━━\u001b[0m\u001b[37m\u001b[0m \u001b[1m0s\u001b[0m 6ms/step - accuracy: 0.5829 - loss: 0.6604 - val_accuracy: 0.5842 - val_loss: 0.6990 - learning_rate: 5.0000e-04\n",
      "Epoch 18/100\n",
      "\u001b[1m23/23\u001b[0m \u001b[32m━━━━━━━━━━━━━━━━━━━━\u001b[0m\u001b[37m\u001b[0m \u001b[1m0s\u001b[0m 6ms/step - accuracy: 0.5392 - loss: 0.6705 - val_accuracy: 0.5347 - val_loss: 0.7011 - learning_rate: 5.0000e-04\n",
      "\n",
      "==================================================\n",
      "LSTM RETURN PREDICTION RESULTS\n",
      "==================================================\n",
      "\u001b[1m7/7\u001b[0m \u001b[32m━━━━━━━━━━━━━━━━━━━━\u001b[0m\u001b[37m\u001b[0m \u001b[1m0s\u001b[0m 17ms/step\n",
      "Return MSE: 0.000823\n",
      "Return MAE: 0.021128\n",
      "Price MSE: $6,473,443.79\n",
      "Price MAE: $1,889.55\n",
      "Price MAPE: 2.09%\n",
      "\n",
      "==================================================\n",
      "LSTM DIRECTION PREDICTION RESULTS\n",
      "==================================================\n",
      "\u001b[1m7/7\u001b[0m \u001b[32m━━━━━━━━━━━━━━━━━━━━\u001b[0m\u001b[37m\u001b[0m \u001b[1m0s\u001b[0m 17ms/step\n",
      "Direction Accuracy: 0.4559 (45.59%)\n",
      "Precision (Up): 0.4211\n",
      "Recall (Up): 0.2353\n",
      "F1-Score: 0.3019\n",
      "\u001b[1m1/1\u001b[0m \u001b[32m━━━━━━━━━━━━━━━━━━━━\u001b[0m\u001b[37m\u001b[0m \u001b[1m0s\u001b[0m 14ms/step\n",
      "\u001b[1m1/1\u001b[0m \u001b[32m━━━━━━━━━━━━━━━━━━━━\u001b[0m\u001b[37m\u001b[0m \u001b[1m0s\u001b[0m 14ms/step\n",
      "\n",
      "==================================================\n",
      "LSTM NEXT DAY PREDICTION\n",
      "==================================================\n",
      "Last Known Date: 2025-05-06 (Tuesday)\n",
      "Prediction Date: 2025-05-07 (Wednesday)\n",
      "Current Price: $96,834.02\n",
      "Predicted Price: $94,280.57\n",
      "Expected Return: -2.64%\n",
      "Predicted Direction: DOWN\n",
      "Direction Confidence: 54.8%\n",
      "Probability UP: 45.2%\n",
      "Probability DOWN: 54.8%\n"
     ]
    },
    {
     "data": {
      "image/png": "[encoded data removed]",
      "text/plain": [
       "<Figure size 1200x1000 with 2 Axes>"
      ]
     },
     "metadata": {},
     "output_type": "display_data"
    }
   ],
   "source": [
    "# Initialize the LSTM predictor\n",
    "lstm_predictor = BitcoinLSTMPredictor(df_daily)\n",
    "\n",
    "# Engineer features\n",
    "df_processed = lstm_predictor.engineer_features()\n",
    "\n",
    "# Prepare data for LSTM training\n",
    "lstm_predictor.prepare_data(test_size=0.2, val_size=0.1)\n",
    "\n",
    "# Train models\n",
    "return_hist, dir_hist = lstm_predictor.train_models(epochs=100, batch_size=32)\n",
    "\n",
    "# Evaluate models\n",
    "results = lstm_predictor.evaluate_models()\n",
    "\n",
    "# Make next day prediction\n",
    "next_day_pred = lstm_predictor.predict_next_day()\n",
    "\n",
    "# Plot recent predictions\n",
    "lstm_predictor.plot_predictions(results)\n"
   ]
  },
  {
   "cell_type": "code",
   "execution_count": 21,
   "metadata": {},
   "outputs": [
    {
     "name": "stdout",
     "output_type": "stream",
     "text": [
      "1045\n",
      "Processed 1045 data points with 53 features\n",
      "Using 27 features: ['high_close_ratio', 'low_close_ratio', 'open_close_ratio', 'returns_1d', 'returns_3d', 'returns_7d', 'price_ma_5_ratio', 'price_ma_10_ratio', 'price_ma_20_ratio', 'macd_normalized', 'macd_signal_normalized', 'rsi_normalized', 'bb_position', 'bb_width', 'volatility_10', 'volatility_20', 'volume_avg_ratio', 'volume_change', 'vader_ma_3', 'vader_ma_7', 'article_count_norm', 'funding_rate', 'funding_rate_ma', 'momentum_5', 'momentum_10', 'day_sin', 'day_cos']\n",
      "Training sequences: 710\n",
      "Validation sequences: 101\n",
      "Test sequences: 204\n",
      "Features per timestep: 27\n",
      "Last date in dataset: 2025-05-06 00:00:00\n",
      "Starting comprehensive tuning for both models...\n",
      "============================================================\n",
      "PHASE 1: GRID SEARCH\n",
      "============================================================\n",
      "Starting Grid Search for return model...\n",
      "Limited to 50 combinations\n",
      "Grid Search 1/50: {'batch_size': 16, 'dense_units': 8, 'dropout_rate': 0.1, 'learning_rate': 0.001, 'lstm_units_1': 32, 'lstm_units_2': 16, 'sequence_length': 15}\n",
      "Using 27 features: ['high_close_ratio', 'low_close_ratio', 'open_close_ratio', 'returns_1d', 'returns_3d', 'returns_7d', 'price_ma_5_ratio', 'price_ma_10_ratio', 'price_ma_20_ratio', 'macd_normalized', 'macd_signal_normalized', 'rsi_normalized', 'bb_position', 'bb_width', 'volatility_10', 'volatility_20', 'volume_avg_ratio', 'volume_change', 'vader_ma_3', 'vader_ma_7', 'article_count_norm', 'funding_rate', 'funding_rate_ma', 'momentum_5', 'momentum_10', 'day_sin', 'day_cos']\n",
      "Training sequences: 721\n",
      "Validation sequences: 103\n",
      "Test sequences: 206\n",
      "Features per timestep: 27\n",
      "Last date in dataset: 2025-05-06 00:00:00\n",
      "New best score: -0.009468\n",
      "Grid Search 2/50: {'batch_size': 16, 'dense_units': 8, 'dropout_rate': 0.1, 'learning_rate': 0.001, 'lstm_units_1': 32, 'lstm_units_2': 16, 'sequence_length': 30}\n",
      "Using 27 features: ['high_close_ratio', 'low_close_ratio', 'open_close_ratio', 'returns_1d', 'returns_3d', 'returns_7d', 'price_ma_5_ratio', 'price_ma_10_ratio', 'price_ma_20_ratio', 'macd_normalized', 'macd_signal_normalized', 'rsi_normalized', 'bb_position', 'bb_width', 'volatility_10', 'volatility_20', 'volume_avg_ratio', 'volume_change', 'vader_ma_3', 'vader_ma_7', 'article_count_norm', 'funding_rate', 'funding_rate_ma', 'momentum_5', 'momentum_10', 'day_sin', 'day_cos']\n",
      "Training sequences: 710\n",
      "Validation sequences: 101\n",
      "Test sequences: 204\n",
      "Features per timestep: 27\n",
      "Last date in dataset: 2025-05-06 00:00:00\n",
      "Grid Search 3/50: {'batch_size': 16, 'dense_units': 8, 'dropout_rate': 0.1, 'learning_rate': 0.001, 'lstm_units_1': 32, 'lstm_units_2': 16, 'sequence_length': 60}\n",
      "Using 27 features: ['high_close_ratio', 'low_close_ratio', 'open_close_ratio', 'returns_1d', 'returns_3d', 'returns_7d', 'price_ma_5_ratio', 'price_ma_10_ratio', 'price_ma_20_ratio', 'macd_normalized', 'macd_signal_normalized', 'rsi_normalized', 'bb_position', 'bb_width', 'volatility_10', 'volatility_20', 'volume_avg_ratio', 'volume_change', 'vader_ma_3', 'vader_ma_7', 'article_count_norm', 'funding_rate', 'funding_rate_ma', 'momentum_5', 'momentum_10', 'day_sin', 'day_cos']\n",
      "Training sequences: 689\n",
      "Validation sequences: 98\n",
      "Test sequences: 198\n",
      "Features per timestep: 27\n",
      "Last date in dataset: 2025-05-06 00:00:00\n",
      "WARNING:tensorflow:5 out of the last 15 calls to <function TensorFlowTrainer.make_predict_function.<locals>.one_step_on_data_distributed at 0x36c9e35e0> triggered tf.function retracing. Tracing is expensive and the excessive number of tracings could be due to (1) creating @tf.function repeatedly in a loop, (2) passing tensors with different shapes, (3) passing Python objects instead of tensors. For (1), please define your @tf.function outside of the loop. For (2), @tf.function has reduce_retracing=True option that can avoid unnecessary retracing. For (3), please refer to https://www.tensorflow.org/guide/function#controlling_retracing and https://www.tensorflow.org/api_docs/python/tf/function for  more details.\n",
      "New best score: -0.008437\n",
      "Grid Search 4/50: {'batch_size': 16, 'dense_units': 8, 'dropout_rate': 0.1, 'learning_rate': 0.001, 'lstm_units_1': 32, 'lstm_units_2': 16, 'sequence_length': 90}\n",
      "Using 27 features: ['high_close_ratio', 'low_close_ratio', 'open_close_ratio', 'returns_1d', 'returns_3d', 'returns_7d', 'price_ma_5_ratio', 'price_ma_10_ratio', 'price_ma_20_ratio', 'macd_normalized', 'macd_signal_normalized', 'rsi_normalized', 'bb_position', 'bb_width', 'volatility_10', 'volatility_20', 'volume_avg_ratio', 'volume_change', 'vader_ma_3', 'vader_ma_7', 'article_count_norm', 'funding_rate', 'funding_rate_ma', 'momentum_5', 'momentum_10', 'day_sin', 'day_cos']\n",
      "Training sequences: 668\n",
      "Validation sequences: 95\n",
      "Test sequences: 192\n",
      "Features per timestep: 27\n",
      "Last date in dataset: 2025-05-06 00:00:00\n",
      "WARNING:tensorflow:5 out of the last 15 calls to <function TensorFlowTrainer.make_predict_function.<locals>.one_step_on_data_distributed at 0x3716e5b80> triggered tf.function retracing. Tracing is expensive and the excessive number of tracings could be due to (1) creating @tf.function repeatedly in a loop, (2) passing tensors with different shapes, (3) passing Python objects instead of tensors. For (1), please define your @tf.function outside of the loop. For (2), @tf.function has reduce_retracing=True option that can avoid unnecessary retracing. For (3), please refer to https://www.tensorflow.org/guide/function#controlling_retracing and https://www.tensorflow.org/api_docs/python/tf/function for  more details.\n",
      "Grid Search 5/50: {'batch_size': 16, 'dense_units': 8, 'dropout_rate': 0.1, 'learning_rate': 0.001, 'lstm_units_1': 32, 'lstm_units_2': 32, 'sequence_length': 15}\n",
      "Using 27 features: ['high_close_ratio', 'low_close_ratio', 'open_close_ratio', 'returns_1d', 'returns_3d', 'returns_7d', 'price_ma_5_ratio', 'price_ma_10_ratio', 'price_ma_20_ratio', 'macd_normalized', 'macd_signal_normalized', 'rsi_normalized', 'bb_position', 'bb_width', 'volatility_10', 'volatility_20', 'volume_avg_ratio', 'volume_change', 'vader_ma_3', 'vader_ma_7', 'article_count_norm', 'funding_rate', 'funding_rate_ma', 'momentum_5', 'momentum_10', 'day_sin', 'day_cos']\n",
      "Training sequences: 721\n",
      "Validation sequences: 103\n",
      "Test sequences: 206\n",
      "Features per timestep: 27\n",
      "Last date in dataset: 2025-05-06 00:00:00\n",
      "Grid Search 6/50: {'batch_size': 16, 'dense_units': 8, 'dropout_rate': 0.1, 'learning_rate': 0.001, 'lstm_units_1': 32, 'lstm_units_2': 32, 'sequence_length': 30}\n",
      "Using 27 features: ['high_close_ratio', 'low_close_ratio', 'open_close_ratio', 'returns_1d', 'returns_3d', 'returns_7d', 'price_ma_5_ratio', 'price_ma_10_ratio', 'price_ma_20_ratio', 'macd_normalized', 'macd_signal_normalized', 'rsi_normalized', 'bb_position', 'bb_width', 'volatility_10', 'volatility_20', 'volume_avg_ratio', 'volume_change', 'vader_ma_3', 'vader_ma_7', 'article_count_norm', 'funding_rate', 'funding_rate_ma', 'momentum_5', 'momentum_10', 'day_sin', 'day_cos']\n",
      "Training sequences: 710\n",
      "Validation sequences: 101\n",
      "Test sequences: 204\n",
      "Features per timestep: 27\n",
      "Last date in dataset: 2025-05-06 00:00:00\n",
      "Grid Search 7/50: {'batch_size': 16, 'dense_units': 8, 'dropout_rate': 0.1, 'learning_rate': 0.001, 'lstm_units_1': 32, 'lstm_units_2': 32, 'sequence_length': 60}\n",
      "Using 27 features: ['high_close_ratio', 'low_close_ratio', 'open_close_ratio', 'returns_1d', 'returns_3d', 'returns_7d', 'price_ma_5_ratio', 'price_ma_10_ratio', 'price_ma_20_ratio', 'macd_normalized', 'macd_signal_normalized', 'rsi_normalized', 'bb_position', 'bb_width', 'volatility_10', 'volatility_20', 'volume_avg_ratio', 'volume_change', 'vader_ma_3', 'vader_ma_7', 'article_count_norm', 'funding_rate', 'funding_rate_ma', 'momentum_5', 'momentum_10', 'day_sin', 'day_cos']\n",
      "Training sequences: 689\n",
      "Validation sequences: 98\n",
      "Test sequences: 198\n",
      "Features per timestep: 27\n",
      "Last date in dataset: 2025-05-06 00:00:00\n",
      "Grid Search 8/50: {'batch_size': 16, 'dense_units': 8, 'dropout_rate': 0.1, 'learning_rate': 0.001, 'lstm_units_1': 32, 'lstm_units_2': 32, 'sequence_length': 90}\n",
      "Using 27 features: ['high_close_ratio', 'low_close_ratio', 'open_close_ratio', 'returns_1d', 'returns_3d', 'returns_7d', 'price_ma_5_ratio', 'price_ma_10_ratio', 'price_ma_20_ratio', 'macd_normalized', 'macd_signal_normalized', 'rsi_normalized', 'bb_position', 'bb_width', 'volatility_10', 'volatility_20', 'volume_avg_ratio', 'volume_change', 'vader_ma_3', 'vader_ma_7', 'article_count_norm', 'funding_rate', 'funding_rate_ma', 'momentum_5', 'momentum_10', 'day_sin', 'day_cos']\n",
      "Training sequences: 668\n",
      "Validation sequences: 95\n",
      "Test sequences: 192\n",
      "Features per timestep: 27\n",
      "Last date in dataset: 2025-05-06 00:00:00\n",
      "Grid Search 9/50: {'batch_size': 16, 'dense_units': 8, 'dropout_rate': 0.1, 'learning_rate': 0.001, 'lstm_units_1': 32, 'lstm_units_2': 64, 'sequence_length': 15}\n",
      "Using 27 features: ['high_close_ratio', 'low_close_ratio', 'open_close_ratio', 'returns_1d', 'returns_3d', 'returns_7d', 'price_ma_5_ratio', 'price_ma_10_ratio', 'price_ma_20_ratio', 'macd_normalized', 'macd_signal_normalized', 'rsi_normalized', 'bb_position', 'bb_width', 'volatility_10', 'volatility_20', 'volume_avg_ratio', 'volume_change', 'vader_ma_3', 'vader_ma_7', 'article_count_norm', 'funding_rate', 'funding_rate_ma', 'momentum_5', 'momentum_10', 'day_sin', 'day_cos']\n",
      "Training sequences: 721\n",
      "Validation sequences: 103\n",
      "Test sequences: 206\n",
      "Features per timestep: 27\n",
      "Last date in dataset: 2025-05-06 00:00:00\n",
      "Grid Search 10/50: {'batch_size': 16, 'dense_units': 8, 'dropout_rate': 0.1, 'learning_rate': 0.001, 'lstm_units_1': 32, 'lstm_units_2': 64, 'sequence_length': 30}\n",
      "Using 27 features: ['high_close_ratio', 'low_close_ratio', 'open_close_ratio', 'returns_1d', 'returns_3d', 'returns_7d', 'price_ma_5_ratio', 'price_ma_10_ratio', 'price_ma_20_ratio', 'macd_normalized', 'macd_signal_normalized', 'rsi_normalized', 'bb_position', 'bb_width', 'volatility_10', 'volatility_20', 'volume_avg_ratio', 'volume_change', 'vader_ma_3', 'vader_ma_7', 'article_count_norm', 'funding_rate', 'funding_rate_ma', 'momentum_5', 'momentum_10', 'day_sin', 'day_cos']\n",
      "Training sequences: 710\n",
      "Validation sequences: 101\n",
      "Test sequences: 204\n",
      "Features per timestep: 27\n",
      "Last date in dataset: 2025-05-06 00:00:00\n",
      "Grid Search 11/50: {'batch_size': 16, 'dense_units': 8, 'dropout_rate': 0.1, 'learning_rate': 0.001, 'lstm_units_1': 32, 'lstm_units_2': 64, 'sequence_length': 60}\n",
      "Using 27 features: ['high_close_ratio', 'low_close_ratio', 'open_close_ratio', 'returns_1d', 'returns_3d', 'returns_7d', 'price_ma_5_ratio', 'price_ma_10_ratio', 'price_ma_20_ratio', 'macd_normalized', 'macd_signal_normalized', 'rsi_normalized', 'bb_position', 'bb_width', 'volatility_10', 'volatility_20', 'volume_avg_ratio', 'volume_change', 'vader_ma_3', 'vader_ma_7', 'article_count_norm', 'funding_rate', 'funding_rate_ma', 'momentum_5', 'momentum_10', 'day_sin', 'day_cos']\n",
      "Training sequences: 689\n",
      "Validation sequences: 98\n",
      "Test sequences: 198\n",
      "Features per timestep: 27\n",
      "Last date in dataset: 2025-05-06 00:00:00\n",
      "Grid Search 12/50: {'batch_size': 16, 'dense_units': 8, 'dropout_rate': 0.1, 'learning_rate': 0.001, 'lstm_units_1': 32, 'lstm_units_2': 64, 'sequence_length': 90}\n",
      "Using 27 features: ['high_close_ratio', 'low_close_ratio', 'open_close_ratio', 'returns_1d', 'returns_3d', 'returns_7d', 'price_ma_5_ratio', 'price_ma_10_ratio', 'price_ma_20_ratio', 'macd_normalized', 'macd_signal_normalized', 'rsi_normalized', 'bb_position', 'bb_width', 'volatility_10', 'volatility_20', 'volume_avg_ratio', 'volume_change', 'vader_ma_3', 'vader_ma_7', 'article_count_norm', 'funding_rate', 'funding_rate_ma', 'momentum_5', 'momentum_10', 'day_sin', 'day_cos']\n",
      "Training sequences: 668\n",
      "Validation sequences: 95\n",
      "Test sequences: 192\n",
      "Features per timestep: 27\n",
      "Last date in dataset: 2025-05-06 00:00:00\n",
      "Grid Search 13/50: {'batch_size': 16, 'dense_units': 8, 'dropout_rate': 0.1, 'learning_rate': 0.001, 'lstm_units_1': 64, 'lstm_units_2': 16, 'sequence_length': 15}\n",
      "Using 27 features: ['high_close_ratio', 'low_close_ratio', 'open_close_ratio', 'returns_1d', 'returns_3d', 'returns_7d', 'price_ma_5_ratio', 'price_ma_10_ratio', 'price_ma_20_ratio', 'macd_normalized', 'macd_signal_normalized', 'rsi_normalized', 'bb_position', 'bb_width', 'volatility_10', 'volatility_20', 'volume_avg_ratio', 'volume_change', 'vader_ma_3', 'vader_ma_7', 'article_count_norm', 'funding_rate', 'funding_rate_ma', 'momentum_5', 'momentum_10', 'day_sin', 'day_cos']\n",
      "Training sequences: 721\n",
      "Validation sequences: 103\n",
      "Test sequences: 206\n",
      "Features per timestep: 27\n",
      "Last date in dataset: 2025-05-06 00:00:00\n",
      "Grid Search 14/50: {'batch_size': 16, 'dense_units': 8, 'dropout_rate': 0.1, 'learning_rate': 0.001, 'lstm_units_1': 64, 'lstm_units_2': 16, 'sequence_length': 30}\n",
      "Using 27 features: ['high_close_ratio', 'low_close_ratio', 'open_close_ratio', 'returns_1d', 'returns_3d', 'returns_7d', 'price_ma_5_ratio', 'price_ma_10_ratio', 'price_ma_20_ratio', 'macd_normalized', 'macd_signal_normalized', 'rsi_normalized', 'bb_position', 'bb_width', 'volatility_10', 'volatility_20', 'volume_avg_ratio', 'volume_change', 'vader_ma_3', 'vader_ma_7', 'article_count_norm', 'funding_rate', 'funding_rate_ma', 'momentum_5', 'momentum_10', 'day_sin', 'day_cos']\n",
      "Training sequences: 710\n",
      "Validation sequences: 101\n",
      "Test sequences: 204\n",
      "Features per timestep: 27\n",
      "Last date in dataset: 2025-05-06 00:00:00\n",
      "Grid Search 15/50: {'batch_size': 16, 'dense_units': 8, 'dropout_rate': 0.1, 'learning_rate': 0.001, 'lstm_units_1': 64, 'lstm_units_2': 16, 'sequence_length': 60}\n",
      "Using 27 features: ['high_close_ratio', 'low_close_ratio', 'open_close_ratio', 'returns_1d', 'returns_3d', 'returns_7d', 'price_ma_5_ratio', 'price_ma_10_ratio', 'price_ma_20_ratio', 'macd_normalized', 'macd_signal_normalized', 'rsi_normalized', 'bb_position', 'bb_width', 'volatility_10', 'volatility_20', 'volume_avg_ratio', 'volume_change', 'vader_ma_3', 'vader_ma_7', 'article_count_norm', 'funding_rate', 'funding_rate_ma', 'momentum_5', 'momentum_10', 'day_sin', 'day_cos']\n",
      "Training sequences: 689\n",
      "Validation sequences: 98\n",
      "Test sequences: 198\n",
      "Features per timestep: 27\n",
      "Last date in dataset: 2025-05-06 00:00:00\n",
      "Grid Search 16/50: {'batch_size': 16, 'dense_units': 8, 'dropout_rate': 0.1, 'learning_rate': 0.001, 'lstm_units_1': 64, 'lstm_units_2': 16, 'sequence_length': 90}\n",
      "Using 27 features: ['high_close_ratio', 'low_close_ratio', 'open_close_ratio', 'returns_1d', 'returns_3d', 'returns_7d', 'price_ma_5_ratio', 'price_ma_10_ratio', 'price_ma_20_ratio', 'macd_normalized', 'macd_signal_normalized', 'rsi_normalized', 'bb_position', 'bb_width', 'volatility_10', 'volatility_20', 'volume_avg_ratio', 'volume_change', 'vader_ma_3', 'vader_ma_7', 'article_count_norm', 'funding_rate', 'funding_rate_ma', 'momentum_5', 'momentum_10', 'day_sin', 'day_cos']\n",
      "Training sequences: 668\n",
      "Validation sequences: 95\n",
      "Test sequences: 192\n",
      "Features per timestep: 27\n",
      "Last date in dataset: 2025-05-06 00:00:00\n",
      "Grid Search 17/50: {'batch_size': 16, 'dense_units': 8, 'dropout_rate': 0.1, 'learning_rate': 0.001, 'lstm_units_1': 64, 'lstm_units_2': 32, 'sequence_length': 15}\n",
      "Using 27 features: ['high_close_ratio', 'low_close_ratio', 'open_close_ratio', 'returns_1d', 'returns_3d', 'returns_7d', 'price_ma_5_ratio', 'price_ma_10_ratio', 'price_ma_20_ratio', 'macd_normalized', 'macd_signal_normalized', 'rsi_normalized', 'bb_position', 'bb_width', 'volatility_10', 'volatility_20', 'volume_avg_ratio', 'volume_change', 'vader_ma_3', 'vader_ma_7', 'article_count_norm', 'funding_rate', 'funding_rate_ma', 'momentum_5', 'momentum_10', 'day_sin', 'day_cos']\n",
      "Training sequences: 721\n",
      "Validation sequences: 103\n",
      "Test sequences: 206\n",
      "Features per timestep: 27\n",
      "Last date in dataset: 2025-05-06 00:00:00\n",
      "Grid Search 18/50: {'batch_size': 16, 'dense_units': 8, 'dropout_rate': 0.1, 'learning_rate': 0.001, 'lstm_units_1': 64, 'lstm_units_2': 32, 'sequence_length': 30}\n",
      "Using 27 features: ['high_close_ratio', 'low_close_ratio', 'open_close_ratio', 'returns_1d', 'returns_3d', 'returns_7d', 'price_ma_5_ratio', 'price_ma_10_ratio', 'price_ma_20_ratio', 'macd_normalized', 'macd_signal_normalized', 'rsi_normalized', 'bb_position', 'bb_width', 'volatility_10', 'volatility_20', 'volume_avg_ratio', 'volume_change', 'vader_ma_3', 'vader_ma_7', 'article_count_norm', 'funding_rate', 'funding_rate_ma', 'momentum_5', 'momentum_10', 'day_sin', 'day_cos']\n",
      "Training sequences: 710\n",
      "Validation sequences: 101\n",
      "Test sequences: 204\n",
      "Features per timestep: 27\n",
      "Last date in dataset: 2025-05-06 00:00:00\n",
      "Grid Search 19/50: {'batch_size': 16, 'dense_units': 8, 'dropout_rate': 0.1, 'learning_rate': 0.001, 'lstm_units_1': 64, 'lstm_units_2': 32, 'sequence_length': 60}\n",
      "Using 27 features: ['high_close_ratio', 'low_close_ratio', 'open_close_ratio', 'returns_1d', 'returns_3d', 'returns_7d', 'price_ma_5_ratio', 'price_ma_10_ratio', 'price_ma_20_ratio', 'macd_normalized', 'macd_signal_normalized', 'rsi_normalized', 'bb_position', 'bb_width', 'volatility_10', 'volatility_20', 'volume_avg_ratio', 'volume_change', 'vader_ma_3', 'vader_ma_7', 'article_count_norm', 'funding_rate', 'funding_rate_ma', 'momentum_5', 'momentum_10', 'day_sin', 'day_cos']\n",
      "Training sequences: 689\n",
      "Validation sequences: 98\n",
      "Test sequences: 198\n",
      "Features per timestep: 27\n",
      "Last date in dataset: 2025-05-06 00:00:00\n",
      "Grid Search 20/50: {'batch_size': 16, 'dense_units': 8, 'dropout_rate': 0.1, 'learning_rate': 0.001, 'lstm_units_1': 64, 'lstm_units_2': 32, 'sequence_length': 90}\n",
      "Using 27 features: ['high_close_ratio', 'low_close_ratio', 'open_close_ratio', 'returns_1d', 'returns_3d', 'returns_7d', 'price_ma_5_ratio', 'price_ma_10_ratio', 'price_ma_20_ratio', 'macd_normalized', 'macd_signal_normalized', 'rsi_normalized', 'bb_position', 'bb_width', 'volatility_10', 'volatility_20', 'volume_avg_ratio', 'volume_change', 'vader_ma_3', 'vader_ma_7', 'article_count_norm', 'funding_rate', 'funding_rate_ma', 'momentum_5', 'momentum_10', 'day_sin', 'day_cos']\n",
      "Training sequences: 668\n",
      "Validation sequences: 95\n",
      "Test sequences: 192\n",
      "Features per timestep: 27\n",
      "Last date in dataset: 2025-05-06 00:00:00\n",
      "Grid Search 21/50: {'batch_size': 16, 'dense_units': 8, 'dropout_rate': 0.1, 'learning_rate': 0.001, 'lstm_units_1': 64, 'lstm_units_2': 64, 'sequence_length': 15}\n",
      "Using 27 features: ['high_close_ratio', 'low_close_ratio', 'open_close_ratio', 'returns_1d', 'returns_3d', 'returns_7d', 'price_ma_5_ratio', 'price_ma_10_ratio', 'price_ma_20_ratio', 'macd_normalized', 'macd_signal_normalized', 'rsi_normalized', 'bb_position', 'bb_width', 'volatility_10', 'volatility_20', 'volume_avg_ratio', 'volume_change', 'vader_ma_3', 'vader_ma_7', 'article_count_norm', 'funding_rate', 'funding_rate_ma', 'momentum_5', 'momentum_10', 'day_sin', 'day_cos']\n",
      "Training sequences: 721\n",
      "Validation sequences: 103\n",
      "Test sequences: 206\n",
      "Features per timestep: 27\n",
      "Last date in dataset: 2025-05-06 00:00:00\n",
      "Grid Search 22/50: {'batch_size': 16, 'dense_units': 8, 'dropout_rate': 0.1, 'learning_rate': 0.001, 'lstm_units_1': 64, 'lstm_units_2': 64, 'sequence_length': 30}\n",
      "Using 27 features: ['high_close_ratio', 'low_close_ratio', 'open_close_ratio', 'returns_1d', 'returns_3d', 'returns_7d', 'price_ma_5_ratio', 'price_ma_10_ratio', 'price_ma_20_ratio', 'macd_normalized', 'macd_signal_normalized', 'rsi_normalized', 'bb_position', 'bb_width', 'volatility_10', 'volatility_20', 'volume_avg_ratio', 'volume_change', 'vader_ma_3', 'vader_ma_7', 'article_count_norm', 'funding_rate', 'funding_rate_ma', 'momentum_5', 'momentum_10', 'day_sin', 'day_cos']\n",
      "Training sequences: 710\n",
      "Validation sequences: 101\n",
      "Test sequences: 204\n",
      "Features per timestep: 27\n",
      "Last date in dataset: 2025-05-06 00:00:00\n",
      "Grid Search 23/50: {'batch_size': 16, 'dense_units': 8, 'dropout_rate': 0.1, 'learning_rate': 0.001, 'lstm_units_1': 64, 'lstm_units_2': 64, 'sequence_length': 60}\n",
      "Using 27 features: ['high_close_ratio', 'low_close_ratio', 'open_close_ratio', 'returns_1d', 'returns_3d', 'returns_7d', 'price_ma_5_ratio', 'price_ma_10_ratio', 'price_ma_20_ratio', 'macd_normalized', 'macd_signal_normalized', 'rsi_normalized', 'bb_position', 'bb_width', 'volatility_10', 'volatility_20', 'volume_avg_ratio', 'volume_change', 'vader_ma_3', 'vader_ma_7', 'article_count_norm', 'funding_rate', 'funding_rate_ma', 'momentum_5', 'momentum_10', 'day_sin', 'day_cos']\n",
      "Training sequences: 689\n",
      "Validation sequences: 98\n",
      "Test sequences: 198\n",
      "Features per timestep: 27\n",
      "Last date in dataset: 2025-05-06 00:00:00\n",
      "Grid Search 24/50: {'batch_size': 16, 'dense_units': 8, 'dropout_rate': 0.1, 'learning_rate': 0.001, 'lstm_units_1': 64, 'lstm_units_2': 64, 'sequence_length': 90}\n",
      "Using 27 features: ['high_close_ratio', 'low_close_ratio', 'open_close_ratio', 'returns_1d', 'returns_3d', 'returns_7d', 'price_ma_5_ratio', 'price_ma_10_ratio', 'price_ma_20_ratio', 'macd_normalized', 'macd_signal_normalized', 'rsi_normalized', 'bb_position', 'bb_width', 'volatility_10', 'volatility_20', 'volume_avg_ratio', 'volume_change', 'vader_ma_3', 'vader_ma_7', 'article_count_norm', 'funding_rate', 'funding_rate_ma', 'momentum_5', 'momentum_10', 'day_sin', 'day_cos']\n",
      "Training sequences: 668\n",
      "Validation sequences: 95\n",
      "Test sequences: 192\n",
      "Features per timestep: 27\n",
      "Last date in dataset: 2025-05-06 00:00:00\n",
      "Grid Search 25/50: {'batch_size': 16, 'dense_units': 8, 'dropout_rate': 0.1, 'learning_rate': 0.001, 'lstm_units_1': 128, 'lstm_units_2': 16, 'sequence_length': 15}\n",
      "Using 27 features: ['high_close_ratio', 'low_close_ratio', 'open_close_ratio', 'returns_1d', 'returns_3d', 'returns_7d', 'price_ma_5_ratio', 'price_ma_10_ratio', 'price_ma_20_ratio', 'macd_normalized', 'macd_signal_normalized', 'rsi_normalized', 'bb_position', 'bb_width', 'volatility_10', 'volatility_20', 'volume_avg_ratio', 'volume_change', 'vader_ma_3', 'vader_ma_7', 'article_count_norm', 'funding_rate', 'funding_rate_ma', 'momentum_5', 'momentum_10', 'day_sin', 'day_cos']\n",
      "Training sequences: 721\n",
      "Validation sequences: 103\n",
      "Test sequences: 206\n",
      "Features per timestep: 27\n",
      "Last date in dataset: 2025-05-06 00:00:00\n",
      "Grid Search 26/50: {'batch_size': 16, 'dense_units': 8, 'dropout_rate': 0.1, 'learning_rate': 0.001, 'lstm_units_1': 128, 'lstm_units_2': 16, 'sequence_length': 30}\n",
      "Using 27 features: ['high_close_ratio', 'low_close_ratio', 'open_close_ratio', 'returns_1d', 'returns_3d', 'returns_7d', 'price_ma_5_ratio', 'price_ma_10_ratio', 'price_ma_20_ratio', 'macd_normalized', 'macd_signal_normalized', 'rsi_normalized', 'bb_position', 'bb_width', 'volatility_10', 'volatility_20', 'volume_avg_ratio', 'volume_change', 'vader_ma_3', 'vader_ma_7', 'article_count_norm', 'funding_rate', 'funding_rate_ma', 'momentum_5', 'momentum_10', 'day_sin', 'day_cos']\n",
      "Training sequences: 710\n",
      "Validation sequences: 101\n",
      "Test sequences: 204\n",
      "Features per timestep: 27\n",
      "Last date in dataset: 2025-05-06 00:00:00\n",
      "Grid Search 27/50: {'batch_size': 16, 'dense_units': 8, 'dropout_rate': 0.1, 'learning_rate': 0.001, 'lstm_units_1': 128, 'lstm_units_2': 16, 'sequence_length': 60}\n",
      "Using 27 features: ['high_close_ratio', 'low_close_ratio', 'open_close_ratio', 'returns_1d', 'returns_3d', 'returns_7d', 'price_ma_5_ratio', 'price_ma_10_ratio', 'price_ma_20_ratio', 'macd_normalized', 'macd_signal_normalized', 'rsi_normalized', 'bb_position', 'bb_width', 'volatility_10', 'volatility_20', 'volume_avg_ratio', 'volume_change', 'vader_ma_3', 'vader_ma_7', 'article_count_norm', 'funding_rate', 'funding_rate_ma', 'momentum_5', 'momentum_10', 'day_sin', 'day_cos']\n",
      "Training sequences: 689\n",
      "Validation sequences: 98\n",
      "Test sequences: 198\n",
      "Features per timestep: 27\n",
      "Last date in dataset: 2025-05-06 00:00:00\n",
      "Grid Search 28/50: {'batch_size': 16, 'dense_units': 8, 'dropout_rate': 0.1, 'learning_rate': 0.001, 'lstm_units_1': 128, 'lstm_units_2': 16, 'sequence_length': 90}\n",
      "Using 27 features: ['high_close_ratio', 'low_close_ratio', 'open_close_ratio', 'returns_1d', 'returns_3d', 'returns_7d', 'price_ma_5_ratio', 'price_ma_10_ratio', 'price_ma_20_ratio', 'macd_normalized', 'macd_signal_normalized', 'rsi_normalized', 'bb_position', 'bb_width', 'volatility_10', 'volatility_20', 'volume_avg_ratio', 'volume_change', 'vader_ma_3', 'vader_ma_7', 'article_count_norm', 'funding_rate', 'funding_rate_ma', 'momentum_5', 'momentum_10', 'day_sin', 'day_cos']\n",
      "Training sequences: 668\n",
      "Validation sequences: 95\n",
      "Test sequences: 192\n",
      "Features per timestep: 27\n",
      "Last date in dataset: 2025-05-06 00:00:00\n",
      "Grid Search 29/50: {'batch_size': 16, 'dense_units': 8, 'dropout_rate': 0.1, 'learning_rate': 0.001, 'lstm_units_1': 128, 'lstm_units_2': 32, 'sequence_length': 15}\n",
      "Using 27 features: ['high_close_ratio', 'low_close_ratio', 'open_close_ratio', 'returns_1d', 'returns_3d', 'returns_7d', 'price_ma_5_ratio', 'price_ma_10_ratio', 'price_ma_20_ratio', 'macd_normalized', 'macd_signal_normalized', 'rsi_normalized', 'bb_position', 'bb_width', 'volatility_10', 'volatility_20', 'volume_avg_ratio', 'volume_change', 'vader_ma_3', 'vader_ma_7', 'article_count_norm', 'funding_rate', 'funding_rate_ma', 'momentum_5', 'momentum_10', 'day_sin', 'day_cos']\n",
      "Training sequences: 721\n",
      "Validation sequences: 103\n",
      "Test sequences: 206\n",
      "Features per timestep: 27\n",
      "Last date in dataset: 2025-05-06 00:00:00\n",
      "Grid Search 30/50: {'batch_size': 16, 'dense_units': 8, 'dropout_rate': 0.1, 'learning_rate': 0.001, 'lstm_units_1': 128, 'lstm_units_2': 32, 'sequence_length': 30}\n",
      "Using 27 features: ['high_close_ratio', 'low_close_ratio', 'open_close_ratio', 'returns_1d', 'returns_3d', 'returns_7d', 'price_ma_5_ratio', 'price_ma_10_ratio', 'price_ma_20_ratio', 'macd_normalized', 'macd_signal_normalized', 'rsi_normalized', 'bb_position', 'bb_width', 'volatility_10', 'volatility_20', 'volume_avg_ratio', 'volume_change', 'vader_ma_3', 'vader_ma_7', 'article_count_norm', 'funding_rate', 'funding_rate_ma', 'momentum_5', 'momentum_10', 'day_sin', 'day_cos']\n",
      "Training sequences: 710\n",
      "Validation sequences: 101\n",
      "Test sequences: 204\n",
      "Features per timestep: 27\n",
      "Last date in dataset: 2025-05-06 00:00:00\n",
      "Grid Search 31/50: {'batch_size': 16, 'dense_units': 8, 'dropout_rate': 0.1, 'learning_rate': 0.001, 'lstm_units_1': 128, 'lstm_units_2': 32, 'sequence_length': 60}\n",
      "Using 27 features: ['high_close_ratio', 'low_close_ratio', 'open_close_ratio', 'returns_1d', 'returns_3d', 'returns_7d', 'price_ma_5_ratio', 'price_ma_10_ratio', 'price_ma_20_ratio', 'macd_normalized', 'macd_signal_normalized', 'rsi_normalized', 'bb_position', 'bb_width', 'volatility_10', 'volatility_20', 'volume_avg_ratio', 'volume_change', 'vader_ma_3', 'vader_ma_7', 'article_count_norm', 'funding_rate', 'funding_rate_ma', 'momentum_5', 'momentum_10', 'day_sin', 'day_cos']\n",
      "Training sequences: 689\n",
      "Validation sequences: 98\n",
      "Test sequences: 198\n",
      "Features per timestep: 27\n",
      "Last date in dataset: 2025-05-06 00:00:00\n",
      "Grid Search 32/50: {'batch_size': 16, 'dense_units': 8, 'dropout_rate': 0.1, 'learning_rate': 0.001, 'lstm_units_1': 128, 'lstm_units_2': 32, 'sequence_length': 90}\n",
      "Using 27 features: ['high_close_ratio', 'low_close_ratio', 'open_close_ratio', 'returns_1d', 'returns_3d', 'returns_7d', 'price_ma_5_ratio', 'price_ma_10_ratio', 'price_ma_20_ratio', 'macd_normalized', 'macd_signal_normalized', 'rsi_normalized', 'bb_position', 'bb_width', 'volatility_10', 'volatility_20', 'volume_avg_ratio', 'volume_change', 'vader_ma_3', 'vader_ma_7', 'article_count_norm', 'funding_rate', 'funding_rate_ma', 'momentum_5', 'momentum_10', 'day_sin', 'day_cos']\n",
      "Training sequences: 668\n",
      "Validation sequences: 95\n",
      "Test sequences: 192\n",
      "Features per timestep: 27\n",
      "Last date in dataset: 2025-05-06 00:00:00\n",
      "Grid Search 33/50: {'batch_size': 16, 'dense_units': 8, 'dropout_rate': 0.1, 'learning_rate': 0.001, 'lstm_units_1': 128, 'lstm_units_2': 64, 'sequence_length': 15}\n",
      "Using 27 features: ['high_close_ratio', 'low_close_ratio', 'open_close_ratio', 'returns_1d', 'returns_3d', 'returns_7d', 'price_ma_5_ratio', 'price_ma_10_ratio', 'price_ma_20_ratio', 'macd_normalized', 'macd_signal_normalized', 'rsi_normalized', 'bb_position', 'bb_width', 'volatility_10', 'volatility_20', 'volume_avg_ratio', 'volume_change', 'vader_ma_3', 'vader_ma_7', 'article_count_norm', 'funding_rate', 'funding_rate_ma', 'momentum_5', 'momentum_10', 'day_sin', 'day_cos']\n",
      "Training sequences: 721\n",
      "Validation sequences: 103\n",
      "Test sequences: 206\n",
      "Features per timestep: 27\n",
      "Last date in dataset: 2025-05-06 00:00:00\n",
      "Grid Search 34/50: {'batch_size': 16, 'dense_units': 8, 'dropout_rate': 0.1, 'learning_rate': 0.001, 'lstm_units_1': 128, 'lstm_units_2': 64, 'sequence_length': 30}\n",
      "Using 27 features: ['high_close_ratio', 'low_close_ratio', 'open_close_ratio', 'returns_1d', 'returns_3d', 'returns_7d', 'price_ma_5_ratio', 'price_ma_10_ratio', 'price_ma_20_ratio', 'macd_normalized', 'macd_signal_normalized', 'rsi_normalized', 'bb_position', 'bb_width', 'volatility_10', 'volatility_20', 'volume_avg_ratio', 'volume_change', 'vader_ma_3', 'vader_ma_7', 'article_count_norm', 'funding_rate', 'funding_rate_ma', 'momentum_5', 'momentum_10', 'day_sin', 'day_cos']\n",
      "Training sequences: 710\n",
      "Validation sequences: 101\n",
      "Test sequences: 204\n",
      "Features per timestep: 27\n",
      "Last date in dataset: 2025-05-06 00:00:00\n",
      "Grid Search 35/50: {'batch_size': 16, 'dense_units': 8, 'dropout_rate': 0.1, 'learning_rate': 0.001, 'lstm_units_1': 128, 'lstm_units_2': 64, 'sequence_length': 60}\n",
      "Using 27 features: ['high_close_ratio', 'low_close_ratio', 'open_close_ratio', 'returns_1d', 'returns_3d', 'returns_7d', 'price_ma_5_ratio', 'price_ma_10_ratio', 'price_ma_20_ratio', 'macd_normalized', 'macd_signal_normalized', 'rsi_normalized', 'bb_position', 'bb_width', 'volatility_10', 'volatility_20', 'volume_avg_ratio', 'volume_change', 'vader_ma_3', 'vader_ma_7', 'article_count_norm', 'funding_rate', 'funding_rate_ma', 'momentum_5', 'momentum_10', 'day_sin', 'day_cos']\n",
      "Training sequences: 689\n",
      "Validation sequences: 98\n",
      "Test sequences: 198\n",
      "Features per timestep: 27\n",
      "Last date in dataset: 2025-05-06 00:00:00\n",
      "Grid Search 36/50: {'batch_size': 16, 'dense_units': 8, 'dropout_rate': 0.1, 'learning_rate': 0.001, 'lstm_units_1': 128, 'lstm_units_2': 64, 'sequence_length': 90}\n",
      "Using 27 features: ['high_close_ratio', 'low_close_ratio', 'open_close_ratio', 'returns_1d', 'returns_3d', 'returns_7d', 'price_ma_5_ratio', 'price_ma_10_ratio', 'price_ma_20_ratio', 'macd_normalized', 'macd_signal_normalized', 'rsi_normalized', 'bb_position', 'bb_width', 'volatility_10', 'volatility_20', 'volume_avg_ratio', 'volume_change', 'vader_ma_3', 'vader_ma_7', 'article_count_norm', 'funding_rate', 'funding_rate_ma', 'momentum_5', 'momentum_10', 'day_sin', 'day_cos']\n",
      "Training sequences: 668\n",
      "Validation sequences: 95\n",
      "Test sequences: 192\n",
      "Features per timestep: 27\n",
      "Last date in dataset: 2025-05-06 00:00:00\n",
      "Grid Search 37/50: {'batch_size': 16, 'dense_units': 8, 'dropout_rate': 0.1, 'learning_rate': 0.01, 'lstm_units_1': 32, 'lstm_units_2': 16, 'sequence_length': 15}\n",
      "Using 27 features: ['high_close_ratio', 'low_close_ratio', 'open_close_ratio', 'returns_1d', 'returns_3d', 'returns_7d', 'price_ma_5_ratio', 'price_ma_10_ratio', 'price_ma_20_ratio', 'macd_normalized', 'macd_signal_normalized', 'rsi_normalized', 'bb_position', 'bb_width', 'volatility_10', 'volatility_20', 'volume_avg_ratio', 'volume_change', 'vader_ma_3', 'vader_ma_7', 'article_count_norm', 'funding_rate', 'funding_rate_ma', 'momentum_5', 'momentum_10', 'day_sin', 'day_cos']\n",
      "Training sequences: 721\n",
      "Validation sequences: 103\n",
      "Test sequences: 206\n",
      "Features per timestep: 27\n",
      "Last date in dataset: 2025-05-06 00:00:00\n",
      "Grid Search 38/50: {'batch_size': 16, 'dense_units': 8, 'dropout_rate': 0.1, 'learning_rate': 0.01, 'lstm_units_1': 32, 'lstm_units_2': 16, 'sequence_length': 30}\n",
      "Using 27 features: ['high_close_ratio', 'low_close_ratio', 'open_close_ratio', 'returns_1d', 'returns_3d', 'returns_7d', 'price_ma_5_ratio', 'price_ma_10_ratio', 'price_ma_20_ratio', 'macd_normalized', 'macd_signal_normalized', 'rsi_normalized', 'bb_position', 'bb_width', 'volatility_10', 'volatility_20', 'volume_avg_ratio', 'volume_change', 'vader_ma_3', 'vader_ma_7', 'article_count_norm', 'funding_rate', 'funding_rate_ma', 'momentum_5', 'momentum_10', 'day_sin', 'day_cos']\n",
      "Training sequences: 710\n",
      "Validation sequences: 101\n",
      "Test sequences: 204\n",
      "Features per timestep: 27\n",
      "Last date in dataset: 2025-05-06 00:00:00\n",
      "Grid Search 39/50: {'batch_size': 16, 'dense_units': 8, 'dropout_rate': 0.1, 'learning_rate': 0.01, 'lstm_units_1': 32, 'lstm_units_2': 16, 'sequence_length': 60}\n",
      "Using 27 features: ['high_close_ratio', 'low_close_ratio', 'open_close_ratio', 'returns_1d', 'returns_3d', 'returns_7d', 'price_ma_5_ratio', 'price_ma_10_ratio', 'price_ma_20_ratio', 'macd_normalized', 'macd_signal_normalized', 'rsi_normalized', 'bb_position', 'bb_width', 'volatility_10', 'volatility_20', 'volume_avg_ratio', 'volume_change', 'vader_ma_3', 'vader_ma_7', 'article_count_norm', 'funding_rate', 'funding_rate_ma', 'momentum_5', 'momentum_10', 'day_sin', 'day_cos']\n",
      "Training sequences: 689\n",
      "Validation sequences: 98\n",
      "Test sequences: 198\n",
      "Features per timestep: 27\n",
      "Last date in dataset: 2025-05-06 00:00:00\n",
      "Grid Search 40/50: {'batch_size': 16, 'dense_units': 8, 'dropout_rate': 0.1, 'learning_rate': 0.01, 'lstm_units_1': 32, 'lstm_units_2': 16, 'sequence_length': 90}\n",
      "Using 27 features: ['high_close_ratio', 'low_close_ratio', 'open_close_ratio', 'returns_1d', 'returns_3d', 'returns_7d', 'price_ma_5_ratio', 'price_ma_10_ratio', 'price_ma_20_ratio', 'macd_normalized', 'macd_signal_normalized', 'rsi_normalized', 'bb_position', 'bb_width', 'volatility_10', 'volatility_20', 'volume_avg_ratio', 'volume_change', 'vader_ma_3', 'vader_ma_7', 'article_count_norm', 'funding_rate', 'funding_rate_ma', 'momentum_5', 'momentum_10', 'day_sin', 'day_cos']\n",
      "Training sequences: 668\n",
      "Validation sequences: 95\n",
      "Test sequences: 192\n",
      "Features per timestep: 27\n",
      "Last date in dataset: 2025-05-06 00:00:00\n",
      "Grid Search 41/50: {'batch_size': 16, 'dense_units': 8, 'dropout_rate': 0.1, 'learning_rate': 0.01, 'lstm_units_1': 32, 'lstm_units_2': 32, 'sequence_length': 15}\n",
      "Using 27 features: ['high_close_ratio', 'low_close_ratio', 'open_close_ratio', 'returns_1d', 'returns_3d', 'returns_7d', 'price_ma_5_ratio', 'price_ma_10_ratio', 'price_ma_20_ratio', 'macd_normalized', 'macd_signal_normalized', 'rsi_normalized', 'bb_position', 'bb_width', 'volatility_10', 'volatility_20', 'volume_avg_ratio', 'volume_change', 'vader_ma_3', 'vader_ma_7', 'article_count_norm', 'funding_rate', 'funding_rate_ma', 'momentum_5', 'momentum_10', 'day_sin', 'day_cos']\n",
      "Training sequences: 721\n",
      "Validation sequences: 103\n",
      "Test sequences: 206\n",
      "Features per timestep: 27\n",
      "Last date in dataset: 2025-05-06 00:00:00\n",
      "Grid Search 42/50: {'batch_size': 16, 'dense_units': 8, 'dropout_rate': 0.1, 'learning_rate': 0.01, 'lstm_units_1': 32, 'lstm_units_2': 32, 'sequence_length': 30}\n",
      "Using 27 features: ['high_close_ratio', 'low_close_ratio', 'open_close_ratio', 'returns_1d', 'returns_3d', 'returns_7d', 'price_ma_5_ratio', 'price_ma_10_ratio', 'price_ma_20_ratio', 'macd_normalized', 'macd_signal_normalized', 'rsi_normalized', 'bb_position', 'bb_width', 'volatility_10', 'volatility_20', 'volume_avg_ratio', 'volume_change', 'vader_ma_3', 'vader_ma_7', 'article_count_norm', 'funding_rate', 'funding_rate_ma', 'momentum_5', 'momentum_10', 'day_sin', 'day_cos']\n",
      "Training sequences: 710\n",
      "Validation sequences: 101\n",
      "Test sequences: 204\n",
      "Features per timestep: 27\n",
      "Last date in dataset: 2025-05-06 00:00:00\n",
      "Grid Search 43/50: {'batch_size': 16, 'dense_units': 8, 'dropout_rate': 0.1, 'learning_rate': 0.01, 'lstm_units_1': 32, 'lstm_units_2': 32, 'sequence_length': 60}\n",
      "Using 27 features: ['high_close_ratio', 'low_close_ratio', 'open_close_ratio', 'returns_1d', 'returns_3d', 'returns_7d', 'price_ma_5_ratio', 'price_ma_10_ratio', 'price_ma_20_ratio', 'macd_normalized', 'macd_signal_normalized', 'rsi_normalized', 'bb_position', 'bb_width', 'volatility_10', 'volatility_20', 'volume_avg_ratio', 'volume_change', 'vader_ma_3', 'vader_ma_7', 'article_count_norm', 'funding_rate', 'funding_rate_ma', 'momentum_5', 'momentum_10', 'day_sin', 'day_cos']\n",
      "Training sequences: 689\n",
      "Validation sequences: 98\n",
      "Test sequences: 198\n",
      "Features per timestep: 27\n",
      "Last date in dataset: 2025-05-06 00:00:00\n",
      "Grid Search 44/50: {'batch_size': 16, 'dense_units': 8, 'dropout_rate': 0.1, 'learning_rate': 0.01, 'lstm_units_1': 32, 'lstm_units_2': 32, 'sequence_length': 90}\n",
      "Using 27 features: ['high_close_ratio', 'low_close_ratio', 'open_close_ratio', 'returns_1d', 'returns_3d', 'returns_7d', 'price_ma_5_ratio', 'price_ma_10_ratio', 'price_ma_20_ratio', 'macd_normalized', 'macd_signal_normalized', 'rsi_normalized', 'bb_position', 'bb_width', 'volatility_10', 'volatility_20', 'volume_avg_ratio', 'volume_change', 'vader_ma_3', 'vader_ma_7', 'article_count_norm', 'funding_rate', 'funding_rate_ma', 'momentum_5', 'momentum_10', 'day_sin', 'day_cos']\n",
      "Training sequences: 668\n",
      "Validation sequences: 95\n",
      "Test sequences: 192\n",
      "Features per timestep: 27\n",
      "Last date in dataset: 2025-05-06 00:00:00\n",
      "Grid Search 45/50: {'batch_size': 16, 'dense_units': 8, 'dropout_rate': 0.1, 'learning_rate': 0.01, 'lstm_units_1': 32, 'lstm_units_2': 64, 'sequence_length': 15}\n",
      "Using 27 features: ['high_close_ratio', 'low_close_ratio', 'open_close_ratio', 'returns_1d', 'returns_3d', 'returns_7d', 'price_ma_5_ratio', 'price_ma_10_ratio', 'price_ma_20_ratio', 'macd_normalized', 'macd_signal_normalized', 'rsi_normalized', 'bb_position', 'bb_width', 'volatility_10', 'volatility_20', 'volume_avg_ratio', 'volume_change', 'vader_ma_3', 'vader_ma_7', 'article_count_norm', 'funding_rate', 'funding_rate_ma', 'momentum_5', 'momentum_10', 'day_sin', 'day_cos']\n",
      "Training sequences: 721\n",
      "Validation sequences: 103\n",
      "Test sequences: 206\n",
      "Features per timestep: 27\n",
      "Last date in dataset: 2025-05-06 00:00:00\n",
      "Grid Search 46/50: {'batch_size': 16, 'dense_units': 8, 'dropout_rate': 0.1, 'learning_rate': 0.01, 'lstm_units_1': 32, 'lstm_units_2': 64, 'sequence_length': 30}\n",
      "Using 27 features: ['high_close_ratio', 'low_close_ratio', 'open_close_ratio', 'returns_1d', 'returns_3d', 'returns_7d', 'price_ma_5_ratio', 'price_ma_10_ratio', 'price_ma_20_ratio', 'macd_normalized', 'macd_signal_normalized', 'rsi_normalized', 'bb_position', 'bb_width', 'volatility_10', 'volatility_20', 'volume_avg_ratio', 'volume_change', 'vader_ma_3', 'vader_ma_7', 'article_count_norm', 'funding_rate', 'funding_rate_ma', 'momentum_5', 'momentum_10', 'day_sin', 'day_cos']\n",
      "Training sequences: 710\n",
      "Validation sequences: 101\n",
      "Test sequences: 204\n",
      "Features per timestep: 27\n",
      "Last date in dataset: 2025-05-06 00:00:00\n",
      "New best score: -0.008291\n",
      "Grid Search 47/50: {'batch_size': 16, 'dense_units': 8, 'dropout_rate': 0.1, 'learning_rate': 0.01, 'lstm_units_1': 32, 'lstm_units_2': 64, 'sequence_length': 60}\n",
      "Using 27 features: ['high_close_ratio', 'low_close_ratio', 'open_close_ratio', 'returns_1d', 'returns_3d', 'returns_7d', 'price_ma_5_ratio', 'price_ma_10_ratio', 'price_ma_20_ratio', 'macd_normalized', 'macd_signal_normalized', 'rsi_normalized', 'bb_position', 'bb_width', 'volatility_10', 'volatility_20', 'volume_avg_ratio', 'volume_change', 'vader_ma_3', 'vader_ma_7', 'article_count_norm', 'funding_rate', 'funding_rate_ma', 'momentum_5', 'momentum_10', 'day_sin', 'day_cos']\n",
      "Training sequences: 689\n",
      "Validation sequences: 98\n",
      "Test sequences: 198\n",
      "Features per timestep: 27\n",
      "Last date in dataset: 2025-05-06 00:00:00\n",
      "Grid Search 48/50: {'batch_size': 16, 'dense_units': 8, 'dropout_rate': 0.1, 'learning_rate': 0.01, 'lstm_units_1': 32, 'lstm_units_2': 64, 'sequence_length': 90}\n",
      "Using 27 features: ['high_close_ratio', 'low_close_ratio', 'open_close_ratio', 'returns_1d', 'returns_3d', 'returns_7d', 'price_ma_5_ratio', 'price_ma_10_ratio', 'price_ma_20_ratio', 'macd_normalized', 'macd_signal_normalized', 'rsi_normalized', 'bb_position', 'bb_width', 'volatility_10', 'volatility_20', 'volume_avg_ratio', 'volume_change', 'vader_ma_3', 'vader_ma_7', 'article_count_norm', 'funding_rate', 'funding_rate_ma', 'momentum_5', 'momentum_10', 'day_sin', 'day_cos']\n",
      "Training sequences: 668\n",
      "Validation sequences: 95\n",
      "Test sequences: 192\n",
      "Features per timestep: 27\n",
      "Last date in dataset: 2025-05-06 00:00:00\n",
      "Grid Search 49/50: {'batch_size': 16, 'dense_units': 8, 'dropout_rate': 0.1, 'learning_rate': 0.01, 'lstm_units_1': 64, 'lstm_units_2': 16, 'sequence_length': 15}\n",
      "Using 27 features: ['high_close_ratio', 'low_close_ratio', 'open_close_ratio', 'returns_1d', 'returns_3d', 'returns_7d', 'price_ma_5_ratio', 'price_ma_10_ratio', 'price_ma_20_ratio', 'macd_normalized', 'macd_signal_normalized', 'rsi_normalized', 'bb_position', 'bb_width', 'volatility_10', 'volatility_20', 'volume_avg_ratio', 'volume_change', 'vader_ma_3', 'vader_ma_7', 'article_count_norm', 'funding_rate', 'funding_rate_ma', 'momentum_5', 'momentum_10', 'day_sin', 'day_cos']\n",
      "Training sequences: 721\n",
      "Validation sequences: 103\n",
      "Test sequences: 206\n",
      "Features per timestep: 27\n",
      "Last date in dataset: 2025-05-06 00:00:00\n",
      "Grid Search 50/50: {'batch_size': 16, 'dense_units': 8, 'dropout_rate': 0.1, 'learning_rate': 0.01, 'lstm_units_1': 64, 'lstm_units_2': 16, 'sequence_length': 30}\n",
      "Using 27 features: ['high_close_ratio', 'low_close_ratio', 'open_close_ratio', 'returns_1d', 'returns_3d', 'returns_7d', 'price_ma_5_ratio', 'price_ma_10_ratio', 'price_ma_20_ratio', 'macd_normalized', 'macd_signal_normalized', 'rsi_normalized', 'bb_position', 'bb_width', 'volatility_10', 'volatility_20', 'volume_avg_ratio', 'volume_change', 'vader_ma_3', 'vader_ma_7', 'article_count_norm', 'funding_rate', 'funding_rate_ma', 'momentum_5', 'momentum_10', 'day_sin', 'day_cos']\n",
      "Training sequences: 710\n",
      "Validation sequences: 101\n",
      "Test sequences: 204\n",
      "Features per timestep: 27\n",
      "Last date in dataset: 2025-05-06 00:00:00\n",
      "New best score: -0.007947\n",
      "\n",
      "============================================================\n",
      "PHASE 2: RANDOM SEARCH\n",
      "============================================================\n",
      "Starting Random Search for return model...\n",
      "Random Search 1/100: {'use_batch_norm': False, 'sequence_length': 15, 'regularizer_strength': 0.1, 'regularizer': 'l1_l2', 'recurrent_activation': 'sigmoid', 'optimizer': 'rmsprop', 'lstm_units_3': 8, 'lstm_units_2': 48, 'lstm_units_1': 64, 'learning_rate': 0.1, 'dropout_rate_dense': 0.3, 'dropout_rate_2': 0.2, 'dropout_rate_1': 0.0, 'dense_units': 8, 'cell_type': 'GRU', 'bidirectional': False, 'batch_size': 16, 'activation': 'tanh'}\n",
      "Using 27 features: ['high_close_ratio', 'low_close_ratio', 'open_close_ratio', 'returns_1d', 'returns_3d', 'returns_7d', 'price_ma_5_ratio', 'price_ma_10_ratio', 'price_ma_20_ratio', 'macd_normalized', 'macd_signal_normalized', 'rsi_normalized', 'bb_position', 'bb_width', 'volatility_10', 'volatility_20', 'volume_avg_ratio', 'volume_change', 'vader_ma_3', 'vader_ma_7', 'article_count_norm', 'funding_rate', 'funding_rate_ma', 'momentum_5', 'momentum_10', 'day_sin', 'day_cos']\n",
      "Training sequences: 721\n",
      "Validation sequences: 103\n",
      "Test sequences: 206\n",
      "Features per timestep: 27\n",
      "Last date in dataset: 2025-05-06 00:00:00\n",
      "New best score: -0.008866\n",
      "Random Search 2/100: {'use_batch_norm': False, 'sequence_length': 30, 'regularizer_strength': 0.1, 'regularizer': 'l2', 'recurrent_activation': 'tanh', 'optimizer': 'rmsprop', 'lstm_units_3': 8, 'lstm_units_2': 96, 'lstm_units_1': 256, 'learning_rate': 0.001, 'dropout_rate_dense': 0.25, 'dropout_rate_2': 0.1, 'dropout_rate_1': 0.35, 'dense_units': 48, 'cell_type': 'LSTM', 'bidirectional': True, 'batch_size': 24, 'activation': 'tanh'}\n",
      "Using 27 features: ['high_close_ratio', 'low_close_ratio', 'open_close_ratio', 'returns_1d', 'returns_3d', 'returns_7d', 'price_ma_5_ratio', 'price_ma_10_ratio', 'price_ma_20_ratio', 'macd_normalized', 'macd_signal_normalized', 'rsi_normalized', 'bb_position', 'bb_width', 'volatility_10', 'volatility_20', 'volume_avg_ratio', 'volume_change', 'vader_ma_3', 'vader_ma_7', 'article_count_norm', 'funding_rate', 'funding_rate_ma', 'momentum_5', 'momentum_10', 'day_sin', 'day_cos']\n",
      "Training sequences: 710\n",
      "Validation sequences: 101\n",
      "Test sequences: 204\n",
      "Features per timestep: 27\n",
      "Last date in dataset: 2025-05-06 00:00:00\n",
      "New best score: -0.008006\n",
      "Random Search 3/100: {'use_batch_norm': True, 'sequence_length': 20, 'regularizer_strength': 0.001, 'regularizer': 'l1_l2', 'recurrent_activation': 'hard_sigmoid', 'optimizer': 'rmsprop', 'lstm_units_3': 8, 'lstm_units_2': 32, 'lstm_units_1': 192, 'learning_rate': 0.0001, 'dropout_rate_dense': 0.3, 'dropout_rate_2': 0.5, 'dropout_rate_1': 0.4, 'dense_units': 64, 'cell_type': 'GRU', 'bidirectional': False, 'batch_size': 16, 'activation': 'elu'}\n",
      "Using 27 features: ['high_close_ratio', 'low_close_ratio', 'open_close_ratio', 'returns_1d', 'returns_3d', 'returns_7d', 'price_ma_5_ratio', 'price_ma_10_ratio', 'price_ma_20_ratio', 'macd_normalized', 'macd_signal_normalized', 'rsi_normalized', 'bb_position', 'bb_width', 'volatility_10', 'volatility_20', 'volume_avg_ratio', 'volume_change', 'vader_ma_3', 'vader_ma_7', 'article_count_norm', 'funding_rate', 'funding_rate_ma', 'momentum_5', 'momentum_10', 'day_sin', 'day_cos']\n",
      "Training sequences: 717\n",
      "Validation sequences: 102\n",
      "Test sequences: 206\n",
      "Features per timestep: 27\n",
      "Last date in dataset: 2025-05-06 00:00:00\n",
      "Random Search 4/100: {'use_batch_norm': False, 'sequence_length': 45, 'regularizer_strength': 0.1, 'regularizer': 'l1_l2', 'recurrent_activation': 'sigmoid', 'optimizer': 'rmsprop', 'lstm_units_3': 16, 'lstm_units_2': 8, 'lstm_units_1': 64, 'learning_rate': 0.1, 'dropout_rate_dense': 0.2, 'dropout_rate_2': 0.3, 'dropout_rate_1': 0.4, 'dense_units': 128, 'cell_type': 'LSTM', 'bidirectional': False, 'batch_size': 16, 'activation': 'tanh'}\n",
      "Using 27 features: ['high_close_ratio', 'low_close_ratio', 'open_close_ratio', 'returns_1d', 'returns_3d', 'returns_7d', 'price_ma_5_ratio', 'price_ma_10_ratio', 'price_ma_20_ratio', 'macd_normalized', 'macd_signal_normalized', 'rsi_normalized', 'bb_position', 'bb_width', 'volatility_10', 'volatility_20', 'volume_avg_ratio', 'volume_change', 'vader_ma_3', 'vader_ma_7', 'article_count_norm', 'funding_rate', 'funding_rate_ma', 'momentum_5', 'momentum_10', 'day_sin', 'day_cos']\n",
      "Training sequences: 700\n",
      "Validation sequences: 100\n",
      "Test sequences: 200\n",
      "Features per timestep: 27\n",
      "Last date in dataset: 2025-05-06 00:00:00\n",
      "Random Search 5/100: {'use_batch_norm': True, 'sequence_length': 60, 'regularizer_strength': 0.1, 'regularizer': 'l2', 'recurrent_activation': 'tanh', 'optimizer': 'adam', 'lstm_units_3': 16, 'lstm_units_2': 64, 'lstm_units_1': 16, 'learning_rate': 0.01, 'dropout_rate_dense': 0.25, 'dropout_rate_2': 0.25, 'dropout_rate_1': 0.35, 'dense_units': 64, 'cell_type': 'GRU', 'bidirectional': True, 'batch_size': 128, 'activation': 'selu'}\n",
      "Using 27 features: ['high_close_ratio', 'low_close_ratio', 'open_close_ratio', 'returns_1d', 'returns_3d', 'returns_7d', 'price_ma_5_ratio', 'price_ma_10_ratio', 'price_ma_20_ratio', 'macd_normalized', 'macd_signal_normalized', 'rsi_normalized', 'bb_position', 'bb_width', 'volatility_10', 'volatility_20', 'volume_avg_ratio', 'volume_change', 'vader_ma_3', 'vader_ma_7', 'article_count_norm', 'funding_rate', 'funding_rate_ma', 'momentum_5', 'momentum_10', 'day_sin', 'day_cos']\n",
      "Training sequences: 689\n",
      "Validation sequences: 98\n",
      "Test sequences: 198\n",
      "Features per timestep: 27\n",
      "Last date in dataset: 2025-05-06 00:00:00\n",
      "Random Search 6/100: {'use_batch_norm': True, 'sequence_length': 20, 'regularizer_strength': 0.001, 'regularizer': 'l1', 'recurrent_activation': 'tanh', 'optimizer': 'adam', 'lstm_units_3': 16, 'lstm_units_2': 64, 'lstm_units_1': 32, 'learning_rate': 0.01, 'dropout_rate_dense': 0.15, 'dropout_rate_2': 0.4, 'dropout_rate_1': 0.0, 'dense_units': 16, 'cell_type': 'GRU', 'bidirectional': True, 'batch_size': 8, 'activation': 'tanh'}\n",
      "Using 27 features: ['high_close_ratio', 'low_close_ratio', 'open_close_ratio', 'returns_1d', 'returns_3d', 'returns_7d', 'price_ma_5_ratio', 'price_ma_10_ratio', 'price_ma_20_ratio', 'macd_normalized', 'macd_signal_normalized', 'rsi_normalized', 'bb_position', 'bb_width', 'volatility_10', 'volatility_20', 'volume_avg_ratio', 'volume_change', 'vader_ma_3', 'vader_ma_7', 'article_count_norm', 'funding_rate', 'funding_rate_ma', 'momentum_5', 'momentum_10', 'day_sin', 'day_cos']\n",
      "Training sequences: 717\n",
      "Validation sequences: 102\n",
      "Test sequences: 206\n",
      "Features per timestep: 27\n",
      "Last date in dataset: 2025-05-06 00:00:00\n",
      "Random Search 7/100: {'use_batch_norm': False, 'sequence_length': 30, 'regularizer_strength': 0.001, 'regularizer': 'l2', 'recurrent_activation': 'sigmoid', 'optimizer': 'adam', 'lstm_units_3': 0, 'lstm_units_2': 16, 'lstm_units_1': 192, 'learning_rate': 0.01, 'dropout_rate_dense': 0.1, 'dropout_rate_2': 0.4, 'dropout_rate_1': 0.25, 'dense_units': 64, 'cell_type': 'GRU', 'bidirectional': True, 'batch_size': 16, 'activation': 'tanh'}\n",
      "Using 27 features: ['high_close_ratio', 'low_close_ratio', 'open_close_ratio', 'returns_1d', 'returns_3d', 'returns_7d', 'price_ma_5_ratio', 'price_ma_10_ratio', 'price_ma_20_ratio', 'macd_normalized', 'macd_signal_normalized', 'rsi_normalized', 'bb_position', 'bb_width', 'volatility_10', 'volatility_20', 'volume_avg_ratio', 'volume_change', 'vader_ma_3', 'vader_ma_7', 'article_count_norm', 'funding_rate', 'funding_rate_ma', 'momentum_5', 'momentum_10', 'day_sin', 'day_cos']\n",
      "Training sequences: 710\n",
      "Validation sequences: 101\n",
      "Test sequences: 204\n",
      "Features per timestep: 27\n",
      "Last date in dataset: 2025-05-06 00:00:00\n",
      "Random Search 8/100: {'use_batch_norm': True, 'sequence_length': 15, 'regularizer_strength': 0.001, 'regularizer': None, 'recurrent_activation': 'tanh', 'optimizer': 'sgd', 'lstm_units_3': 32, 'lstm_units_2': 64, 'lstm_units_1': 16, 'learning_rate': 1e-05, 'dropout_rate_dense': 0.0, 'dropout_rate_2': 0.15, 'dropout_rate_1': 0.2, 'dense_units': 64, 'cell_type': 'GRU', 'bidirectional': True, 'batch_size': 96, 'activation': 'tanh'}\n",
      "Using 27 features: ['high_close_ratio', 'low_close_ratio', 'open_close_ratio', 'returns_1d', 'returns_3d', 'returns_7d', 'price_ma_5_ratio', 'price_ma_10_ratio', 'price_ma_20_ratio', 'macd_normalized', 'macd_signal_normalized', 'rsi_normalized', 'bb_position', 'bb_width', 'volatility_10', 'volatility_20', 'volume_avg_ratio', 'volume_change', 'vader_ma_3', 'vader_ma_7', 'article_count_norm', 'funding_rate', 'funding_rate_ma', 'momentum_5', 'momentum_10', 'day_sin', 'day_cos']\n",
      "Training sequences: 721\n",
      "Validation sequences: 103\n",
      "Test sequences: 206\n",
      "Features per timestep: 27\n",
      "Last date in dataset: 2025-05-06 00:00:00\n",
      "Random Search 9/100: {'use_batch_norm': True, 'sequence_length': 20, 'regularizer_strength': 0.001, 'regularizer': 'l1', 'recurrent_activation': 'tanh', 'optimizer': 'rmsprop', 'lstm_units_3': 0, 'lstm_units_2': 96, 'lstm_units_1': 32, 'learning_rate': 1e-05, 'dropout_rate_dense': 0.1, 'dropout_rate_2': 0.15, 'dropout_rate_1': 0.25, 'dense_units': 64, 'cell_type': 'LSTM', 'bidirectional': True, 'batch_size': 96, 'activation': 'tanh'}\n",
      "Using 27 features: ['high_close_ratio', 'low_close_ratio', 'open_close_ratio', 'returns_1d', 'returns_3d', 'returns_7d', 'price_ma_5_ratio', 'price_ma_10_ratio', 'price_ma_20_ratio', 'macd_normalized', 'macd_signal_normalized', 'rsi_normalized', 'bb_position', 'bb_width', 'volatility_10', 'volatility_20', 'volume_avg_ratio', 'volume_change', 'vader_ma_3', 'vader_ma_7', 'article_count_norm', 'funding_rate', 'funding_rate_ma', 'momentum_5', 'momentum_10', 'day_sin', 'day_cos']\n",
      "Training sequences: 717\n",
      "Validation sequences: 102\n",
      "Test sequences: 206\n",
      "Features per timestep: 27\n",
      "Last date in dataset: 2025-05-06 00:00:00\n",
      "Random Search 10/100: {'use_batch_norm': False, 'sequence_length': 30, 'regularizer_strength': 0.001, 'regularizer': 'l1_l2', 'recurrent_activation': 'sigmoid', 'optimizer': 'rmsprop', 'lstm_units_3': 16, 'lstm_units_2': 32, 'lstm_units_1': 64, 'learning_rate': 0.001, 'dropout_rate_dense': 0.1, 'dropout_rate_2': 0.3, 'dropout_rate_1': 0.3, 'dense_units': 4, 'cell_type': 'LSTM', 'bidirectional': False, 'batch_size': 8, 'activation': 'selu'}\n",
      "Using 27 features: ['high_close_ratio', 'low_close_ratio', 'open_close_ratio', 'returns_1d', 'returns_3d', 'returns_7d', 'price_ma_5_ratio', 'price_ma_10_ratio', 'price_ma_20_ratio', 'macd_normalized', 'macd_signal_normalized', 'rsi_normalized', 'bb_position', 'bb_width', 'volatility_10', 'volatility_20', 'volume_avg_ratio', 'volume_change', 'vader_ma_3', 'vader_ma_7', 'article_count_norm', 'funding_rate', 'funding_rate_ma', 'momentum_5', 'momentum_10', 'day_sin', 'day_cos']\n",
      "Training sequences: 710\n",
      "Validation sequences: 101\n",
      "Test sequences: 204\n",
      "Features per timestep: 27\n",
      "Last date in dataset: 2025-05-06 00:00:00\n",
      "Random Search 11/100: {'use_batch_norm': False, 'sequence_length': 10, 'regularizer_strength': 0.01, 'regularizer': 'l1', 'recurrent_activation': 'sigmoid', 'optimizer': 'sgd', 'lstm_units_3': 8, 'lstm_units_2': 24, 'lstm_units_1': 64, 'learning_rate': 0.1, 'dropout_rate_dense': 0.25, 'dropout_rate_2': 0.5, 'dropout_rate_1': 0.2, 'dense_units': 32, 'cell_type': 'GRU', 'bidirectional': False, 'batch_size': 32, 'activation': 'selu'}\n",
      "Using 27 features: ['high_close_ratio', 'low_close_ratio', 'open_close_ratio', 'returns_1d', 'returns_3d', 'returns_7d', 'price_ma_5_ratio', 'price_ma_10_ratio', 'price_ma_20_ratio', 'macd_normalized', 'macd_signal_normalized', 'rsi_normalized', 'bb_position', 'bb_width', 'volatility_10', 'volatility_20', 'volume_avg_ratio', 'volume_change', 'vader_ma_3', 'vader_ma_7', 'article_count_norm', 'funding_rate', 'funding_rate_ma', 'momentum_5', 'momentum_10', 'day_sin', 'day_cos']\n",
      "Training sequences: 724\n",
      "Validation sequences: 103\n",
      "Test sequences: 208\n",
      "Features per timestep: 27\n",
      "Last date in dataset: 2025-05-06 00:00:00\n",
      "Random Search 12/100: {'use_batch_norm': False, 'sequence_length': 60, 'regularizer_strength': 0.01, 'regularizer': 'l2', 'recurrent_activation': 'tanh', 'optimizer': 'adam', 'lstm_units_3': 16, 'lstm_units_2': 128, 'lstm_units_1': 64, 'learning_rate': 1e-05, 'dropout_rate_dense': 0.25, 'dropout_rate_2': 0.3, 'dropout_rate_1': 0.25, 'dense_units': 4, 'cell_type': 'GRU', 'bidirectional': True, 'batch_size': 24, 'activation': 'elu'}\n",
      "Using 27 features: ['high_close_ratio', 'low_close_ratio', 'open_close_ratio', 'returns_1d', 'returns_3d', 'returns_7d', 'price_ma_5_ratio', 'price_ma_10_ratio', 'price_ma_20_ratio', 'macd_normalized', 'macd_signal_normalized', 'rsi_normalized', 'bb_position', 'bb_width', 'volatility_10', 'volatility_20', 'volume_avg_ratio', 'volume_change', 'vader_ma_3', 'vader_ma_7', 'article_count_norm', 'funding_rate', 'funding_rate_ma', 'momentum_5', 'momentum_10', 'day_sin', 'day_cos']\n",
      "Training sequences: 689\n",
      "Validation sequences: 98\n",
      "Test sequences: 198\n",
      "Features per timestep: 27\n",
      "Last date in dataset: 2025-05-06 00:00:00\n",
      "Random Search 13/100: {'use_batch_norm': True, 'sequence_length': 10, 'regularizer_strength': 0.001, 'regularizer': 'l2', 'recurrent_activation': 'tanh', 'optimizer': 'rmsprop', 'lstm_units_3': 32, 'lstm_units_2': 128, 'lstm_units_1': 48, 'learning_rate': 1e-05, 'dropout_rate_dense': 0.3, 'dropout_rate_2': 0.5, 'dropout_rate_1': 0.15, 'dense_units': 16, 'cell_type': 'GRU', 'bidirectional': True, 'batch_size': 24, 'activation': 'selu'}\n",
      "Using 27 features: ['high_close_ratio', 'low_close_ratio', 'open_close_ratio', 'returns_1d', 'returns_3d', 'returns_7d', 'price_ma_5_ratio', 'price_ma_10_ratio', 'price_ma_20_ratio', 'macd_normalized', 'macd_signal_normalized', 'rsi_normalized', 'bb_position', 'bb_width', 'volatility_10', 'volatility_20', 'volume_avg_ratio', 'volume_change', 'vader_ma_3', 'vader_ma_7', 'article_count_norm', 'funding_rate', 'funding_rate_ma', 'momentum_5', 'momentum_10', 'day_sin', 'day_cos']\n",
      "Training sequences: 724\n",
      "Validation sequences: 103\n",
      "Test sequences: 208\n",
      "Features per timestep: 27\n",
      "Last date in dataset: 2025-05-06 00:00:00\n",
      "Random Search 14/100: {'use_batch_norm': True, 'sequence_length': 90, 'regularizer_strength': 0.01, 'regularizer': 'l2', 'recurrent_activation': 'tanh', 'optimizer': 'rmsprop', 'lstm_units_3': 16, 'lstm_units_2': 8, 'lstm_units_1': 64, 'learning_rate': 0.0001, 'dropout_rate_dense': 0.1, 'dropout_rate_2': 0.25, 'dropout_rate_1': 0.5, 'dense_units': 128, 'cell_type': 'GRU', 'bidirectional': False, 'batch_size': 16, 'activation': 'relu'}\n",
      "Using 27 features: ['high_close_ratio', 'low_close_ratio', 'open_close_ratio', 'returns_1d', 'returns_3d', 'returns_7d', 'price_ma_5_ratio', 'price_ma_10_ratio', 'price_ma_20_ratio', 'macd_normalized', 'macd_signal_normalized', 'rsi_normalized', 'bb_position', 'bb_width', 'volatility_10', 'volatility_20', 'volume_avg_ratio', 'volume_change', 'vader_ma_3', 'vader_ma_7', 'article_count_norm', 'funding_rate', 'funding_rate_ma', 'momentum_5', 'momentum_10', 'day_sin', 'day_cos']\n",
      "Training sequences: 668\n",
      "Validation sequences: 95\n",
      "Test sequences: 192\n",
      "Features per timestep: 27\n",
      "Last date in dataset: 2025-05-06 00:00:00\n",
      "Random Search 15/100: {'use_batch_norm': True, 'sequence_length': 45, 'regularizer_strength': 0.01, 'regularizer': None, 'recurrent_activation': 'tanh', 'optimizer': 'adam', 'lstm_units_3': 16, 'lstm_units_2': 128, 'lstm_units_1': 96, 'learning_rate': 0.001, 'dropout_rate_dense': 0.2, 'dropout_rate_2': 0.5, 'dropout_rate_1': 0.4, 'dense_units': 24, 'cell_type': 'GRU', 'bidirectional': True, 'batch_size': 96, 'activation': 'elu'}\n",
      "Using 27 features: ['high_close_ratio', 'low_close_ratio', 'open_close_ratio', 'returns_1d', 'returns_3d', 'returns_7d', 'price_ma_5_ratio', 'price_ma_10_ratio', 'price_ma_20_ratio', 'macd_normalized', 'macd_signal_normalized', 'rsi_normalized', 'bb_position', 'bb_width', 'volatility_10', 'volatility_20', 'volume_avg_ratio', 'volume_change', 'vader_ma_3', 'vader_ma_7', 'article_count_norm', 'funding_rate', 'funding_rate_ma', 'momentum_5', 'momentum_10', 'day_sin', 'day_cos']\n",
      "Training sequences: 700\n",
      "Validation sequences: 100\n",
      "Test sequences: 200\n",
      "Features per timestep: 27\n",
      "Last date in dataset: 2025-05-06 00:00:00\n",
      "Random Search 16/100: {'use_batch_norm': True, 'sequence_length': 60, 'regularizer_strength': 0.1, 'regularizer': 'l1', 'recurrent_activation': 'hard_sigmoid', 'optimizer': 'rmsprop', 'lstm_units_3': 8, 'lstm_units_2': 64, 'lstm_units_1': 192, 'learning_rate': 0.0001, 'dropout_rate_dense': 0.25, 'dropout_rate_2': 0.3, 'dropout_rate_1': 0.1, 'dense_units': 32, 'cell_type': 'LSTM', 'bidirectional': False, 'batch_size': 48, 'activation': 'relu'}\n",
      "Using 27 features: ['high_close_ratio', 'low_close_ratio', 'open_close_ratio', 'returns_1d', 'returns_3d', 'returns_7d', 'price_ma_5_ratio', 'price_ma_10_ratio', 'price_ma_20_ratio', 'macd_normalized', 'macd_signal_normalized', 'rsi_normalized', 'bb_position', 'bb_width', 'volatility_10', 'volatility_20', 'volume_avg_ratio', 'volume_change', 'vader_ma_3', 'vader_ma_7', 'article_count_norm', 'funding_rate', 'funding_rate_ma', 'momentum_5', 'momentum_10', 'day_sin', 'day_cos']\n",
      "Training sequences: 689\n",
      "Validation sequences: 98\n",
      "Test sequences: 198\n",
      "Features per timestep: 27\n",
      "Last date in dataset: 2025-05-06 00:00:00\n",
      "Random Search 17/100: {'use_batch_norm': True, 'sequence_length': 120, 'regularizer_strength': 0.1, 'regularizer': 'l1_l2', 'recurrent_activation': 'sigmoid', 'optimizer': 'sgd', 'lstm_units_3': 8, 'lstm_units_2': 24, 'lstm_units_1': 64, 'learning_rate': 0.01, 'dropout_rate_dense': 0.05, 'dropout_rate_2': 0.0, 'dropout_rate_1': 0.0, 'dense_units': 16, 'cell_type': 'LSTM', 'bidirectional': False, 'batch_size': 64, 'activation': 'relu'}\n",
      "Using 27 features: ['high_close_ratio', 'low_close_ratio', 'open_close_ratio', 'returns_1d', 'returns_3d', 'returns_7d', 'price_ma_5_ratio', 'price_ma_10_ratio', 'price_ma_20_ratio', 'macd_normalized', 'macd_signal_normalized', 'rsi_normalized', 'bb_position', 'bb_width', 'volatility_10', 'volatility_20', 'volume_avg_ratio', 'volume_change', 'vader_ma_3', 'vader_ma_7', 'article_count_norm', 'funding_rate', 'funding_rate_ma', 'momentum_5', 'momentum_10', 'day_sin', 'day_cos']\n",
      "Training sequences: 647\n",
      "Validation sequences: 92\n",
      "Test sequences: 186\n",
      "Features per timestep: 27\n",
      "Last date in dataset: 2025-05-06 00:00:00\n",
      "Random Search 18/100: {'use_batch_norm': False, 'sequence_length': 120, 'regularizer_strength': 0.01, 'regularizer': 'l2', 'recurrent_activation': 'tanh', 'optimizer': 'rmsprop', 'lstm_units_3': 16, 'lstm_units_2': 64, 'lstm_units_1': 48, 'learning_rate': 0.1, 'dropout_rate_dense': 0.25, 'dropout_rate_2': 0.2, 'dropout_rate_1': 0.5, 'dense_units': 16, 'cell_type': 'LSTM', 'bidirectional': True, 'batch_size': 8, 'activation': 'elu'}\n",
      "Using 27 features: ['high_close_ratio', 'low_close_ratio', 'open_close_ratio', 'returns_1d', 'returns_3d', 'returns_7d', 'price_ma_5_ratio', 'price_ma_10_ratio', 'price_ma_20_ratio', 'macd_normalized', 'macd_signal_normalized', 'rsi_normalized', 'bb_position', 'bb_width', 'volatility_10', 'volatility_20', 'volume_avg_ratio', 'volume_change', 'vader_ma_3', 'vader_ma_7', 'article_count_norm', 'funding_rate', 'funding_rate_ma', 'momentum_5', 'momentum_10', 'day_sin', 'day_cos']\n",
      "Training sequences: 647\n",
      "Validation sequences: 92\n",
      "Test sequences: 186\n",
      "Features per timestep: 27\n",
      "Last date in dataset: 2025-05-06 00:00:00\n",
      "Error evaluating parameters: Input contains NaN.\n",
      "Random Search 19/100: {'use_batch_norm': False, 'sequence_length': 90, 'regularizer_strength': 0.01, 'regularizer': 'l2', 'recurrent_activation': 'tanh', 'optimizer': 'rmsprop', 'lstm_units_3': 32, 'lstm_units_2': 48, 'lstm_units_1': 128, 'learning_rate': 0.001, 'dropout_rate_dense': 0.3, 'dropout_rate_2': 0.1, 'dropout_rate_1': 0.3, 'dense_units': 128, 'cell_type': 'GRU', 'bidirectional': False, 'batch_size': 16, 'activation': 'elu'}\n",
      "Using 27 features: ['high_close_ratio', 'low_close_ratio', 'open_close_ratio', 'returns_1d', 'returns_3d', 'returns_7d', 'price_ma_5_ratio', 'price_ma_10_ratio', 'price_ma_20_ratio', 'macd_normalized', 'macd_signal_normalized', 'rsi_normalized', 'bb_position', 'bb_width', 'volatility_10', 'volatility_20', 'volume_avg_ratio', 'volume_change', 'vader_ma_3', 'vader_ma_7', 'article_count_norm', 'funding_rate', 'funding_rate_ma', 'momentum_5', 'momentum_10', 'day_sin', 'day_cos']\n",
      "Training sequences: 668\n",
      "Validation sequences: 95\n",
      "Test sequences: 192\n",
      "Features per timestep: 27\n",
      "Last date in dataset: 2025-05-06 00:00:00\n",
      "Random Search 20/100: {'use_batch_norm': False, 'sequence_length': 90, 'regularizer_strength': 0.1, 'regularizer': 'l1_l2', 'recurrent_activation': 'tanh', 'optimizer': 'rmsprop', 'lstm_units_3': 0, 'lstm_units_2': 8, 'lstm_units_1': 64, 'learning_rate': 0.01, 'dropout_rate_dense': 0.1, 'dropout_rate_2': 0.1, 'dropout_rate_1': 0.0, 'dense_units': 32, 'cell_type': 'LSTM', 'bidirectional': False, 'batch_size': 8, 'activation': 'elu'}\n",
      "Using 27 features: ['high_close_ratio', 'low_close_ratio', 'open_close_ratio', 'returns_1d', 'returns_3d', 'returns_7d', 'price_ma_5_ratio', 'price_ma_10_ratio', 'price_ma_20_ratio', 'macd_normalized', 'macd_signal_normalized', 'rsi_normalized', 'bb_position', 'bb_width', 'volatility_10', 'volatility_20', 'volume_avg_ratio', 'volume_change', 'vader_ma_3', 'vader_ma_7', 'article_count_norm', 'funding_rate', 'funding_rate_ma', 'momentum_5', 'momentum_10', 'day_sin', 'day_cos']\n",
      "Training sequences: 668\n",
      "Validation sequences: 95\n",
      "Test sequences: 192\n",
      "Features per timestep: 27\n",
      "Last date in dataset: 2025-05-06 00:00:00\n",
      "Random Search 21/100: {'use_batch_norm': False, 'sequence_length': 60, 'regularizer_strength': 0.001, 'regularizer': 'l2', 'recurrent_activation': 'tanh', 'optimizer': 'rmsprop', 'lstm_units_3': 0, 'lstm_units_2': 48, 'lstm_units_1': 32, 'learning_rate': 0.1, 'dropout_rate_dense': 0.05, 'dropout_rate_2': 0.5, 'dropout_rate_1': 0.25, 'dense_units': 8, 'cell_type': 'GRU', 'bidirectional': False, 'batch_size': 48, 'activation': 'relu'}\n",
      "Using 27 features: ['high_close_ratio', 'low_close_ratio', 'open_close_ratio', 'returns_1d', 'returns_3d', 'returns_7d', 'price_ma_5_ratio', 'price_ma_10_ratio', 'price_ma_20_ratio', 'macd_normalized', 'macd_signal_normalized', 'rsi_normalized', 'bb_position', 'bb_width', 'volatility_10', 'volatility_20', 'volume_avg_ratio', 'volume_change', 'vader_ma_3', 'vader_ma_7', 'article_count_norm', 'funding_rate', 'funding_rate_ma', 'momentum_5', 'momentum_10', 'day_sin', 'day_cos']\n",
      "Training sequences: 689\n",
      "Validation sequences: 98\n",
      "Test sequences: 198\n",
      "Features per timestep: 27\n",
      "Last date in dataset: 2025-05-06 00:00:00\n",
      "Random Search 22/100: {'use_batch_norm': False, 'sequence_length': 15, 'regularizer_strength': 0.01, 'regularizer': 'l2', 'recurrent_activation': 'hard_sigmoid', 'optimizer': 'rmsprop', 'lstm_units_3': 8, 'lstm_units_2': 96, 'lstm_units_1': 32, 'learning_rate': 1e-05, 'dropout_rate_dense': 0.1, 'dropout_rate_2': 0.35, 'dropout_rate_1': 0.15, 'dense_units': 128, 'cell_type': 'LSTM', 'bidirectional': True, 'batch_size': 64, 'activation': 'relu'}\n",
      "Using 27 features: ['high_close_ratio', 'low_close_ratio', 'open_close_ratio', 'returns_1d', 'returns_3d', 'returns_7d', 'price_ma_5_ratio', 'price_ma_10_ratio', 'price_ma_20_ratio', 'macd_normalized', 'macd_signal_normalized', 'rsi_normalized', 'bb_position', 'bb_width', 'volatility_10', 'volatility_20', 'volume_avg_ratio', 'volume_change', 'vader_ma_3', 'vader_ma_7', 'article_count_norm', 'funding_rate', 'funding_rate_ma', 'momentum_5', 'momentum_10', 'day_sin', 'day_cos']\n",
      "Training sequences: 721\n",
      "Validation sequences: 103\n",
      "Test sequences: 206\n",
      "Features per timestep: 27\n",
      "Last date in dataset: 2025-05-06 00:00:00\n",
      "Random Search 23/100: {'use_batch_norm': True, 'sequence_length': 45, 'regularizer_strength': 0.01, 'regularizer': 'l2', 'recurrent_activation': 'sigmoid', 'optimizer': 'adam', 'lstm_units_3': 16, 'lstm_units_2': 8, 'lstm_units_1': 128, 'learning_rate': 1e-05, 'dropout_rate_dense': 0.1, 'dropout_rate_2': 0.35, 'dropout_rate_1': 0.0, 'dense_units': 48, 'cell_type': 'GRU', 'bidirectional': True, 'batch_size': 96, 'activation': 'selu'}\n",
      "Using 27 features: ['high_close_ratio', 'low_close_ratio', 'open_close_ratio', 'returns_1d', 'returns_3d', 'returns_7d', 'price_ma_5_ratio', 'price_ma_10_ratio', 'price_ma_20_ratio', 'macd_normalized', 'macd_signal_normalized', 'rsi_normalized', 'bb_position', 'bb_width', 'volatility_10', 'volatility_20', 'volume_avg_ratio', 'volume_change', 'vader_ma_3', 'vader_ma_7', 'article_count_norm', 'funding_rate', 'funding_rate_ma', 'momentum_5', 'momentum_10', 'day_sin', 'day_cos']\n",
      "Training sequences: 700\n",
      "Validation sequences: 100\n",
      "Test sequences: 200\n",
      "Features per timestep: 27\n",
      "Last date in dataset: 2025-05-06 00:00:00\n",
      "Random Search 24/100: {'use_batch_norm': True, 'sequence_length': 20, 'regularizer_strength': 0.001, 'regularizer': 'l2', 'recurrent_activation': 'sigmoid', 'optimizer': 'adam', 'lstm_units_3': 16, 'lstm_units_2': 8, 'lstm_units_1': 16, 'learning_rate': 1e-05, 'dropout_rate_dense': 0.2, 'dropout_rate_2': 0.2, 'dropout_rate_1': 0.1, 'dense_units': 96, 'cell_type': 'GRU', 'bidirectional': True, 'batch_size': 48, 'activation': 'tanh'}\n",
      "Using 27 features: ['high_close_ratio', 'low_close_ratio', 'open_close_ratio', 'returns_1d', 'returns_3d', 'returns_7d', 'price_ma_5_ratio', 'price_ma_10_ratio', 'price_ma_20_ratio', 'macd_normalized', 'macd_signal_normalized', 'rsi_normalized', 'bb_position', 'bb_width', 'volatility_10', 'volatility_20', 'volume_avg_ratio', 'volume_change', 'vader_ma_3', 'vader_ma_7', 'article_count_norm', 'funding_rate', 'funding_rate_ma', 'momentum_5', 'momentum_10', 'day_sin', 'day_cos']\n",
      "Training sequences: 717\n",
      "Validation sequences: 102\n",
      "Test sequences: 206\n",
      "Features per timestep: 27\n",
      "Last date in dataset: 2025-05-06 00:00:00\n",
      "Random Search 25/100: {'use_batch_norm': True, 'sequence_length': 30, 'regularizer_strength': 0.001, 'regularizer': None, 'recurrent_activation': 'hard_sigmoid', 'optimizer': 'sgd', 'lstm_units_3': 16, 'lstm_units_2': 64, 'lstm_units_1': 64, 'learning_rate': 0.1, 'dropout_rate_dense': 0.15, 'dropout_rate_2': 0.3, 'dropout_rate_1': 0.15, 'dense_units': 64, 'cell_type': 'LSTM', 'bidirectional': True, 'batch_size': 64, 'activation': 'selu'}\n",
      "Using 27 features: ['high_close_ratio', 'low_close_ratio', 'open_close_ratio', 'returns_1d', 'returns_3d', 'returns_7d', 'price_ma_5_ratio', 'price_ma_10_ratio', 'price_ma_20_ratio', 'macd_normalized', 'macd_signal_normalized', 'rsi_normalized', 'bb_position', 'bb_width', 'volatility_10', 'volatility_20', 'volume_avg_ratio', 'volume_change', 'vader_ma_3', 'vader_ma_7', 'article_count_norm', 'funding_rate', 'funding_rate_ma', 'momentum_5', 'momentum_10', 'day_sin', 'day_cos']\n",
      "Training sequences: 710\n",
      "Validation sequences: 101\n",
      "Test sequences: 204\n",
      "Features per timestep: 27\n",
      "Last date in dataset: 2025-05-06 00:00:00\n",
      "New best score: -0.007993\n",
      "Random Search 26/100: {'use_batch_norm': True, 'sequence_length': 45, 'regularizer_strength': 0.01, 'regularizer': 'l1', 'recurrent_activation': 'hard_sigmoid', 'optimizer': 'rmsprop', 'lstm_units_3': 32, 'lstm_units_2': 16, 'lstm_units_1': 128, 'learning_rate': 1e-05, 'dropout_rate_dense': 0.3, 'dropout_rate_2': 0.15, 'dropout_rate_1': 0.0, 'dense_units': 96, 'cell_type': 'GRU', 'bidirectional': False, 'batch_size': 16, 'activation': 'relu'}\n",
      "Using 27 features: ['high_close_ratio', 'low_close_ratio', 'open_close_ratio', 'returns_1d', 'returns_3d', 'returns_7d', 'price_ma_5_ratio', 'price_ma_10_ratio', 'price_ma_20_ratio', 'macd_normalized', 'macd_signal_normalized', 'rsi_normalized', 'bb_position', 'bb_width', 'volatility_10', 'volatility_20', 'volume_avg_ratio', 'volume_change', 'vader_ma_3', 'vader_ma_7', 'article_count_norm', 'funding_rate', 'funding_rate_ma', 'momentum_5', 'momentum_10', 'day_sin', 'day_cos']\n",
      "Training sequences: 700\n",
      "Validation sequences: 100\n",
      "Test sequences: 200\n",
      "Features per timestep: 27\n",
      "Last date in dataset: 2025-05-06 00:00:00\n",
      "Random Search 27/100: {'use_batch_norm': False, 'sequence_length': 10, 'regularizer_strength': 0.1, 'regularizer': 'l1', 'recurrent_activation': 'tanh', 'optimizer': 'adam', 'lstm_units_3': 0, 'lstm_units_2': 48, 'lstm_units_1': 256, 'learning_rate': 0.0001, 'dropout_rate_dense': 0.05, 'dropout_rate_2': 0.5, 'dropout_rate_1': 0.25, 'dense_units': 8, 'cell_type': 'GRU', 'bidirectional': False, 'batch_size': 128, 'activation': 'tanh'}\n",
      "Using 27 features: ['high_close_ratio', 'low_close_ratio', 'open_close_ratio', 'returns_1d', 'returns_3d', 'returns_7d', 'price_ma_5_ratio', 'price_ma_10_ratio', 'price_ma_20_ratio', 'macd_normalized', 'macd_signal_normalized', 'rsi_normalized', 'bb_position', 'bb_width', 'volatility_10', 'volatility_20', 'volume_avg_ratio', 'volume_change', 'vader_ma_3', 'vader_ma_7', 'article_count_norm', 'funding_rate', 'funding_rate_ma', 'momentum_5', 'momentum_10', 'day_sin', 'day_cos']\n",
      "Training sequences: 724\n",
      "Validation sequences: 103\n",
      "Test sequences: 208\n",
      "Features per timestep: 27\n",
      "Last date in dataset: 2025-05-06 00:00:00\n",
      "Random Search 28/100: {'use_batch_norm': False, 'sequence_length': 90, 'regularizer_strength': 0.001, 'regularizer': None, 'recurrent_activation': 'tanh', 'optimizer': 'adam', 'lstm_units_3': 32, 'lstm_units_2': 16, 'lstm_units_1': 128, 'learning_rate': 0.1, 'dropout_rate_dense': 0.2, 'dropout_rate_2': 0.2, 'dropout_rate_1': 0.35, 'dense_units': 4, 'cell_type': 'LSTM', 'bidirectional': True, 'batch_size': 96, 'activation': 'selu'}\n",
      "Using 27 features: ['high_close_ratio', 'low_close_ratio', 'open_close_ratio', 'returns_1d', 'returns_3d', 'returns_7d', 'price_ma_5_ratio', 'price_ma_10_ratio', 'price_ma_20_ratio', 'macd_normalized', 'macd_signal_normalized', 'rsi_normalized', 'bb_position', 'bb_width', 'volatility_10', 'volatility_20', 'volume_avg_ratio', 'volume_change', 'vader_ma_3', 'vader_ma_7', 'article_count_norm', 'funding_rate', 'funding_rate_ma', 'momentum_5', 'momentum_10', 'day_sin', 'day_cos']\n",
      "Training sequences: 668\n",
      "Validation sequences: 95\n",
      "Test sequences: 192\n",
      "Features per timestep: 27\n",
      "Last date in dataset: 2025-05-06 00:00:00\n",
      "Random Search 29/100: {'use_batch_norm': False, 'sequence_length': 45, 'regularizer_strength': 0.01, 'regularizer': 'l2', 'recurrent_activation': 'hard_sigmoid', 'optimizer': 'sgd', 'lstm_units_3': 16, 'lstm_units_2': 48, 'lstm_units_1': 256, 'learning_rate': 1e-05, 'dropout_rate_dense': 0.15, 'dropout_rate_2': 0.0, 'dropout_rate_1': 0.35, 'dense_units': 96, 'cell_type': 'GRU', 'bidirectional': False, 'batch_size': 96, 'activation': 'elu'}\n",
      "Using 27 features: ['high_close_ratio', 'low_close_ratio', 'open_close_ratio', 'returns_1d', 'returns_3d', 'returns_7d', 'price_ma_5_ratio', 'price_ma_10_ratio', 'price_ma_20_ratio', 'macd_normalized', 'macd_signal_normalized', 'rsi_normalized', 'bb_position', 'bb_width', 'volatility_10', 'volatility_20', 'volume_avg_ratio', 'volume_change', 'vader_ma_3', 'vader_ma_7', 'article_count_norm', 'funding_rate', 'funding_rate_ma', 'momentum_5', 'momentum_10', 'day_sin', 'day_cos']\n",
      "Training sequences: 700\n",
      "Validation sequences: 100\n",
      "Test sequences: 200\n",
      "Features per timestep: 27\n",
      "Last date in dataset: 2025-05-06 00:00:00\n",
      "Random Search 30/100: {'use_batch_norm': False, 'sequence_length': 45, 'regularizer_strength': 0.01, 'regularizer': None, 'recurrent_activation': 'tanh', 'optimizer': 'rmsprop', 'lstm_units_3': 32, 'lstm_units_2': 24, 'lstm_units_1': 192, 'learning_rate': 0.1, 'dropout_rate_dense': 0.1, 'dropout_rate_2': 0.3, 'dropout_rate_1': 0.1, 'dense_units': 32, 'cell_type': 'LSTM', 'bidirectional': True, 'batch_size': 16, 'activation': 'selu'}\n",
      "Using 27 features: ['high_close_ratio', 'low_close_ratio', 'open_close_ratio', 'returns_1d', 'returns_3d', 'returns_7d', 'price_ma_5_ratio', 'price_ma_10_ratio', 'price_ma_20_ratio', 'macd_normalized', 'macd_signal_normalized', 'rsi_normalized', 'bb_position', 'bb_width', 'volatility_10', 'volatility_20', 'volume_avg_ratio', 'volume_change', 'vader_ma_3', 'vader_ma_7', 'article_count_norm', 'funding_rate', 'funding_rate_ma', 'momentum_5', 'momentum_10', 'day_sin', 'day_cos']\n",
      "Training sequences: 700\n",
      "Validation sequences: 100\n",
      "Test sequences: 200\n",
      "Features per timestep: 27\n",
      "Last date in dataset: 2025-05-06 00:00:00\n",
      "Error evaluating parameters: Input contains NaN.\n",
      "Random Search 31/100: {'use_batch_norm': False, 'sequence_length': 10, 'regularizer_strength': 0.1, 'regularizer': 'l2', 'recurrent_activation': 'sigmoid', 'optimizer': 'sgd', 'lstm_units_3': 16, 'lstm_units_2': 32, 'lstm_units_1': 128, 'learning_rate': 0.01, 'dropout_rate_dense': 0.3, 'dropout_rate_2': 0.4, 'dropout_rate_1': 0.4, 'dense_units': 96, 'cell_type': 'GRU', 'bidirectional': False, 'batch_size': 48, 'activation': 'relu'}\n",
      "Using 27 features: ['high_close_ratio', 'low_close_ratio', 'open_close_ratio', 'returns_1d', 'returns_3d', 'returns_7d', 'price_ma_5_ratio', 'price_ma_10_ratio', 'price_ma_20_ratio', 'macd_normalized', 'macd_signal_normalized', 'rsi_normalized', 'bb_position', 'bb_width', 'volatility_10', 'volatility_20', 'volume_avg_ratio', 'volume_change', 'vader_ma_3', 'vader_ma_7', 'article_count_norm', 'funding_rate', 'funding_rate_ma', 'momentum_5', 'momentum_10', 'day_sin', 'day_cos']\n",
      "Training sequences: 724\n",
      "Validation sequences: 103\n",
      "Test sequences: 208\n",
      "Features per timestep: 27\n",
      "Last date in dataset: 2025-05-06 00:00:00\n",
      "Random Search 32/100: {'use_batch_norm': True, 'sequence_length': 10, 'regularizer_strength': 0.01, 'regularizer': None, 'recurrent_activation': 'tanh', 'optimizer': 'adam', 'lstm_units_3': 16, 'lstm_units_2': 24, 'lstm_units_1': 64, 'learning_rate': 1e-05, 'dropout_rate_dense': 0.2, 'dropout_rate_2': 0.3, 'dropout_rate_1': 0.2, 'dense_units': 8, 'cell_type': 'LSTM', 'bidirectional': False, 'batch_size': 32, 'activation': 'elu'}\n",
      "Using 27 features: ['high_close_ratio', 'low_close_ratio', 'open_close_ratio', 'returns_1d', 'returns_3d', 'returns_7d', 'price_ma_5_ratio', 'price_ma_10_ratio', 'price_ma_20_ratio', 'macd_normalized', 'macd_signal_normalized', 'rsi_normalized', 'bb_position', 'bb_width', 'volatility_10', 'volatility_20', 'volume_avg_ratio', 'volume_change', 'vader_ma_3', 'vader_ma_7', 'article_count_norm', 'funding_rate', 'funding_rate_ma', 'momentum_5', 'momentum_10', 'day_sin', 'day_cos']\n",
      "Training sequences: 724\n",
      "Validation sequences: 103\n",
      "Test sequences: 208\n",
      "Features per timestep: 27\n",
      "Last date in dataset: 2025-05-06 00:00:00\n",
      "Random Search 33/100: {'use_batch_norm': False, 'sequence_length': 90, 'regularizer_strength': 0.001, 'regularizer': 'l1', 'recurrent_activation': 'tanh', 'optimizer': 'adam', 'lstm_units_3': 0, 'lstm_units_2': 16, 'lstm_units_1': 256, 'learning_rate': 0.01, 'dropout_rate_dense': 0.1, 'dropout_rate_2': 0.5, 'dropout_rate_1': 0.4, 'dense_units': 32, 'cell_type': 'LSTM', 'bidirectional': True, 'batch_size': 8, 'activation': 'relu'}\n",
      "Using 27 features: ['high_close_ratio', 'low_close_ratio', 'open_close_ratio', 'returns_1d', 'returns_3d', 'returns_7d', 'price_ma_5_ratio', 'price_ma_10_ratio', 'price_ma_20_ratio', 'macd_normalized', 'macd_signal_normalized', 'rsi_normalized', 'bb_position', 'bb_width', 'volatility_10', 'volatility_20', 'volume_avg_ratio', 'volume_change', 'vader_ma_3', 'vader_ma_7', 'article_count_norm', 'funding_rate', 'funding_rate_ma', 'momentum_5', 'momentum_10', 'day_sin', 'day_cos']\n",
      "Training sequences: 668\n",
      "Validation sequences: 95\n",
      "Test sequences: 192\n",
      "Features per timestep: 27\n",
      "Last date in dataset: 2025-05-06 00:00:00\n",
      "Random Search 34/100: {'use_batch_norm': False, 'sequence_length': 15, 'regularizer_strength': 0.01, 'regularizer': 'l1', 'recurrent_activation': 'sigmoid', 'optimizer': 'rmsprop', 'lstm_units_3': 16, 'lstm_units_2': 64, 'lstm_units_1': 128, 'learning_rate': 0.1, 'dropout_rate_dense': 0.2, 'dropout_rate_2': 0.4, 'dropout_rate_1': 0.25, 'dense_units': 8, 'cell_type': 'LSTM', 'bidirectional': True, 'batch_size': 24, 'activation': 'tanh'}\n",
      "Using 27 features: ['high_close_ratio', 'low_close_ratio', 'open_close_ratio', 'returns_1d', 'returns_3d', 'returns_7d', 'price_ma_5_ratio', 'price_ma_10_ratio', 'price_ma_20_ratio', 'macd_normalized', 'macd_signal_normalized', 'rsi_normalized', 'bb_position', 'bb_width', 'volatility_10', 'volatility_20', 'volume_avg_ratio', 'volume_change', 'vader_ma_3', 'vader_ma_7', 'article_count_norm', 'funding_rate', 'funding_rate_ma', 'momentum_5', 'momentum_10', 'day_sin', 'day_cos']\n",
      "Training sequences: 721\n",
      "Validation sequences: 103\n",
      "Test sequences: 206\n",
      "Features per timestep: 27\n",
      "Last date in dataset: 2025-05-06 00:00:00\n",
      "Random Search 35/100: {'use_batch_norm': True, 'sequence_length': 90, 'regularizer_strength': 0.1, 'regularizer': 'l1', 'recurrent_activation': 'sigmoid', 'optimizer': 'rmsprop', 'lstm_units_3': 32, 'lstm_units_2': 64, 'lstm_units_1': 64, 'learning_rate': 0.01, 'dropout_rate_dense': 0.2, 'dropout_rate_2': 0.0, 'dropout_rate_1': 0.2, 'dense_units': 48, 'cell_type': 'GRU', 'bidirectional': True, 'batch_size': 64, 'activation': 'selu'}\n",
      "Using 27 features: ['high_close_ratio', 'low_close_ratio', 'open_close_ratio', 'returns_1d', 'returns_3d', 'returns_7d', 'price_ma_5_ratio', 'price_ma_10_ratio', 'price_ma_20_ratio', 'macd_normalized', 'macd_signal_normalized', 'rsi_normalized', 'bb_position', 'bb_width', 'volatility_10', 'volatility_20', 'volume_avg_ratio', 'volume_change', 'vader_ma_3', 'vader_ma_7', 'article_count_norm', 'funding_rate', 'funding_rate_ma', 'momentum_5', 'momentum_10', 'day_sin', 'day_cos']\n",
      "Training sequences: 668\n",
      "Validation sequences: 95\n",
      "Test sequences: 192\n",
      "Features per timestep: 27\n",
      "Last date in dataset: 2025-05-06 00:00:00\n",
      "Random Search 36/100: {'use_batch_norm': False, 'sequence_length': 10, 'regularizer_strength': 0.001, 'regularizer': 'l1_l2', 'recurrent_activation': 'hard_sigmoid', 'optimizer': 'rmsprop', 'lstm_units_3': 32, 'lstm_units_2': 32, 'lstm_units_1': 192, 'learning_rate': 1e-05, 'dropout_rate_dense': 0.25, 'dropout_rate_2': 0.1, 'dropout_rate_1': 0.3, 'dense_units': 48, 'cell_type': 'LSTM', 'bidirectional': True, 'batch_size': 24, 'activation': 'elu'}\n",
      "Using 27 features: ['high_close_ratio', 'low_close_ratio', 'open_close_ratio', 'returns_1d', 'returns_3d', 'returns_7d', 'price_ma_5_ratio', 'price_ma_10_ratio', 'price_ma_20_ratio', 'macd_normalized', 'macd_signal_normalized', 'rsi_normalized', 'bb_position', 'bb_width', 'volatility_10', 'volatility_20', 'volume_avg_ratio', 'volume_change', 'vader_ma_3', 'vader_ma_7', 'article_count_norm', 'funding_rate', 'funding_rate_ma', 'momentum_5', 'momentum_10', 'day_sin', 'day_cos']\n",
      "Training sequences: 724\n",
      "Validation sequences: 103\n",
      "Test sequences: 208\n",
      "Features per timestep: 27\n",
      "Last date in dataset: 2025-05-06 00:00:00\n",
      "Random Search 37/100: {'use_batch_norm': False, 'sequence_length': 60, 'regularizer_strength': 0.01, 'regularizer': 'l1_l2', 'recurrent_activation': 'sigmoid', 'optimizer': 'rmsprop', 'lstm_units_3': 32, 'lstm_units_2': 64, 'lstm_units_1': 128, 'learning_rate': 0.001, 'dropout_rate_dense': 0.25, 'dropout_rate_2': 0.15, 'dropout_rate_1': 0.35, 'dense_units': 64, 'cell_type': 'LSTM', 'bidirectional': False, 'batch_size': 48, 'activation': 'elu'}\n",
      "Using 27 features: ['high_close_ratio', 'low_close_ratio', 'open_close_ratio', 'returns_1d', 'returns_3d', 'returns_7d', 'price_ma_5_ratio', 'price_ma_10_ratio', 'price_ma_20_ratio', 'macd_normalized', 'macd_signal_normalized', 'rsi_normalized', 'bb_position', 'bb_width', 'volatility_10', 'volatility_20', 'volume_avg_ratio', 'volume_change', 'vader_ma_3', 'vader_ma_7', 'article_count_norm', 'funding_rate', 'funding_rate_ma', 'momentum_5', 'momentum_10', 'day_sin', 'day_cos']\n",
      "Training sequences: 689\n",
      "Validation sequences: 98\n",
      "Test sequences: 198\n",
      "Features per timestep: 27\n",
      "Last date in dataset: 2025-05-06 00:00:00\n",
      "Random Search 38/100: {'use_batch_norm': False, 'sequence_length': 45, 'regularizer_strength': 0.1, 'regularizer': 'l2', 'recurrent_activation': 'sigmoid', 'optimizer': 'sgd', 'lstm_units_3': 8, 'lstm_units_2': 128, 'lstm_units_1': 64, 'learning_rate': 0.01, 'dropout_rate_dense': 0.05, 'dropout_rate_2': 0.3, 'dropout_rate_1': 0.35, 'dense_units': 24, 'cell_type': 'GRU', 'bidirectional': True, 'batch_size': 128, 'activation': 'tanh'}\n",
      "Using 27 features: ['high_close_ratio', 'low_close_ratio', 'open_close_ratio', 'returns_1d', 'returns_3d', 'returns_7d', 'price_ma_5_ratio', 'price_ma_10_ratio', 'price_ma_20_ratio', 'macd_normalized', 'macd_signal_normalized', 'rsi_normalized', 'bb_position', 'bb_width', 'volatility_10', 'volatility_20', 'volume_avg_ratio', 'volume_change', 'vader_ma_3', 'vader_ma_7', 'article_count_norm', 'funding_rate', 'funding_rate_ma', 'momentum_5', 'momentum_10', 'day_sin', 'day_cos']\n",
      "Training sequences: 700\n",
      "Validation sequences: 100\n",
      "Test sequences: 200\n",
      "Features per timestep: 27\n",
      "Last date in dataset: 2025-05-06 00:00:00\n",
      "Random Search 39/100: {'use_batch_norm': True, 'sequence_length': 120, 'regularizer_strength': 0.001, 'regularizer': 'l1_l2', 'recurrent_activation': 'tanh', 'optimizer': 'sgd', 'lstm_units_3': 16, 'lstm_units_2': 48, 'lstm_units_1': 16, 'learning_rate': 0.001, 'dropout_rate_dense': 0.2, 'dropout_rate_2': 0.3, 'dropout_rate_1': 0.35, 'dense_units': 48, 'cell_type': 'LSTM', 'bidirectional': False, 'batch_size': 16, 'activation': 'selu'}\n",
      "Using 27 features: ['high_close_ratio', 'low_close_ratio', 'open_close_ratio', 'returns_1d', 'returns_3d', 'returns_7d', 'price_ma_5_ratio', 'price_ma_10_ratio', 'price_ma_20_ratio', 'macd_normalized', 'macd_signal_normalized', 'rsi_normalized', 'bb_position', 'bb_width', 'volatility_10', 'volatility_20', 'volume_avg_ratio', 'volume_change', 'vader_ma_3', 'vader_ma_7', 'article_count_norm', 'funding_rate', 'funding_rate_ma', 'momentum_5', 'momentum_10', 'day_sin', 'day_cos']\n",
      "Training sequences: 647\n",
      "Validation sequences: 92\n",
      "Test sequences: 186\n",
      "Features per timestep: 27\n",
      "Last date in dataset: 2025-05-06 00:00:00\n",
      "Random Search 40/100: {'use_batch_norm': True, 'sequence_length': 120, 'regularizer_strength': 0.01, 'regularizer': 'l1', 'recurrent_activation': 'sigmoid', 'optimizer': 'rmsprop', 'lstm_units_3': 16, 'lstm_units_2': 128, 'lstm_units_1': 96, 'learning_rate': 0.0001, 'dropout_rate_dense': 0.0, 'dropout_rate_2': 0.15, 'dropout_rate_1': 0.4, 'dense_units': 24, 'cell_type': 'GRU', 'bidirectional': False, 'batch_size': 48, 'activation': 'selu'}\n",
      "Using 27 features: ['high_close_ratio', 'low_close_ratio', 'open_close_ratio', 'returns_1d', 'returns_3d', 'returns_7d', 'price_ma_5_ratio', 'price_ma_10_ratio', 'price_ma_20_ratio', 'macd_normalized', 'macd_signal_normalized', 'rsi_normalized', 'bb_position', 'bb_width', 'volatility_10', 'volatility_20', 'volume_avg_ratio', 'volume_change', 'vader_ma_3', 'vader_ma_7', 'article_count_norm', 'funding_rate', 'funding_rate_ma', 'momentum_5', 'momentum_10', 'day_sin', 'day_cos']\n",
      "Training sequences: 647\n",
      "Validation sequences: 92\n",
      "Test sequences: 186\n",
      "Features per timestep: 27\n",
      "Last date in dataset: 2025-05-06 00:00:00\n",
      "Random Search 41/100: {'use_batch_norm': False, 'sequence_length': 60, 'regularizer_strength': 0.01, 'regularizer': 'l2', 'recurrent_activation': 'hard_sigmoid', 'optimizer': 'rmsprop', 'lstm_units_3': 8, 'lstm_units_2': 96, 'lstm_units_1': 128, 'learning_rate': 0.1, 'dropout_rate_dense': 0.1, 'dropout_rate_2': 0.0, 'dropout_rate_1': 0.35, 'dense_units': 48, 'cell_type': 'GRU', 'bidirectional': True, 'batch_size': 48, 'activation': 'elu'}\n",
      "Using 27 features: ['high_close_ratio', 'low_close_ratio', 'open_close_ratio', 'returns_1d', 'returns_3d', 'returns_7d', 'price_ma_5_ratio', 'price_ma_10_ratio', 'price_ma_20_ratio', 'macd_normalized', 'macd_signal_normalized', 'rsi_normalized', 'bb_position', 'bb_width', 'volatility_10', 'volatility_20', 'volume_avg_ratio', 'volume_change', 'vader_ma_3', 'vader_ma_7', 'article_count_norm', 'funding_rate', 'funding_rate_ma', 'momentum_5', 'momentum_10', 'day_sin', 'day_cos']\n",
      "Training sequences: 689\n",
      "Validation sequences: 98\n",
      "Test sequences: 198\n",
      "Features per timestep: 27\n",
      "Last date in dataset: 2025-05-06 00:00:00\n",
      "Random Search 42/100: {'use_batch_norm': True, 'sequence_length': 20, 'regularizer_strength': 0.001, 'regularizer': 'l1_l2', 'recurrent_activation': 'hard_sigmoid', 'optimizer': 'adam', 'lstm_units_3': 8, 'lstm_units_2': 24, 'lstm_units_1': 96, 'learning_rate': 0.1, 'dropout_rate_dense': 0.2, 'dropout_rate_2': 0.3, 'dropout_rate_1': 0.1, 'dense_units': 48, 'cell_type': 'LSTM', 'bidirectional': True, 'batch_size': 48, 'activation': 'selu'}\n",
      "Using 27 features: ['high_close_ratio', 'low_close_ratio', 'open_close_ratio', 'returns_1d', 'returns_3d', 'returns_7d', 'price_ma_5_ratio', 'price_ma_10_ratio', 'price_ma_20_ratio', 'macd_normalized', 'macd_signal_normalized', 'rsi_normalized', 'bb_position', 'bb_width', 'volatility_10', 'volatility_20', 'volume_avg_ratio', 'volume_change', 'vader_ma_3', 'vader_ma_7', 'article_count_norm', 'funding_rate', 'funding_rate_ma', 'momentum_5', 'momentum_10', 'day_sin', 'day_cos']\n",
      "Training sequences: 717\n",
      "Validation sequences: 102\n",
      "Test sequences: 206\n",
      "Features per timestep: 27\n",
      "Last date in dataset: 2025-05-06 00:00:00\n",
      "Random Search 43/100: {'use_batch_norm': True, 'sequence_length': 90, 'regularizer_strength': 0.01, 'regularizer': 'l1_l2', 'recurrent_activation': 'tanh', 'optimizer': 'sgd', 'lstm_units_3': 0, 'lstm_units_2': 32, 'lstm_units_1': 64, 'learning_rate': 0.01, 'dropout_rate_dense': 0.1, 'dropout_rate_2': 0.15, 'dropout_rate_1': 0.25, 'dense_units': 4, 'cell_type': 'GRU', 'bidirectional': False, 'batch_size': 32, 'activation': 'elu'}\n",
      "Using 27 features: ['high_close_ratio', 'low_close_ratio', 'open_close_ratio', 'returns_1d', 'returns_3d', 'returns_7d', 'price_ma_5_ratio', 'price_ma_10_ratio', 'price_ma_20_ratio', 'macd_normalized', 'macd_signal_normalized', 'rsi_normalized', 'bb_position', 'bb_width', 'volatility_10', 'volatility_20', 'volume_avg_ratio', 'volume_change', 'vader_ma_3', 'vader_ma_7', 'article_count_norm', 'funding_rate', 'funding_rate_ma', 'momentum_5', 'momentum_10', 'day_sin', 'day_cos']\n",
      "Training sequences: 668\n",
      "Validation sequences: 95\n",
      "Test sequences: 192\n",
      "Features per timestep: 27\n",
      "Last date in dataset: 2025-05-06 00:00:00\n",
      "Random Search 44/100: {'use_batch_norm': False, 'sequence_length': 30, 'regularizer_strength': 0.001, 'regularizer': 'l1_l2', 'recurrent_activation': 'hard_sigmoid', 'optimizer': 'sgd', 'lstm_units_3': 16, 'lstm_units_2': 64, 'lstm_units_1': 128, 'learning_rate': 0.01, 'dropout_rate_dense': 0.2, 'dropout_rate_2': 0.4, 'dropout_rate_1': 0.0, 'dense_units': 4, 'cell_type': 'LSTM', 'bidirectional': True, 'batch_size': 64, 'activation': 'relu'}\n",
      "Using 27 features: ['high_close_ratio', 'low_close_ratio', 'open_close_ratio', 'returns_1d', 'returns_3d', 'returns_7d', 'price_ma_5_ratio', 'price_ma_10_ratio', 'price_ma_20_ratio', 'macd_normalized', 'macd_signal_normalized', 'rsi_normalized', 'bb_position', 'bb_width', 'volatility_10', 'volatility_20', 'volume_avg_ratio', 'volume_change', 'vader_ma_3', 'vader_ma_7', 'article_count_norm', 'funding_rate', 'funding_rate_ma', 'momentum_5', 'momentum_10', 'day_sin', 'day_cos']\n",
      "Training sequences: 710\n",
      "Validation sequences: 101\n",
      "Test sequences: 204\n",
      "Features per timestep: 27\n",
      "Last date in dataset: 2025-05-06 00:00:00\n",
      "Random Search 45/100: {'use_batch_norm': False, 'sequence_length': 60, 'regularizer_strength': 0.1, 'regularizer': 'l1_l2', 'recurrent_activation': 'hard_sigmoid', 'optimizer': 'rmsprop', 'lstm_units_3': 32, 'lstm_units_2': 8, 'lstm_units_1': 16, 'learning_rate': 0.001, 'dropout_rate_dense': 0.0, 'dropout_rate_2': 0.1, 'dropout_rate_1': 0.35, 'dense_units': 64, 'cell_type': 'GRU', 'bidirectional': False, 'batch_size': 128, 'activation': 'elu'}\n",
      "Using 27 features: ['high_close_ratio', 'low_close_ratio', 'open_close_ratio', 'returns_1d', 'returns_3d', 'returns_7d', 'price_ma_5_ratio', 'price_ma_10_ratio', 'price_ma_20_ratio', 'macd_normalized', 'macd_signal_normalized', 'rsi_normalized', 'bb_position', 'bb_width', 'volatility_10', 'volatility_20', 'volume_avg_ratio', 'volume_change', 'vader_ma_3', 'vader_ma_7', 'article_count_norm', 'funding_rate', 'funding_rate_ma', 'momentum_5', 'momentum_10', 'day_sin', 'day_cos']\n",
      "Training sequences: 689\n",
      "Validation sequences: 98\n",
      "Test sequences: 198\n",
      "Features per timestep: 27\n",
      "Last date in dataset: 2025-05-06 00:00:00\n",
      "Random Search 46/100: {'use_batch_norm': True, 'sequence_length': 90, 'regularizer_strength': 0.1, 'regularizer': 'l1', 'recurrent_activation': 'sigmoid', 'optimizer': 'adam', 'lstm_units_3': 32, 'lstm_units_2': 8, 'lstm_units_1': 16, 'learning_rate': 0.0001, 'dropout_rate_dense': 0.05, 'dropout_rate_2': 0.0, 'dropout_rate_1': 0.0, 'dense_units': 24, 'cell_type': 'GRU', 'bidirectional': False, 'batch_size': 32, 'activation': 'relu'}\n",
      "Using 27 features: ['high_close_ratio', 'low_close_ratio', 'open_close_ratio', 'returns_1d', 'returns_3d', 'returns_7d', 'price_ma_5_ratio', 'price_ma_10_ratio', 'price_ma_20_ratio', 'macd_normalized', 'macd_signal_normalized', 'rsi_normalized', 'bb_position', 'bb_width', 'volatility_10', 'volatility_20', 'volume_avg_ratio', 'volume_change', 'vader_ma_3', 'vader_ma_7', 'article_count_norm', 'funding_rate', 'funding_rate_ma', 'momentum_5', 'momentum_10', 'day_sin', 'day_cos']\n",
      "Training sequences: 668\n",
      "Validation sequences: 95\n",
      "Test sequences: 192\n",
      "Features per timestep: 27\n",
      "Last date in dataset: 2025-05-06 00:00:00\n",
      "Random Search 47/100: {'use_batch_norm': True, 'sequence_length': 90, 'regularizer_strength': 0.001, 'regularizer': 'l2', 'recurrent_activation': 'hard_sigmoid', 'optimizer': 'sgd', 'lstm_units_3': 8, 'lstm_units_2': 96, 'lstm_units_1': 16, 'learning_rate': 0.01, 'dropout_rate_dense': 0.15, 'dropout_rate_2': 0.3, 'dropout_rate_1': 0.25, 'dense_units': 24, 'cell_type': 'GRU', 'bidirectional': True, 'batch_size': 16, 'activation': 'relu'}\n",
      "Using 27 features: ['high_close_ratio', 'low_close_ratio', 'open_close_ratio', 'returns_1d', 'returns_3d', 'returns_7d', 'price_ma_5_ratio', 'price_ma_10_ratio', 'price_ma_20_ratio', 'macd_normalized', 'macd_signal_normalized', 'rsi_normalized', 'bb_position', 'bb_width', 'volatility_10', 'volatility_20', 'volume_avg_ratio', 'volume_change', 'vader_ma_3', 'vader_ma_7', 'article_count_norm', 'funding_rate', 'funding_rate_ma', 'momentum_5', 'momentum_10', 'day_sin', 'day_cos']\n",
      "Training sequences: 668\n",
      "Validation sequences: 95\n",
      "Test sequences: 192\n",
      "Features per timestep: 27\n",
      "Last date in dataset: 2025-05-06 00:00:00\n",
      "Random Search 48/100: {'use_batch_norm': True, 'sequence_length': 45, 'regularizer_strength': 0.001, 'regularizer': 'l1_l2', 'recurrent_activation': 'hard_sigmoid', 'optimizer': 'adam', 'lstm_units_3': 32, 'lstm_units_2': 32, 'lstm_units_1': 32, 'learning_rate': 0.1, 'dropout_rate_dense': 0.0, 'dropout_rate_2': 0.1, 'dropout_rate_1': 0.15, 'dense_units': 24, 'cell_type': 'LSTM', 'bidirectional': True, 'batch_size': 96, 'activation': 'relu'}\n",
      "Using 27 features: ['high_close_ratio', 'low_close_ratio', 'open_close_ratio', 'returns_1d', 'returns_3d', 'returns_7d', 'price_ma_5_ratio', 'price_ma_10_ratio', 'price_ma_20_ratio', 'macd_normalized', 'macd_signal_normalized', 'rsi_normalized', 'bb_position', 'bb_width', 'volatility_10', 'volatility_20', 'volume_avg_ratio', 'volume_change', 'vader_ma_3', 'vader_ma_7', 'article_count_norm', 'funding_rate', 'funding_rate_ma', 'momentum_5', 'momentum_10', 'day_sin', 'day_cos']\n",
      "Training sequences: 700\n",
      "Validation sequences: 100\n",
      "Test sequences: 200\n",
      "Features per timestep: 27\n",
      "Last date in dataset: 2025-05-06 00:00:00\n",
      "Random Search 49/100: {'use_batch_norm': True, 'sequence_length': 45, 'regularizer_strength': 0.01, 'regularizer': 'l1', 'recurrent_activation': 'sigmoid', 'optimizer': 'adam', 'lstm_units_3': 8, 'lstm_units_2': 16, 'lstm_units_1': 256, 'learning_rate': 0.01, 'dropout_rate_dense': 0.05, 'dropout_rate_2': 0.1, 'dropout_rate_1': 0.5, 'dense_units': 8, 'cell_type': 'LSTM', 'bidirectional': True, 'batch_size': 128, 'activation': 'selu'}\n",
      "Using 27 features: ['high_close_ratio', 'low_close_ratio', 'open_close_ratio', 'returns_1d', 'returns_3d', 'returns_7d', 'price_ma_5_ratio', 'price_ma_10_ratio', 'price_ma_20_ratio', 'macd_normalized', 'macd_signal_normalized', 'rsi_normalized', 'bb_position', 'bb_width', 'volatility_10', 'volatility_20', 'volume_avg_ratio', 'volume_change', 'vader_ma_3', 'vader_ma_7', 'article_count_norm', 'funding_rate', 'funding_rate_ma', 'momentum_5', 'momentum_10', 'day_sin', 'day_cos']\n",
      "Training sequences: 700\n",
      "Validation sequences: 100\n",
      "Test sequences: 200\n",
      "Features per timestep: 27\n",
      "Last date in dataset: 2025-05-06 00:00:00\n",
      "Random Search 50/100: {'use_batch_norm': True, 'sequence_length': 15, 'regularizer_strength': 0.001, 'regularizer': 'l1', 'recurrent_activation': 'hard_sigmoid', 'optimizer': 'sgd', 'lstm_units_3': 8, 'lstm_units_2': 32, 'lstm_units_1': 128, 'learning_rate': 0.001, 'dropout_rate_dense': 0.15, 'dropout_rate_2': 0.3, 'dropout_rate_1': 0.15, 'dense_units': 48, 'cell_type': 'LSTM', 'bidirectional': True, 'batch_size': 64, 'activation': 'tanh'}\n",
      "Using 27 features: ['high_close_ratio', 'low_close_ratio', 'open_close_ratio', 'returns_1d', 'returns_3d', 'returns_7d', 'price_ma_5_ratio', 'price_ma_10_ratio', 'price_ma_20_ratio', 'macd_normalized', 'macd_signal_normalized', 'rsi_normalized', 'bb_position', 'bb_width', 'volatility_10', 'volatility_20', 'volume_avg_ratio', 'volume_change', 'vader_ma_3', 'vader_ma_7', 'article_count_norm', 'funding_rate', 'funding_rate_ma', 'momentum_5', 'momentum_10', 'day_sin', 'day_cos']\n",
      "Training sequences: 721\n",
      "Validation sequences: 103\n",
      "Test sequences: 206\n",
      "Features per timestep: 27\n",
      "Last date in dataset: 2025-05-06 00:00:00\n",
      "Random Search 51/100: {'use_batch_norm': False, 'sequence_length': 30, 'regularizer_strength': 0.1, 'regularizer': 'l2', 'recurrent_activation': 'tanh', 'optimizer': 'rmsprop', 'lstm_units_3': 0, 'lstm_units_2': 24, 'lstm_units_1': 64, 'learning_rate': 1e-05, 'dropout_rate_dense': 0.1, 'dropout_rate_2': 0.35, 'dropout_rate_1': 0.2, 'dense_units': 64, 'cell_type': 'LSTM', 'bidirectional': False, 'batch_size': 128, 'activation': 'relu'}\n",
      "Using 27 features: ['high_close_ratio', 'low_close_ratio', 'open_close_ratio', 'returns_1d', 'returns_3d', 'returns_7d', 'price_ma_5_ratio', 'price_ma_10_ratio', 'price_ma_20_ratio', 'macd_normalized', 'macd_signal_normalized', 'rsi_normalized', 'bb_position', 'bb_width', 'volatility_10', 'volatility_20', 'volume_avg_ratio', 'volume_change', 'vader_ma_3', 'vader_ma_7', 'article_count_norm', 'funding_rate', 'funding_rate_ma', 'momentum_5', 'momentum_10', 'day_sin', 'day_cos']\n",
      "Training sequences: 710\n",
      "Validation sequences: 101\n",
      "Test sequences: 204\n",
      "Features per timestep: 27\n",
      "Last date in dataset: 2025-05-06 00:00:00\n",
      "Random Search 52/100: {'use_batch_norm': True, 'sequence_length': 15, 'regularizer_strength': 0.001, 'regularizer': 'l2', 'recurrent_activation': 'hard_sigmoid', 'optimizer': 'sgd', 'lstm_units_3': 32, 'lstm_units_2': 64, 'lstm_units_1': 192, 'learning_rate': 0.1, 'dropout_rate_dense': 0.05, 'dropout_rate_2': 0.3, 'dropout_rate_1': 0.25, 'dense_units': 128, 'cell_type': 'GRU', 'bidirectional': True, 'batch_size': 128, 'activation': 'tanh'}\n",
      "Using 27 features: ['high_close_ratio', 'low_close_ratio', 'open_close_ratio', 'returns_1d', 'returns_3d', 'returns_7d', 'price_ma_5_ratio', 'price_ma_10_ratio', 'price_ma_20_ratio', 'macd_normalized', 'macd_signal_normalized', 'rsi_normalized', 'bb_position', 'bb_width', 'volatility_10', 'volatility_20', 'volume_avg_ratio', 'volume_change', 'vader_ma_3', 'vader_ma_7', 'article_count_norm', 'funding_rate', 'funding_rate_ma', 'momentum_5', 'momentum_10', 'day_sin', 'day_cos']\n",
      "Training sequences: 721\n",
      "Validation sequences: 103\n",
      "Test sequences: 206\n",
      "Features per timestep: 27\n",
      "Last date in dataset: 2025-05-06 00:00:00\n",
      "Random Search 53/100: {'use_batch_norm': True, 'sequence_length': 60, 'regularizer_strength': 0.001, 'regularizer': 'l1', 'recurrent_activation': 'sigmoid', 'optimizer': 'rmsprop', 'lstm_units_3': 0, 'lstm_units_2': 64, 'lstm_units_1': 256, 'learning_rate': 0.1, 'dropout_rate_dense': 0.2, 'dropout_rate_2': 0.25, 'dropout_rate_1': 0.2, 'dense_units': 96, 'cell_type': 'GRU', 'bidirectional': True, 'batch_size': 32, 'activation': 'selu'}\n",
      "Using 27 features: ['high_close_ratio', 'low_close_ratio', 'open_close_ratio', 'returns_1d', 'returns_3d', 'returns_7d', 'price_ma_5_ratio', 'price_ma_10_ratio', 'price_ma_20_ratio', 'macd_normalized', 'macd_signal_normalized', 'rsi_normalized', 'bb_position', 'bb_width', 'volatility_10', 'volatility_20', 'volume_avg_ratio', 'volume_change', 'vader_ma_3', 'vader_ma_7', 'article_count_norm', 'funding_rate', 'funding_rate_ma', 'momentum_5', 'momentum_10', 'day_sin', 'day_cos']\n",
      "Training sequences: 689\n",
      "Validation sequences: 98\n",
      "Test sequences: 198\n",
      "Features per timestep: 27\n",
      "Last date in dataset: 2025-05-06 00:00:00\n",
      "Random Search 54/100: {'use_batch_norm': False, 'sequence_length': 45, 'regularizer_strength': 0.001, 'regularizer': 'l2', 'recurrent_activation': 'tanh', 'optimizer': 'rmsprop', 'lstm_units_3': 16, 'lstm_units_2': 128, 'lstm_units_1': 16, 'learning_rate': 0.0001, 'dropout_rate_dense': 0.05, 'dropout_rate_2': 0.2, 'dropout_rate_1': 0.3, 'dense_units': 16, 'cell_type': 'GRU', 'bidirectional': False, 'batch_size': 8, 'activation': 'selu'}\n",
      "Using 27 features: ['high_close_ratio', 'low_close_ratio', 'open_close_ratio', 'returns_1d', 'returns_3d', 'returns_7d', 'price_ma_5_ratio', 'price_ma_10_ratio', 'price_ma_20_ratio', 'macd_normalized', 'macd_signal_normalized', 'rsi_normalized', 'bb_position', 'bb_width', 'volatility_10', 'volatility_20', 'volume_avg_ratio', 'volume_change', 'vader_ma_3', 'vader_ma_7', 'article_count_norm', 'funding_rate', 'funding_rate_ma', 'momentum_5', 'momentum_10', 'day_sin', 'day_cos']\n",
      "Training sequences: 700\n",
      "Validation sequences: 100\n",
      "Test sequences: 200\n",
      "Features per timestep: 27\n",
      "Last date in dataset: 2025-05-06 00:00:00\n",
      "Random Search 55/100: {'use_batch_norm': False, 'sequence_length': 45, 'regularizer_strength': 0.001, 'regularizer': 'l1', 'recurrent_activation': 'tanh', 'optimizer': 'rmsprop', 'lstm_units_3': 8, 'lstm_units_2': 96, 'lstm_units_1': 192, 'learning_rate': 1e-05, 'dropout_rate_dense': 0.25, 'dropout_rate_2': 0.1, 'dropout_rate_1': 0.5, 'dense_units': 64, 'cell_type': 'GRU', 'bidirectional': False, 'batch_size': 64, 'activation': 'elu'}\n",
      "Using 27 features: ['high_close_ratio', 'low_close_ratio', 'open_close_ratio', 'returns_1d', 'returns_3d', 'returns_7d', 'price_ma_5_ratio', 'price_ma_10_ratio', 'price_ma_20_ratio', 'macd_normalized', 'macd_signal_normalized', 'rsi_normalized', 'bb_position', 'bb_width', 'volatility_10', 'volatility_20', 'volume_avg_ratio', 'volume_change', 'vader_ma_3', 'vader_ma_7', 'article_count_norm', 'funding_rate', 'funding_rate_ma', 'momentum_5', 'momentum_10', 'day_sin', 'day_cos']\n",
      "Training sequences: 700\n",
      "Validation sequences: 100\n",
      "Test sequences: 200\n",
      "Features per timestep: 27\n",
      "Last date in dataset: 2025-05-06 00:00:00\n",
      "Random Search 56/100: {'use_batch_norm': False, 'sequence_length': 60, 'regularizer_strength': 0.001, 'regularizer': 'l1_l2', 'recurrent_activation': 'tanh', 'optimizer': 'sgd', 'lstm_units_3': 32, 'lstm_units_2': 96, 'lstm_units_1': 192, 'learning_rate': 1e-05, 'dropout_rate_dense': 0.25, 'dropout_rate_2': 0.0, 'dropout_rate_1': 0.1, 'dense_units': 48, 'cell_type': 'GRU', 'bidirectional': False, 'batch_size': 32, 'activation': 'relu'}\n",
      "Using 27 features: ['high_close_ratio', 'low_close_ratio', 'open_close_ratio', 'returns_1d', 'returns_3d', 'returns_7d', 'price_ma_5_ratio', 'price_ma_10_ratio', 'price_ma_20_ratio', 'macd_normalized', 'macd_signal_normalized', 'rsi_normalized', 'bb_position', 'bb_width', 'volatility_10', 'volatility_20', 'volume_avg_ratio', 'volume_change', 'vader_ma_3', 'vader_ma_7', 'article_count_norm', 'funding_rate', 'funding_rate_ma', 'momentum_5', 'momentum_10', 'day_sin', 'day_cos']\n",
      "Training sequences: 689\n",
      "Validation sequences: 98\n",
      "Test sequences: 198\n",
      "Features per timestep: 27\n",
      "Last date in dataset: 2025-05-06 00:00:00\n",
      "Random Search 57/100: {'use_batch_norm': True, 'sequence_length': 45, 'regularizer_strength': 0.1, 'regularizer': 'l2', 'recurrent_activation': 'tanh', 'optimizer': 'sgd', 'lstm_units_3': 0, 'lstm_units_2': 16, 'lstm_units_1': 16, 'learning_rate': 1e-05, 'dropout_rate_dense': 0.15, 'dropout_rate_2': 0.2, 'dropout_rate_1': 0.4, 'dense_units': 16, 'cell_type': 'GRU', 'bidirectional': False, 'batch_size': 48, 'activation': 'tanh'}\n",
      "Using 27 features: ['high_close_ratio', 'low_close_ratio', 'open_close_ratio', 'returns_1d', 'returns_3d', 'returns_7d', 'price_ma_5_ratio', 'price_ma_10_ratio', 'price_ma_20_ratio', 'macd_normalized', 'macd_signal_normalized', 'rsi_normalized', 'bb_position', 'bb_width', 'volatility_10', 'volatility_20', 'volume_avg_ratio', 'volume_change', 'vader_ma_3', 'vader_ma_7', 'article_count_norm', 'funding_rate', 'funding_rate_ma', 'momentum_5', 'momentum_10', 'day_sin', 'day_cos']\n",
      "Training sequences: 700\n",
      "Validation sequences: 100\n",
      "Test sequences: 200\n",
      "Features per timestep: 27\n",
      "Last date in dataset: 2025-05-06 00:00:00\n",
      "Random Search 58/100: {'use_batch_norm': False, 'sequence_length': 60, 'regularizer_strength': 0.01, 'regularizer': 'l1', 'recurrent_activation': 'tanh', 'optimizer': 'adam', 'lstm_units_3': 0, 'lstm_units_2': 96, 'lstm_units_1': 192, 'learning_rate': 0.0001, 'dropout_rate_dense': 0.25, 'dropout_rate_2': 0.35, 'dropout_rate_1': 0.2, 'dense_units': 48, 'cell_type': 'LSTM', 'bidirectional': True, 'batch_size': 128, 'activation': 'selu'}\n",
      "Using 27 features: ['high_close_ratio', 'low_close_ratio', 'open_close_ratio', 'returns_1d', 'returns_3d', 'returns_7d', 'price_ma_5_ratio', 'price_ma_10_ratio', 'price_ma_20_ratio', 'macd_normalized', 'macd_signal_normalized', 'rsi_normalized', 'bb_position', 'bb_width', 'volatility_10', 'volatility_20', 'volume_avg_ratio', 'volume_change', 'vader_ma_3', 'vader_ma_7', 'article_count_norm', 'funding_rate', 'funding_rate_ma', 'momentum_5', 'momentum_10', 'day_sin', 'day_cos']\n",
      "Training sequences: 689\n",
      "Validation sequences: 98\n",
      "Test sequences: 198\n",
      "Features per timestep: 27\n",
      "Last date in dataset: 2025-05-06 00:00:00\n",
      "Random Search 59/100: {'use_batch_norm': True, 'sequence_length': 30, 'regularizer_strength': 0.01, 'regularizer': 'l2', 'recurrent_activation': 'sigmoid', 'optimizer': 'rmsprop', 'lstm_units_3': 32, 'lstm_units_2': 16, 'lstm_units_1': 16, 'learning_rate': 0.1, 'dropout_rate_dense': 0.25, 'dropout_rate_2': 0.0, 'dropout_rate_1': 0.15, 'dense_units': 4, 'cell_type': 'LSTM', 'bidirectional': False, 'batch_size': 48, 'activation': 'relu'}\n",
      "Using 27 features: ['high_close_ratio', 'low_close_ratio', 'open_close_ratio', 'returns_1d', 'returns_3d', 'returns_7d', 'price_ma_5_ratio', 'price_ma_10_ratio', 'price_ma_20_ratio', 'macd_normalized', 'macd_signal_normalized', 'rsi_normalized', 'bb_position', 'bb_width', 'volatility_10', 'volatility_20', 'volume_avg_ratio', 'volume_change', 'vader_ma_3', 'vader_ma_7', 'article_count_norm', 'funding_rate', 'funding_rate_ma', 'momentum_5', 'momentum_10', 'day_sin', 'day_cos']\n",
      "Training sequences: 710\n",
      "Validation sequences: 101\n",
      "Test sequences: 204\n",
      "Features per timestep: 27\n",
      "Last date in dataset: 2025-05-06 00:00:00\n",
      "Random Search 60/100: {'use_batch_norm': True, 'sequence_length': 20, 'regularizer_strength': 0.001, 'regularizer': 'l2', 'recurrent_activation': 'tanh', 'optimizer': 'rmsprop', 'lstm_units_3': 8, 'lstm_units_2': 32, 'lstm_units_1': 64, 'learning_rate': 0.0001, 'dropout_rate_dense': 0.3, 'dropout_rate_2': 0.15, 'dropout_rate_1': 0.3, 'dense_units': 4, 'cell_type': 'LSTM', 'bidirectional': False, 'batch_size': 48, 'activation': 'elu'}\n",
      "Using 27 features: ['high_close_ratio', 'low_close_ratio', 'open_close_ratio', 'returns_1d', 'returns_3d', 'returns_7d', 'price_ma_5_ratio', 'price_ma_10_ratio', 'price_ma_20_ratio', 'macd_normalized', 'macd_signal_normalized', 'rsi_normalized', 'bb_position', 'bb_width', 'volatility_10', 'volatility_20', 'volume_avg_ratio', 'volume_change', 'vader_ma_3', 'vader_ma_7', 'article_count_norm', 'funding_rate', 'funding_rate_ma', 'momentum_5', 'momentum_10', 'day_sin', 'day_cos']\n",
      "Training sequences: 717\n",
      "Validation sequences: 102\n",
      "Test sequences: 206\n",
      "Features per timestep: 27\n",
      "Last date in dataset: 2025-05-06 00:00:00\n",
      "Random Search 61/100: {'use_batch_norm': False, 'sequence_length': 60, 'regularizer_strength': 0.1, 'regularizer': None, 'recurrent_activation': 'tanh', 'optimizer': 'sgd', 'lstm_units_3': 32, 'lstm_units_2': 32, 'lstm_units_1': 96, 'learning_rate': 0.01, 'dropout_rate_dense': 0.1, 'dropout_rate_2': 0.4, 'dropout_rate_1': 0.3, 'dense_units': 32, 'cell_type': 'GRU', 'bidirectional': True, 'batch_size': 16, 'activation': 'tanh'}\n",
      "Using 27 features: ['high_close_ratio', 'low_close_ratio', 'open_close_ratio', 'returns_1d', 'returns_3d', 'returns_7d', 'price_ma_5_ratio', 'price_ma_10_ratio', 'price_ma_20_ratio', 'macd_normalized', 'macd_signal_normalized', 'rsi_normalized', 'bb_position', 'bb_width', 'volatility_10', 'volatility_20', 'volume_avg_ratio', 'volume_change', 'vader_ma_3', 'vader_ma_7', 'article_count_norm', 'funding_rate', 'funding_rate_ma', 'momentum_5', 'momentum_10', 'day_sin', 'day_cos']\n",
      "Training sequences: 689\n",
      "Validation sequences: 98\n",
      "Test sequences: 198\n",
      "Features per timestep: 27\n",
      "Last date in dataset: 2025-05-06 00:00:00\n",
      "Random Search 62/100: {'use_batch_norm': True, 'sequence_length': 120, 'regularizer_strength': 0.01, 'regularizer': 'l1_l2', 'recurrent_activation': 'hard_sigmoid', 'optimizer': 'rmsprop', 'lstm_units_3': 32, 'lstm_units_2': 64, 'lstm_units_1': 16, 'learning_rate': 0.0001, 'dropout_rate_dense': 0.2, 'dropout_rate_2': 0.1, 'dropout_rate_1': 0.4, 'dense_units': 24, 'cell_type': 'LSTM', 'bidirectional': False, 'batch_size': 16, 'activation': 'tanh'}\n",
      "Using 27 features: ['high_close_ratio', 'low_close_ratio', 'open_close_ratio', 'returns_1d', 'returns_3d', 'returns_7d', 'price_ma_5_ratio', 'price_ma_10_ratio', 'price_ma_20_ratio', 'macd_normalized', 'macd_signal_normalized', 'rsi_normalized', 'bb_position', 'bb_width', 'volatility_10', 'volatility_20', 'volume_avg_ratio', 'volume_change', 'vader_ma_3', 'vader_ma_7', 'article_count_norm', 'funding_rate', 'funding_rate_ma', 'momentum_5', 'momentum_10', 'day_sin', 'day_cos']\n",
      "Training sequences: 647\n",
      "Validation sequences: 92\n",
      "Test sequences: 186\n",
      "Features per timestep: 27\n",
      "Last date in dataset: 2025-05-06 00:00:00\n",
      "Random Search 63/100: {'use_batch_norm': True, 'sequence_length': 20, 'regularizer_strength': 0.01, 'regularizer': 'l1', 'recurrent_activation': 'sigmoid', 'optimizer': 'sgd', 'lstm_units_3': 32, 'lstm_units_2': 16, 'lstm_units_1': 192, 'learning_rate': 0.1, 'dropout_rate_dense': 0.3, 'dropout_rate_2': 0.35, 'dropout_rate_1': 0.1, 'dense_units': 64, 'cell_type': 'GRU', 'bidirectional': True, 'batch_size': 8, 'activation': 'selu'}\n",
      "Using 27 features: ['high_close_ratio', 'low_close_ratio', 'open_close_ratio', 'returns_1d', 'returns_3d', 'returns_7d', 'price_ma_5_ratio', 'price_ma_10_ratio', 'price_ma_20_ratio', 'macd_normalized', 'macd_signal_normalized', 'rsi_normalized', 'bb_position', 'bb_width', 'volatility_10', 'volatility_20', 'volume_avg_ratio', 'volume_change', 'vader_ma_3', 'vader_ma_7', 'article_count_norm', 'funding_rate', 'funding_rate_ma', 'momentum_5', 'momentum_10', 'day_sin', 'day_cos']\n",
      "Training sequences: 717\n",
      "Validation sequences: 102\n",
      "Test sequences: 206\n",
      "Features per timestep: 27\n",
      "Last date in dataset: 2025-05-06 00:00:00\n",
      "Random Search 64/100: {'use_batch_norm': True, 'sequence_length': 30, 'regularizer_strength': 0.01, 'regularizer': 'l2', 'recurrent_activation': 'tanh', 'optimizer': 'adam', 'lstm_units_3': 8, 'lstm_units_2': 96, 'lstm_units_1': 32, 'learning_rate': 0.001, 'dropout_rate_dense': 0.15, 'dropout_rate_2': 0.35, 'dropout_rate_1': 0.5, 'dense_units': 48, 'cell_type': 'LSTM', 'bidirectional': False, 'batch_size': 48, 'activation': 'elu'}\n",
      "Using 27 features: ['high_close_ratio', 'low_close_ratio', 'open_close_ratio', 'returns_1d', 'returns_3d', 'returns_7d', 'price_ma_5_ratio', 'price_ma_10_ratio', 'price_ma_20_ratio', 'macd_normalized', 'macd_signal_normalized', 'rsi_normalized', 'bb_position', 'bb_width', 'volatility_10', 'volatility_20', 'volume_avg_ratio', 'volume_change', 'vader_ma_3', 'vader_ma_7', 'article_count_norm', 'funding_rate', 'funding_rate_ma', 'momentum_5', 'momentum_10', 'day_sin', 'day_cos']\n",
      "Training sequences: 710\n",
      "Validation sequences: 101\n",
      "Test sequences: 204\n",
      "Features per timestep: 27\n",
      "Last date in dataset: 2025-05-06 00:00:00\n",
      "Random Search 65/100: {'use_batch_norm': False, 'sequence_length': 90, 'regularizer_strength': 0.001, 'regularizer': None, 'recurrent_activation': 'hard_sigmoid', 'optimizer': 'rmsprop', 'lstm_units_3': 8, 'lstm_units_2': 64, 'lstm_units_1': 96, 'learning_rate': 0.01, 'dropout_rate_dense': 0.3, 'dropout_rate_2': 0.35, 'dropout_rate_1': 0.35, 'dense_units': 64, 'cell_type': 'LSTM', 'bidirectional': True, 'batch_size': 8, 'activation': 'selu'}\n",
      "Using 27 features: ['high_close_ratio', 'low_close_ratio', 'open_close_ratio', 'returns_1d', 'returns_3d', 'returns_7d', 'price_ma_5_ratio', 'price_ma_10_ratio', 'price_ma_20_ratio', 'macd_normalized', 'macd_signal_normalized', 'rsi_normalized', 'bb_position', 'bb_width', 'volatility_10', 'volatility_20', 'volume_avg_ratio', 'volume_change', 'vader_ma_3', 'vader_ma_7', 'article_count_norm', 'funding_rate', 'funding_rate_ma', 'momentum_5', 'momentum_10', 'day_sin', 'day_cos']\n",
      "Training sequences: 668\n",
      "Validation sequences: 95\n",
      "Test sequences: 192\n",
      "Features per timestep: 27\n",
      "Last date in dataset: 2025-05-06 00:00:00\n",
      "Random Search 66/100: {'use_batch_norm': False, 'sequence_length': 45, 'regularizer_strength': 0.1, 'regularizer': 'l1', 'recurrent_activation': 'sigmoid', 'optimizer': 'rmsprop', 'lstm_units_3': 8, 'lstm_units_2': 24, 'lstm_units_1': 32, 'learning_rate': 0.0001, 'dropout_rate_dense': 0.1, 'dropout_rate_2': 0.5, 'dropout_rate_1': 0.15, 'dense_units': 24, 'cell_type': 'GRU', 'bidirectional': True, 'batch_size': 16, 'activation': 'relu'}\n",
      "Using 27 features: ['high_close_ratio', 'low_close_ratio', 'open_close_ratio', 'returns_1d', 'returns_3d', 'returns_7d', 'price_ma_5_ratio', 'price_ma_10_ratio', 'price_ma_20_ratio', 'macd_normalized', 'macd_signal_normalized', 'rsi_normalized', 'bb_position', 'bb_width', 'volatility_10', 'volatility_20', 'volume_avg_ratio', 'volume_change', 'vader_ma_3', 'vader_ma_7', 'article_count_norm', 'funding_rate', 'funding_rate_ma', 'momentum_5', 'momentum_10', 'day_sin', 'day_cos']\n",
      "Training sequences: 700\n",
      "Validation sequences: 100\n",
      "Test sequences: 200\n",
      "Features per timestep: 27\n",
      "Last date in dataset: 2025-05-06 00:00:00\n",
      "Random Search 67/100: {'use_batch_norm': False, 'sequence_length': 60, 'regularizer_strength': 0.1, 'regularizer': 'l1_l2', 'recurrent_activation': 'tanh', 'optimizer': 'rmsprop', 'lstm_units_3': 8, 'lstm_units_2': 32, 'lstm_units_1': 16, 'learning_rate': 0.01, 'dropout_rate_dense': 0.1, 'dropout_rate_2': 0.15, 'dropout_rate_1': 0.5, 'dense_units': 64, 'cell_type': 'GRU', 'bidirectional': False, 'batch_size': 32, 'activation': 'relu'}\n",
      "Using 27 features: ['high_close_ratio', 'low_close_ratio', 'open_close_ratio', 'returns_1d', 'returns_3d', 'returns_7d', 'price_ma_5_ratio', 'price_ma_10_ratio', 'price_ma_20_ratio', 'macd_normalized', 'macd_signal_normalized', 'rsi_normalized', 'bb_position', 'bb_width', 'volatility_10', 'volatility_20', 'volume_avg_ratio', 'volume_change', 'vader_ma_3', 'vader_ma_7', 'article_count_norm', 'funding_rate', 'funding_rate_ma', 'momentum_5', 'momentum_10', 'day_sin', 'day_cos']\n",
      "Training sequences: 689\n",
      "Validation sequences: 98\n",
      "Test sequences: 198\n",
      "Features per timestep: 27\n",
      "Last date in dataset: 2025-05-06 00:00:00\n",
      "Random Search 68/100: {'use_batch_norm': False, 'sequence_length': 120, 'regularizer_strength': 0.01, 'regularizer': None, 'recurrent_activation': 'sigmoid', 'optimizer': 'rmsprop', 'lstm_units_3': 0, 'lstm_units_2': 32, 'lstm_units_1': 48, 'learning_rate': 0.001, 'dropout_rate_dense': 0.1, 'dropout_rate_2': 0.3, 'dropout_rate_1': 0.2, 'dense_units': 128, 'cell_type': 'GRU', 'bidirectional': False, 'batch_size': 64, 'activation': 'relu'}\n",
      "Using 27 features: ['high_close_ratio', 'low_close_ratio', 'open_close_ratio', 'returns_1d', 'returns_3d', 'returns_7d', 'price_ma_5_ratio', 'price_ma_10_ratio', 'price_ma_20_ratio', 'macd_normalized', 'macd_signal_normalized', 'rsi_normalized', 'bb_position', 'bb_width', 'volatility_10', 'volatility_20', 'volume_avg_ratio', 'volume_change', 'vader_ma_3', 'vader_ma_7', 'article_count_norm', 'funding_rate', 'funding_rate_ma', 'momentum_5', 'momentum_10', 'day_sin', 'day_cos']\n",
      "Training sequences: 647\n",
      "Validation sequences: 92\n",
      "Test sequences: 186\n",
      "Features per timestep: 27\n",
      "Last date in dataset: 2025-05-06 00:00:00\n",
      "Random Search 69/100: {'use_batch_norm': True, 'sequence_length': 10, 'regularizer_strength': 0.01, 'regularizer': 'l2', 'recurrent_activation': 'tanh', 'optimizer': 'sgd', 'lstm_units_3': 32, 'lstm_units_2': 16, 'lstm_units_1': 256, 'learning_rate': 0.0001, 'dropout_rate_dense': 0.0, 'dropout_rate_2': 0.4, 'dropout_rate_1': 0.15, 'dense_units': 64, 'cell_type': 'GRU', 'bidirectional': False, 'batch_size': 64, 'activation': 'elu'}\n",
      "Using 27 features: ['high_close_ratio', 'low_close_ratio', 'open_close_ratio', 'returns_1d', 'returns_3d', 'returns_7d', 'price_ma_5_ratio', 'price_ma_10_ratio', 'price_ma_20_ratio', 'macd_normalized', 'macd_signal_normalized', 'rsi_normalized', 'bb_position', 'bb_width', 'volatility_10', 'volatility_20', 'volume_avg_ratio', 'volume_change', 'vader_ma_3', 'vader_ma_7', 'article_count_norm', 'funding_rate', 'funding_rate_ma', 'momentum_5', 'momentum_10', 'day_sin', 'day_cos']\n",
      "Training sequences: 724\n",
      "Validation sequences: 103\n",
      "Test sequences: 208\n",
      "Features per timestep: 27\n",
      "Last date in dataset: 2025-05-06 00:00:00\n",
      "Random Search 70/100: {'use_batch_norm': True, 'sequence_length': 90, 'regularizer_strength': 0.001, 'regularizer': 'l1', 'recurrent_activation': 'hard_sigmoid', 'optimizer': 'rmsprop', 'lstm_units_3': 0, 'lstm_units_2': 8, 'lstm_units_1': 192, 'learning_rate': 1e-05, 'dropout_rate_dense': 0.2, 'dropout_rate_2': 0.15, 'dropout_rate_1': 0.3, 'dense_units': 48, 'cell_type': 'GRU', 'bidirectional': False, 'batch_size': 48, 'activation': 'relu'}\n",
      "Using 27 features: ['high_close_ratio', 'low_close_ratio', 'open_close_ratio', 'returns_1d', 'returns_3d', 'returns_7d', 'price_ma_5_ratio', 'price_ma_10_ratio', 'price_ma_20_ratio', 'macd_normalized', 'macd_signal_normalized', 'rsi_normalized', 'bb_position', 'bb_width', 'volatility_10', 'volatility_20', 'volume_avg_ratio', 'volume_change', 'vader_ma_3', 'vader_ma_7', 'article_count_norm', 'funding_rate', 'funding_rate_ma', 'momentum_5', 'momentum_10', 'day_sin', 'day_cos']\n",
      "Training sequences: 668\n",
      "Validation sequences: 95\n",
      "Test sequences: 192\n",
      "Features per timestep: 27\n",
      "Last date in dataset: 2025-05-06 00:00:00\n",
      "Random Search 71/100: {'use_batch_norm': False, 'sequence_length': 15, 'regularizer_strength': 0.001, 'regularizer': None, 'recurrent_activation': 'sigmoid', 'optimizer': 'rmsprop', 'lstm_units_3': 32, 'lstm_units_2': 32, 'lstm_units_1': 48, 'learning_rate': 0.01, 'dropout_rate_dense': 0.0, 'dropout_rate_2': 0.3, 'dropout_rate_1': 0.35, 'dense_units': 24, 'cell_type': 'LSTM', 'bidirectional': True, 'batch_size': 16, 'activation': 'tanh'}\n",
      "Using 27 features: ['high_close_ratio', 'low_close_ratio', 'open_close_ratio', 'returns_1d', 'returns_3d', 'returns_7d', 'price_ma_5_ratio', 'price_ma_10_ratio', 'price_ma_20_ratio', 'macd_normalized', 'macd_signal_normalized', 'rsi_normalized', 'bb_position', 'bb_width', 'volatility_10', 'volatility_20', 'volume_avg_ratio', 'volume_change', 'vader_ma_3', 'vader_ma_7', 'article_count_norm', 'funding_rate', 'funding_rate_ma', 'momentum_5', 'momentum_10', 'day_sin', 'day_cos']\n",
      "Training sequences: 721\n",
      "Validation sequences: 103\n",
      "Test sequences: 206\n",
      "Features per timestep: 27\n",
      "Last date in dataset: 2025-05-06 00:00:00\n",
      "Random Search 72/100: {'use_batch_norm': True, 'sequence_length': 20, 'regularizer_strength': 0.001, 'regularizer': 'l2', 'recurrent_activation': 'hard_sigmoid', 'optimizer': 'rmsprop', 'lstm_units_3': 8, 'lstm_units_2': 64, 'lstm_units_1': 256, 'learning_rate': 1e-05, 'dropout_rate_dense': 0.05, 'dropout_rate_2': 0.0, 'dropout_rate_1': 0.2, 'dense_units': 8, 'cell_type': 'LSTM', 'bidirectional': True, 'batch_size': 64, 'activation': 'elu'}\n",
      "Using 27 features: ['high_close_ratio', 'low_close_ratio', 'open_close_ratio', 'returns_1d', 'returns_3d', 'returns_7d', 'price_ma_5_ratio', 'price_ma_10_ratio', 'price_ma_20_ratio', 'macd_normalized', 'macd_signal_normalized', 'rsi_normalized', 'bb_position', 'bb_width', 'volatility_10', 'volatility_20', 'volume_avg_ratio', 'volume_change', 'vader_ma_3', 'vader_ma_7', 'article_count_norm', 'funding_rate', 'funding_rate_ma', 'momentum_5', 'momentum_10', 'day_sin', 'day_cos']\n",
      "Training sequences: 717\n",
      "Validation sequences: 102\n",
      "Test sequences: 206\n",
      "Features per timestep: 27\n",
      "Last date in dataset: 2025-05-06 00:00:00\n",
      "Random Search 73/100: {'use_batch_norm': True, 'sequence_length': 120, 'regularizer_strength': 0.01, 'regularizer': 'l1', 'recurrent_activation': 'hard_sigmoid', 'optimizer': 'sgd', 'lstm_units_3': 32, 'lstm_units_2': 48, 'lstm_units_1': 16, 'learning_rate': 1e-05, 'dropout_rate_dense': 0.1, 'dropout_rate_2': 0.35, 'dropout_rate_1': 0.0, 'dense_units': 4, 'cell_type': 'LSTM', 'bidirectional': False, 'batch_size': 96, 'activation': 'elu'}\n",
      "Using 27 features: ['high_close_ratio', 'low_close_ratio', 'open_close_ratio', 'returns_1d', 'returns_3d', 'returns_7d', 'price_ma_5_ratio', 'price_ma_10_ratio', 'price_ma_20_ratio', 'macd_normalized', 'macd_signal_normalized', 'rsi_normalized', 'bb_position', 'bb_width', 'volatility_10', 'volatility_20', 'volume_avg_ratio', 'volume_change', 'vader_ma_3', 'vader_ma_7', 'article_count_norm', 'funding_rate', 'funding_rate_ma', 'momentum_5', 'momentum_10', 'day_sin', 'day_cos']\n",
      "Training sequences: 647\n",
      "Validation sequences: 92\n",
      "Test sequences: 186\n",
      "Features per timestep: 27\n",
      "Last date in dataset: 2025-05-06 00:00:00\n",
      "Random Search 74/100: {'use_batch_norm': True, 'sequence_length': 90, 'regularizer_strength': 0.1, 'regularizer': 'l1', 'recurrent_activation': 'hard_sigmoid', 'optimizer': 'adam', 'lstm_units_3': 32, 'lstm_units_2': 48, 'lstm_units_1': 192, 'learning_rate': 0.001, 'dropout_rate_dense': 0.15, 'dropout_rate_2': 0.0, 'dropout_rate_1': 0.5, 'dense_units': 64, 'cell_type': 'LSTM', 'bidirectional': True, 'batch_size': 8, 'activation': 'elu'}\n",
      "Using 27 features: ['high_close_ratio', 'low_close_ratio', 'open_close_ratio', 'returns_1d', 'returns_3d', 'returns_7d', 'price_ma_5_ratio', 'price_ma_10_ratio', 'price_ma_20_ratio', 'macd_normalized', 'macd_signal_normalized', 'rsi_normalized', 'bb_position', 'bb_width', 'volatility_10', 'volatility_20', 'volume_avg_ratio', 'volume_change', 'vader_ma_3', 'vader_ma_7', 'article_count_norm', 'funding_rate', 'funding_rate_ma', 'momentum_5', 'momentum_10', 'day_sin', 'day_cos']\n",
      "Training sequences: 668\n",
      "Validation sequences: 95\n",
      "Test sequences: 192\n",
      "Features per timestep: 27\n",
      "Last date in dataset: 2025-05-06 00:00:00\n",
      "Random Search 75/100: {'use_batch_norm': True, 'sequence_length': 90, 'regularizer_strength': 0.001, 'regularizer': None, 'recurrent_activation': 'tanh', 'optimizer': 'adam', 'lstm_units_3': 32, 'lstm_units_2': 128, 'lstm_units_1': 64, 'learning_rate': 0.1, 'dropout_rate_dense': 0.2, 'dropout_rate_2': 0.4, 'dropout_rate_1': 0.0, 'dense_units': 64, 'cell_type': 'GRU', 'bidirectional': True, 'batch_size': 32, 'activation': 'relu'}\n",
      "Using 27 features: ['high_close_ratio', 'low_close_ratio', 'open_close_ratio', 'returns_1d', 'returns_3d', 'returns_7d', 'price_ma_5_ratio', 'price_ma_10_ratio', 'price_ma_20_ratio', 'macd_normalized', 'macd_signal_normalized', 'rsi_normalized', 'bb_position', 'bb_width', 'volatility_10', 'volatility_20', 'volume_avg_ratio', 'volume_change', 'vader_ma_3', 'vader_ma_7', 'article_count_norm', 'funding_rate', 'funding_rate_ma', 'momentum_5', 'momentum_10', 'day_sin', 'day_cos']\n",
      "Training sequences: 668\n",
      "Validation sequences: 95\n",
      "Test sequences: 192\n",
      "Features per timestep: 27\n",
      "Last date in dataset: 2025-05-06 00:00:00\n",
      "Error evaluating parameters: Input contains NaN.\n",
      "Random Search 76/100: {'use_batch_norm': True, 'sequence_length': 30, 'regularizer_strength': 0.1, 'regularizer': 'l2', 'recurrent_activation': 'sigmoid', 'optimizer': 'sgd', 'lstm_units_3': 32, 'lstm_units_2': 24, 'lstm_units_1': 48, 'learning_rate': 0.01, 'dropout_rate_dense': 0.3, 'dropout_rate_2': 0.1, 'dropout_rate_1': 0.3, 'dense_units': 64, 'cell_type': 'LSTM', 'bidirectional': True, 'batch_size': 128, 'activation': 'tanh'}\n",
      "Using 27 features: ['high_close_ratio', 'low_close_ratio', 'open_close_ratio', 'returns_1d', 'returns_3d', 'returns_7d', 'price_ma_5_ratio', 'price_ma_10_ratio', 'price_ma_20_ratio', 'macd_normalized', 'macd_signal_normalized', 'rsi_normalized', 'bb_position', 'bb_width', 'volatility_10', 'volatility_20', 'volume_avg_ratio', 'volume_change', 'vader_ma_3', 'vader_ma_7', 'article_count_norm', 'funding_rate', 'funding_rate_ma', 'momentum_5', 'momentum_10', 'day_sin', 'day_cos']\n",
      "Training sequences: 710\n",
      "Validation sequences: 101\n",
      "Test sequences: 204\n",
      "Features per timestep: 27\n",
      "Last date in dataset: 2025-05-06 00:00:00\n",
      "Random Search 77/100: {'use_batch_norm': True, 'sequence_length': 15, 'regularizer_strength': 0.1, 'regularizer': 'l1_l2', 'recurrent_activation': 'tanh', 'optimizer': 'sgd', 'lstm_units_3': 0, 'lstm_units_2': 64, 'lstm_units_1': 96, 'learning_rate': 0.01, 'dropout_rate_dense': 0.1, 'dropout_rate_2': 0.2, 'dropout_rate_1': 0.2, 'dense_units': 4, 'cell_type': 'GRU', 'bidirectional': False, 'batch_size': 16, 'activation': 'elu'}\n",
      "Using 27 features: ['high_close_ratio', 'low_close_ratio', 'open_close_ratio', 'returns_1d', 'returns_3d', 'returns_7d', 'price_ma_5_ratio', 'price_ma_10_ratio', 'price_ma_20_ratio', 'macd_normalized', 'macd_signal_normalized', 'rsi_normalized', 'bb_position', 'bb_width', 'volatility_10', 'volatility_20', 'volume_avg_ratio', 'volume_change', 'vader_ma_3', 'vader_ma_7', 'article_count_norm', 'funding_rate', 'funding_rate_ma', 'momentum_5', 'momentum_10', 'day_sin', 'day_cos']\n",
      "Training sequences: 721\n",
      "Validation sequences: 103\n",
      "Test sequences: 206\n",
      "Features per timestep: 27\n",
      "Last date in dataset: 2025-05-06 00:00:00\n",
      "Random Search 78/100: {'use_batch_norm': False, 'sequence_length': 60, 'regularizer_strength': 0.1, 'regularizer': 'l1', 'recurrent_activation': 'hard_sigmoid', 'optimizer': 'rmsprop', 'lstm_units_3': 0, 'lstm_units_2': 16, 'lstm_units_1': 128, 'learning_rate': 0.01, 'dropout_rate_dense': 0.1, 'dropout_rate_2': 0.0, 'dropout_rate_1': 0.1, 'dense_units': 64, 'cell_type': 'LSTM', 'bidirectional': True, 'batch_size': 8, 'activation': 'tanh'}\n",
      "Using 27 features: ['high_close_ratio', 'low_close_ratio', 'open_close_ratio', 'returns_1d', 'returns_3d', 'returns_7d', 'price_ma_5_ratio', 'price_ma_10_ratio', 'price_ma_20_ratio', 'macd_normalized', 'macd_signal_normalized', 'rsi_normalized', 'bb_position', 'bb_width', 'volatility_10', 'volatility_20', 'volume_avg_ratio', 'volume_change', 'vader_ma_3', 'vader_ma_7', 'article_count_norm', 'funding_rate', 'funding_rate_ma', 'momentum_5', 'momentum_10', 'day_sin', 'day_cos']\n",
      "Training sequences: 689\n",
      "Validation sequences: 98\n",
      "Test sequences: 198\n",
      "Features per timestep: 27\n",
      "Last date in dataset: 2025-05-06 00:00:00\n",
      "Random Search 79/100: {'use_batch_norm': False, 'sequence_length': 45, 'regularizer_strength': 0.1, 'regularizer': None, 'recurrent_activation': 'sigmoid', 'optimizer': 'sgd', 'lstm_units_3': 0, 'lstm_units_2': 24, 'lstm_units_1': 48, 'learning_rate': 1e-05, 'dropout_rate_dense': 0.05, 'dropout_rate_2': 0.35, 'dropout_rate_1': 0.35, 'dense_units': 128, 'cell_type': 'LSTM', 'bidirectional': True, 'batch_size': 96, 'activation': 'relu'}\n",
      "Using 27 features: ['high_close_ratio', 'low_close_ratio', 'open_close_ratio', 'returns_1d', 'returns_3d', 'returns_7d', 'price_ma_5_ratio', 'price_ma_10_ratio', 'price_ma_20_ratio', 'macd_normalized', 'macd_signal_normalized', 'rsi_normalized', 'bb_position', 'bb_width', 'volatility_10', 'volatility_20', 'volume_avg_ratio', 'volume_change', 'vader_ma_3', 'vader_ma_7', 'article_count_norm', 'funding_rate', 'funding_rate_ma', 'momentum_5', 'momentum_10', 'day_sin', 'day_cos']\n",
      "Training sequences: 700\n",
      "Validation sequences: 100\n",
      "Test sequences: 200\n",
      "Features per timestep: 27\n",
      "Last date in dataset: 2025-05-06 00:00:00\n",
      "Random Search 80/100: {'use_batch_norm': False, 'sequence_length': 90, 'regularizer_strength': 0.001, 'regularizer': 'l1', 'recurrent_activation': 'sigmoid', 'optimizer': 'sgd', 'lstm_units_3': 16, 'lstm_units_2': 48, 'lstm_units_1': 256, 'learning_rate': 0.001, 'dropout_rate_dense': 0.2, 'dropout_rate_2': 0.15, 'dropout_rate_1': 0.35, 'dense_units': 96, 'cell_type': 'LSTM', 'bidirectional': True, 'batch_size': 48, 'activation': 'relu'}\n",
      "Using 27 features: ['high_close_ratio', 'low_close_ratio', 'open_close_ratio', 'returns_1d', 'returns_3d', 'returns_7d', 'price_ma_5_ratio', 'price_ma_10_ratio', 'price_ma_20_ratio', 'macd_normalized', 'macd_signal_normalized', 'rsi_normalized', 'bb_position', 'bb_width', 'volatility_10', 'volatility_20', 'volume_avg_ratio', 'volume_change', 'vader_ma_3', 'vader_ma_7', 'article_count_norm', 'funding_rate', 'funding_rate_ma', 'momentum_5', 'momentum_10', 'day_sin', 'day_cos']\n",
      "Training sequences: 668\n",
      "Validation sequences: 95\n",
      "Test sequences: 192\n",
      "Features per timestep: 27\n",
      "Last date in dataset: 2025-05-06 00:00:00\n",
      "Random Search 81/100: {'use_batch_norm': False, 'sequence_length': 60, 'regularizer_strength': 0.001, 'regularizer': 'l1_l2', 'recurrent_activation': 'tanh', 'optimizer': 'sgd', 'lstm_units_3': 32, 'lstm_units_2': 32, 'lstm_units_1': 64, 'learning_rate': 1e-05, 'dropout_rate_dense': 0.3, 'dropout_rate_2': 0.2, 'dropout_rate_1': 0.0, 'dense_units': 96, 'cell_type': 'LSTM', 'bidirectional': False, 'batch_size': 48, 'activation': 'tanh'}\n",
      "Using 27 features: ['high_close_ratio', 'low_close_ratio', 'open_close_ratio', 'returns_1d', 'returns_3d', 'returns_7d', 'price_ma_5_ratio', 'price_ma_10_ratio', 'price_ma_20_ratio', 'macd_normalized', 'macd_signal_normalized', 'rsi_normalized', 'bb_position', 'bb_width', 'volatility_10', 'volatility_20', 'volume_avg_ratio', 'volume_change', 'vader_ma_3', 'vader_ma_7', 'article_count_norm', 'funding_rate', 'funding_rate_ma', 'momentum_5', 'momentum_10', 'day_sin', 'day_cos']\n",
      "Training sequences: 689\n",
      "Validation sequences: 98\n",
      "Test sequences: 198\n",
      "Features per timestep: 27\n",
      "Last date in dataset: 2025-05-06 00:00:00\n",
      "Random Search 82/100: {'use_batch_norm': False, 'sequence_length': 60, 'regularizer_strength': 0.01, 'regularizer': 'l1_l2', 'recurrent_activation': 'hard_sigmoid', 'optimizer': 'rmsprop', 'lstm_units_3': 0, 'lstm_units_2': 96, 'lstm_units_1': 192, 'learning_rate': 1e-05, 'dropout_rate_dense': 0.1, 'dropout_rate_2': 0.5, 'dropout_rate_1': 0.1, 'dense_units': 24, 'cell_type': 'LSTM', 'bidirectional': False, 'batch_size': 24, 'activation': 'relu'}\n",
      "Using 27 features: ['high_close_ratio', 'low_close_ratio', 'open_close_ratio', 'returns_1d', 'returns_3d', 'returns_7d', 'price_ma_5_ratio', 'price_ma_10_ratio', 'price_ma_20_ratio', 'macd_normalized', 'macd_signal_normalized', 'rsi_normalized', 'bb_position', 'bb_width', 'volatility_10', 'volatility_20', 'volume_avg_ratio', 'volume_change', 'vader_ma_3', 'vader_ma_7', 'article_count_norm', 'funding_rate', 'funding_rate_ma', 'momentum_5', 'momentum_10', 'day_sin', 'day_cos']\n",
      "Training sequences: 689\n",
      "Validation sequences: 98\n",
      "Test sequences: 198\n",
      "Features per timestep: 27\n",
      "Last date in dataset: 2025-05-06 00:00:00\n",
      "Random Search 83/100: {'use_batch_norm': False, 'sequence_length': 15, 'regularizer_strength': 0.01, 'regularizer': None, 'recurrent_activation': 'tanh', 'optimizer': 'sgd', 'lstm_units_3': 0, 'lstm_units_2': 8, 'lstm_units_1': 96, 'learning_rate': 0.001, 'dropout_rate_dense': 0.25, 'dropout_rate_2': 0.1, 'dropout_rate_1': 0.35, 'dense_units': 32, 'cell_type': 'LSTM', 'bidirectional': True, 'batch_size': 48, 'activation': 'relu'}\n",
      "Using 27 features: ['high_close_ratio', 'low_close_ratio', 'open_close_ratio', 'returns_1d', 'returns_3d', 'returns_7d', 'price_ma_5_ratio', 'price_ma_10_ratio', 'price_ma_20_ratio', 'macd_normalized', 'macd_signal_normalized', 'rsi_normalized', 'bb_position', 'bb_width', 'volatility_10', 'volatility_20', 'volume_avg_ratio', 'volume_change', 'vader_ma_3', 'vader_ma_7', 'article_count_norm', 'funding_rate', 'funding_rate_ma', 'momentum_5', 'momentum_10', 'day_sin', 'day_cos']\n",
      "Training sequences: 721\n",
      "Validation sequences: 103\n",
      "Test sequences: 206\n",
      "Features per timestep: 27\n",
      "Last date in dataset: 2025-05-06 00:00:00\n",
      "Random Search 84/100: {'use_batch_norm': False, 'sequence_length': 90, 'regularizer_strength': 0.1, 'regularizer': 'l1_l2', 'recurrent_activation': 'tanh', 'optimizer': 'adam', 'lstm_units_3': 32, 'lstm_units_2': 96, 'lstm_units_1': 48, 'learning_rate': 0.01, 'dropout_rate_dense': 0.1, 'dropout_rate_2': 0.3, 'dropout_rate_1': 0.0, 'dense_units': 96, 'cell_type': 'LSTM', 'bidirectional': True, 'batch_size': 32, 'activation': 'selu'}\n",
      "Using 27 features: ['high_close_ratio', 'low_close_ratio', 'open_close_ratio', 'returns_1d', 'returns_3d', 'returns_7d', 'price_ma_5_ratio', 'price_ma_10_ratio', 'price_ma_20_ratio', 'macd_normalized', 'macd_signal_normalized', 'rsi_normalized', 'bb_position', 'bb_width', 'volatility_10', 'volatility_20', 'volume_avg_ratio', 'volume_change', 'vader_ma_3', 'vader_ma_7', 'article_count_norm', 'funding_rate', 'funding_rate_ma', 'momentum_5', 'momentum_10', 'day_sin', 'day_cos']\n",
      "Training sequences: 668\n",
      "Validation sequences: 95\n",
      "Test sequences: 192\n",
      "Features per timestep: 27\n",
      "Last date in dataset: 2025-05-06 00:00:00\n",
      "Random Search 85/100: {'use_batch_norm': False, 'sequence_length': 120, 'regularizer_strength': 0.001, 'regularizer': 'l1', 'recurrent_activation': 'tanh', 'optimizer': 'sgd', 'lstm_units_3': 0, 'lstm_units_2': 32, 'lstm_units_1': 48, 'learning_rate': 0.01, 'dropout_rate_dense': 0.1, 'dropout_rate_2': 0.2, 'dropout_rate_1': 0.15, 'dense_units': 64, 'cell_type': 'GRU', 'bidirectional': True, 'batch_size': 128, 'activation': 'selu'}\n",
      "Using 27 features: ['high_close_ratio', 'low_close_ratio', 'open_close_ratio', 'returns_1d', 'returns_3d', 'returns_7d', 'price_ma_5_ratio', 'price_ma_10_ratio', 'price_ma_20_ratio', 'macd_normalized', 'macd_signal_normalized', 'rsi_normalized', 'bb_position', 'bb_width', 'volatility_10', 'volatility_20', 'volume_avg_ratio', 'volume_change', 'vader_ma_3', 'vader_ma_7', 'article_count_norm', 'funding_rate', 'funding_rate_ma', 'momentum_5', 'momentum_10', 'day_sin', 'day_cos']\n",
      "Training sequences: 647\n",
      "Validation sequences: 92\n",
      "Test sequences: 186\n",
      "Features per timestep: 27\n",
      "Last date in dataset: 2025-05-06 00:00:00\n",
      "Random Search 86/100: {'use_batch_norm': False, 'sequence_length': 90, 'regularizer_strength': 0.01, 'regularizer': 'l2', 'recurrent_activation': 'sigmoid', 'optimizer': 'adam', 'lstm_units_3': 32, 'lstm_units_2': 48, 'lstm_units_1': 256, 'learning_rate': 0.001, 'dropout_rate_dense': 0.25, 'dropout_rate_2': 0.0, 'dropout_rate_1': 0.4, 'dense_units': 96, 'cell_type': 'GRU', 'bidirectional': False, 'batch_size': 64, 'activation': 'elu'}\n",
      "Using 27 features: ['high_close_ratio', 'low_close_ratio', 'open_close_ratio', 'returns_1d', 'returns_3d', 'returns_7d', 'price_ma_5_ratio', 'price_ma_10_ratio', 'price_ma_20_ratio', 'macd_normalized', 'macd_signal_normalized', 'rsi_normalized', 'bb_position', 'bb_width', 'volatility_10', 'volatility_20', 'volume_avg_ratio', 'volume_change', 'vader_ma_3', 'vader_ma_7', 'article_count_norm', 'funding_rate', 'funding_rate_ma', 'momentum_5', 'momentum_10', 'day_sin', 'day_cos']\n",
      "Training sequences: 668\n",
      "Validation sequences: 95\n",
      "Test sequences: 192\n",
      "Features per timestep: 27\n",
      "Last date in dataset: 2025-05-06 00:00:00\n",
      "Random Search 87/100: {'use_batch_norm': True, 'sequence_length': 10, 'regularizer_strength': 0.001, 'regularizer': None, 'recurrent_activation': 'hard_sigmoid', 'optimizer': 'adam', 'lstm_units_3': 0, 'lstm_units_2': 48, 'lstm_units_1': 64, 'learning_rate': 0.01, 'dropout_rate_dense': 0.1, 'dropout_rate_2': 0.3, 'dropout_rate_1': 0.0, 'dense_units': 24, 'cell_type': 'GRU', 'bidirectional': True, 'batch_size': 64, 'activation': 'elu'}\n",
      "Using 27 features: ['high_close_ratio', 'low_close_ratio', 'open_close_ratio', 'returns_1d', 'returns_3d', 'returns_7d', 'price_ma_5_ratio', 'price_ma_10_ratio', 'price_ma_20_ratio', 'macd_normalized', 'macd_signal_normalized', 'rsi_normalized', 'bb_position', 'bb_width', 'volatility_10', 'volatility_20', 'volume_avg_ratio', 'volume_change', 'vader_ma_3', 'vader_ma_7', 'article_count_norm', 'funding_rate', 'funding_rate_ma', 'momentum_5', 'momentum_10', 'day_sin', 'day_cos']\n",
      "Training sequences: 724\n",
      "Validation sequences: 103\n",
      "Test sequences: 208\n",
      "Features per timestep: 27\n",
      "Last date in dataset: 2025-05-06 00:00:00\n",
      "Random Search 88/100: {'use_batch_norm': True, 'sequence_length': 90, 'regularizer_strength': 0.001, 'regularizer': None, 'recurrent_activation': 'sigmoid', 'optimizer': 'adam', 'lstm_units_3': 8, 'lstm_units_2': 128, 'lstm_units_1': 48, 'learning_rate': 0.001, 'dropout_rate_dense': 0.3, 'dropout_rate_2': 0.2, 'dropout_rate_1': 0.0, 'dense_units': 128, 'cell_type': 'GRU', 'bidirectional': False, 'batch_size': 24, 'activation': 'tanh'}\n",
      "Using 27 features: ['high_close_ratio', 'low_close_ratio', 'open_close_ratio', 'returns_1d', 'returns_3d', 'returns_7d', 'price_ma_5_ratio', 'price_ma_10_ratio', 'price_ma_20_ratio', 'macd_normalized', 'macd_signal_normalized', 'rsi_normalized', 'bb_position', 'bb_width', 'volatility_10', 'volatility_20', 'volume_avg_ratio', 'volume_change', 'vader_ma_3', 'vader_ma_7', 'article_count_norm', 'funding_rate', 'funding_rate_ma', 'momentum_5', 'momentum_10', 'day_sin', 'day_cos']\n",
      "Training sequences: 668\n",
      "Validation sequences: 95\n",
      "Test sequences: 192\n",
      "Features per timestep: 27\n",
      "Last date in dataset: 2025-05-06 00:00:00\n",
      "Random Search 89/100: {'use_batch_norm': True, 'sequence_length': 15, 'regularizer_strength': 0.1, 'regularizer': 'l2', 'recurrent_activation': 'hard_sigmoid', 'optimizer': 'rmsprop', 'lstm_units_3': 8, 'lstm_units_2': 96, 'lstm_units_1': 128, 'learning_rate': 0.1, 'dropout_rate_dense': 0.2, 'dropout_rate_2': 0.1, 'dropout_rate_1': 0.3, 'dense_units': 24, 'cell_type': 'LSTM', 'bidirectional': True, 'batch_size': 96, 'activation': 'elu'}\n",
      "Using 27 features: ['high_close_ratio', 'low_close_ratio', 'open_close_ratio', 'returns_1d', 'returns_3d', 'returns_7d', 'price_ma_5_ratio', 'price_ma_10_ratio', 'price_ma_20_ratio', 'macd_normalized', 'macd_signal_normalized', 'rsi_normalized', 'bb_position', 'bb_width', 'volatility_10', 'volatility_20', 'volume_avg_ratio', 'volume_change', 'vader_ma_3', 'vader_ma_7', 'article_count_norm', 'funding_rate', 'funding_rate_ma', 'momentum_5', 'momentum_10', 'day_sin', 'day_cos']\n",
      "Training sequences: 721\n",
      "Validation sequences: 103\n",
      "Test sequences: 206\n",
      "Features per timestep: 27\n",
      "Last date in dataset: 2025-05-06 00:00:00\n",
      "Random Search 90/100: {'use_batch_norm': False, 'sequence_length': 90, 'regularizer_strength': 0.001, 'regularizer': 'l1', 'recurrent_activation': 'hard_sigmoid', 'optimizer': 'sgd', 'lstm_units_3': 0, 'lstm_units_2': 16, 'lstm_units_1': 48, 'learning_rate': 0.01, 'dropout_rate_dense': 0.0, 'dropout_rate_2': 0.4, 'dropout_rate_1': 0.2, 'dense_units': 128, 'cell_type': 'GRU', 'bidirectional': False, 'batch_size': 48, 'activation': 'tanh'}\n",
      "Using 27 features: ['high_close_ratio', 'low_close_ratio', 'open_close_ratio', 'returns_1d', 'returns_3d', 'returns_7d', 'price_ma_5_ratio', 'price_ma_10_ratio', 'price_ma_20_ratio', 'macd_normalized', 'macd_signal_normalized', 'rsi_normalized', 'bb_position', 'bb_width', 'volatility_10', 'volatility_20', 'volume_avg_ratio', 'volume_change', 'vader_ma_3', 'vader_ma_7', 'article_count_norm', 'funding_rate', 'funding_rate_ma', 'momentum_5', 'momentum_10', 'day_sin', 'day_cos']\n",
      "Training sequences: 668\n",
      "Validation sequences: 95\n",
      "Test sequences: 192\n",
      "Features per timestep: 27\n",
      "Last date in dataset: 2025-05-06 00:00:00\n",
      "Random Search 91/100: {'use_batch_norm': True, 'sequence_length': 10, 'regularizer_strength': 0.001, 'regularizer': 'l2', 'recurrent_activation': 'sigmoid', 'optimizer': 'adam', 'lstm_units_3': 16, 'lstm_units_2': 64, 'lstm_units_1': 256, 'learning_rate': 1e-05, 'dropout_rate_dense': 0.25, 'dropout_rate_2': 0.1, 'dropout_rate_1': 0.0, 'dense_units': 64, 'cell_type': 'LSTM', 'bidirectional': False, 'batch_size': 128, 'activation': 'tanh'}\n",
      "Using 27 features: ['high_close_ratio', 'low_close_ratio', 'open_close_ratio', 'returns_1d', 'returns_3d', 'returns_7d', 'price_ma_5_ratio', 'price_ma_10_ratio', 'price_ma_20_ratio', 'macd_normalized', 'macd_signal_normalized', 'rsi_normalized', 'bb_position', 'bb_width', 'volatility_10', 'volatility_20', 'volume_avg_ratio', 'volume_change', 'vader_ma_3', 'vader_ma_7', 'article_count_norm', 'funding_rate', 'funding_rate_ma', 'momentum_5', 'momentum_10', 'day_sin', 'day_cos']\n",
      "Training sequences: 724\n",
      "Validation sequences: 103\n",
      "Test sequences: 208\n",
      "Features per timestep: 27\n",
      "Last date in dataset: 2025-05-06 00:00:00\n",
      "Random Search 92/100: {'use_batch_norm': False, 'sequence_length': 45, 'regularizer_strength': 0.01, 'regularizer': 'l1_l2', 'recurrent_activation': 'hard_sigmoid', 'optimizer': 'adam', 'lstm_units_3': 8, 'lstm_units_2': 48, 'lstm_units_1': 16, 'learning_rate': 0.01, 'dropout_rate_dense': 0.15, 'dropout_rate_2': 0.5, 'dropout_rate_1': 0.4, 'dense_units': 32, 'cell_type': 'LSTM', 'bidirectional': True, 'batch_size': 64, 'activation': 'selu'}\n",
      "Using 27 features: ['high_close_ratio', 'low_close_ratio', 'open_close_ratio', 'returns_1d', 'returns_3d', 'returns_7d', 'price_ma_5_ratio', 'price_ma_10_ratio', 'price_ma_20_ratio', 'macd_normalized', 'macd_signal_normalized', 'rsi_normalized', 'bb_position', 'bb_width', 'volatility_10', 'volatility_20', 'volume_avg_ratio', 'volume_change', 'vader_ma_3', 'vader_ma_7', 'article_count_norm', 'funding_rate', 'funding_rate_ma', 'momentum_5', 'momentum_10', 'day_sin', 'day_cos']\n",
      "Training sequences: 700\n",
      "Validation sequences: 100\n",
      "Test sequences: 200\n",
      "Features per timestep: 27\n",
      "Last date in dataset: 2025-05-06 00:00:00\n",
      "Random Search 93/100: {'use_batch_norm': False, 'sequence_length': 30, 'regularizer_strength': 0.1, 'regularizer': 'l1', 'recurrent_activation': 'hard_sigmoid', 'optimizer': 'rmsprop', 'lstm_units_3': 16, 'lstm_units_2': 32, 'lstm_units_1': 96, 'learning_rate': 0.1, 'dropout_rate_dense': 0.1, 'dropout_rate_2': 0.1, 'dropout_rate_1': 0.25, 'dense_units': 8, 'cell_type': 'GRU', 'bidirectional': True, 'batch_size': 8, 'activation': 'elu'}\n",
      "Using 27 features: ['high_close_ratio', 'low_close_ratio', 'open_close_ratio', 'returns_1d', 'returns_3d', 'returns_7d', 'price_ma_5_ratio', 'price_ma_10_ratio', 'price_ma_20_ratio', 'macd_normalized', 'macd_signal_normalized', 'rsi_normalized', 'bb_position', 'bb_width', 'volatility_10', 'volatility_20', 'volume_avg_ratio', 'volume_change', 'vader_ma_3', 'vader_ma_7', 'article_count_norm', 'funding_rate', 'funding_rate_ma', 'momentum_5', 'momentum_10', 'day_sin', 'day_cos']\n",
      "Training sequences: 710\n",
      "Validation sequences: 101\n",
      "Test sequences: 204\n",
      "Features per timestep: 27\n",
      "Last date in dataset: 2025-05-06 00:00:00\n",
      "Random Search 94/100: {'use_batch_norm': False, 'sequence_length': 30, 'regularizer_strength': 0.01, 'regularizer': None, 'recurrent_activation': 'tanh', 'optimizer': 'sgd', 'lstm_units_3': 16, 'lstm_units_2': 16, 'lstm_units_1': 32, 'learning_rate': 0.001, 'dropout_rate_dense': 0.3, 'dropout_rate_2': 0.15, 'dropout_rate_1': 0.15, 'dense_units': 24, 'cell_type': 'LSTM', 'bidirectional': True, 'batch_size': 16, 'activation': 'tanh'}\n",
      "Using 27 features: ['high_close_ratio', 'low_close_ratio', 'open_close_ratio', 'returns_1d', 'returns_3d', 'returns_7d', 'price_ma_5_ratio', 'price_ma_10_ratio', 'price_ma_20_ratio', 'macd_normalized', 'macd_signal_normalized', 'rsi_normalized', 'bb_position', 'bb_width', 'volatility_10', 'volatility_20', 'volume_avg_ratio', 'volume_change', 'vader_ma_3', 'vader_ma_7', 'article_count_norm', 'funding_rate', 'funding_rate_ma', 'momentum_5', 'momentum_10', 'day_sin', 'day_cos']\n",
      "Training sequences: 710\n",
      "Validation sequences: 101\n",
      "Test sequences: 204\n",
      "Features per timestep: 27\n",
      "Last date in dataset: 2025-05-06 00:00:00\n",
      "Random Search 95/100: {'use_batch_norm': False, 'sequence_length': 15, 'regularizer_strength': 0.01, 'regularizer': 'l2', 'recurrent_activation': 'hard_sigmoid', 'optimizer': 'sgd', 'lstm_units_3': 32, 'lstm_units_2': 48, 'lstm_units_1': 64, 'learning_rate': 0.001, 'dropout_rate_dense': 0.0, 'dropout_rate_2': 0.15, 'dropout_rate_1': 0.5, 'dense_units': 24, 'cell_type': 'LSTM', 'bidirectional': True, 'batch_size': 96, 'activation': 'elu'}\n",
      "Using 27 features: ['high_close_ratio', 'low_close_ratio', 'open_close_ratio', 'returns_1d', 'returns_3d', 'returns_7d', 'price_ma_5_ratio', 'price_ma_10_ratio', 'price_ma_20_ratio', 'macd_normalized', 'macd_signal_normalized', 'rsi_normalized', 'bb_position', 'bb_width', 'volatility_10', 'volatility_20', 'volume_avg_ratio', 'volume_change', 'vader_ma_3', 'vader_ma_7', 'article_count_norm', 'funding_rate', 'funding_rate_ma', 'momentum_5', 'momentum_10', 'day_sin', 'day_cos']\n",
      "Training sequences: 721\n",
      "Validation sequences: 103\n",
      "Test sequences: 206\n",
      "Features per timestep: 27\n",
      "Last date in dataset: 2025-05-06 00:00:00\n",
      "Random Search 96/100: {'use_batch_norm': False, 'sequence_length': 90, 'regularizer_strength': 0.001, 'regularizer': 'l1', 'recurrent_activation': 'tanh', 'optimizer': 'rmsprop', 'lstm_units_3': 0, 'lstm_units_2': 48, 'lstm_units_1': 32, 'learning_rate': 0.001, 'dropout_rate_dense': 0.3, 'dropout_rate_2': 0.0, 'dropout_rate_1': 0.4, 'dense_units': 48, 'cell_type': 'LSTM', 'bidirectional': False, 'batch_size': 24, 'activation': 'tanh'}\n",
      "Using 27 features: ['high_close_ratio', 'low_close_ratio', 'open_close_ratio', 'returns_1d', 'returns_3d', 'returns_7d', 'price_ma_5_ratio', 'price_ma_10_ratio', 'price_ma_20_ratio', 'macd_normalized', 'macd_signal_normalized', 'rsi_normalized', 'bb_position', 'bb_width', 'volatility_10', 'volatility_20', 'volume_avg_ratio', 'volume_change', 'vader_ma_3', 'vader_ma_7', 'article_count_norm', 'funding_rate', 'funding_rate_ma', 'momentum_5', 'momentum_10', 'day_sin', 'day_cos']\n",
      "Training sequences: 668\n",
      "Validation sequences: 95\n",
      "Test sequences: 192\n",
      "Features per timestep: 27\n",
      "Last date in dataset: 2025-05-06 00:00:00\n",
      "Random Search 97/100: {'use_batch_norm': False, 'sequence_length': 60, 'regularizer_strength': 0.001, 'regularizer': None, 'recurrent_activation': 'sigmoid', 'optimizer': 'rmsprop', 'lstm_units_3': 8, 'lstm_units_2': 48, 'lstm_units_1': 192, 'learning_rate': 0.001, 'dropout_rate_dense': 0.3, 'dropout_rate_2': 0.25, 'dropout_rate_1': 0.25, 'dense_units': 32, 'cell_type': 'GRU', 'bidirectional': False, 'batch_size': 48, 'activation': 'relu'}\n",
      "Using 27 features: ['high_close_ratio', 'low_close_ratio', 'open_close_ratio', 'returns_1d', 'returns_3d', 'returns_7d', 'price_ma_5_ratio', 'price_ma_10_ratio', 'price_ma_20_ratio', 'macd_normalized', 'macd_signal_normalized', 'rsi_normalized', 'bb_position', 'bb_width', 'volatility_10', 'volatility_20', 'volume_avg_ratio', 'volume_change', 'vader_ma_3', 'vader_ma_7', 'article_count_norm', 'funding_rate', 'funding_rate_ma', 'momentum_5', 'momentum_10', 'day_sin', 'day_cos']\n",
      "Training sequences: 689\n",
      "Validation sequences: 98\n",
      "Test sequences: 198\n",
      "Features per timestep: 27\n",
      "Last date in dataset: 2025-05-06 00:00:00\n",
      "Random Search 98/100: {'use_batch_norm': True, 'sequence_length': 20, 'regularizer_strength': 0.01, 'regularizer': 'l1_l2', 'recurrent_activation': 'hard_sigmoid', 'optimizer': 'sgd', 'lstm_units_3': 8, 'lstm_units_2': 32, 'lstm_units_1': 256, 'learning_rate': 1e-05, 'dropout_rate_dense': 0.3, 'dropout_rate_2': 0.3, 'dropout_rate_1': 0.0, 'dense_units': 64, 'cell_type': 'LSTM', 'bidirectional': False, 'batch_size': 24, 'activation': 'tanh'}\n",
      "Using 27 features: ['high_close_ratio', 'low_close_ratio', 'open_close_ratio', 'returns_1d', 'returns_3d', 'returns_7d', 'price_ma_5_ratio', 'price_ma_10_ratio', 'price_ma_20_ratio', 'macd_normalized', 'macd_signal_normalized', 'rsi_normalized', 'bb_position', 'bb_width', 'volatility_10', 'volatility_20', 'volume_avg_ratio', 'volume_change', 'vader_ma_3', 'vader_ma_7', 'article_count_norm', 'funding_rate', 'funding_rate_ma', 'momentum_5', 'momentum_10', 'day_sin', 'day_cos']\n",
      "Training sequences: 717\n",
      "Validation sequences: 102\n",
      "Test sequences: 206\n",
      "Features per timestep: 27\n",
      "Last date in dataset: 2025-05-06 00:00:00\n",
      "Random Search 99/100: {'use_batch_norm': False, 'sequence_length': 30, 'regularizer_strength': 0.001, 'regularizer': 'l1', 'recurrent_activation': 'sigmoid', 'optimizer': 'rmsprop', 'lstm_units_3': 32, 'lstm_units_2': 128, 'lstm_units_1': 32, 'learning_rate': 1e-05, 'dropout_rate_dense': 0.2, 'dropout_rate_2': 0.4, 'dropout_rate_1': 0.5, 'dense_units': 128, 'cell_type': 'LSTM', 'bidirectional': False, 'batch_size': 24, 'activation': 'tanh'}\n",
      "Using 27 features: ['high_close_ratio', 'low_close_ratio', 'open_close_ratio', 'returns_1d', 'returns_3d', 'returns_7d', 'price_ma_5_ratio', 'price_ma_10_ratio', 'price_ma_20_ratio', 'macd_normalized', 'macd_signal_normalized', 'rsi_normalized', 'bb_position', 'bb_width', 'volatility_10', 'volatility_20', 'volume_avg_ratio', 'volume_change', 'vader_ma_3', 'vader_ma_7', 'article_count_norm', 'funding_rate', 'funding_rate_ma', 'momentum_5', 'momentum_10', 'day_sin', 'day_cos']\n",
      "Training sequences: 710\n",
      "Validation sequences: 101\n",
      "Test sequences: 204\n",
      "Features per timestep: 27\n",
      "Last date in dataset: 2025-05-06 00:00:00\n",
      "Random Search 100/100: {'use_batch_norm': True, 'sequence_length': 60, 'regularizer_strength': 0.1, 'regularizer': 'l1_l2', 'recurrent_activation': 'hard_sigmoid', 'optimizer': 'adam', 'lstm_units_3': 16, 'lstm_units_2': 16, 'lstm_units_1': 32, 'learning_rate': 0.0001, 'dropout_rate_dense': 0.0, 'dropout_rate_2': 0.0, 'dropout_rate_1': 0.5, 'dense_units': 32, 'cell_type': 'LSTM', 'bidirectional': False, 'batch_size': 128, 'activation': 'relu'}\n",
      "Using 27 features: ['high_close_ratio', 'low_close_ratio', 'open_close_ratio', 'returns_1d', 'returns_3d', 'returns_7d', 'price_ma_5_ratio', 'price_ma_10_ratio', 'price_ma_20_ratio', 'macd_normalized', 'macd_signal_normalized', 'rsi_normalized', 'bb_position', 'bb_width', 'volatility_10', 'volatility_20', 'volume_avg_ratio', 'volume_change', 'vader_ma_3', 'vader_ma_7', 'article_count_norm', 'funding_rate', 'funding_rate_ma', 'momentum_5', 'momentum_10', 'day_sin', 'day_cos']\n",
      "Training sequences: 689\n",
      "Validation sequences: 98\n",
      "Test sequences: 198\n",
      "Features per timestep: 27\n",
      "Last date in dataset: 2025-05-06 00:00:00\n"
     ]
    },
    {
     "name": "stderr",
     "output_type": "stream",
     "text": [
      "[I 2025-07-08 12:04:54,380] A new study created in memory with name: no-name-a60b4685-bd47-4b17-ac7e-950e9f5e4eb8\n"
     ]
    },
    {
     "name": "stdout",
     "output_type": "stream",
     "text": [
      "\n",
      "============================================================\n",
      "PHASE 3: BAYESIAN OPTIMIZATION\n",
      "============================================================\n",
      "Starting Bayesian Optimization for return model...\n"
     ]
    },
    {
     "name": "stderr",
     "output_type": "stream",
     "text": [
      "  0%|          | 0/150 [00:00<?, ?it/s]"
     ]
    },
    {
     "name": "stdout",
     "output_type": "stream",
     "text": [
      "Using 27 features: ['high_close_ratio', 'low_close_ratio', 'open_close_ratio', 'returns_1d', 'returns_3d', 'returns_7d', 'price_ma_5_ratio', 'price_ma_10_ratio', 'price_ma_20_ratio', 'macd_normalized', 'macd_signal_normalized', 'rsi_normalized', 'bb_position', 'bb_width', 'volatility_10', 'volatility_20', 'volume_avg_ratio', 'volume_change', 'vader_ma_3', 'vader_ma_7', 'article_count_norm', 'funding_rate', 'funding_rate_ma', 'momentum_5', 'momentum_10', 'day_sin', 'day_cos']\n",
      "Training sequences: 647\n",
      "Validation sequences: 92\n",
      "Test sequences: 186\n",
      "Features per timestep: 27\n",
      "Last date in dataset: 2025-05-06 00:00:00\n"
     ]
    },
    {
     "name": "stderr",
     "output_type": "stream",
     "text": [
      "Best trial: 0. Best value: -0.0102034:   1%|          | 1/150 [00:34<1:25:02, 34.25s/it]"
     ]
    },
    {
     "name": "stdout",
     "output_type": "stream",
     "text": [
      "[I 2025-07-08 12:05:28,684] Trial 0 finished with value: -0.010203434510674785 and parameters: {'sequence_length': 120, 'lstm_units_1': 131, 'lstm_units_2': 51, 'lstm_units_3': 38, 'dropout_rate_1': 0.12470325616824474, 'dropout_rate_2': 0.23675578359054472, 'dropout_rate_dense': 0.06652187885374632, 'learning_rate': 0.0009210205557801225, 'batch_size': 48, 'dense_units': 17, 'optimizer': 'adam', 'activation': 'elu', 'recurrent_activation': 'hard_sigmoid', 'use_batch_norm': False, 'regularizer': None, 'regularizer_strength': 0.0022981698180201972, 'cell_type': 'LSTM', 'bidirectional': True}. Best is trial 0 with value: -0.010203434510674785.\n",
      "Using 27 features: ['high_close_ratio', 'low_close_ratio', 'open_close_ratio', 'returns_1d', 'returns_3d', 'returns_7d', 'price_ma_5_ratio', 'price_ma_10_ratio', 'price_ma_20_ratio', 'macd_normalized', 'macd_signal_normalized', 'rsi_normalized', 'bb_position', 'bb_width', 'volatility_10', 'volatility_20', 'volume_avg_ratio', 'volume_change', 'vader_ma_3', 'vader_ma_7', 'article_count_norm', 'funding_rate', 'funding_rate_ma', 'momentum_5', 'momentum_10', 'day_sin', 'day_cos']\n",
      "Training sequences: 714\n",
      "Validation sequences: 102\n",
      "Test sequences: 205\n",
      "Features per timestep: 27\n",
      "Last date in dataset: 2025-05-06 00:00:00\n"
     ]
    },
    {
     "name": "stderr",
     "output_type": "stream",
     "text": [
      "Best trial: 1. Best value: -0.00800546:   1%|▏         | 2/150 [00:47<53:57, 21.87s/it]  "
     ]
    },
    {
     "name": "stdout",
     "output_type": "stream",
     "text": [
      "[I 2025-07-08 12:05:41,893] Trial 1 finished with value: -0.008005463216588132 and parameters: {'sequence_length': 24, 'lstm_units_1': 35, 'lstm_units_2': 53, 'lstm_units_3': 45, 'dropout_rate_1': 0.11583422269877952, 'dropout_rate_2': 0.05982025643703026, 'dropout_rate_dense': 0.10778728297534948, 'learning_rate': 0.06611307714827304, 'batch_size': 32, 'dense_units': 127, 'optimizer': 'sgd', 'activation': 'elu', 'recurrent_activation': 'tanh', 'use_batch_norm': True, 'regularizer': 'l1_l2', 'regularizer_strength': 0.04026775827867137, 'cell_type': 'LSTM', 'bidirectional': True}. Best is trial 1 with value: -0.008005463216588132.\n",
      "Using 27 features: ['high_close_ratio', 'low_close_ratio', 'open_close_ratio', 'returns_1d', 'returns_3d', 'returns_7d', 'price_ma_5_ratio', 'price_ma_10_ratio', 'price_ma_20_ratio', 'macd_normalized', 'macd_signal_normalized', 'rsi_normalized', 'bb_position', 'bb_width', 'volatility_10', 'volatility_20', 'volume_avg_ratio', 'volume_change', 'vader_ma_3', 'vader_ma_7', 'article_count_norm', 'funding_rate', 'funding_rate_ma', 'momentum_5', 'momentum_10', 'day_sin', 'day_cos']\n",
      "Training sequences: 722\n",
      "Validation sequences: 103\n",
      "Test sequences: 207\n",
      "Features per timestep: 27\n",
      "Last date in dataset: 2025-05-06 00:00:00\n"
     ]
    },
    {
     "name": "stderr",
     "output_type": "stream",
     "text": [
      "Best trial: 1. Best value: -0.00800546:   2%|▏         | 3/150 [00:54<37:05, 15.14s/it]"
     ]
    },
    {
     "name": "stdout",
     "output_type": "stream",
     "text": [
      "[I 2025-07-08 12:05:49,023] Trial 2 finished with value: -0.4028892346187065 and parameters: {'sequence_length': 13, 'lstm_units_1': 169, 'lstm_units_2': 56, 'lstm_units_3': 29, 'dropout_rate_1': 0.09441393333622072, 'dropout_rate_2': 0.0025701852004822445, 'dropout_rate_dense': 0.010900251772480196, 'learning_rate': 1.7659454436887427e-05, 'batch_size': 16, 'dense_units': 44, 'optimizer': 'sgd', 'activation': 'tanh', 'recurrent_activation': 'tanh', 'use_batch_norm': True, 'regularizer': None, 'regularizer_strength': 0.011581077223871306, 'cell_type': 'GRU', 'bidirectional': False}. Best is trial 1 with value: -0.008005463216588132.\n",
      "Using 27 features: ['high_close_ratio', 'low_close_ratio', 'open_close_ratio', 'returns_1d', 'returns_3d', 'returns_7d', 'price_ma_5_ratio', 'price_ma_10_ratio', 'price_ma_20_ratio', 'macd_normalized', 'macd_signal_normalized', 'rsi_normalized', 'bb_position', 'bb_width', 'volatility_10', 'volatility_20', 'volume_avg_ratio', 'volume_change', 'vader_ma_3', 'vader_ma_7', 'article_count_norm', 'funding_rate', 'funding_rate_ma', 'momentum_5', 'momentum_10', 'day_sin', 'day_cos']\n",
      "Training sequences: 700\n",
      "Validation sequences: 100\n",
      "Test sequences: 200\n",
      "Features per timestep: 27\n",
      "Last date in dataset: 2025-05-06 00:00:00\n"
     ]
    },
    {
     "name": "stderr",
     "output_type": "stream",
     "text": [
      "Best trial: 1. Best value: -0.00800546:   3%|▎         | 4/150 [01:30<56:25, 23.19s/it]"
     ]
    },
    {
     "name": "stdout",
     "output_type": "stream",
     "text": [
      "[I 2025-07-08 12:06:24,546] Trial 3 finished with value: -0.00820673898612296 and parameters: {'sequence_length': 45, 'lstm_units_1': 56, 'lstm_units_2': 13, 'lstm_units_3': 59, 'dropout_rate_1': 0.36373375312807404, 'dropout_rate_2': 0.4396442030377667, 'dropout_rate_dense': 0.06387358447292174, 'learning_rate': 0.08566609263771191, 'batch_size': 96, 'dense_units': 22, 'optimizer': 'sgd', 'activation': 'selu', 'recurrent_activation': 'tanh', 'use_batch_norm': True, 'regularizer': 'l2', 'regularizer_strength': 0.023502766791201175, 'cell_type': 'GRU', 'bidirectional': True}. Best is trial 1 with value: -0.008005463216588132.\n",
      "Using 27 features: ['high_close_ratio', 'low_close_ratio', 'open_close_ratio', 'returns_1d', 'returns_3d', 'returns_7d', 'price_ma_5_ratio', 'price_ma_10_ratio', 'price_ma_20_ratio', 'macd_normalized', 'macd_signal_normalized', 'rsi_normalized', 'bb_position', 'bb_width', 'volatility_10', 'volatility_20', 'volume_avg_ratio', 'volume_change', 'vader_ma_3', 'vader_ma_7', 'article_count_norm', 'funding_rate', 'funding_rate_ma', 'momentum_5', 'momentum_10', 'day_sin', 'day_cos']\n",
      "Training sequences: 693\n",
      "Validation sequences: 99\n",
      "Test sequences: 199\n",
      "Features per timestep: 27\n",
      "Last date in dataset: 2025-05-06 00:00:00\n"
     ]
    },
    {
     "name": "stderr",
     "output_type": "stream",
     "text": [
      "Best trial: 1. Best value: -0.00800546:   3%|▎         | 5/150 [02:07<1:08:31, 28.35s/it]"
     ]
    },
    {
     "name": "stdout",
     "output_type": "stream",
     "text": [
      "[I 2025-07-08 12:07:02,058] Trial 4 finished with value: -0.12743304192641217 and parameters: {'sequence_length': 54, 'lstm_units_1': 123, 'lstm_units_2': 26, 'lstm_units_3': 56, 'dropout_rate_1': 0.006321912420142406, 'dropout_rate_2': 0.21590992509103685, 'dropout_rate_dense': 0.07618306679044397, 'learning_rate': 6.383631694995373e-05, 'batch_size': 64, 'dense_units': 80, 'optimizer': 'sgd', 'activation': 'elu', 'recurrent_activation': 'tanh', 'use_batch_norm': False, 'regularizer': 'l1', 'regularizer_strength': 0.025628337608259597, 'cell_type': 'LSTM', 'bidirectional': False}. Best is trial 1 with value: -0.008005463216588132.\n",
      "Using 27 features: ['high_close_ratio', 'low_close_ratio', 'open_close_ratio', 'returns_1d', 'returns_3d', 'returns_7d', 'price_ma_5_ratio', 'price_ma_10_ratio', 'price_ma_20_ratio', 'macd_normalized', 'macd_signal_normalized', 'rsi_normalized', 'bb_position', 'bb_width', 'volatility_10', 'volatility_20', 'volume_avg_ratio', 'volume_change', 'vader_ma_3', 'vader_ma_7', 'article_count_norm', 'funding_rate', 'funding_rate_ma', 'momentum_5', 'momentum_10', 'day_sin', 'day_cos']\n",
      "Training sequences: 666\n",
      "Validation sequences: 95\n",
      "Test sequences: 191\n",
      "Features per timestep: 27\n",
      "Last date in dataset: 2025-05-06 00:00:00\n"
     ]
    },
    {
     "name": "stderr",
     "output_type": "stream",
     "text": [
      "Best trial: 1. Best value: -0.00800546:   4%|▍         | 6/150 [06:39<4:26:40, 111.11s/it]"
     ]
    },
    {
     "name": "stdout",
     "output_type": "stream",
     "text": [
      "[I 2025-07-08 12:11:33,826] Trial 5 finished with value: -0.008441383058261292 and parameters: {'sequence_length': 93, 'lstm_units_1': 76, 'lstm_units_2': 119, 'lstm_units_3': 15, 'dropout_rate_1': 0.41364852883073505, 'dropout_rate_2': 0.07310441247262767, 'dropout_rate_dense': 0.2980885191888453, 'learning_rate': 0.002413222155738307, 'batch_size': 8, 'dense_units': 10, 'optimizer': 'sgd', 'activation': 'selu', 'recurrent_activation': 'sigmoid', 'use_batch_norm': False, 'regularizer': 'l2', 'regularizer_strength': 0.03669506862294249, 'cell_type': 'GRU', 'bidirectional': False}. Best is trial 1 with value: -0.008005463216588132.\n",
      "Using 27 features: ['high_close_ratio', 'low_close_ratio', 'open_close_ratio', 'returns_1d', 'returns_3d', 'returns_7d', 'price_ma_5_ratio', 'price_ma_10_ratio', 'price_ma_20_ratio', 'macd_normalized', 'macd_signal_normalized', 'rsi_normalized', 'bb_position', 'bb_width', 'volatility_10', 'volatility_20', 'volume_avg_ratio', 'volume_change', 'vader_ma_3', 'vader_ma_7', 'article_count_norm', 'funding_rate', 'funding_rate_ma', 'momentum_5', 'momentum_10', 'day_sin', 'day_cos']\n",
      "Training sequences: 723\n",
      "Validation sequences: 103\n",
      "Test sequences: 208\n",
      "Features per timestep: 27\n",
      "Last date in dataset: 2025-05-06 00:00:00\n"
     ]
    },
    {
     "name": "stderr",
     "output_type": "stream",
     "text": [
      "Best trial: 1. Best value: -0.00800546:   5%|▍         | 7/150 [06:56<3:11:27, 80.33s/it] "
     ]
    },
    {
     "name": "stdout",
     "output_type": "stream",
     "text": [
      "[I 2025-07-08 12:11:50,780] Trial 6 finished with value: -0.008063823417343347 and parameters: {'sequence_length': 11, 'lstm_units_1': 25, 'lstm_units_2': 60, 'lstm_units_3': 55, 'dropout_rate_1': 0.48045927953272294, 'dropout_rate_2': 0.2523949505845927, 'dropout_rate_dense': 0.24867872169025965, 'learning_rate': 4.271840187663704e-05, 'batch_size': 24, 'dense_units': 52, 'optimizer': 'rmsprop', 'activation': 'tanh', 'recurrent_activation': 'sigmoid', 'use_batch_norm': True, 'regularizer': 'l1_l2', 'regularizer_strength': 0.002184382362005391, 'cell_type': 'LSTM', 'bidirectional': False}. Best is trial 1 with value: -0.008005463216588132.\n",
      "Using 27 features: ['high_close_ratio', 'low_close_ratio', 'open_close_ratio', 'returns_1d', 'returns_3d', 'returns_7d', 'price_ma_5_ratio', 'price_ma_10_ratio', 'price_ma_20_ratio', 'macd_normalized', 'macd_signal_normalized', 'rsi_normalized', 'bb_position', 'bb_width', 'volatility_10', 'volatility_20', 'volume_avg_ratio', 'volume_change', 'vader_ma_3', 'vader_ma_7', 'article_count_norm', 'funding_rate', 'funding_rate_ma', 'momentum_5', 'momentum_10', 'day_sin', 'day_cos']\n",
      "Training sequences: 713\n",
      "Validation sequences: 101\n",
      "Test sequences: 205\n",
      "Features per timestep: 27\n",
      "Last date in dataset: 2025-05-06 00:00:00\n"
     ]
    },
    {
     "name": "stderr",
     "output_type": "stream",
     "text": [
      "Best trial: 1. Best value: -0.00800546:   5%|▌         | 8/150 [07:59<2:57:06, 74.83s/it]"
     ]
    },
    {
     "name": "stdout",
     "output_type": "stream",
     "text": [
      "[I 2025-07-08 12:12:53,838] Trial 7 finished with value: -0.01094771812163592 and parameters: {'sequence_length': 26, 'lstm_units_1': 44, 'lstm_units_2': 52, 'lstm_units_3': 41, 'dropout_rate_1': 0.1354780525550197, 'dropout_rate_2': 0.47004615691320883, 'dropout_rate_dense': 0.2590508069863916, 'learning_rate': 8.435763708421701e-05, 'batch_size': 8, 'dense_units': 60, 'optimizer': 'sgd', 'activation': 'relu', 'recurrent_activation': 'tanh', 'use_batch_norm': True, 'regularizer': 'l2', 'regularizer_strength': 0.001275101432910686, 'cell_type': 'LSTM', 'bidirectional': False}. Best is trial 1 with value: -0.008005463216588132.\n",
      "Using 27 features: ['high_close_ratio', 'low_close_ratio', 'open_close_ratio', 'returns_1d', 'returns_3d', 'returns_7d', 'price_ma_5_ratio', 'price_ma_10_ratio', 'price_ma_20_ratio', 'macd_normalized', 'macd_signal_normalized', 'rsi_normalized', 'bb_position', 'bb_width', 'volatility_10', 'volatility_20', 'volume_avg_ratio', 'volume_change', 'vader_ma_3', 'vader_ma_7', 'article_count_norm', 'funding_rate', 'funding_rate_ma', 'momentum_5', 'momentum_10', 'day_sin', 'day_cos']\n",
      "Training sequences: 716\n",
      "Validation sequences: 102\n",
      "Test sequences: 205\n",
      "Features per timestep: 27\n",
      "Last date in dataset: 2025-05-06 00:00:00\n"
     ]
    },
    {
     "name": "stderr",
     "output_type": "stream",
     "text": [
      "Best trial: 1. Best value: -0.00800546:   6%|▌         | 9/150 [08:16<2:13:45, 56.92s/it]"
     ]
    },
    {
     "name": "stdout",
     "output_type": "stream",
     "text": [
      "[I 2025-07-08 12:13:11,377] Trial 8 finished with value: -0.008561291621018536 and parameters: {'sequence_length': 22, 'lstm_units_1': 25, 'lstm_units_2': 64, 'lstm_units_3': 1, 'dropout_rate_1': 0.17097174977815383, 'dropout_rate_2': 0.08433137118959977, 'dropout_rate_dense': 0.2221208809565587, 'learning_rate': 5.1777262512542705e-05, 'batch_size': 48, 'dense_units': 125, 'optimizer': 'adam', 'activation': 'tanh', 'recurrent_activation': 'hard_sigmoid', 'use_batch_norm': False, 'regularizer': None, 'regularizer_strength': 0.06379113930859774, 'cell_type': 'LSTM', 'bidirectional': False}. Best is trial 1 with value: -0.008005463216588132.\n",
      "Using 27 features: ['high_close_ratio', 'low_close_ratio', 'open_close_ratio', 'returns_1d', 'returns_3d', 'returns_7d', 'price_ma_5_ratio', 'price_ma_10_ratio', 'price_ma_20_ratio', 'macd_normalized', 'macd_signal_normalized', 'rsi_normalized', 'bb_position', 'bb_width', 'volatility_10', 'volatility_20', 'volume_avg_ratio', 'volume_change', 'vader_ma_3', 'vader_ma_7', 'article_count_norm', 'funding_rate', 'funding_rate_ma', 'momentum_5', 'momentum_10', 'day_sin', 'day_cos']\n",
      "Training sequences: 698\n",
      "Validation sequences: 99\n",
      "Test sequences: 201\n",
      "Features per timestep: 27\n",
      "Last date in dataset: 2025-05-06 00:00:00\n"
     ]
    },
    {
     "name": "stderr",
     "output_type": "stream",
     "text": [
      "Best trial: 1. Best value: -0.00800546:   7%|▋         | 10/150 [09:09<2:09:56, 55.69s/it]"
     ]
    },
    {
     "name": "stdout",
     "output_type": "stream",
     "text": [
      "[I 2025-07-08 12:14:04,307] Trial 9 finished with value: -0.059794219400956 and parameters: {'sequence_length': 47, 'lstm_units_1': 28, 'lstm_units_2': 124, 'lstm_units_3': 29, 'dropout_rate_1': 0.42959000091435373, 'dropout_rate_2': 0.3387482070949451, 'dropout_rate_dense': 0.07687557716792244, 'learning_rate': 8.611127975552847e-05, 'batch_size': 64, 'dense_units': 97, 'optimizer': 'sgd', 'activation': 'elu', 'recurrent_activation': 'hard_sigmoid', 'use_batch_norm': False, 'regularizer': 'l1', 'regularizer_strength': 0.08781419159001598, 'cell_type': 'GRU', 'bidirectional': True}. Best is trial 1 with value: -0.008005463216588132.\n",
      "Using 27 features: ['high_close_ratio', 'low_close_ratio', 'open_close_ratio', 'returns_1d', 'returns_3d', 'returns_7d', 'price_ma_5_ratio', 'price_ma_10_ratio', 'price_ma_20_ratio', 'macd_normalized', 'macd_signal_normalized', 'rsi_normalized', 'bb_position', 'bb_width', 'volatility_10', 'volatility_20', 'volume_avg_ratio', 'volume_change', 'vader_ma_3', 'vader_ma_7', 'article_count_norm', 'funding_rate', 'funding_rate_ma', 'momentum_5', 'momentum_10', 'day_sin', 'day_cos']\n",
      "Training sequences: 679\n",
      "Validation sequences: 97\n",
      "Test sequences: 194\n",
      "Features per timestep: 27\n",
      "Last date in dataset: 2025-05-06 00:00:00\n"
     ]
    },
    {
     "name": "stderr",
     "output_type": "stream",
     "text": [
      "Best trial: 1. Best value: -0.00800546:   7%|▋         | 11/150 [12:12<3:38:44, 94.42s/it]"
     ]
    },
    {
     "name": "stdout",
     "output_type": "stream",
     "text": [
      "[I 2025-07-08 12:17:06,555] Trial 10 finished with value: -0.008311879581183644 and parameters: {'sequence_length': 75, 'lstm_units_1': 251, 'lstm_units_2': 99, 'lstm_units_3': 45, 'dropout_rate_1': 0.24859154006404496, 'dropout_rate_2': 0.1429377521139686, 'dropout_rate_dense': 0.1832718230998293, 'learning_rate': 0.04018588630257803, 'batch_size': 32, 'dense_units': 123, 'optimizer': 'rmsprop', 'activation': 'relu', 'recurrent_activation': 'tanh', 'use_batch_norm': True, 'regularizer': 'l1_l2', 'regularizer_strength': 0.006165836848488365, 'cell_type': 'LSTM', 'bidirectional': True}. Best is trial 1 with value: -0.008005463216588132.\n",
      "Using 27 features: ['high_close_ratio', 'low_close_ratio', 'open_close_ratio', 'returns_1d', 'returns_3d', 'returns_7d', 'price_ma_5_ratio', 'price_ma_10_ratio', 'price_ma_20_ratio', 'macd_normalized', 'macd_signal_normalized', 'rsi_normalized', 'bb_position', 'bb_width', 'volatility_10', 'volatility_20', 'volume_avg_ratio', 'volume_change', 'vader_ma_3', 'vader_ma_7', 'article_count_norm', 'funding_rate', 'funding_rate_ma', 'momentum_5', 'momentum_10', 'day_sin', 'day_cos']\n",
      "Training sequences: 724\n",
      "Validation sequences: 103\n",
      "Test sequences: 208\n",
      "Features per timestep: 27\n",
      "Last date in dataset: 2025-05-06 00:00:00\n"
     ]
    },
    {
     "name": "stderr",
     "output_type": "stream",
     "text": [
      "Best trial: 1. Best value: -0.00800546:   8%|▊         | 12/150 [12:41<2:51:53, 74.74s/it]"
     ]
    },
    {
     "name": "stdout",
     "output_type": "stream",
     "text": [
      "[I 2025-07-08 12:17:36,265] Trial 11 finished with value: -0.008071784722276609 and parameters: {'sequence_length': 10, 'lstm_units_1': 88, 'lstm_units_2': 86, 'lstm_units_3': 64, 'dropout_rate_1': 0.29985280466776665, 'dropout_rate_2': 0.3287523112817009, 'dropout_rate_dense': 0.1404571397073854, 'learning_rate': 0.00712112455273791, 'batch_size': 24, 'dense_units': 47, 'optimizer': 'rmsprop', 'activation': 'tanh', 'recurrent_activation': 'sigmoid', 'use_batch_norm': True, 'regularizer': 'l1_l2', 'regularizer_strength': 0.004418918366935688, 'cell_type': 'LSTM', 'bidirectional': True}. Best is trial 1 with value: -0.008005463216588132.\n",
      "Using 27 features: ['high_close_ratio', 'low_close_ratio', 'open_close_ratio', 'returns_1d', 'returns_3d', 'returns_7d', 'price_ma_5_ratio', 'price_ma_10_ratio', 'price_ma_20_ratio', 'macd_normalized', 'macd_signal_normalized', 'rsi_normalized', 'bb_position', 'bb_width', 'volatility_10', 'volatility_20', 'volume_avg_ratio', 'volume_change', 'vader_ma_3', 'vader_ma_7', 'article_count_norm', 'funding_rate', 'funding_rate_ma', 'momentum_5', 'momentum_10', 'day_sin', 'day_cos']\n",
      "Training sequences: 709\n",
      "Validation sequences: 101\n",
      "Test sequences: 204\n",
      "Features per timestep: 27\n",
      "Last date in dataset: 2025-05-06 00:00:00\n"
     ]
    },
    {
     "name": "stderr",
     "output_type": "stream",
     "text": [
      "Best trial: 1. Best value: -0.00800546:   9%|▊         | 13/150 [13:22<2:27:02, 64.40s/it]"
     ]
    },
    {
     "name": "stdout",
     "output_type": "stream",
     "text": [
      "[I 2025-07-08 12:18:16,881] Trial 12 finished with value: -0.008092706449848192 and parameters: {'sequence_length': 31, 'lstm_units_1': 182, 'lstm_units_2': 35, 'lstm_units_3': 49, 'dropout_rate_1': 0.49261839782221095, 'dropout_rate_2': 0.32011686168278575, 'dropout_rate_dense': 0.13755475077093623, 'learning_rate': 0.00046946816842179155, 'batch_size': 32, 'dense_units': 94, 'optimizer': 'rmsprop', 'activation': 'elu', 'recurrent_activation': 'sigmoid', 'use_batch_norm': True, 'regularizer': 'l1_l2', 'regularizer_strength': 0.0010141783008679702, 'cell_type': 'LSTM', 'bidirectional': False}. Best is trial 1 with value: -0.008005463216588132.\n",
      "Using 27 features: ['high_close_ratio', 'low_close_ratio', 'open_close_ratio', 'returns_1d', 'returns_3d', 'returns_7d', 'price_ma_5_ratio', 'price_ma_10_ratio', 'price_ma_20_ratio', 'macd_normalized', 'macd_signal_normalized', 'rsi_normalized', 'bb_position', 'bb_width', 'volatility_10', 'volatility_20', 'volume_avg_ratio', 'volume_change', 'vader_ma_3', 'vader_ma_7', 'article_count_norm', 'funding_rate', 'funding_rate_ma', 'momentum_5', 'momentum_10', 'day_sin', 'day_cos']\n",
      "Training sequences: 707\n",
      "Validation sequences: 101\n",
      "Test sequences: 203\n",
      "Features per timestep: 27\n",
      "Last date in dataset: 2025-05-06 00:00:00\n"
     ]
    },
    {
     "name": "stderr",
     "output_type": "stream",
     "text": [
      "Best trial: 1. Best value: -0.00800546:   9%|▉         | 14/150 [13:56<2:05:12, 55.24s/it]"
     ]
    },
    {
     "name": "stdout",
     "output_type": "stream",
     "text": [
      "[I 2025-07-08 12:18:50,958] Trial 13 finished with value: -0.008580544084032754 and parameters: {'sequence_length': 34, 'lstm_units_1': 91, 'lstm_units_2': 79, 'lstm_units_3': 52, 'dropout_rate_1': 0.22927826003647178, 'dropout_rate_2': 0.16425345998648821, 'dropout_rate_dense': 0.1878649241967459, 'learning_rate': 0.008520478789302108, 'batch_size': 128, 'dense_units': 77, 'optimizer': 'rmsprop', 'activation': 'tanh', 'recurrent_activation': 'sigmoid', 'use_batch_norm': True, 'regularizer': 'l1_l2', 'regularizer_strength': 0.012328634508669896, 'cell_type': 'LSTM', 'bidirectional': True}. Best is trial 1 with value: -0.008005463216588132.\n",
      "Using 27 features: ['high_close_ratio', 'low_close_ratio', 'open_close_ratio', 'returns_1d', 'returns_3d', 'returns_7d', 'price_ma_5_ratio', 'price_ma_10_ratio', 'price_ma_20_ratio', 'macd_normalized', 'macd_signal_normalized', 'rsi_normalized', 'bb_position', 'bb_width', 'volatility_10', 'volatility_20', 'volume_avg_ratio', 'volume_change', 'vader_ma_3', 'vader_ma_7', 'article_count_norm', 'funding_rate', 'funding_rate_ma', 'momentum_5', 'momentum_10', 'day_sin', 'day_cos']\n",
      "Training sequences: 679\n",
      "Validation sequences: 97\n",
      "Test sequences: 194\n",
      "Features per timestep: 27\n",
      "Last date in dataset: 2025-05-06 00:00:00\n"
     ]
    },
    {
     "name": "stderr",
     "output_type": "stream",
     "text": [
      "Best trial: 1. Best value: -0.00800546:  10%|█         | 15/150 [14:58<2:09:03, 57.36s/it]"
     ]
    },
    {
     "name": "stdout",
     "output_type": "stream",
     "text": [
      "[I 2025-07-08 12:19:53,225] Trial 14 finished with value: -0.008338433428092323 and parameters: {'sequence_length': 75, 'lstm_units_1': 16, 'lstm_units_2': 40, 'lstm_units_3': 36, 'dropout_rate_1': 0.027709162188152878, 'dropout_rate_2': 0.29961151834974964, 'dropout_rate_dense': 0.12565357033933167, 'learning_rate': 0.0003358122518888749, 'batch_size': 24, 'dense_units': 36, 'optimizer': 'rmsprop', 'activation': 'tanh', 'recurrent_activation': 'sigmoid', 'use_batch_norm': True, 'regularizer': 'l1_l2', 'regularizer_strength': 0.0037727454199397515, 'cell_type': 'LSTM', 'bidirectional': False}. Best is trial 1 with value: -0.008005463216588132.\n",
      "Using 27 features: ['high_close_ratio', 'low_close_ratio', 'open_close_ratio', 'returns_1d', 'returns_3d', 'returns_7d', 'price_ma_5_ratio', 'price_ma_10_ratio', 'price_ma_20_ratio', 'macd_normalized', 'macd_signal_normalized', 'rsi_normalized', 'bb_position', 'bb_width', 'volatility_10', 'volatility_20', 'volume_avg_ratio', 'volume_change', 'vader_ma_3', 'vader_ma_7', 'article_count_norm', 'funding_rate', 'funding_rate_ma', 'momentum_5', 'momentum_10', 'day_sin', 'day_cos']\n",
      "Training sequences: 704\n",
      "Validation sequences: 100\n",
      "Test sequences: 203\n",
      "Features per timestep: 27\n",
      "Last date in dataset: 2025-05-06 00:00:00\n"
     ]
    },
    {
     "name": "stderr",
     "output_type": "stream",
     "text": [
      "Best trial: 1. Best value: -0.00800546:  11%|█         | 16/150 [15:41<1:58:29, 53.05s/it]"
     ]
    },
    {
     "name": "stdout",
     "output_type": "stream",
     "text": [
      "[I 2025-07-08 12:20:36,286] Trial 15 finished with value: -0.05250001395626919 and parameters: {'sequence_length': 38, 'lstm_units_1': 69, 'lstm_units_2': 72, 'lstm_units_3': 21, 'dropout_rate_1': 0.32987618700006416, 'dropout_rate_2': 0.40119167784617277, 'dropout_rate_dense': 0.2367273613935466, 'learning_rate': 1.0980126533735546e-05, 'batch_size': 32, 'dense_units': 103, 'optimizer': 'adam', 'activation': 'elu', 'recurrent_activation': 'tanh', 'use_batch_norm': True, 'regularizer': 'l1_l2', 'regularizer_strength': 0.0022637273069569972, 'cell_type': 'LSTM', 'bidirectional': True}. Best is trial 1 with value: -0.008005463216588132.\n",
      "Using 27 features: ['high_close_ratio', 'low_close_ratio', 'open_close_ratio', 'returns_1d', 'returns_3d', 'returns_7d', 'price_ma_5_ratio', 'price_ma_10_ratio', 'price_ma_20_ratio', 'macd_normalized', 'macd_signal_normalized', 'rsi_normalized', 'bb_position', 'bb_width', 'volatility_10', 'volatility_20', 'volume_avg_ratio', 'volume_change', 'vader_ma_3', 'vader_ma_7', 'article_count_norm', 'funding_rate', 'funding_rate_ma', 'momentum_5', 'momentum_10', 'day_sin', 'day_cos']\n",
      "Training sequences: 690\n",
      "Validation sequences: 98\n",
      "Test sequences: 198\n",
      "Features per timestep: 27\n",
      "Last date in dataset: 2025-05-06 00:00:00\n"
     ]
    },
    {
     "name": "stderr",
     "output_type": "stream",
     "text": [
      "Best trial: 1. Best value: -0.00800546:  11%|█▏        | 17/150 [16:54<2:10:23, 58.82s/it]"
     ]
    },
    {
     "name": "stdout",
     "output_type": "stream",
     "text": [
      "[I 2025-07-08 12:21:48,514] Trial 16 finished with value: -0.008259738181026257 and parameters: {'sequence_length': 59, 'lstm_units_1': 104, 'lstm_units_2': 90, 'lstm_units_3': 49, 'dropout_rate_1': 0.19752468813652374, 'dropout_rate_2': 0.1750316709746247, 'dropout_rate_dense': 0.2987169215482972, 'learning_rate': 0.017385345803944074, 'batch_size': 24, 'dense_units': 69, 'optimizer': 'rmsprop', 'activation': 'relu', 'recurrent_activation': 'sigmoid', 'use_batch_norm': True, 'regularizer': 'l1_l2', 'regularizer_strength': 0.04708853691552102, 'cell_type': 'LSTM', 'bidirectional': False}. Best is trial 1 with value: -0.008005463216588132.\n",
      "Using 27 features: ['high_close_ratio', 'low_close_ratio', 'open_close_ratio', 'returns_1d', 'returns_3d', 'returns_7d', 'price_ma_5_ratio', 'price_ma_10_ratio', 'price_ma_20_ratio', 'macd_normalized', 'macd_signal_normalized', 'rsi_normalized', 'bb_position', 'bb_width', 'volatility_10', 'volatility_20', 'volume_avg_ratio', 'volume_change', 'vader_ma_3', 'vader_ma_7', 'article_count_norm', 'funding_rate', 'funding_rate_ma', 'momentum_5', 'momentum_10', 'day_sin', 'day_cos']\n",
      "Training sequences: 718\n",
      "Validation sequences: 102\n",
      "Test sequences: 207\n",
      "Features per timestep: 27\n",
      "Last date in dataset: 2025-05-06 00:00:00\n"
     ]
    },
    {
     "name": "stderr",
     "output_type": "stream",
     "text": [
      "Best trial: 1. Best value: -0.00800546:  12%|█▏        | 18/150 [18:05<2:17:44, 62.61s/it]"
     ]
    },
    {
     "name": "stdout",
     "output_type": "stream",
     "text": [
      "[I 2025-07-08 12:22:59,943] Trial 17 finished with value: -0.008105789371845883 and parameters: {'sequence_length': 18, 'lstm_units_1': 170, 'lstm_units_2': 104, 'lstm_units_3': 58, 'dropout_rate_1': 0.06392886234731382, 'dropout_rate_2': 0.0012211522024214716, 'dropout_rate_dense': 0.17907109085267375, 'learning_rate': 0.0026443557859739887, 'batch_size': 16, 'dense_units': 57, 'optimizer': 'sgd', 'activation': 'selu', 'recurrent_activation': 'sigmoid', 'use_batch_norm': True, 'regularizer': 'l1_l2', 'regularizer_strength': 0.02027236043441393, 'cell_type': 'LSTM', 'bidirectional': True}. Best is trial 1 with value: -0.008005463216588132.\n",
      "Using 27 features: ['high_close_ratio', 'low_close_ratio', 'open_close_ratio', 'returns_1d', 'returns_3d', 'returns_7d', 'price_ma_5_ratio', 'price_ma_10_ratio', 'price_ma_20_ratio', 'macd_normalized', 'macd_signal_normalized', 'rsi_normalized', 'bb_position', 'bb_width', 'volatility_10', 'volatility_20', 'volume_avg_ratio', 'volume_change', 'vader_ma_3', 'vader_ma_7', 'article_count_norm', 'funding_rate', 'funding_rate_ma', 'momentum_5', 'momentum_10', 'day_sin', 'day_cos']\n",
      "Training sequences: 662\n",
      "Validation sequences: 94\n",
      "Test sequences: 191\n",
      "Features per timestep: 27\n",
      "Last date in dataset: 2025-05-06 00:00:00\n"
     ]
    },
    {
     "name": "stderr",
     "output_type": "stream",
     "text": [
      "Best trial: 1. Best value: -0.00800546:  13%|█▎        | 19/150 [20:04<2:53:29, 79.47s/it]"
     ]
    },
    {
     "name": "stdout",
     "output_type": "stream",
     "text": [
      "[I 2025-07-08 12:24:58,676] Trial 18 finished with value: -0.008486248041683665 and parameters: {'sequence_length': 98, 'lstm_units_1': 231, 'lstm_units_2': 17, 'lstm_units_3': 44, 'dropout_rate_1': 0.4873267625668059, 'dropout_rate_2': 0.1109292910662592, 'dropout_rate_dense': 0.1085990653052718, 'learning_rate': 0.0002262648079620795, 'batch_size': 96, 'dense_units': 29, 'optimizer': 'rmsprop', 'activation': 'tanh', 'recurrent_activation': 'tanh', 'use_batch_norm': True, 'regularizer': 'l1', 'regularizer_strength': 0.0059907753674750125, 'cell_type': 'GRU', 'bidirectional': True}. Best is trial 1 with value: -0.008005463216588132.\n",
      "Using 27 features: ['high_close_ratio', 'low_close_ratio', 'open_close_ratio', 'returns_1d', 'returns_3d', 'returns_7d', 'price_ma_5_ratio', 'price_ma_10_ratio', 'price_ma_20_ratio', 'macd_normalized', 'macd_signal_normalized', 'rsi_normalized', 'bb_position', 'bb_width', 'volatility_10', 'volatility_20', 'volume_avg_ratio', 'volume_change', 'vader_ma_3', 'vader_ma_7', 'article_count_norm', 'funding_rate', 'funding_rate_ma', 'momentum_5', 'momentum_10', 'day_sin', 'day_cos']\n",
      "Training sequences: 723\n",
      "Validation sequences: 103\n",
      "Test sequences: 208\n",
      "Features per timestep: 27\n",
      "Last date in dataset: 2025-05-06 00:00:00\n"
     ]
    },
    {
     "name": "stderr",
     "output_type": "stream",
     "text": [
      "Best trial: 1. Best value: -0.00800546:  13%|█▎        | 20/150 [20:14<2:07:23, 58.80s/it]"
     ]
    },
    {
     "name": "stdout",
     "output_type": "stream",
     "text": [
      "[I 2025-07-08 12:25:09,295] Trial 19 finished with value: -0.23537507203706928 and parameters: {'sequence_length': 11, 'lstm_units_1': 48, 'lstm_units_2': 41, 'lstm_units_3': 63, 'dropout_rate_1': 0.3803342818280248, 'dropout_rate_2': 0.25086546588737013, 'dropout_rate_dense': 0.018943253654986975, 'learning_rate': 0.09219299273937001, 'batch_size': 128, 'dense_units': 85, 'optimizer': 'adam', 'activation': 'elu', 'recurrent_activation': 'hard_sigmoid', 'use_batch_norm': True, 'regularizer': 'l1_l2', 'regularizer_strength': 0.0020102453401862736, 'cell_type': 'LSTM', 'bidirectional': False}. Best is trial 1 with value: -0.008005463216588132.\n",
      "Using 27 features: ['high_close_ratio', 'low_close_ratio', 'open_close_ratio', 'returns_1d', 'returns_3d', 'returns_7d', 'price_ma_5_ratio', 'price_ma_10_ratio', 'price_ma_20_ratio', 'macd_normalized', 'macd_signal_normalized', 'rsi_normalized', 'bb_position', 'bb_width', 'volatility_10', 'volatility_20', 'volume_avg_ratio', 'volume_change', 'vader_ma_3', 'vader_ma_7', 'article_count_norm', 'funding_rate', 'funding_rate_ma', 'momentum_5', 'momentum_10', 'day_sin', 'day_cos']\n",
      "Training sequences: 684\n",
      "Validation sequences: 97\n",
      "Test sequences: 197\n",
      "Features per timestep: 27\n",
      "Last date in dataset: 2025-05-06 00:00:00\n"
     ]
    },
    {
     "name": "stderr",
     "output_type": "stream",
     "text": [
      "Best trial: 1. Best value: -0.00800546:  14%|█▍        | 21/150 [22:49<3:08:00, 87.45s/it]"
     ]
    },
    {
     "name": "stdout",
     "output_type": "stream",
     "text": [
      "[I 2025-07-08 12:27:43,546] Trial 20 finished with value: -0.00922997195183 and parameters: {'sequence_length': 67, 'lstm_units_1': 199, 'lstm_units_2': 66, 'lstm_units_3': 34, 'dropout_rate_1': 0.2746262248810979, 'dropout_rate_2': 0.3916808132400046, 'dropout_rate_dense': 0.20806527797599916, 'learning_rate': 0.0019177117876160185, 'batch_size': 24, 'dense_units': 112, 'optimizer': 'sgd', 'activation': 'elu', 'recurrent_activation': 'sigmoid', 'use_batch_norm': True, 'regularizer': 'l1_l2', 'regularizer_strength': 0.01709822033185326, 'cell_type': 'LSTM', 'bidirectional': True}. Best is trial 1 with value: -0.008005463216588132.\n",
      "Using 27 features: ['high_close_ratio', 'low_close_ratio', 'open_close_ratio', 'returns_1d', 'returns_3d', 'returns_7d', 'price_ma_5_ratio', 'price_ma_10_ratio', 'price_ma_20_ratio', 'macd_normalized', 'macd_signal_normalized', 'rsi_normalized', 'bb_position', 'bb_width', 'volatility_10', 'volatility_20', 'volume_avg_ratio', 'volume_change', 'vader_ma_3', 'vader_ma_7', 'article_count_norm', 'funding_rate', 'funding_rate_ma', 'momentum_5', 'momentum_10', 'day_sin', 'day_cos']\n",
      "Training sequences: 723\n",
      "Validation sequences: 103\n",
      "Test sequences: 207\n",
      "Features per timestep: 27\n",
      "Last date in dataset: 2025-05-06 00:00:00\n"
     ]
    },
    {
     "name": "stderr",
     "output_type": "stream",
     "text": [
      "Best trial: 1. Best value: -0.00800546:  15%|█▍        | 22/150 [23:18<2:29:20, 70.00s/it]"
     ]
    },
    {
     "name": "stdout",
     "output_type": "stream",
     "text": [
      "[I 2025-07-08 12:28:12,859] Trial 21 finished with value: -0.008105237334889492 and parameters: {'sequence_length': 12, 'lstm_units_1': 101, 'lstm_units_2': 82, 'lstm_units_3': 64, 'dropout_rate_1': 0.3016740059713244, 'dropout_rate_2': 0.2676251748356397, 'dropout_rate_dense': 0.15882788043436977, 'learning_rate': 0.008497986653664072, 'batch_size': 24, 'dense_units': 47, 'optimizer': 'rmsprop', 'activation': 'tanh', 'recurrent_activation': 'sigmoid', 'use_batch_norm': True, 'regularizer': 'l1_l2', 'regularizer_strength': 0.004924995593750999, 'cell_type': 'LSTM', 'bidirectional': True}. Best is trial 1 with value: -0.008005463216588132.\n",
      "Using 27 features: ['high_close_ratio', 'low_close_ratio', 'open_close_ratio', 'returns_1d', 'returns_3d', 'returns_7d', 'price_ma_5_ratio', 'price_ma_10_ratio', 'price_ma_20_ratio', 'macd_normalized', 'macd_signal_normalized', 'rsi_normalized', 'bb_position', 'bb_width', 'volatility_10', 'volatility_20', 'volume_avg_ratio', 'volume_change', 'vader_ma_3', 'vader_ma_7', 'article_count_norm', 'funding_rate', 'funding_rate_ma', 'momentum_5', 'momentum_10', 'day_sin', 'day_cos']\n",
      "Training sequences: 713\n",
      "Validation sequences: 101\n",
      "Test sequences: 205\n",
      "Features per timestep: 27\n",
      "Last date in dataset: 2025-05-06 00:00:00\n"
     ]
    },
    {
     "name": "stderr",
     "output_type": "stream",
     "text": [
      "Best trial: 1. Best value: -0.00800546:  15%|█▌        | 23/150 [24:07<2:14:49, 63.70s/it]"
     ]
    },
    {
     "name": "stdout",
     "output_type": "stream",
     "text": [
      "[I 2025-07-08 12:29:01,862] Trial 22 finished with value: -0.008078488086062287 and parameters: {'sequence_length': 26, 'lstm_units_1': 72, 'lstm_units_2': 89, 'lstm_units_3': 55, 'dropout_rate_1': 0.1897481291767965, 'dropout_rate_2': 0.36877606576774336, 'dropout_rate_dense': 0.11578623006523199, 'learning_rate': 0.022160547309166893, 'batch_size': 24, 'dense_units': 49, 'optimizer': 'rmsprop', 'activation': 'tanh', 'recurrent_activation': 'sigmoid', 'use_batch_norm': True, 'regularizer': 'l1_l2', 'regularizer_strength': 0.0038776239151192896, 'cell_type': 'LSTM', 'bidirectional': True}. Best is trial 1 with value: -0.008005463216588132.\n",
      "Using 27 features: ['high_close_ratio', 'low_close_ratio', 'open_close_ratio', 'returns_1d', 'returns_3d', 'returns_7d', 'price_ma_5_ratio', 'price_ma_10_ratio', 'price_ma_20_ratio', 'macd_normalized', 'macd_signal_normalized', 'rsi_normalized', 'bb_position', 'bb_width', 'volatility_10', 'volatility_20', 'volume_avg_ratio', 'volume_change', 'vader_ma_3', 'vader_ma_7', 'article_count_norm', 'funding_rate', 'funding_rate_ma', 'momentum_5', 'momentum_10', 'day_sin', 'day_cos']\n",
      "Training sequences: 717\n",
      "Validation sequences: 102\n",
      "Test sequences: 206\n",
      "Features per timestep: 27\n",
      "Last date in dataset: 2025-05-06 00:00:00\n"
     ]
    },
    {
     "name": "stderr",
     "output_type": "stream",
     "text": [
      "Best trial: 1. Best value: -0.00800546:  16%|█▌        | 24/150 [24:19<1:40:58, 48.08s/it]"
     ]
    },
    {
     "name": "stdout",
     "output_type": "stream",
     "text": [
      "[I 2025-07-08 12:29:13,515] Trial 23 finished with value: -0.008117159535152647 and parameters: {'sequence_length': 20, 'lstm_units_1': 40, 'lstm_units_2': 61, 'lstm_units_3': 48, 'dropout_rate_1': 0.3233789735101188, 'dropout_rate_2': 0.20914559445619438, 'dropout_rate_dense': 0.15416852349310436, 'learning_rate': 0.0051387784987028525, 'batch_size': 32, 'dense_units': 68, 'optimizer': 'rmsprop', 'activation': 'tanh', 'recurrent_activation': 'sigmoid', 'use_batch_norm': True, 'regularizer': 'l1_l2', 'regularizer_strength': 0.008757472676140956, 'cell_type': 'LSTM', 'bidirectional': True}. Best is trial 1 with value: -0.008005463216588132.\n",
      "Using 27 features: ['high_close_ratio', 'low_close_ratio', 'open_close_ratio', 'returns_1d', 'returns_3d', 'returns_7d', 'price_ma_5_ratio', 'price_ma_10_ratio', 'price_ma_20_ratio', 'macd_normalized', 'macd_signal_normalized', 'rsi_normalized', 'bb_position', 'bb_width', 'volatility_10', 'volatility_20', 'volume_avg_ratio', 'volume_change', 'vader_ma_3', 'vader_ma_7', 'article_count_norm', 'funding_rate', 'funding_rate_ma', 'momentum_5', 'momentum_10', 'day_sin', 'day_cos']\n",
      "Training sequences: 724\n",
      "Validation sequences: 103\n",
      "Test sequences: 208\n",
      "Features per timestep: 27\n",
      "Last date in dataset: 2025-05-06 00:00:00\n"
     ]
    },
    {
     "name": "stderr",
     "output_type": "stream",
     "text": [
      "Best trial: 1. Best value: -0.00800546:  17%|█▋        | 25/150 [24:51<1:30:25, 43.40s/it]"
     ]
    },
    {
     "name": "stdout",
     "output_type": "stream",
     "text": [
      "[I 2025-07-08 12:29:45,987] Trial 24 finished with value: -0.008062580652291916 and parameters: {'sequence_length': 10, 'lstm_units_1': 60, 'lstm_units_2': 72, 'lstm_units_3': 64, 'dropout_rate_1': 0.42337994865752565, 'dropout_rate_2': 0.29294541744678804, 'dropout_rate_dense': 0.10046341204026918, 'learning_rate': 0.03415026700748613, 'batch_size': 24, 'dense_units': 38, 'optimizer': 'rmsprop', 'activation': 'tanh', 'recurrent_activation': 'sigmoid', 'use_batch_norm': True, 'regularizer': 'l1_l2', 'regularizer_strength': 0.003024808481832102, 'cell_type': 'LSTM', 'bidirectional': True}. Best is trial 1 with value: -0.008005463216588132.\n",
      "Using 27 features: ['high_close_ratio', 'low_close_ratio', 'open_close_ratio', 'returns_1d', 'returns_3d', 'returns_7d', 'price_ma_5_ratio', 'price_ma_10_ratio', 'price_ma_20_ratio', 'macd_normalized', 'macd_signal_normalized', 'rsi_normalized', 'bb_position', 'bb_width', 'volatility_10', 'volatility_20', 'volume_avg_ratio', 'volume_change', 'vader_ma_3', 'vader_ma_7', 'article_count_norm', 'funding_rate', 'funding_rate_ma', 'momentum_5', 'momentum_10', 'day_sin', 'day_cos']\n",
      "Training sequences: 702\n",
      "Validation sequences: 100\n",
      "Test sequences: 202\n",
      "Features per timestep: 27\n",
      "Last date in dataset: 2025-05-06 00:00:00\n"
     ]
    },
    {
     "name": "stderr",
     "output_type": "stream",
     "text": [
      "Best trial: 1. Best value: -0.00800546:  17%|█▋        | 26/150 [25:54<1:42:01, 49.37s/it]"
     ]
    },
    {
     "name": "stdout",
     "output_type": "stream",
     "text": [
      "[I 2025-07-08 12:30:49,292] Trial 25 finished with value: -0.00817371813849021 and parameters: {'sequence_length': 41, 'lstm_units_1': 61, 'lstm_units_2': 73, 'lstm_units_3': 52, 'dropout_rate_1': 0.4294371293175807, 'dropout_rate_2': 0.2574987288565317, 'dropout_rate_dense': 0.09936660183575187, 'learning_rate': 0.03367584183843523, 'batch_size': 24, 'dense_units': 33, 'optimizer': 'rmsprop', 'activation': 'tanh', 'recurrent_activation': 'tanh', 'use_batch_norm': True, 'regularizer': 'l1_l2', 'regularizer_strength': 0.0028042795337748874, 'cell_type': 'LSTM', 'bidirectional': True}. Best is trial 1 with value: -0.008005463216588132.\n",
      "Using 27 features: ['high_close_ratio', 'low_close_ratio', 'open_close_ratio', 'returns_1d', 'returns_3d', 'returns_7d', 'price_ma_5_ratio', 'price_ma_10_ratio', 'price_ma_20_ratio', 'macd_normalized', 'macd_signal_normalized', 'rsi_normalized', 'bb_position', 'bb_width', 'volatility_10', 'volatility_20', 'volume_avg_ratio', 'volume_change', 'vader_ma_3', 'vader_ma_7', 'article_count_norm', 'funding_rate', 'funding_rate_ma', 'momentum_5', 'momentum_10', 'day_sin', 'day_cos']\n",
      "Training sequences: 709\n",
      "Validation sequences: 101\n",
      "Test sequences: 204\n",
      "Features per timestep: 27\n",
      "Last date in dataset: 2025-05-06 00:00:00\n"
     ]
    },
    {
     "name": "stderr",
     "output_type": "stream",
     "text": [
      "Best trial: 1. Best value: -0.00800546:  18%|█▊        | 27/150 [26:36<1:36:35, 47.12s/it]"
     ]
    },
    {
     "name": "stdout",
     "output_type": "stream",
     "text": [
      "[I 2025-07-08 12:31:31,163] Trial 26 finished with value: -0.008091685871400961 and parameters: {'sequence_length': 31, 'lstm_units_1': 39, 'lstm_units_2': 45, 'lstm_units_3': 57, 'dropout_rate_1': 0.4441031249816852, 'dropout_rate_2': 0.2865480150661506, 'dropout_rate_dense': 0.041215606287615295, 'learning_rate': 0.043164891810406, 'batch_size': 32, 'dense_units': 5, 'optimizer': 'rmsprop', 'activation': 'selu', 'recurrent_activation': 'sigmoid', 'use_batch_norm': False, 'regularizer': 'l1', 'regularizer_strength': 0.0015254000058281248, 'cell_type': 'GRU', 'bidirectional': False}. Best is trial 1 with value: -0.008005463216588132.\n",
      "Using 27 features: ['high_close_ratio', 'low_close_ratio', 'open_close_ratio', 'returns_1d', 'returns_3d', 'returns_7d', 'price_ma_5_ratio', 'price_ma_10_ratio', 'price_ma_20_ratio', 'macd_normalized', 'macd_signal_normalized', 'rsi_normalized', 'bb_position', 'bb_width', 'volatility_10', 'volatility_20', 'volume_avg_ratio', 'volume_change', 'vader_ma_3', 'vader_ma_7', 'article_count_norm', 'funding_rate', 'funding_rate_ma', 'momentum_5', 'momentum_10', 'day_sin', 'day_cos']\n",
      "Training sequences: 717\n",
      "Validation sequences: 102\n",
      "Test sequences: 206\n",
      "Features per timestep: 27\n",
      "Last date in dataset: 2025-05-06 00:00:00\n"
     ]
    },
    {
     "name": "stderr",
     "output_type": "stream",
     "text": [
      "Best trial: 1. Best value: -0.00800546:  19%|█▊        | 28/150 [26:49<1:14:56, 36.86s/it]"
     ]
    },
    {
     "name": "stdout",
     "output_type": "stream",
     "text": [
      "[I 2025-07-08 12:31:44,086] Trial 27 finished with value: -0.008097923683671846 and parameters: {'sequence_length': 20, 'lstm_units_1': 16, 'lstm_units_2': 59, 'lstm_units_3': 41, 'dropout_rate_1': 0.4551950118051098, 'dropout_rate_2': 0.04151811756835461, 'dropout_rate_dense': 0.2706000535090544, 'learning_rate': 0.01630450035949622, 'batch_size': 24, 'dense_units': 59, 'optimizer': 'rmsprop', 'activation': 'relu', 'recurrent_activation': 'sigmoid', 'use_batch_norm': True, 'regularizer': 'l2', 'regularizer_strength': 0.003034811178924508, 'cell_type': 'LSTM', 'bidirectional': True}. Best is trial 1 with value: -0.008005463216588132.\n",
      "Using 27 features: ['high_close_ratio', 'low_close_ratio', 'open_close_ratio', 'returns_1d', 'returns_3d', 'returns_7d', 'price_ma_5_ratio', 'price_ma_10_ratio', 'price_ma_20_ratio', 'macd_normalized', 'macd_signal_normalized', 'rsi_normalized', 'bb_position', 'bb_width', 'volatility_10', 'volatility_20', 'volume_avg_ratio', 'volume_change', 'vader_ma_3', 'vader_ma_7', 'article_count_norm', 'funding_rate', 'funding_rate_ma', 'momentum_5', 'momentum_10', 'day_sin', 'day_cos']\n",
      "Training sequences: 712\n",
      "Validation sequences: 101\n",
      "Test sequences: 205\n",
      "Features per timestep: 27\n",
      "Last date in dataset: 2025-05-06 00:00:00\n"
     ]
    },
    {
     "name": "stderr",
     "output_type": "stream",
     "text": [
      "Best trial: 1. Best value: -0.00800546:  19%|█▉        | 29/150 [27:03<1:00:22, 29.94s/it]"
     ]
    },
    {
     "name": "stdout",
     "output_type": "stream",
     "text": [
      "[I 2025-07-08 12:31:57,874] Trial 28 finished with value: -0.008745888528615988 and parameters: {'sequence_length': 27, 'lstm_units_1': 118, 'lstm_units_2': 99, 'lstm_units_3': 59, 'dropout_rate_1': 0.37940088835174646, 'dropout_rate_2': 0.20846523841477876, 'dropout_rate_dense': 0.09122103781421226, 'learning_rate': 0.0009458990417764602, 'batch_size': 64, 'dense_units': 38, 'optimizer': 'adam', 'activation': 'tanh', 'recurrent_activation': 'hard_sigmoid', 'use_batch_norm': True, 'regularizer': None, 'regularizer_strength': 0.007654960804965631, 'cell_type': 'LSTM', 'bidirectional': False}. Best is trial 1 with value: -0.008005463216588132.\n",
      "Using 27 features: ['high_close_ratio', 'low_close_ratio', 'open_close_ratio', 'returns_1d', 'returns_3d', 'returns_7d', 'price_ma_5_ratio', 'price_ma_10_ratio', 'price_ma_20_ratio', 'macd_normalized', 'macd_signal_normalized', 'rsi_normalized', 'bb_position', 'bb_width', 'volatility_10', 'volatility_20', 'volume_avg_ratio', 'volume_change', 'vader_ma_3', 'vader_ma_7', 'article_count_norm', 'funding_rate', 'funding_rate_ma', 'momentum_5', 'momentum_10', 'day_sin', 'day_cos']\n",
      "Training sequences: 663\n",
      "Validation sequences: 94\n",
      "Test sequences: 191\n",
      "Features per timestep: 27\n",
      "Last date in dataset: 2025-05-06 00:00:00\n"
     ]
    },
    {
     "name": "stderr",
     "output_type": "stream",
     "text": [
      "Best trial: 1. Best value: -0.00800546:  20%|██        | 30/150 [28:33<1:36:12, 48.11s/it]"
     ]
    },
    {
     "name": "stdout",
     "output_type": "stream",
     "text": [
      "[I 2025-07-08 12:33:28,371] Trial 29 finished with value: -0.16332695016784662 and parameters: {'sequence_length': 97, 'lstm_units_1': 135, 'lstm_units_2': 31, 'lstm_units_3': 53, 'dropout_rate_1': 0.13370422495227266, 'dropout_rate_2': 0.12194473324893665, 'dropout_rate_dense': 0.05405306147789512, 'learning_rate': 3.427102367538283e-05, 'batch_size': 48, 'dense_units': 21, 'optimizer': 'sgd', 'activation': 'elu', 'recurrent_activation': 'tanh', 'use_batch_norm': False, 'regularizer': None, 'regularizer_strength': 0.0017741866196395908, 'cell_type': 'LSTM', 'bidirectional': True}. Best is trial 1 with value: -0.008005463216588132.\n",
      "Using 27 features: ['high_close_ratio', 'low_close_ratio', 'open_close_ratio', 'returns_1d', 'returns_3d', 'returns_7d', 'price_ma_5_ratio', 'price_ma_10_ratio', 'price_ma_20_ratio', 'macd_normalized', 'macd_signal_normalized', 'rsi_normalized', 'bb_position', 'bb_width', 'volatility_10', 'volatility_20', 'volume_avg_ratio', 'volume_change', 'vader_ma_3', 'vader_ma_7', 'article_count_norm', 'funding_rate', 'funding_rate_ma', 'momentum_5', 'momentum_10', 'day_sin', 'day_cos']\n",
      "Training sequences: 655\n",
      "Validation sequences: 93\n",
      "Test sequences: 189\n",
      "Features per timestep: 27\n",
      "Last date in dataset: 2025-05-06 00:00:00\n"
     ]
    },
    {
     "name": "stderr",
     "output_type": "stream",
     "text": [
      "Best trial: 1. Best value: -0.00800546:  21%|██        | 31/150 [35:39<5:20:07, 161.41s/it]"
     ]
    },
    {
     "name": "stdout",
     "output_type": "stream",
     "text": [
      "[I 2025-07-08 12:40:34,142] Trial 30 finished with value: -0.008422866787813656 and parameters: {'sequence_length': 108, 'lstm_units_1': 152, 'lstm_units_2': 52, 'lstm_units_3': 41, 'dropout_rate_1': 0.4699893970658884, 'dropout_rate_2': 0.2277113829011209, 'dropout_rate_dense': 0.038332618317460564, 'learning_rate': 0.06287893409134006, 'batch_size': 8, 'dense_units': 113, 'optimizer': 'adam', 'activation': 'elu', 'recurrent_activation': 'hard_sigmoid', 'use_batch_norm': True, 'regularizer': 'l1_l2', 'regularizer_strength': 0.09845913645944566, 'cell_type': 'LSTM', 'bidirectional': True}. Best is trial 1 with value: -0.008005463216588132.\n",
      "Using 27 features: ['high_close_ratio', 'low_close_ratio', 'open_close_ratio', 'returns_1d', 'returns_3d', 'returns_7d', 'price_ma_5_ratio', 'price_ma_10_ratio', 'price_ma_20_ratio', 'macd_normalized', 'macd_signal_normalized', 'rsi_normalized', 'bb_position', 'bb_width', 'volatility_10', 'volatility_20', 'volume_avg_ratio', 'volume_change', 'vader_ma_3', 'vader_ma_7', 'article_count_norm', 'funding_rate', 'funding_rate_ma', 'momentum_5', 'momentum_10', 'day_sin', 'day_cos']\n",
      "Training sequences: 724\n",
      "Validation sequences: 103\n",
      "Test sequences: 208\n",
      "Features per timestep: 27\n",
      "Last date in dataset: 2025-05-06 00:00:00\n"
     ]
    },
    {
     "name": "stderr",
     "output_type": "stream",
     "text": [
      "Best trial: 1. Best value: -0.00800546:  21%|██▏       | 32/150 [36:07<3:58:53, 121.47s/it]"
     ]
    },
    {
     "name": "stdout",
     "output_type": "stream",
     "text": [
      "[I 2025-07-08 12:41:02,410] Trial 31 finished with value: -0.008066565598237927 and parameters: {'sequence_length': 10, 'lstm_units_1': 84, 'lstm_units_2': 79, 'lstm_units_3': 62, 'dropout_rate_1': 0.35009872080455295, 'dropout_rate_2': 0.3455311160187219, 'dropout_rate_dense': 0.13285125393769637, 'learning_rate': 0.007191674956450951, 'batch_size': 24, 'dense_units': 53, 'optimizer': 'rmsprop', 'activation': 'tanh', 'recurrent_activation': 'sigmoid', 'use_batch_norm': True, 'regularizer': 'l1_l2', 'regularizer_strength': 0.004122140657482751, 'cell_type': 'LSTM', 'bidirectional': True}. Best is trial 1 with value: -0.008005463216588132.\n",
      "Using 27 features: ['high_close_ratio', 'low_close_ratio', 'open_close_ratio', 'returns_1d', 'returns_3d', 'returns_7d', 'price_ma_5_ratio', 'price_ma_10_ratio', 'price_ma_20_ratio', 'macd_normalized', 'macd_signal_normalized', 'rsi_normalized', 'bb_position', 'bb_width', 'volatility_10', 'volatility_20', 'volume_avg_ratio', 'volume_change', 'vader_ma_3', 'vader_ma_7', 'article_count_norm', 'funding_rate', 'funding_rate_ma', 'momentum_5', 'momentum_10', 'day_sin', 'day_cos']\n",
      "Training sequences: 719\n",
      "Validation sequences: 102\n",
      "Test sequences: 207\n",
      "Features per timestep: 27\n",
      "Last date in dataset: 2025-05-06 00:00:00\n"
     ]
    },
    {
     "name": "stderr",
     "output_type": "stream",
     "text": [
      "Best trial: 1. Best value: -0.00800546:  22%|██▏       | 33/150 [36:47<3:08:47, 96.81s/it] "
     ]
    },
    {
     "name": "stdout",
     "output_type": "stream",
     "text": [
      "[I 2025-07-08 12:41:41,703] Trial 32 finished with value: -0.008074794700093983 and parameters: {'sequence_length': 17, 'lstm_units_1': 34, 'lstm_units_2': 75, 'lstm_units_3': 61, 'dropout_rate_1': 0.40706641850105757, 'dropout_rate_2': 0.35889587112482296, 'dropout_rate_dense': 0.09297322358841667, 'learning_rate': 0.025221671328057606, 'batch_size': 24, 'dense_units': 54, 'optimizer': 'rmsprop', 'activation': 'tanh', 'recurrent_activation': 'sigmoid', 'use_batch_norm': True, 'regularizer': 'l1_l2', 'regularizer_strength': 0.002957880323426859, 'cell_type': 'LSTM', 'bidirectional': True}. Best is trial 1 with value: -0.008005463216588132.\n",
      "Using 27 features: ['high_close_ratio', 'low_close_ratio', 'open_close_ratio', 'returns_1d', 'returns_3d', 'returns_7d', 'price_ma_5_ratio', 'price_ma_10_ratio', 'price_ma_20_ratio', 'macd_normalized', 'macd_signal_normalized', 'rsi_normalized', 'bb_position', 'bb_width', 'volatility_10', 'volatility_20', 'volume_avg_ratio', 'volume_change', 'vader_ma_3', 'vader_ma_7', 'article_count_norm', 'funding_rate', 'funding_rate_ma', 'momentum_5', 'momentum_10', 'day_sin', 'day_cos']\n",
      "Training sequences: 724\n",
      "Validation sequences: 103\n",
      "Test sequences: 208\n",
      "Features per timestep: 27\n",
      "Last date in dataset: 2025-05-06 00:00:00\n"
     ]
    },
    {
     "name": "stderr",
     "output_type": "stream",
     "text": [
      "Best trial: 1. Best value: -0.00800546:  23%|██▎       | 34/150 [37:20<2:30:18, 77.74s/it]"
     ]
    },
    {
     "name": "stdout",
     "output_type": "stream",
     "text": [
      "[I 2025-07-08 12:42:14,949] Trial 33 finished with value: -0.00810201063934104 and parameters: {'sequence_length': 10, 'lstm_units_1': 56, 'lstm_units_2': 57, 'lstm_units_3': 60, 'dropout_rate_1': 0.3688756697355201, 'dropout_rate_2': 0.2944839321663894, 'dropout_rate_dense': 0.16161795481571944, 'learning_rate': 0.00481141941735509, 'batch_size': 16, 'dense_units': 39, 'optimizer': 'rmsprop', 'activation': 'tanh', 'recurrent_activation': 'sigmoid', 'use_batch_norm': True, 'regularizer': 'l1_l2', 'regularizer_strength': 0.013119274533078852, 'cell_type': 'LSTM', 'bidirectional': True}. Best is trial 1 with value: -0.008005463216588132.\n",
      "Using 27 features: ['high_close_ratio', 'low_close_ratio', 'open_close_ratio', 'returns_1d', 'returns_3d', 'returns_7d', 'price_ma_5_ratio', 'price_ma_10_ratio', 'price_ma_20_ratio', 'macd_normalized', 'macd_signal_normalized', 'rsi_normalized', 'bb_position', 'bb_width', 'volatility_10', 'volatility_20', 'volume_avg_ratio', 'volume_change', 'vader_ma_3', 'vader_ma_7', 'article_count_norm', 'funding_rate', 'funding_rate_ma', 'momentum_5', 'momentum_10', 'day_sin', 'day_cos']\n",
      "Training sequences: 720\n",
      "Validation sequences: 102\n",
      "Test sequences: 207\n",
      "Features per timestep: 27\n",
      "Last date in dataset: 2025-05-06 00:00:00\n"
     ]
    },
    {
     "name": "stderr",
     "output_type": "stream",
     "text": [
      "Best trial: 1. Best value: -0.00800546:  23%|██▎       | 35/150 [37:41<1:56:14, 60.64s/it]"
     ]
    },
    {
     "name": "stdout",
     "output_type": "stream",
     "text": [
      "[I 2025-07-08 12:42:35,698] Trial 34 finished with value: -0.008184224920847121 and parameters: {'sequence_length': 16, 'lstm_units_1': 81, 'lstm_units_2': 68, 'lstm_units_3': 55, 'dropout_rate_1': 0.3468140141980282, 'dropout_rate_2': 0.1801132026750643, 'dropout_rate_dense': 0.12572485250642496, 'learning_rate': 0.012580666474662671, 'batch_size': 96, 'dense_units': 26, 'optimizer': 'rmsprop', 'activation': 'tanh', 'recurrent_activation': 'sigmoid', 'use_batch_norm': True, 'regularizer': 'l1_l2', 'regularizer_strength': 0.0024928706282079907, 'cell_type': 'GRU', 'bidirectional': True}. Best is trial 1 with value: -0.008005463216588132.\n",
      "Using 27 features: ['high_close_ratio', 'low_close_ratio', 'open_close_ratio', 'returns_1d', 'returns_3d', 'returns_7d', 'price_ma_5_ratio', 'price_ma_10_ratio', 'price_ma_20_ratio', 'macd_normalized', 'macd_signal_normalized', 'rsi_normalized', 'bb_position', 'bb_width', 'volatility_10', 'volatility_20', 'volume_avg_ratio', 'volume_change', 'vader_ma_3', 'vader_ma_7', 'article_count_norm', 'funding_rate', 'funding_rate_ma', 'momentum_5', 'momentum_10', 'day_sin', 'day_cos']\n",
      "Training sequences: 697\n",
      "Validation sequences: 99\n",
      "Test sequences: 200\n",
      "Features per timestep: 27\n",
      "Last date in dataset: 2025-05-06 00:00:00\n"
     ]
    },
    {
     "name": "stderr",
     "output_type": "stream",
     "text": [
      "Best trial: 1. Best value: -0.00800546:  24%|██▍       | 36/150 [38:48<1:58:58, 62.62s/it]"
     ]
    },
    {
     "name": "stdout",
     "output_type": "stream",
     "text": [
      "[I 2025-07-08 12:43:42,917] Trial 35 finished with value: -0.00818433113130925 and parameters: {'sequence_length': 49, 'lstm_units_1': 54, 'lstm_units_2': 47, 'lstm_units_3': 49, 'dropout_rate_1': 0.40467550364693916, 'dropout_rate_2': 0.4163996888625681, 'dropout_rate_dense': 0.07155308144996406, 'learning_rate': 0.06871914999544125, 'batch_size': 24, 'dense_units': 77, 'optimizer': 'sgd', 'activation': 'tanh', 'recurrent_activation': 'tanh', 'use_batch_norm': True, 'regularizer': 'l2', 'regularizer_strength': 0.007020442946563096, 'cell_type': 'LSTM', 'bidirectional': True}. Best is trial 1 with value: -0.008005463216588132.\n",
      "Using 27 features: ['high_close_ratio', 'low_close_ratio', 'open_close_ratio', 'returns_1d', 'returns_3d', 'returns_7d', 'price_ma_5_ratio', 'price_ma_10_ratio', 'price_ma_20_ratio', 'macd_normalized', 'macd_signal_normalized', 'rsi_normalized', 'bb_position', 'bb_width', 'volatility_10', 'volatility_20', 'volume_avg_ratio', 'volume_change', 'vader_ma_3', 'vader_ma_7', 'article_count_norm', 'funding_rate', 'funding_rate_ma', 'momentum_5', 'momentum_10', 'day_sin', 'day_cos']\n",
      "Training sequences: 714\n",
      "Validation sequences: 102\n",
      "Test sequences: 205\n",
      "Features per timestep: 27\n",
      "Last date in dataset: 2025-05-06 00:00:00\n"
     ]
    },
    {
     "name": "stderr",
     "output_type": "stream",
     "text": [
      "Best trial: 1. Best value: -0.00800546:  25%|██▍       | 37/150 [38:55<1:26:19, 45.84s/it]"
     ]
    },
    {
     "name": "stdout",
     "output_type": "stream",
     "text": [
      "[I 2025-07-08 12:43:49,611] Trial 36 finished with value: -0.014486659539161659 and parameters: {'sequence_length': 24, 'lstm_units_1': 66, 'lstm_units_2': 22, 'lstm_units_3': 61, 'dropout_rate_1': 0.4645112464943678, 'dropout_rate_2': 0.4954612928825735, 'dropout_rate_dense': 0.20191653594205955, 'learning_rate': 0.0018574187906195895, 'batch_size': 24, 'dense_units': 69, 'optimizer': 'sgd', 'activation': 'selu', 'recurrent_activation': 'sigmoid', 'use_batch_norm': False, 'regularizer': None, 'regularizer_strength': 0.0013308385436062956, 'cell_type': 'GRU', 'bidirectional': False}. Best is trial 1 with value: -0.008005463216588132.\n",
      "Using 27 features: ['high_close_ratio', 'low_close_ratio', 'open_close_ratio', 'returns_1d', 'returns_3d', 'returns_7d', 'price_ma_5_ratio', 'price_ma_10_ratio', 'price_ma_20_ratio', 'macd_normalized', 'macd_signal_normalized', 'rsi_normalized', 'bb_position', 'bb_width', 'volatility_10', 'volatility_20', 'volume_avg_ratio', 'volume_change', 'vader_ma_3', 'vader_ma_7', 'article_count_norm', 'funding_rate', 'funding_rate_ma', 'momentum_5', 'momentum_10', 'day_sin', 'day_cos']\n",
      "Training sequences: 703\n",
      "Validation sequences: 100\n",
      "Test sequences: 202\n",
      "Features per timestep: 27\n",
      "Last date in dataset: 2025-05-06 00:00:00\n"
     ]
    },
    {
     "name": "stderr",
     "output_type": "stream",
     "text": [
      "Best trial: 1. Best value: -0.00800546:  25%|██▌       | 38/150 [39:35<1:22:31, 44.21s/it]"
     ]
    },
    {
     "name": "stdout",
     "output_type": "stream",
     "text": [
      "[I 2025-07-08 12:44:30,006] Trial 37 finished with value: -0.008105878896430802 and parameters: {'sequence_length': 40, 'lstm_units_1': 111, 'lstm_units_2': 108, 'lstm_units_3': 21, 'dropout_rate_1': 0.10669628625780839, 'dropout_rate_2': 0.4393056938856446, 'dropout_rate_dense': 0.1680376334950756, 'learning_rate': 0.00016485640713333202, 'batch_size': 48, 'dense_units': 43, 'optimizer': 'rmsprop', 'activation': 'tanh', 'recurrent_activation': 'tanh', 'use_batch_norm': True, 'regularizer': 'l1_l2', 'regularizer_strength': 0.027064437301320608, 'cell_type': 'LSTM', 'bidirectional': False}. Best is trial 1 with value: -0.008005463216588132.\n",
      "Using 27 features: ['high_close_ratio', 'low_close_ratio', 'open_close_ratio', 'returns_1d', 'returns_3d', 'returns_7d', 'price_ma_5_ratio', 'price_ma_10_ratio', 'price_ma_20_ratio', 'macd_normalized', 'macd_signal_normalized', 'rsi_normalized', 'bb_position', 'bb_width', 'volatility_10', 'volatility_20', 'volume_avg_ratio', 'volume_change', 'vader_ma_3', 'vader_ma_7', 'article_count_norm', 'funding_rate', 'funding_rate_ma', 'momentum_5', 'momentum_10', 'day_sin', 'day_cos']\n",
      "Training sequences: 721\n",
      "Validation sequences: 103\n",
      "Test sequences: 206\n",
      "Features per timestep: 27\n",
      "Last date in dataset: 2025-05-06 00:00:00\n"
     ]
    },
    {
     "name": "stderr",
     "output_type": "stream",
     "text": [
      "Best trial: 1. Best value: -0.00800546:  26%|██▌       | 39/150 [39:50<1:05:43, 35.53s/it]"
     ]
    },
    {
     "name": "stdout",
     "output_type": "stream",
     "text": [
      "[I 2025-07-08 12:44:45,284] Trial 38 finished with value: -0.022697670899170918 and parameters: {'sequence_length': 15, 'lstm_units_1': 33, 'lstm_units_2': 81, 'lstm_units_3': 45, 'dropout_rate_1': 0.39150105391047896, 'dropout_rate_2': 0.35549525508865765, 'dropout_rate_dense': 0.13866547510092786, 'learning_rate': 0.0006040041956721856, 'batch_size': 128, 'dense_units': 63, 'optimizer': 'sgd', 'activation': 'elu', 'recurrent_activation': 'sigmoid', 'use_batch_norm': True, 'regularizer': 'l1', 'regularizer_strength': 0.0033951787259791388, 'cell_type': 'LSTM', 'bidirectional': True}. Best is trial 1 with value: -0.008005463216588132.\n",
      "Using 27 features: ['high_close_ratio', 'low_close_ratio', 'open_close_ratio', 'returns_1d', 'returns_3d', 'returns_7d', 'price_ma_5_ratio', 'price_ma_10_ratio', 'price_ma_20_ratio', 'macd_normalized', 'macd_signal_normalized', 'rsi_normalized', 'bb_position', 'bb_width', 'volatility_10', 'volatility_20', 'volume_avg_ratio', 'volume_change', 'vader_ma_3', 'vader_ma_7', 'article_count_norm', 'funding_rate', 'funding_rate_ma', 'momentum_5', 'momentum_10', 'day_sin', 'day_cos']\n",
      "Training sequences: 708\n",
      "Validation sequences: 101\n",
      "Test sequences: 203\n",
      "Features per timestep: 27\n",
      "Last date in dataset: 2025-05-06 00:00:00\n"
     ]
    },
    {
     "name": "stderr",
     "output_type": "stream",
     "text": [
      "Best trial: 1. Best value: -0.00800546:  27%|██▋       | 40/150 [39:58<49:56, 27.24s/it]  "
     ]
    },
    {
     "name": "stdout",
     "output_type": "stream",
     "text": [
      "[I 2025-07-08 12:44:53,194] Trial 39 finished with value: -0.2315972813164723 and parameters: {'sequence_length': 33, 'lstm_units_1': 48, 'lstm_units_2': 52, 'lstm_units_3': 53, 'dropout_rate_1': 0.05810430154922875, 'dropout_rate_2': 0.04791815668277152, 'dropout_rate_dense': 0.23716686711445845, 'learning_rate': 0.0492438766722747, 'batch_size': 32, 'dense_units': 12, 'optimizer': 'rmsprop', 'activation': 'relu', 'recurrent_activation': 'tanh', 'use_batch_norm': False, 'regularizer': 'l2', 'regularizer_strength': 0.004985686662150217, 'cell_type': 'GRU', 'bidirectional': False}. Best is trial 1 with value: -0.008005463216588132.\n",
      "Using 27 features: ['high_close_ratio', 'low_close_ratio', 'open_close_ratio', 'returns_1d', 'returns_3d', 'returns_7d', 'price_ma_5_ratio', 'price_ma_10_ratio', 'price_ma_20_ratio', 'macd_normalized', 'macd_signal_normalized', 'rsi_normalized', 'bb_position', 'bb_width', 'volatility_10', 'volatility_20', 'volume_avg_ratio', 'volume_change', 'vader_ma_3', 'vader_ma_7', 'article_count_norm', 'funding_rate', 'funding_rate_ma', 'momentum_5', 'momentum_10', 'day_sin', 'day_cos']\n",
      "Training sequences: 714\n",
      "Validation sequences: 102\n",
      "Test sequences: 205\n",
      "Features per timestep: 27\n",
      "Last date in dataset: 2025-05-06 00:00:00\n"
     ]
    },
    {
     "name": "stderr",
     "output_type": "stream",
     "text": [
      "Best trial: 1. Best value: -0.00800546:  27%|██▋       | 41/150 [41:46<1:33:37, 51.53s/it]"
     ]
    },
    {
     "name": "stdout",
     "output_type": "stream",
     "text": [
      "[I 2025-07-08 12:46:41,399] Trial 40 finished with value: -0.01565852182235599 and parameters: {'sequence_length': 24, 'lstm_units_1': 87, 'lstm_units_2': 94, 'lstm_units_3': 57, 'dropout_rate_1': 0.43229857397600274, 'dropout_rate_2': 0.3088813220837274, 'dropout_rate_dense': 0.08144373500832479, 'learning_rate': 2.4699213374887324e-05, 'batch_size': 8, 'dense_units': 52, 'optimizer': 'sgd', 'activation': 'tanh', 'recurrent_activation': 'hard_sigmoid', 'use_batch_norm': True, 'regularizer': 'l1_l2', 'regularizer_strength': 0.04139406081224793, 'cell_type': 'LSTM', 'bidirectional': True}. Best is trial 1 with value: -0.008005463216588132.\n",
      "Using 27 features: ['high_close_ratio', 'low_close_ratio', 'open_close_ratio', 'returns_1d', 'returns_3d', 'returns_7d', 'price_ma_5_ratio', 'price_ma_10_ratio', 'price_ma_20_ratio', 'macd_normalized', 'macd_signal_normalized', 'rsi_normalized', 'bb_position', 'bb_width', 'volatility_10', 'volatility_20', 'volume_avg_ratio', 'volume_change', 'vader_ma_3', 'vader_ma_7', 'article_count_norm', 'funding_rate', 'funding_rate_ma', 'momentum_5', 'momentum_10', 'day_sin', 'day_cos']\n",
      "Training sequences: 723\n",
      "Validation sequences: 103\n",
      "Test sequences: 207\n",
      "Features per timestep: 27\n",
      "Last date in dataset: 2025-05-06 00:00:00\n"
     ]
    },
    {
     "name": "stderr",
     "output_type": "stream",
     "text": [
      "Best trial: 1. Best value: -0.00800546:  28%|██▊       | 42/150 [41:59<1:11:33, 39.75s/it]"
     ]
    },
    {
     "name": "stdout",
     "output_type": "stream",
     "text": [
      "[I 2025-07-08 12:46:53,676] Trial 41 finished with value: -0.008815161773438884 and parameters: {'sequence_length': 12, 'lstm_units_1': 93, 'lstm_units_2': 88, 'lstm_units_3': 64, 'dropout_rate_1': 0.2622203640192375, 'dropout_rate_2': 0.3300610043689424, 'dropout_rate_dense': 0.14178964238532527, 'learning_rate': 0.004018807083875457, 'batch_size': 24, 'dense_units': 44, 'optimizer': 'rmsprop', 'activation': 'tanh', 'recurrent_activation': 'sigmoid', 'use_batch_norm': True, 'regularizer': 'l1_l2', 'regularizer_strength': 0.004462003560145634, 'cell_type': 'LSTM', 'bidirectional': True}. Best is trial 1 with value: -0.008005463216588132.\n",
      "Using 27 features: ['high_close_ratio', 'low_close_ratio', 'open_close_ratio', 'returns_1d', 'returns_3d', 'returns_7d', 'price_ma_5_ratio', 'price_ma_10_ratio', 'price_ma_20_ratio', 'macd_normalized', 'macd_signal_normalized', 'rsi_normalized', 'bb_position', 'bb_width', 'volatility_10', 'volatility_20', 'volume_avg_ratio', 'volume_change', 'vader_ma_3', 'vader_ma_7', 'article_count_norm', 'funding_rate', 'funding_rate_ma', 'momentum_5', 'momentum_10', 'day_sin', 'day_cos']\n",
      "Training sequences: 724\n",
      "Validation sequences: 103\n",
      "Test sequences: 208\n",
      "Features per timestep: 27\n",
      "Last date in dataset: 2025-05-06 00:00:00\n"
     ]
    },
    {
     "name": "stderr",
     "output_type": "stream",
     "text": [
      "Best trial: 1. Best value: -0.00800546:  29%|██▊       | 43/150 [42:25<1:03:31, 35.62s/it]"
     ]
    },
    {
     "name": "stdout",
     "output_type": "stream",
     "text": [
      "[I 2025-07-08 12:47:19,649] Trial 42 finished with value: -0.008066821344657643 and parameters: {'sequence_length': 10, 'lstm_units_1': 27, 'lstm_units_2': 84, 'lstm_units_3': 64, 'dropout_rate_1': 0.302921328987841, 'dropout_rate_2': 0.2772936682879241, 'dropout_rate_dense': 0.12093794897069485, 'learning_rate': 0.010517804566984977, 'batch_size': 24, 'dense_units': 50, 'optimizer': 'rmsprop', 'activation': 'tanh', 'recurrent_activation': 'sigmoid', 'use_batch_norm': True, 'regularizer': 'l1_l2', 'regularizer_strength': 0.0018485656331682868, 'cell_type': 'LSTM', 'bidirectional': True}. Best is trial 1 with value: -0.008005463216588132.\n",
      "Using 27 features: ['high_close_ratio', 'low_close_ratio', 'open_close_ratio', 'returns_1d', 'returns_3d', 'returns_7d', 'price_ma_5_ratio', 'price_ma_10_ratio', 'price_ma_20_ratio', 'macd_normalized', 'macd_signal_normalized', 'rsi_normalized', 'bb_position', 'bb_width', 'volatility_10', 'volatility_20', 'volume_avg_ratio', 'volume_change', 'vader_ma_3', 'vader_ma_7', 'article_count_norm', 'funding_rate', 'funding_rate_ma', 'momentum_5', 'momentum_10', 'day_sin', 'day_cos']\n",
      "Training sequences: 718\n",
      "Validation sequences: 102\n",
      "Test sequences: 206\n",
      "Features per timestep: 27\n",
      "Last date in dataset: 2025-05-06 00:00:00\n"
     ]
    },
    {
     "name": "stderr",
     "output_type": "stream",
     "text": [
      "Best trial: 1. Best value: -0.00800546:  29%|██▉       | 44/150 [42:48<56:34, 32.02s/it]  "
     ]
    },
    {
     "name": "stdout",
     "output_type": "stream",
     "text": [
      "[I 2025-07-08 12:47:43,268] Trial 43 finished with value: -0.008072138750129873 and parameters: {'sequence_length': 19, 'lstm_units_1': 19, 'lstm_units_2': 66, 'lstm_units_3': 0, 'dropout_rate_1': 0.3414025615458032, 'dropout_rate_2': 0.27720977465810565, 'dropout_rate_dense': 0.11570990400847656, 'learning_rate': 0.011950162543324965, 'batch_size': 24, 'dense_units': 30, 'optimizer': 'rmsprop', 'activation': 'tanh', 'recurrent_activation': 'sigmoid', 'use_batch_norm': True, 'regularizer': 'l1_l2', 'regularizer_strength': 0.0010019951502687585, 'cell_type': 'LSTM', 'bidirectional': True}. Best is trial 1 with value: -0.008005463216588132.\n",
      "Using 27 features: ['high_close_ratio', 'low_close_ratio', 'open_close_ratio', 'returns_1d', 'returns_3d', 'returns_7d', 'price_ma_5_ratio', 'price_ma_10_ratio', 'price_ma_20_ratio', 'macd_normalized', 'macd_signal_normalized', 'rsi_normalized', 'bb_position', 'bb_width', 'volatility_10', 'volatility_20', 'volume_avg_ratio', 'volume_change', 'vader_ma_3', 'vader_ma_7', 'article_count_norm', 'funding_rate', 'funding_rate_ma', 'momentum_5', 'momentum_10', 'day_sin', 'day_cos']\n",
      "Training sequences: 720\n",
      "Validation sequences: 102\n",
      "Test sequences: 207\n",
      "Features per timestep: 27\n",
      "Last date in dataset: 2025-05-06 00:00:00\n"
     ]
    },
    {
     "name": "stderr",
     "output_type": "stream",
     "text": [
      "Best trial: 1. Best value: -0.00800546:  30%|███       | 45/150 [43:08<49:28, 28.27s/it]"
     ]
    },
    {
     "name": "stdout",
     "output_type": "stream",
     "text": [
      "[I 2025-07-08 12:48:02,800] Trial 44 finished with value: -0.008281280028679401 and parameters: {'sequence_length': 16, 'lstm_units_1': 29, 'lstm_units_2': 78, 'lstm_units_3': 6, 'dropout_rate_1': 0.28789041750432076, 'dropout_rate_2': 0.2387792175185673, 'dropout_rate_dense': 0.10425418374448427, 'learning_rate': 0.028946563092615108, 'batch_size': 64, 'dense_units': 86, 'optimizer': 'rmsprop', 'activation': 'tanh', 'recurrent_activation': 'sigmoid', 'use_batch_norm': True, 'regularizer': 'l1_l2', 'regularizer_strength': 0.0017736074024107809, 'cell_type': 'LSTM', 'bidirectional': True}. Best is trial 1 with value: -0.008005463216588132.\n",
      "Using 27 features: ['high_close_ratio', 'low_close_ratio', 'open_close_ratio', 'returns_1d', 'returns_3d', 'returns_7d', 'price_ma_5_ratio', 'price_ma_10_ratio', 'price_ma_20_ratio', 'macd_normalized', 'macd_signal_normalized', 'rsi_normalized', 'bb_position', 'bb_width', 'volatility_10', 'volatility_20', 'volume_avg_ratio', 'volume_change', 'vader_ma_3', 'vader_ma_7', 'article_count_norm', 'funding_rate', 'funding_rate_ma', 'momentum_5', 'momentum_10', 'day_sin', 'day_cos']\n",
      "Training sequences: 711\n",
      "Validation sequences: 101\n",
      "Test sequences: 205\n",
      "Features per timestep: 27\n",
      "Last date in dataset: 2025-05-06 00:00:00\n"
     ]
    },
    {
     "name": "stderr",
     "output_type": "stream",
     "text": [
      "Best trial: 45. Best value: -0.00798881:  31%|███       | 46/150 [43:56<59:32, 34.35s/it]"
     ]
    },
    {
     "name": "stdout",
     "output_type": "stream",
     "text": [
      "[I 2025-07-08 12:48:51,317] Trial 45 finished with value: -0.007988810377771076 and parameters: {'sequence_length': 28, 'lstm_units_1': 46, 'lstm_units_2': 71, 'lstm_units_3': 61, 'dropout_rate_1': 0.21727599709685935, 'dropout_rate_2': 0.3795116059653523, 'dropout_rate_dense': 0.12553004260420272, 'learning_rate': 0.09251398246909694, 'batch_size': 24, 'dense_units': 53, 'optimizer': 'rmsprop', 'activation': 'tanh', 'recurrent_activation': 'sigmoid', 'use_batch_norm': True, 'regularizer': 'l1_l2', 'regularizer_strength': 0.002244612022779752, 'cell_type': 'LSTM', 'bidirectional': True}. Best is trial 45 with value: -0.007988810377771076.\n",
      "Using 27 features: ['high_close_ratio', 'low_close_ratio', 'open_close_ratio', 'returns_1d', 'returns_3d', 'returns_7d', 'price_ma_5_ratio', 'price_ma_10_ratio', 'price_ma_20_ratio', 'macd_normalized', 'macd_signal_normalized', 'rsi_normalized', 'bb_position', 'bb_width', 'volatility_10', 'volatility_20', 'volume_avg_ratio', 'volume_change', 'vader_ma_3', 'vader_ma_7', 'article_count_norm', 'funding_rate', 'funding_rate_ma', 'momentum_5', 'momentum_10', 'day_sin', 'day_cos']\n",
      "Training sequences: 711\n",
      "Validation sequences: 101\n",
      "Test sequences: 204\n",
      "Features per timestep: 27\n",
      "Last date in dataset: 2025-05-06 00:00:00\n"
     ]
    },
    {
     "name": "stderr",
     "output_type": "stream",
     "text": [
      "Best trial: 45. Best value: -0.00798881:  31%|███▏      | 47/150 [44:05<45:42, 26.62s/it]"
     ]
    },
    {
     "name": "stdout",
     "output_type": "stream",
     "text": [
      "[I 2025-07-08 12:48:59,916] Trial 46 finished with value: -0.2363511501754351 and parameters: {'sequence_length': 29, 'lstm_units_1': 48, 'lstm_units_2': 71, 'lstm_units_3': 61, 'dropout_rate_1': 0.16093552936738614, 'dropout_rate_2': 0.3846434147678412, 'dropout_rate_dense': 0.2777546101866939, 'learning_rate': 0.09117528321173944, 'batch_size': 16, 'dense_units': 62, 'optimizer': 'rmsprop', 'activation': 'selu', 'recurrent_activation': 'sigmoid', 'use_batch_norm': True, 'regularizer': None, 'regularizer_strength': 0.002466848234233651, 'cell_type': 'LSTM', 'bidirectional': False}. Best is trial 45 with value: -0.007988810377771076.\n",
      "Using 27 features: ['high_close_ratio', 'low_close_ratio', 'open_close_ratio', 'returns_1d', 'returns_3d', 'returns_7d', 'price_ma_5_ratio', 'price_ma_10_ratio', 'price_ma_20_ratio', 'macd_normalized', 'macd_signal_normalized', 'rsi_normalized', 'bb_position', 'bb_width', 'volatility_10', 'volatility_20', 'volume_avg_ratio', 'volume_change', 'vader_ma_3', 'vader_ma_7', 'article_count_norm', 'funding_rate', 'funding_rate_ma', 'momentum_5', 'momentum_10', 'day_sin', 'day_cos']\n",
      "Training sequences: 715\n",
      "Validation sequences: 102\n",
      "Test sequences: 205\n",
      "Features per timestep: 27\n",
      "Last date in dataset: 2025-05-06 00:00:00\n"
     ]
    },
    {
     "name": "stderr",
     "output_type": "stream",
     "text": [
      "Best trial: 47. Best value: -0.00797458:  32%|███▏      | 48/150 [44:17<37:43, 22.19s/it]"
     ]
    },
    {
     "name": "stdout",
     "output_type": "stream",
     "text": [
      "[I 2025-07-08 12:49:11,765] Trial 47 finished with value: -0.007974579513883865 and parameters: {'sequence_length': 23, 'lstm_units_1': 75, 'lstm_units_2': 62, 'lstm_units_3': 55, 'dropout_rate_1': 0.21391047596813975, 'dropout_rate_2': 0.3310918107876664, 'dropout_rate_dense': 0.14870524800933685, 'learning_rate': 0.04954169654022332, 'batch_size': 96, 'dense_units': 72, 'optimizer': 'adam', 'activation': 'elu', 'recurrent_activation': 'tanh', 'use_batch_norm': False, 'regularizer': 'l1_l2', 'regularizer_strength': 0.06256870128158706, 'cell_type': 'LSTM', 'bidirectional': True}. Best is trial 47 with value: -0.007974579513883865.\n",
      "Using 27 features: ['high_close_ratio', 'low_close_ratio', 'open_close_ratio', 'returns_1d', 'returns_3d', 'returns_7d', 'price_ma_5_ratio', 'price_ma_10_ratio', 'price_ma_20_ratio', 'macd_normalized', 'macd_signal_normalized', 'rsi_normalized', 'bb_position', 'bb_width', 'volatility_10', 'volatility_20', 'volume_avg_ratio', 'volume_change', 'vader_ma_3', 'vader_ma_7', 'article_count_norm', 'funding_rate', 'funding_rate_ma', 'momentum_5', 'momentum_10', 'day_sin', 'day_cos']\n",
      "Training sequences: 706\n",
      "Validation sequences: 100\n",
      "Test sequences: 203\n",
      "Features per timestep: 27\n",
      "Last date in dataset: 2025-05-06 00:00:00\n"
     ]
    },
    {
     "name": "stderr",
     "output_type": "stream",
     "text": [
      "Best trial: 47. Best value: -0.00797458:  33%|███▎      | 49/150 [44:47<41:25, 24.61s/it]"
     ]
    },
    {
     "name": "stdout",
     "output_type": "stream",
     "text": [
      "[I 2025-07-08 12:49:42,006] Trial 48 finished with value: -0.008105989714022458 and parameters: {'sequence_length': 36, 'lstm_units_1': 74, 'lstm_units_2': 62, 'lstm_units_3': 51, 'dropout_rate_1': 0.23517137006332428, 'dropout_rate_2': 0.31578502925837515, 'dropout_rate_dense': 0.1674010858017123, 'learning_rate': 0.05497355084924239, 'batch_size': 96, 'dense_units': 97, 'optimizer': 'adam', 'activation': 'elu', 'recurrent_activation': 'tanh', 'use_batch_norm': False, 'regularizer': 'l1_l2', 'regularizer_strength': 0.06496584658768892, 'cell_type': 'LSTM', 'bidirectional': True}. Best is trial 47 with value: -0.007974579513883865.\n",
      "Using 27 features: ['high_close_ratio', 'low_close_ratio', 'open_close_ratio', 'returns_1d', 'returns_3d', 'returns_7d', 'price_ma_5_ratio', 'price_ma_10_ratio', 'price_ma_20_ratio', 'macd_normalized', 'macd_signal_normalized', 'rsi_normalized', 'bb_position', 'bb_width', 'volatility_10', 'volatility_20', 'volume_avg_ratio', 'volume_change', 'vader_ma_3', 'vader_ma_7', 'article_count_norm', 'funding_rate', 'funding_rate_ma', 'momentum_5', 'momentum_10', 'day_sin', 'day_cos']\n",
      "Training sequences: 697\n",
      "Validation sequences: 99\n",
      "Test sequences: 200\n",
      "Features per timestep: 27\n",
      "Last date in dataset: 2025-05-06 00:00:00\n"
     ]
    },
    {
     "name": "stderr",
     "output_type": "stream",
     "text": [
      "Best trial: 47. Best value: -0.00797458:  33%|███▎      | 50/150 [45:11<40:46, 24.47s/it]"
     ]
    },
    {
     "name": "stdout",
     "output_type": "stream",
     "text": [
      "[I 2025-07-08 12:50:06,148] Trial 49 finished with value: -0.008182804868529481 and parameters: {'sequence_length': 49, 'lstm_units_1': 60, 'lstm_units_2': 47, 'lstm_units_3': 47, 'dropout_rate_1': 0.2166964094664624, 'dropout_rate_2': 0.41790471107849747, 'dropout_rate_dense': 0.08709949424231674, 'learning_rate': 0.036158565595201864, 'batch_size': 96, 'dense_units': 118, 'optimizer': 'adam', 'activation': 'elu', 'recurrent_activation': 'tanh', 'use_batch_norm': False, 'regularizer': 'l1', 'regularizer_strength': 0.06712584756004315, 'cell_type': 'LSTM', 'bidirectional': False}. Best is trial 47 with value: -0.007974579513883865.\n",
      "Using 27 features: ['high_close_ratio', 'low_close_ratio', 'open_close_ratio', 'returns_1d', 'returns_3d', 'returns_7d', 'price_ma_5_ratio', 'price_ma_10_ratio', 'price_ma_20_ratio', 'macd_normalized', 'macd_signal_normalized', 'rsi_normalized', 'bb_position', 'bb_width', 'volatility_10', 'volatility_20', 'volume_avg_ratio', 'volume_change', 'vader_ma_3', 'vader_ma_7', 'article_count_norm', 'funding_rate', 'funding_rate_ma', 'momentum_5', 'momentum_10', 'day_sin', 'day_cos']\n",
      "Training sequences: 692\n",
      "Validation sequences: 98\n",
      "Test sequences: 199\n",
      "Features per timestep: 27\n",
      "Last date in dataset: 2025-05-06 00:00:00\n"
     ]
    },
    {
     "name": "stderr",
     "output_type": "stream",
     "text": [
      "Best trial: 47. Best value: -0.00797458:  34%|███▍      | 51/150 [45:25<34:53, 21.15s/it]"
     ]
    },
    {
     "name": "stdout",
     "output_type": "stream",
     "text": [
      "Error evaluating parameters: Input contains NaN.\n",
      "[I 2025-07-08 12:50:19,561] Trial 50 finished with value: -inf and parameters: {'sequence_length': 56, 'lstm_units_1': 150, 'lstm_units_2': 55, 'lstm_units_3': 30, 'dropout_rate_1': 0.17774780913934424, 'dropout_rate_2': 0.375807723680202, 'dropout_rate_dense': 0.06471312575345853, 'learning_rate': 0.09924261740709463, 'batch_size': 96, 'dense_units': 15, 'optimizer': 'adam', 'activation': 'elu', 'recurrent_activation': 'tanh', 'use_batch_norm': False, 'regularizer': 'l2', 'regularizer_strength': 0.053139699912825904, 'cell_type': 'GRU', 'bidirectional': True}. Best is trial 47 with value: -0.007974579513883865.\n",
      "Using 27 features: ['high_close_ratio', 'low_close_ratio', 'open_close_ratio', 'returns_1d', 'returns_3d', 'returns_7d', 'price_ma_5_ratio', 'price_ma_10_ratio', 'price_ma_20_ratio', 'macd_normalized', 'macd_signal_normalized', 'rsi_normalized', 'bb_position', 'bb_width', 'volatility_10', 'volatility_20', 'volume_avg_ratio', 'volume_change', 'vader_ma_3', 'vader_ma_7', 'article_count_norm', 'funding_rate', 'funding_rate_ma', 'momentum_5', 'momentum_10', 'day_sin', 'day_cos']\n",
      "Training sequences: 716\n",
      "Validation sequences: 102\n",
      "Test sequences: 205\n",
      "Features per timestep: 27\n",
      "Last date in dataset: 2025-05-06 00:00:00\n"
     ]
    },
    {
     "name": "stderr",
     "output_type": "stream",
     "text": [
      "Best trial: 47. Best value: -0.00797458:  35%|███▍      | 52/150 [46:08<45:35, 27.92s/it]"
     ]
    },
    {
     "name": "stdout",
     "output_type": "stream",
     "text": [
      "[I 2025-07-08 12:51:03,271] Trial 51 finished with value: -0.008063290065817543 and parameters: {'sequence_length': 22, 'lstm_units_1': 40, 'lstm_units_2': 70, 'lstm_units_3': 55, 'dropout_rate_1': 0.15240122846098467, 'dropout_rate_2': 0.34461682241611535, 'dropout_rate_dense': 0.1343844518123808, 'learning_rate': 0.01740543806170507, 'batch_size': 32, 'dense_units': 73, 'optimizer': 'adam', 'activation': 'elu', 'recurrent_activation': 'tanh', 'use_batch_norm': False, 'regularizer': 'l1_l2', 'regularizer_strength': 0.02961053488510509, 'cell_type': 'LSTM', 'bidirectional': True}. Best is trial 47 with value: -0.007974579513883865.\n",
      "Using 27 features: ['high_close_ratio', 'low_close_ratio', 'open_close_ratio', 'returns_1d', 'returns_3d', 'returns_7d', 'price_ma_5_ratio', 'price_ma_10_ratio', 'price_ma_20_ratio', 'macd_normalized', 'macd_signal_normalized', 'rsi_normalized', 'bb_position', 'bb_width', 'volatility_10', 'volatility_20', 'volume_avg_ratio', 'volume_change', 'vader_ma_3', 'vader_ma_7', 'article_count_norm', 'funding_rate', 'funding_rate_ma', 'momentum_5', 'momentum_10', 'day_sin', 'day_cos']\n",
      "Training sequences: 716\n",
      "Validation sequences: 102\n",
      "Test sequences: 205\n",
      "Features per timestep: 27\n",
      "Last date in dataset: 2025-05-06 00:00:00\n"
     ]
    },
    {
     "name": "stderr",
     "output_type": "stream",
     "text": [
      "Best trial: 47. Best value: -0.00797458:  35%|███▌      | 53/150 [46:42<47:59, 29.69s/it]"
     ]
    },
    {
     "name": "stdout",
     "output_type": "stream",
     "text": [
      "[I 2025-07-08 12:51:37,085] Trial 52 finished with value: -0.008060581535368419 and parameters: {'sequence_length': 22, 'lstm_units_1': 41, 'lstm_units_2': 64, 'lstm_units_3': 55, 'dropout_rate_1': 0.1519607564377603, 'dropout_rate_2': 0.33949106862652556, 'dropout_rate_dense': 0.14716018441494805, 'learning_rate': 0.022221697429541193, 'batch_size': 32, 'dense_units': 128, 'optimizer': 'adam', 'activation': 'elu', 'recurrent_activation': 'tanh', 'use_batch_norm': False, 'regularizer': 'l1_l2', 'regularizer_strength': 0.032361066701960095, 'cell_type': 'LSTM', 'bidirectional': True}. Best is trial 47 with value: -0.007974579513883865.\n",
      "Using 27 features: ['high_close_ratio', 'low_close_ratio', 'open_close_ratio', 'returns_1d', 'returns_3d', 'returns_7d', 'price_ma_5_ratio', 'price_ma_10_ratio', 'price_ma_20_ratio', 'macd_normalized', 'macd_signal_normalized', 'rsi_normalized', 'bb_position', 'bb_width', 'volatility_10', 'volatility_20', 'volume_avg_ratio', 'volume_change', 'vader_ma_3', 'vader_ma_7', 'article_count_norm', 'funding_rate', 'funding_rate_ma', 'momentum_5', 'momentum_10', 'day_sin', 'day_cos']\n",
      "Training sequences: 701\n",
      "Validation sequences: 100\n",
      "Test sequences: 201\n",
      "Features per timestep: 27\n",
      "Last date in dataset: 2025-05-06 00:00:00\n"
     ]
    },
    {
     "name": "stderr",
     "output_type": "stream",
     "text": [
      "Best trial: 47. Best value: -0.00797458:  36%|███▌      | 54/150 [47:35<58:35, 36.62s/it]"
     ]
    },
    {
     "name": "stdout",
     "output_type": "stream",
     "text": [
      "[I 2025-07-08 12:52:29,876] Trial 53 finished with value: -0.008149215685564358 and parameters: {'sequence_length': 43, 'lstm_units_1': 42, 'lstm_units_2': 70, 'lstm_units_3': 56, 'dropout_rate_1': 0.15405217246302116, 'dropout_rate_2': 0.338163828873688, 'dropout_rate_dense': 0.14700959749731712, 'learning_rate': 0.016358948331604395, 'batch_size': 32, 'dense_units': 126, 'optimizer': 'adam', 'activation': 'elu', 'recurrent_activation': 'tanh', 'use_batch_norm': False, 'regularizer': 'l1_l2', 'regularizer_strength': 0.03003268285072138, 'cell_type': 'LSTM', 'bidirectional': True}. Best is trial 47 with value: -0.007974579513883865.\n",
      "Using 27 features: ['high_close_ratio', 'low_close_ratio', 'open_close_ratio', 'returns_1d', 'returns_3d', 'returns_7d', 'price_ma_5_ratio', 'price_ma_10_ratio', 'price_ma_20_ratio', 'macd_normalized', 'macd_signal_normalized', 'rsi_normalized', 'bb_position', 'bb_width', 'volatility_10', 'volatility_20', 'volume_avg_ratio', 'volume_change', 'vader_ma_3', 'vader_ma_7', 'article_count_norm', 'funding_rate', 'funding_rate_ma', 'momentum_5', 'momentum_10', 'day_sin', 'day_cos']\n",
      "Training sequences: 711\n",
      "Validation sequences: 101\n",
      "Test sequences: 204\n",
      "Features per timestep: 27\n",
      "Last date in dataset: 2025-05-06 00:00:00\n"
     ]
    },
    {
     "name": "stderr",
     "output_type": "stream",
     "text": [
      "Best trial: 47. Best value: -0.00797458:  37%|███▋      | 55/150 [47:54<49:32, 31.29s/it]"
     ]
    },
    {
     "name": "stdout",
     "output_type": "stream",
     "text": [
      "[I 2025-07-08 12:52:48,741] Trial 54 finished with value: -0.008006030747388433 and parameters: {'sequence_length': 29, 'lstm_units_1': 54, 'lstm_units_2': 65, 'lstm_units_3': 59, 'dropout_rate_1': 0.09896916908195735, 'dropout_rate_2': 0.4547731582565852, 'dropout_rate_dense': 0.17755759843277605, 'learning_rate': 0.06523102357067305, 'batch_size': 32, 'dense_units': 119, 'optimizer': 'adam', 'activation': 'elu', 'recurrent_activation': 'tanh', 'use_batch_norm': False, 'regularizer': 'l1_l2', 'regularizer_strength': 0.034952054415022804, 'cell_type': 'LSTM', 'bidirectional': True}. Best is trial 47 with value: -0.007974579513883865.\n",
      "Using 27 features: ['high_close_ratio', 'low_close_ratio', 'open_close_ratio', 'returns_1d', 'returns_3d', 'returns_7d', 'price_ma_5_ratio', 'price_ma_10_ratio', 'price_ma_20_ratio', 'macd_normalized', 'macd_signal_normalized', 'rsi_normalized', 'bb_position', 'bb_width', 'volatility_10', 'volatility_20', 'volume_avg_ratio', 'volume_change', 'vader_ma_3', 'vader_ma_7', 'article_count_norm', 'funding_rate', 'funding_rate_ma', 'momentum_5', 'momentum_10', 'day_sin', 'day_cos']\n",
      "Training sequences: 706\n",
      "Validation sequences: 100\n",
      "Test sequences: 203\n",
      "Features per timestep: 27\n",
      "Last date in dataset: 2025-05-06 00:00:00\n"
     ]
    },
    {
     "name": "stderr",
     "output_type": "stream",
     "text": [
      "Best trial: 47. Best value: -0.00797458:  37%|███▋      | 56/150 [48:46<58:37, 37.42s/it]"
     ]
    },
    {
     "name": "stdout",
     "output_type": "stream",
     "text": [
      "[I 2025-07-08 12:53:40,444] Trial 55 finished with value: -0.008163671684193073 and parameters: {'sequence_length': 36, 'lstm_units_1': 65, 'lstm_units_2': 64, 'lstm_units_3': 59, 'dropout_rate_1': 0.10796980502486447, 'dropout_rate_2': 0.45606411572585087, 'dropout_rate_dense': 0.1790829413905306, 'learning_rate': 0.05724391328524898, 'batch_size': 32, 'dense_units': 121, 'optimizer': 'adam', 'activation': 'elu', 'recurrent_activation': 'tanh', 'use_batch_norm': False, 'regularizer': 'l1_l2', 'regularizer_strength': 0.03509875786149434, 'cell_type': 'LSTM', 'bidirectional': True}. Best is trial 47 with value: -0.007974579513883865.\n",
      "Using 27 features: ['high_close_ratio', 'low_close_ratio', 'open_close_ratio', 'returns_1d', 'returns_3d', 'returns_7d', 'price_ma_5_ratio', 'price_ma_10_ratio', 'price_ma_20_ratio', 'macd_normalized', 'macd_signal_normalized', 'rsi_normalized', 'bb_position', 'bb_width', 'volatility_10', 'volatility_20', 'volume_avg_ratio', 'volume_change', 'vader_ma_3', 'vader_ma_7', 'article_count_norm', 'funding_rate', 'funding_rate_ma', 'momentum_5', 'momentum_10', 'day_sin', 'day_cos']\n",
      "Training sequences: 711\n",
      "Validation sequences: 101\n",
      "Test sequences: 205\n",
      "Features per timestep: 27\n",
      "Last date in dataset: 2025-05-06 00:00:00\n"
     ]
    },
    {
     "name": "stderr",
     "output_type": "stream",
     "text": [
      "Best trial: 47. Best value: -0.00797458:  38%|███▊      | 57/150 [49:24<58:28, 37.72s/it]"
     ]
    },
    {
     "name": "stdout",
     "output_type": "stream",
     "text": [
      "[I 2025-07-08 12:54:18,885] Trial 56 finished with value: -0.008003913685292317 and parameters: {'sequence_length': 28, 'lstm_units_1': 51, 'lstm_units_2': 57, 'lstm_units_3': 38, 'dropout_rate_1': 0.08310029823464449, 'dropout_rate_2': 0.49583695854454485, 'dropout_rate_dense': 0.19549518423428847, 'learning_rate': 0.026415397685709132, 'batch_size': 32, 'dense_units': 107, 'optimizer': 'adam', 'activation': 'elu', 'recurrent_activation': 'tanh', 'use_batch_norm': False, 'regularizer': 'l1_l2', 'regularizer_strength': 0.02119907110015225, 'cell_type': 'LSTM', 'bidirectional': True}. Best is trial 47 with value: -0.007974579513883865.\n",
      "Using 27 features: ['high_close_ratio', 'low_close_ratio', 'open_close_ratio', 'returns_1d', 'returns_3d', 'returns_7d', 'price_ma_5_ratio', 'price_ma_10_ratio', 'price_ma_20_ratio', 'macd_normalized', 'macd_signal_normalized', 'rsi_normalized', 'bb_position', 'bb_width', 'volatility_10', 'volatility_20', 'volume_avg_ratio', 'volume_change', 'vader_ma_3', 'vader_ma_7', 'article_count_norm', 'funding_rate', 'funding_rate_ma', 'momentum_5', 'momentum_10', 'day_sin', 'day_cos']\n",
      "Training sequences: 711\n",
      "Validation sequences: 101\n",
      "Test sequences: 204\n",
      "Features per timestep: 27\n",
      "Last date in dataset: 2025-05-06 00:00:00\n"
     ]
    },
    {
     "name": "stderr",
     "output_type": "stream",
     "text": [
      "Best trial: 47. Best value: -0.00797458:  39%|███▊      | 58/150 [49:44<49:38, 32.38s/it]"
     ]
    },
    {
     "name": "stdout",
     "output_type": "stream",
     "text": [
      "[I 2025-07-08 12:54:38,793] Trial 57 finished with value: -0.008017274153277519 and parameters: {'sequence_length': 29, 'lstm_units_1': 49, 'lstm_units_2': 40, 'lstm_units_3': 38, 'dropout_rate_1': 0.0747614843021854, 'dropout_rate_2': 0.49696343649342967, 'dropout_rate_dense': 0.19844932289544862, 'learning_rate': 0.06508109222937505, 'batch_size': 32, 'dense_units': 107, 'optimizer': 'adam', 'activation': 'elu', 'recurrent_activation': 'tanh', 'use_batch_norm': False, 'regularizer': 'l1_l2', 'regularizer_strength': 0.022078027106625358, 'cell_type': 'LSTM', 'bidirectional': True}. Best is trial 47 with value: -0.007974579513883865.\n",
      "Using 27 features: ['high_close_ratio', 'low_close_ratio', 'open_close_ratio', 'returns_1d', 'returns_3d', 'returns_7d', 'price_ma_5_ratio', 'price_ma_10_ratio', 'price_ma_20_ratio', 'macd_normalized', 'macd_signal_normalized', 'rsi_normalized', 'bb_position', 'bb_width', 'volatility_10', 'volatility_20', 'volume_avg_ratio', 'volume_change', 'vader_ma_3', 'vader_ma_7', 'article_count_norm', 'funding_rate', 'funding_rate_ma', 'momentum_5', 'momentum_10', 'day_sin', 'day_cos']\n",
      "Training sequences: 710\n",
      "Validation sequences: 101\n",
      "Test sequences: 204\n",
      "Features per timestep: 27\n",
      "Last date in dataset: 2025-05-06 00:00:00\n"
     ]
    },
    {
     "name": "stderr",
     "output_type": "stream",
     "text": [
      "Best trial: 47. Best value: -0.00797458:  39%|███▉      | 59/150 [50:29<54:48, 36.14s/it]"
     ]
    },
    {
     "name": "stdout",
     "output_type": "stream",
     "text": [
      "[I 2025-07-08 12:55:23,714] Trial 58 finished with value: -0.008081798896466983 and parameters: {'sequence_length': 30, 'lstm_units_1': 52, 'lstm_units_2': 36, 'lstm_units_3': 38, 'dropout_rate_1': 0.07849607986338278, 'dropout_rate_2': 0.4929538332594206, 'dropout_rate_dense': 0.19707687109742397, 'learning_rate': 0.07389256912970618, 'batch_size': 32, 'dense_units': 106, 'optimizer': 'adam', 'activation': 'elu', 'recurrent_activation': 'tanh', 'use_batch_norm': False, 'regularizer': 'l1_l2', 'regularizer_strength': 0.02193669303771354, 'cell_type': 'LSTM', 'bidirectional': True}. Best is trial 47 with value: -0.007974579513883865.\n",
      "Using 27 features: ['high_close_ratio', 'low_close_ratio', 'open_close_ratio', 'returns_1d', 'returns_3d', 'returns_7d', 'price_ma_5_ratio', 'price_ma_10_ratio', 'price_ma_20_ratio', 'macd_normalized', 'macd_signal_normalized', 'rsi_normalized', 'bb_position', 'bb_width', 'volatility_10', 'volatility_20', 'volume_avg_ratio', 'volume_change', 'vader_ma_3', 'vader_ma_7', 'article_count_norm', 'funding_rate', 'funding_rate_ma', 'momentum_5', 'momentum_10', 'day_sin', 'day_cos']\n",
      "Training sequences: 700\n",
      "Validation sequences: 100\n",
      "Test sequences: 201\n",
      "Features per timestep: 27\n",
      "Last date in dataset: 2025-05-06 00:00:00\n"
     ]
    },
    {
     "name": "stderr",
     "output_type": "stream",
     "text": [
      "Best trial: 47. Best value: -0.00797458:  40%|████      | 60/150 [50:50<47:24, 31.61s/it]"
     ]
    },
    {
     "name": "stdout",
     "output_type": "stream",
     "text": [
      "[I 2025-07-08 12:55:44,736] Trial 59 finished with value: -0.008796802174804193 and parameters: {'sequence_length': 44, 'lstm_units_1': 75, 'lstm_units_2': 42, 'lstm_units_3': 33, 'dropout_rate_1': 0.009508807860333146, 'dropout_rate_2': 0.4757126853038561, 'dropout_rate_dense': 0.2135568548463343, 'learning_rate': 0.04698275026583763, 'batch_size': 32, 'dense_units': 105, 'optimizer': 'adam', 'activation': 'elu', 'recurrent_activation': 'tanh', 'use_batch_norm': False, 'regularizer': 'l1_l2', 'regularizer_strength': 0.017663157202860113, 'cell_type': 'LSTM', 'bidirectional': True}. Best is trial 47 with value: -0.007974579513883865.\n",
      "Using 27 features: ['high_close_ratio', 'low_close_ratio', 'open_close_ratio', 'returns_1d', 'returns_3d', 'returns_7d', 'price_ma_5_ratio', 'price_ma_10_ratio', 'price_ma_20_ratio', 'macd_normalized', 'macd_signal_normalized', 'rsi_normalized', 'bb_position', 'bb_width', 'volatility_10', 'volatility_20', 'volume_avg_ratio', 'volume_change', 'vader_ma_3', 'vader_ma_7', 'article_count_norm', 'funding_rate', 'funding_rate_ma', 'momentum_5', 'momentum_10', 'day_sin', 'day_cos']\n",
      "Training sequences: 676\n",
      "Validation sequences: 96\n",
      "Test sequences: 195\n",
      "Features per timestep: 27\n",
      "Last date in dataset: 2025-05-06 00:00:00\n"
     ]
    },
    {
     "name": "stderr",
     "output_type": "stream",
     "text": [
      "Best trial: 47. Best value: -0.00797458:  41%|████      | 61/150 [52:32<1:18:10, 52.70s/it]"
     ]
    },
    {
     "name": "stdout",
     "output_type": "stream",
     "text": [
      "[I 2025-07-08 12:57:26,656] Trial 60 finished with value: -0.2366139283723106 and parameters: {'sequence_length': 78, 'lstm_units_1': 23, 'lstm_units_2': 30, 'lstm_units_3': 37, 'dropout_rate_1': 0.04924368881450633, 'dropout_rate_2': 0.44505389126602635, 'dropout_rate_dense': 0.18979444218784638, 'learning_rate': 0.07991557439919209, 'batch_size': 32, 'dense_units': 115, 'optimizer': 'adam', 'activation': 'elu', 'recurrent_activation': 'tanh', 'use_batch_norm': False, 'regularizer': 'l1_l2', 'regularizer_strength': 0.07776423572948062, 'cell_type': 'LSTM', 'bidirectional': True}. Best is trial 47 with value: -0.007974579513883865.\n",
      "Using 27 features: ['high_close_ratio', 'low_close_ratio', 'open_close_ratio', 'returns_1d', 'returns_3d', 'returns_7d', 'price_ma_5_ratio', 'price_ma_10_ratio', 'price_ma_20_ratio', 'macd_normalized', 'macd_signal_normalized', 'rsi_normalized', 'bb_position', 'bb_width', 'volatility_10', 'volatility_20', 'volume_avg_ratio', 'volume_change', 'vader_ma_3', 'vader_ma_7', 'article_count_norm', 'funding_rate', 'funding_rate_ma', 'momentum_5', 'momentum_10', 'day_sin', 'day_cos']\n",
      "Training sequences: 713\n",
      "Validation sequences: 101\n",
      "Test sequences: 205\n",
      "Features per timestep: 27\n",
      "Last date in dataset: 2025-05-06 00:00:00\n"
     ]
    },
    {
     "name": "stderr",
     "output_type": "stream",
     "text": [
      "Best trial: 47. Best value: -0.00797458:  41%|████▏     | 62/150 [53:09<1:10:34, 48.12s/it]"
     ]
    },
    {
     "name": "stdout",
     "output_type": "stream",
     "text": [
      "[I 2025-07-08 12:58:04,087] Trial 61 finished with value: -0.008056425360482785 and parameters: {'sequence_length': 26, 'lstm_units_1': 34, 'lstm_units_2': 55, 'lstm_units_3': 43, 'dropout_rate_1': 0.09582197695310504, 'dropout_rate_2': 0.4771981226375604, 'dropout_rate_dense': 0.21796691961819017, 'learning_rate': 0.023177255978042953, 'batch_size': 32, 'dense_units': 128, 'optimizer': 'adam', 'activation': 'elu', 'recurrent_activation': 'tanh', 'use_batch_norm': False, 'regularizer': 'l1_l2', 'regularizer_strength': 0.053494236976395854, 'cell_type': 'LSTM', 'bidirectional': True}. Best is trial 47 with value: -0.007974579513883865.\n",
      "Using 27 features: ['high_close_ratio', 'low_close_ratio', 'open_close_ratio', 'returns_1d', 'returns_3d', 'returns_7d', 'price_ma_5_ratio', 'price_ma_10_ratio', 'price_ma_20_ratio', 'macd_normalized', 'macd_signal_normalized', 'rsi_normalized', 'bb_position', 'bb_width', 'volatility_10', 'volatility_20', 'volume_avg_ratio', 'volume_change', 'vader_ma_3', 'vader_ma_7', 'article_count_norm', 'funding_rate', 'funding_rate_ma', 'momentum_5', 'momentum_10', 'day_sin', 'day_cos']\n",
      "Training sequences: 712\n",
      "Validation sequences: 101\n",
      "Test sequences: 205\n",
      "Features per timestep: 27\n",
      "Last date in dataset: 2025-05-06 00:00:00\n"
     ]
    },
    {
     "name": "stderr",
     "output_type": "stream",
     "text": [
      "Best trial: 47. Best value: -0.00797458:  42%|████▏     | 63/150 [53:45<1:04:36, 44.56s/it]"
     ]
    },
    {
     "name": "stdout",
     "output_type": "stream",
     "text": [
      "[I 2025-07-08 12:58:40,336] Trial 62 finished with value: -0.00802375179344052 and parameters: {'sequence_length': 27, 'lstm_units_1': 29, 'lstm_units_2': 56, 'lstm_units_3': 42, 'dropout_rate_1': 0.08681084584637919, 'dropout_rate_2': 0.47662633702029295, 'dropout_rate_dense': 0.22389371205705852, 'learning_rate': 0.029729345595797804, 'batch_size': 32, 'dense_units': 109, 'optimizer': 'adam', 'activation': 'elu', 'recurrent_activation': 'tanh', 'use_batch_norm': False, 'regularizer': 'l1_l2', 'regularizer_strength': 0.05190469636070013, 'cell_type': 'LSTM', 'bidirectional': True}. Best is trial 47 with value: -0.007974579513883865.\n",
      "Using 27 features: ['high_close_ratio', 'low_close_ratio', 'open_close_ratio', 'returns_1d', 'returns_3d', 'returns_7d', 'price_ma_5_ratio', 'price_ma_10_ratio', 'price_ma_20_ratio', 'macd_normalized', 'macd_signal_normalized', 'rsi_normalized', 'bb_position', 'bb_width', 'volatility_10', 'volatility_20', 'volume_avg_ratio', 'volume_change', 'vader_ma_3', 'vader_ma_7', 'article_count_norm', 'funding_rate', 'funding_rate_ma', 'momentum_5', 'momentum_10', 'day_sin', 'day_cos']\n",
      "Training sequences: 708\n",
      "Validation sequences: 101\n",
      "Test sequences: 203\n",
      "Features per timestep: 27\n",
      "Last date in dataset: 2025-05-06 00:00:00\n"
     ]
    },
    {
     "name": "stderr",
     "output_type": "stream",
     "text": [
      "Best trial: 47. Best value: -0.00797458:  43%|████▎     | 64/150 [54:28<1:02:58, 43.94s/it]"
     ]
    },
    {
     "name": "stdout",
     "output_type": "stream",
     "text": [
      "[I 2025-07-08 12:59:22,811] Trial 63 finished with value: -0.008089330739189016 and parameters: {'sequence_length': 33, 'lstm_units_1': 52, 'lstm_units_2': 52, 'lstm_units_3': 26, 'dropout_rate_1': 0.03905704699430427, 'dropout_rate_2': 0.45920822845141746, 'dropout_rate_dense': 0.23608522463026618, 'learning_rate': 0.045168461839460314, 'batch_size': 32, 'dense_units': 109, 'optimizer': 'adam', 'activation': 'elu', 'recurrent_activation': 'tanh', 'use_batch_norm': False, 'regularizer': 'l1_l2', 'regularizer_strength': 0.04133904963971892, 'cell_type': 'LSTM', 'bidirectional': True}. Best is trial 47 with value: -0.007974579513883865.\n",
      "Using 27 features: ['high_close_ratio', 'low_close_ratio', 'open_close_ratio', 'returns_1d', 'returns_3d', 'returns_7d', 'price_ma_5_ratio', 'price_ma_10_ratio', 'price_ma_20_ratio', 'macd_normalized', 'macd_signal_normalized', 'rsi_normalized', 'bb_position', 'bb_width', 'volatility_10', 'volatility_20', 'volume_avg_ratio', 'volume_change', 'vader_ma_3', 'vader_ma_7', 'article_count_norm', 'funding_rate', 'funding_rate_ma', 'momentum_5', 'momentum_10', 'day_sin', 'day_cos']\n",
      "Training sequences: 704\n",
      "Validation sequences: 100\n",
      "Test sequences: 203\n",
      "Features per timestep: 27\n",
      "Last date in dataset: 2025-05-06 00:00:00\n"
     ]
    },
    {
     "name": "stderr",
     "output_type": "stream",
     "text": [
      "Best trial: 47. Best value: -0.00797458:  43%|████▎     | 65/150 [55:04<58:55, 41.60s/it]  "
     ]
    },
    {
     "name": "stdout",
     "output_type": "stream",
     "text": [
      "[I 2025-07-08 12:59:58,962] Trial 64 finished with value: -0.008090790499973459 and parameters: {'sequence_length': 38, 'lstm_units_1': 25, 'lstm_units_2': 49, 'lstm_units_3': 40, 'dropout_rate_1': 0.08282143061332721, 'dropout_rate_2': 0.429995912524676, 'dropout_rate_dense': 0.2230205575192434, 'learning_rate': 0.03266012822043738, 'batch_size': 32, 'dense_units': 99, 'optimizer': 'adam', 'activation': 'elu', 'recurrent_activation': 'tanh', 'use_batch_norm': False, 'regularizer': 'l1_l2', 'regularizer_strength': 0.024389294157525453, 'cell_type': 'LSTM', 'bidirectional': True}. Best is trial 47 with value: -0.007974579513883865.\n",
      "Using 27 features: ['high_close_ratio', 'low_close_ratio', 'open_close_ratio', 'returns_1d', 'returns_3d', 'returns_7d', 'price_ma_5_ratio', 'price_ma_10_ratio', 'price_ma_20_ratio', 'macd_normalized', 'macd_signal_normalized', 'rsi_normalized', 'bb_position', 'bb_width', 'volatility_10', 'volatility_20', 'volume_avg_ratio', 'volume_change', 'vader_ma_3', 'vader_ma_7', 'article_count_norm', 'funding_rate', 'funding_rate_ma', 'momentum_5', 'momentum_10', 'day_sin', 'day_cos']\n",
      "Training sequences: 711\n",
      "Validation sequences: 101\n",
      "Test sequences: 205\n",
      "Features per timestep: 27\n",
      "Last date in dataset: 2025-05-06 00:00:00\n"
     ]
    },
    {
     "name": "stderr",
     "output_type": "stream",
     "text": [
      "Best trial: 47. Best value: -0.00797458:  44%|████▍     | 66/150 [55:22<48:10, 34.41s/it]"
     ]
    },
    {
     "name": "stdout",
     "output_type": "stream",
     "text": [
      "[I 2025-07-08 13:00:16,593] Trial 65 finished with value: -0.00830785296468982 and parameters: {'sequence_length': 28, 'lstm_units_1': 67, 'lstm_units_2': 60, 'lstm_units_3': 35, 'dropout_rate_1': 0.12929754018584677, 'dropout_rate_2': 0.40780601683528306, 'dropout_rate_dense': 0.1702463394574155, 'learning_rate': 0.06530129753022948, 'batch_size': 32, 'dense_units': 120, 'optimizer': 'adam', 'activation': 'elu', 'recurrent_activation': 'tanh', 'use_batch_norm': False, 'regularizer': 'l1_l2', 'regularizer_strength': 0.0415034695574725, 'cell_type': 'LSTM', 'bidirectional': True}. Best is trial 47 with value: -0.007974579513883865.\n",
      "Using 27 features: ['high_close_ratio', 'low_close_ratio', 'open_close_ratio', 'returns_1d', 'returns_3d', 'returns_7d', 'price_ma_5_ratio', 'price_ma_10_ratio', 'price_ma_20_ratio', 'macd_normalized', 'macd_signal_normalized', 'rsi_normalized', 'bb_position', 'bb_width', 'volatility_10', 'volatility_20', 'volume_avg_ratio', 'volume_change', 'vader_ma_3', 'vader_ma_7', 'article_count_norm', 'funding_rate', 'funding_rate_ma', 'momentum_5', 'momentum_10', 'day_sin', 'day_cos']\n",
      "Training sequences: 708\n",
      "Validation sequences: 101\n",
      "Test sequences: 203\n",
      "Features per timestep: 27\n",
      "Last date in dataset: 2025-05-06 00:00:00\n"
     ]
    },
    {
     "name": "stderr",
     "output_type": "stream",
     "text": [
      "Best trial: 47. Best value: -0.00797458:  45%|████▍     | 67/150 [55:39<40:30, 29.28s/it]"
     ]
    },
    {
     "name": "stdout",
     "output_type": "stream",
     "text": [
      "[I 2025-07-08 13:00:33,903] Trial 66 finished with value: -0.008119575463473278 and parameters: {'sequence_length': 33, 'lstm_units_1': 34, 'lstm_units_2': 36, 'lstm_units_3': 31, 'dropout_rate_1': 0.11468986602160441, 'dropout_rate_2': 0.48294554950425145, 'dropout_rate_dense': 0.19089197754848025, 'learning_rate': 0.037087418920153783, 'batch_size': 128, 'dense_units': 93, 'optimizer': 'adam', 'activation': 'elu', 'recurrent_activation': 'tanh', 'use_batch_norm': False, 'regularizer': 'l1', 'regularizer_strength': 0.01413165022796974, 'cell_type': 'LSTM', 'bidirectional': True}. Best is trial 47 with value: -0.007974579513883865.\n",
      "Using 27 features: ['high_close_ratio', 'low_close_ratio', 'open_close_ratio', 'returns_1d', 'returns_3d', 'returns_7d', 'price_ma_5_ratio', 'price_ma_10_ratio', 'price_ma_20_ratio', 'macd_normalized', 'macd_signal_normalized', 'rsi_normalized', 'bb_position', 'bb_width', 'volatility_10', 'volatility_20', 'volume_avg_ratio', 'volume_change', 'vader_ma_3', 'vader_ma_7', 'article_count_norm', 'funding_rate', 'funding_rate_ma', 'momentum_5', 'momentum_10', 'day_sin', 'day_cos']\n",
      "Training sequences: 648\n",
      "Validation sequences: 92\n",
      "Test sequences: 187\n",
      "Features per timestep: 27\n",
      "Last date in dataset: 2025-05-06 00:00:00\n"
     ]
    },
    {
     "name": "stderr",
     "output_type": "stream",
     "text": [
      "Best trial: 47. Best value: -0.00797458:  45%|████▌     | 68/150 [57:05<1:03:28, 46.44s/it]"
     ]
    },
    {
     "name": "stdout",
     "output_type": "stream",
     "text": [
      "[I 2025-07-08 13:02:00,385] Trial 67 finished with value: -0.23679101725837842 and parameters: {'sequence_length': 118, 'lstm_units_1': 100, 'lstm_units_2': 44, 'lstm_units_3': 40, 'dropout_rate_1': 0.06971122384597381, 'dropout_rate_2': 0.46494110284158424, 'dropout_rate_dense': 0.22800529292920316, 'learning_rate': 0.09972064806158022, 'batch_size': 32, 'dense_units': 109, 'optimizer': 'adam', 'activation': 'elu', 'recurrent_activation': 'tanh', 'use_batch_norm': False, 'regularizer': 'l1_l2', 'regularizer_strength': 0.052764348966374275, 'cell_type': 'LSTM', 'bidirectional': True}. Best is trial 47 with value: -0.007974579513883865.\n",
      "Using 27 features: ['high_close_ratio', 'low_close_ratio', 'open_close_ratio', 'returns_1d', 'returns_3d', 'returns_7d', 'price_ma_5_ratio', 'price_ma_10_ratio', 'price_ma_20_ratio', 'macd_normalized', 'macd_signal_normalized', 'rsi_normalized', 'bb_position', 'bb_width', 'volatility_10', 'volatility_20', 'volume_avg_ratio', 'volume_change', 'vader_ma_3', 'vader_ma_7', 'article_count_norm', 'funding_rate', 'funding_rate_ma', 'momentum_5', 'momentum_10', 'day_sin', 'day_cos']\n",
      "Training sequences: 714\n",
      "Validation sequences: 102\n",
      "Test sequences: 205\n",
      "Features per timestep: 27\n",
      "Last date in dataset: 2025-05-06 00:00:00\n"
     ]
    },
    {
     "name": "stderr",
     "output_type": "stream",
     "text": [
      "Best trial: 47. Best value: -0.00797458:  46%|████▌     | 69/150 [57:28<52:50, 39.14s/it]  "
     ]
    },
    {
     "name": "stdout",
     "output_type": "stream",
     "text": [
      "[I 2025-07-08 13:02:22,481] Trial 68 finished with value: -0.008022559526021465 and parameters: {'sequence_length': 24, 'lstm_units_1': 46, 'lstm_units_2': 57, 'lstm_units_3': 46, 'dropout_rate_1': 0.022455883190368883, 'dropout_rate_2': 0.4984539181283602, 'dropout_rate_dense': 0.25248353827686654, 'learning_rate': 0.058161390634082294, 'batch_size': 96, 'dense_units': 116, 'optimizer': 'adam', 'activation': 'relu', 'recurrent_activation': 'tanh', 'use_batch_norm': False, 'regularizer': 'l1_l2', 'regularizer_strength': 0.07828609995912848, 'cell_type': 'GRU', 'bidirectional': True}. Best is trial 47 with value: -0.007974579513883865.\n",
      "Using 27 features: ['high_close_ratio', 'low_close_ratio', 'open_close_ratio', 'returns_1d', 'returns_3d', 'returns_7d', 'price_ma_5_ratio', 'price_ma_10_ratio', 'price_ma_20_ratio', 'macd_normalized', 'macd_signal_normalized', 'rsi_normalized', 'bb_position', 'bb_width', 'volatility_10', 'volatility_20', 'volume_avg_ratio', 'volume_change', 'vader_ma_3', 'vader_ma_7', 'article_count_norm', 'funding_rate', 'funding_rate_ma', 'momentum_5', 'momentum_10', 'day_sin', 'day_cos']\n",
      "Training sequences: 716\n",
      "Validation sequences: 102\n",
      "Test sequences: 205\n",
      "Features per timestep: 27\n",
      "Last date in dataset: 2025-05-06 00:00:00\n"
     ]
    },
    {
     "name": "stderr",
     "output_type": "stream",
     "text": [
      "Best trial: 47. Best value: -0.00797458:  47%|████▋     | 70/150 [57:36<39:51, 29.89s/it]"
     ]
    },
    {
     "name": "stdout",
     "output_type": "stream",
     "text": [
      "[I 2025-07-08 13:02:30,792] Trial 69 finished with value: -0.03520632461590832 and parameters: {'sequence_length': 22, 'lstm_units_1': 81, 'lstm_units_2': 77, 'lstm_units_3': 47, 'dropout_rate_1': 0.010816157998242829, 'dropout_rate_2': 0.49984919725008564, 'dropout_rate_dense': 0.25091166679967564, 'learning_rate': 0.06654133836452526, 'batch_size': 96, 'dense_units': 116, 'optimizer': 'sgd', 'activation': 'relu', 'recurrent_activation': 'tanh', 'use_batch_norm': False, 'regularizer': None, 'regularizer_strength': 0.0187075654809892, 'cell_type': 'GRU', 'bidirectional': True}. Best is trial 47 with value: -0.007974579513883865.\n",
      "Using 27 features: ['high_close_ratio', 'low_close_ratio', 'open_close_ratio', 'returns_1d', 'returns_3d', 'returns_7d', 'price_ma_5_ratio', 'price_ma_10_ratio', 'price_ma_20_ratio', 'macd_normalized', 'macd_signal_normalized', 'rsi_normalized', 'bb_position', 'bb_width', 'volatility_10', 'volatility_20', 'volume_avg_ratio', 'volume_change', 'vader_ma_3', 'vader_ma_7', 'article_count_norm', 'funding_rate', 'funding_rate_ma', 'momentum_5', 'momentum_10', 'day_sin', 'day_cos']\n",
      "Training sequences: 698\n",
      "Validation sequences: 99\n",
      "Test sequences: 201\n",
      "Features per timestep: 27\n",
      "Last date in dataset: 2025-05-06 00:00:00\n"
     ]
    },
    {
     "name": "stderr",
     "output_type": "stream",
     "text": [
      "Best trial: 47. Best value: -0.00797458:  47%|████▋     | 71/150 [58:12<41:58, 31.88s/it]"
     ]
    },
    {
     "name": "stdout",
     "output_type": "stream",
     "text": [
      "[I 2025-07-08 13:03:07,305] Trial 70 finished with value: -0.008168213962283491 and parameters: {'sequence_length': 47, 'lstm_units_1': 57, 'lstm_units_2': 60, 'lstm_units_3': 51, 'dropout_rate_1': 0.2090197260714452, 'dropout_rate_2': 0.44408567727853354, 'dropout_rate_dense': 0.28587272170118977, 'learning_rate': 0.04492309430394774, 'batch_size': 96, 'dense_units': 124, 'optimizer': 'adam', 'activation': 'relu', 'recurrent_activation': 'hard_sigmoid', 'use_batch_norm': False, 'regularizer': 'l1_l2', 'regularizer_strength': 0.009601133214441865, 'cell_type': 'GRU', 'bidirectional': True}. Best is trial 47 with value: -0.007974579513883865.\n",
      "Using 27 features: ['high_close_ratio', 'low_close_ratio', 'open_close_ratio', 'returns_1d', 'returns_3d', 'returns_7d', 'price_ma_5_ratio', 'price_ma_10_ratio', 'price_ma_20_ratio', 'macd_normalized', 'macd_signal_normalized', 'rsi_normalized', 'bb_position', 'bb_width', 'volatility_10', 'volatility_20', 'volume_avg_ratio', 'volume_change', 'vader_ma_3', 'vader_ma_7', 'article_count_norm', 'funding_rate', 'funding_rate_ma', 'momentum_5', 'momentum_10', 'day_sin', 'day_cos']\n",
      "Training sequences: 713\n",
      "Validation sequences: 101\n",
      "Test sequences: 205\n",
      "Features per timestep: 27\n",
      "Last date in dataset: 2025-05-06 00:00:00\n"
     ]
    },
    {
     "name": "stderr",
     "output_type": "stream",
     "text": [
      "Best trial: 47. Best value: -0.00797458:  48%|████▊     | 72/150 [58:36<38:03, 29.27s/it]"
     ]
    },
    {
     "name": "stdout",
     "output_type": "stream",
     "text": [
      "[I 2025-07-08 13:03:30,502] Trial 71 finished with value: -0.008049206517158807 and parameters: {'sequence_length': 26, 'lstm_units_1': 44, 'lstm_units_2': 58, 'lstm_units_3': 42, 'dropout_rate_1': 0.030668130089791218, 'dropout_rate_2': 0.47986160241338566, 'dropout_rate_dense': 0.2567813760277005, 'learning_rate': 0.03265419258472882, 'batch_size': 96, 'dense_units': 100, 'optimizer': 'adam', 'activation': 'relu', 'recurrent_activation': 'tanh', 'use_batch_norm': False, 'regularizer': 'l1_l2', 'regularizer_strength': 0.08519711376830258, 'cell_type': 'GRU', 'bidirectional': True}. Best is trial 47 with value: -0.007974579513883865.\n",
      "Using 27 features: ['high_close_ratio', 'low_close_ratio', 'open_close_ratio', 'returns_1d', 'returns_3d', 'returns_7d', 'price_ma_5_ratio', 'price_ma_10_ratio', 'price_ma_20_ratio', 'macd_normalized', 'macd_signal_normalized', 'rsi_normalized', 'bb_position', 'bb_width', 'volatility_10', 'volatility_20', 'volume_avg_ratio', 'volume_change', 'vader_ma_3', 'vader_ma_7', 'article_count_norm', 'funding_rate', 'funding_rate_ma', 'momentum_5', 'momentum_10', 'day_sin', 'day_cos']\n",
      "Training sequences: 711\n",
      "Validation sequences: 101\n",
      "Test sequences: 204\n",
      "Features per timestep: 27\n",
      "Last date in dataset: 2025-05-06 00:00:00\n"
     ]
    },
    {
     "name": "stderr",
     "output_type": "stream",
     "text": [
      "Best trial: 47. Best value: -0.00797458:  49%|████▊     | 73/150 [59:08<38:40, 30.13s/it]"
     ]
    },
    {
     "name": "stdout",
     "output_type": "stream",
     "text": [
      "[I 2025-07-08 13:04:02,643] Trial 72 finished with value: -0.008053985508579362 and parameters: {'sequence_length': 29, 'lstm_units_1': 47, 'lstm_units_2': 39, 'lstm_units_3': 46, 'dropout_rate_1': 0.08599604701782308, 'dropout_rate_2': 0.43182401567126644, 'dropout_rate_dense': 0.20627753059465187, 'learning_rate': 0.026056984894610724, 'batch_size': 48, 'dense_units': 112, 'optimizer': 'adam', 'activation': 'relu', 'recurrent_activation': 'tanh', 'use_batch_norm': False, 'regularizer': 'l1_l2', 'regularizer_strength': 0.07278702178010936, 'cell_type': 'GRU', 'bidirectional': True}. Best is trial 47 with value: -0.007974579513883865.\n",
      "Using 27 features: ['high_close_ratio', 'low_close_ratio', 'open_close_ratio', 'returns_1d', 'returns_3d', 'returns_7d', 'price_ma_5_ratio', 'price_ma_10_ratio', 'price_ma_20_ratio', 'macd_normalized', 'macd_signal_normalized', 'rsi_normalized', 'bb_position', 'bb_width', 'volatility_10', 'volatility_20', 'volume_avg_ratio', 'volume_change', 'vader_ma_3', 'vader_ma_7', 'article_count_norm', 'funding_rate', 'funding_rate_ma', 'momentum_5', 'momentum_10', 'day_sin', 'day_cos']\n",
      "Training sequences: 704\n",
      "Validation sequences: 100\n",
      "Test sequences: 202\n",
      "Features per timestep: 27\n",
      "Last date in dataset: 2025-05-06 00:00:00\n"
     ]
    },
    {
     "name": "stderr",
     "output_type": "stream",
     "text": [
      "Best trial: 47. Best value: -0.00797458:  49%|████▉     | 74/150 [59:35<36:56, 29.17s/it]"
     ]
    },
    {
     "name": "stdout",
     "output_type": "stream",
     "text": [
      "[I 2025-07-08 13:04:29,553] Trial 73 finished with value: -0.2364413107732931 and parameters: {'sequence_length': 39, 'lstm_units_1': 16, 'lstm_units_2': 55, 'lstm_units_3': 43, 'dropout_rate_1': 0.05131219510878245, 'dropout_rate_2': 0.4560028596156745, 'dropout_rate_dense': 0.18286952498859288, 'learning_rate': 0.058953092399037274, 'batch_size': 64, 'dense_units': 92, 'optimizer': 'adam', 'activation': 'elu', 'recurrent_activation': 'tanh', 'use_batch_norm': False, 'regularizer': 'l1_l2', 'regularizer_strength': 0.0578805499104581, 'cell_type': 'GRU', 'bidirectional': True}. Best is trial 47 with value: -0.007974579513883865.\n",
      "Using 27 features: ['high_close_ratio', 'low_close_ratio', 'open_close_ratio', 'returns_1d', 'returns_3d', 'returns_7d', 'price_ma_5_ratio', 'price_ma_10_ratio', 'price_ma_20_ratio', 'macd_normalized', 'macd_signal_normalized', 'rsi_normalized', 'bb_position', 'bb_width', 'volatility_10', 'volatility_20', 'volume_avg_ratio', 'volume_change', 'vader_ma_3', 'vader_ma_7', 'article_count_norm', 'funding_rate', 'funding_rate_ma', 'momentum_5', 'momentum_10', 'day_sin', 'day_cos']\n",
      "Training sequences: 714\n",
      "Validation sequences: 102\n",
      "Test sequences: 205\n",
      "Features per timestep: 27\n",
      "Last date in dataset: 2025-05-06 00:00:00\n"
     ]
    },
    {
     "name": "stderr",
     "output_type": "stream",
     "text": [
      "Best trial: 47. Best value: -0.00797458:  50%|█████     | 75/150 [1:00:30<46:15, 37.01s/it]"
     ]
    },
    {
     "name": "stdout",
     "output_type": "stream",
     "text": [
      "[I 2025-07-08 13:05:24,859] Trial 74 finished with value: -0.008017044976283407 and parameters: {'sequence_length': 24, 'lstm_units_1': 66, 'lstm_units_2': 49, 'lstm_units_3': 36, 'dropout_rate_1': 0.025416511254690757, 'dropout_rate_2': 0.48720120483304635, 'dropout_rate_dense': 0.15425534274729916, 'learning_rate': 0.07646376804222138, 'batch_size': 32, 'dense_units': 109, 'optimizer': 'adam', 'activation': 'elu', 'recurrent_activation': 'tanh', 'use_batch_norm': False, 'regularizer': 'l1_l2', 'regularizer_strength': 0.04496379408961106, 'cell_type': 'LSTM', 'bidirectional': True}. Best is trial 47 with value: -0.007974579513883865.\n",
      "Using 27 features: ['high_close_ratio', 'low_close_ratio', 'open_close_ratio', 'returns_1d', 'returns_3d', 'returns_7d', 'price_ma_5_ratio', 'price_ma_10_ratio', 'price_ma_20_ratio', 'macd_normalized', 'macd_signal_normalized', 'rsi_normalized', 'bb_position', 'bb_width', 'volatility_10', 'volatility_20', 'volume_avg_ratio', 'volume_change', 'vader_ma_3', 'vader_ma_7', 'article_count_norm', 'funding_rate', 'funding_rate_ma', 'momentum_5', 'momentum_10', 'day_sin', 'day_cos']\n",
      "Training sequences: 718\n",
      "Validation sequences: 102\n",
      "Test sequences: 206\n",
      "Features per timestep: 27\n",
      "Last date in dataset: 2025-05-06 00:00:00\n"
     ]
    },
    {
     "name": "stderr",
     "output_type": "stream",
     "text": [
      "Best trial: 47. Best value: -0.00797458:  51%|█████     | 76/150 [1:00:53<40:30, 32.84s/it]"
     ]
    },
    {
     "name": "stdout",
     "output_type": "stream",
     "text": [
      "[I 2025-07-08 13:05:47,981] Trial 75 finished with value: -0.009090657581807472 and parameters: {'sequence_length': 19, 'lstm_units_1': 64, 'lstm_units_2': 50, 'lstm_units_3': 28, 'dropout_rate_1': 0.025563149154623103, 'dropout_rate_2': 0.4965150338506697, 'dropout_rate_dense': 0.15616153951331682, 'learning_rate': 0.07608832483526257, 'batch_size': 8, 'dense_units': 121, 'optimizer': 'adam', 'activation': 'elu', 'recurrent_activation': 'tanh', 'use_batch_norm': False, 'regularizer': 'l2', 'regularizer_strength': 0.015309606340291175, 'cell_type': 'LSTM', 'bidirectional': True}. Best is trial 47 with value: -0.007974579513883865.\n",
      "Using 27 features: ['high_close_ratio', 'low_close_ratio', 'open_close_ratio', 'returns_1d', 'returns_3d', 'returns_7d', 'price_ma_5_ratio', 'price_ma_10_ratio', 'price_ma_20_ratio', 'macd_normalized', 'macd_signal_normalized', 'rsi_normalized', 'bb_position', 'bb_width', 'volatility_10', 'volatility_20', 'volume_avg_ratio', 'volume_change', 'vader_ma_3', 'vader_ma_7', 'article_count_norm', 'funding_rate', 'funding_rate_ma', 'momentum_5', 'momentum_10', 'day_sin', 'day_cos']\n",
      "Training sequences: 721\n",
      "Validation sequences: 103\n",
      "Test sequences: 207\n",
      "Features per timestep: 27\n",
      "Last date in dataset: 2025-05-06 00:00:00\n"
     ]
    },
    {
     "name": "stderr",
     "output_type": "stream",
     "text": [
      "Best trial: 47. Best value: -0.00797458:  51%|█████▏    | 77/150 [1:01:08<33:30, 27.54s/it]"
     ]
    },
    {
     "name": "stdout",
     "output_type": "stream",
     "text": [
      "[I 2025-07-08 13:06:03,155] Trial 76 finished with value: -0.008072724794701574 and parameters: {'sequence_length': 14, 'lstm_units_1': 72, 'lstm_units_2': 10, 'lstm_units_3': 36, 'dropout_rate_1': 0.001060785562060726, 'dropout_rate_2': 0.4664979731646805, 'dropout_rate_dense': 0.13077641214340133, 'learning_rate': 0.05126373175342542, 'batch_size': 96, 'dense_units': 102, 'optimizer': 'sgd', 'activation': 'selu', 'recurrent_activation': 'tanh', 'use_batch_norm': False, 'regularizer': 'l1_l2', 'regularizer_strength': 0.0453259737548745, 'cell_type': 'GRU', 'bidirectional': True}. Best is trial 47 with value: -0.007974579513883865.\n",
      "Using 27 features: ['high_close_ratio', 'low_close_ratio', 'open_close_ratio', 'returns_1d', 'returns_3d', 'returns_7d', 'price_ma_5_ratio', 'price_ma_10_ratio', 'price_ma_20_ratio', 'macd_normalized', 'macd_signal_normalized', 'rsi_normalized', 'bb_position', 'bb_width', 'volatility_10', 'volatility_20', 'volume_avg_ratio', 'volume_change', 'vader_ma_3', 'vader_ma_7', 'article_count_norm', 'funding_rate', 'funding_rate_ma', 'momentum_5', 'momentum_10', 'day_sin', 'day_cos']\n",
      "Training sequences: 714\n",
      "Validation sequences: 102\n",
      "Test sequences: 205\n",
      "Features per timestep: 27\n",
      "Last date in dataset: 2025-05-06 00:00:00\n"
     ]
    },
    {
     "name": "stderr",
     "output_type": "stream",
     "text": [
      "Best trial: 47. Best value: -0.00797458:  52%|█████▏    | 78/150 [1:02:35<54:20, 45.28s/it]"
     ]
    },
    {
     "name": "stdout",
     "output_type": "stream",
     "text": [
      "[I 2025-07-08 13:07:29,831] Trial 77 finished with value: -0.008015297549885008 and parameters: {'sequence_length': 24, 'lstm_units_1': 225, 'lstm_units_2': 67, 'lstm_units_3': 33, 'dropout_rate_1': 0.03850916193822178, 'dropout_rate_2': 0.3944155842725593, 'dropout_rate_dense': 0.11316697578816873, 'learning_rate': 0.07952489082615341, 'batch_size': 16, 'dense_units': 117, 'optimizer': 'adam', 'activation': 'relu', 'recurrent_activation': 'tanh', 'use_batch_norm': False, 'regularizer': 'l1_l2', 'regularizer_strength': 0.011272383258455365, 'cell_type': 'LSTM', 'bidirectional': True}. Best is trial 47 with value: -0.007974579513883865.\n",
      "Using 27 features: ['high_close_ratio', 'low_close_ratio', 'open_close_ratio', 'returns_1d', 'returns_3d', 'returns_7d', 'price_ma_5_ratio', 'price_ma_10_ratio', 'price_ma_20_ratio', 'macd_normalized', 'macd_signal_normalized', 'rsi_normalized', 'bb_position', 'bb_width', 'volatility_10', 'volatility_20', 'volume_avg_ratio', 'volume_change', 'vader_ma_3', 'vader_ma_7', 'article_count_norm', 'funding_rate', 'funding_rate_ma', 'momentum_5', 'momentum_10', 'day_sin', 'day_cos']\n",
      "Training sequences: 707\n",
      "Validation sequences: 101\n",
      "Test sequences: 202\n",
      "Features per timestep: 27\n",
      "Last date in dataset: 2025-05-06 00:00:00\n"
     ]
    },
    {
     "name": "stderr",
     "output_type": "stream",
     "text": [
      "Best trial: 47. Best value: -0.00797458:  53%|█████▎    | 79/150 [1:04:40<1:21:50, 69.17s/it]"
     ]
    },
    {
     "name": "stdout",
     "output_type": "stream",
     "text": [
      "[I 2025-07-08 13:09:34,730] Trial 78 finished with value: -0.00812427479356186 and parameters: {'sequence_length': 35, 'lstm_units_1': 233, 'lstm_units_2': 67, 'lstm_units_3': 33, 'dropout_rate_1': 0.06987434829332734, 'dropout_rate_2': 0.4024509216192145, 'dropout_rate_dense': 0.10673466997441829, 'learning_rate': 0.07637839574214324, 'batch_size': 16, 'dense_units': 123, 'optimizer': 'adam', 'activation': 'elu', 'recurrent_activation': 'tanh', 'use_batch_norm': False, 'regularizer': 'l1_l2', 'regularizer_strength': 0.010525085546688314, 'cell_type': 'LSTM', 'bidirectional': True}. Best is trial 47 with value: -0.007974579513883865.\n",
      "Using 27 features: ['high_close_ratio', 'low_close_ratio', 'open_close_ratio', 'returns_1d', 'returns_3d', 'returns_7d', 'price_ma_5_ratio', 'price_ma_10_ratio', 'price_ma_20_ratio', 'macd_normalized', 'macd_signal_normalized', 'rsi_normalized', 'bb_position', 'bb_width', 'volatility_10', 'volatility_20', 'volume_avg_ratio', 'volume_change', 'vader_ma_3', 'vader_ma_7', 'article_count_norm', 'funding_rate', 'funding_rate_ma', 'momentum_5', 'momentum_10', 'day_sin', 'day_cos']\n",
      "Training sequences: 686\n",
      "Validation sequences: 98\n",
      "Test sequences: 197\n",
      "Features per timestep: 27\n",
      "Last date in dataset: 2025-05-06 00:00:00\n"
     ]
    },
    {
     "name": "stderr",
     "output_type": "stream",
     "text": [
      "Best trial: 47. Best value: -0.00797458:  53%|█████▎    | 80/150 [1:08:11<2:10:25, 111.79s/it]"
     ]
    },
    {
     "name": "stdout",
     "output_type": "stream",
     "text": [
      "[I 2025-07-08 13:13:05,962] Trial 79 finished with value: -0.008296704339140025 and parameters: {'sequence_length': 64, 'lstm_units_1': 252, 'lstm_units_2': 63, 'lstm_units_3': 26, 'dropout_rate_1': 0.11920818540945795, 'dropout_rate_2': 0.37820231551090433, 'dropout_rate_dense': 0.11326807435462465, 'learning_rate': 0.040417021306898296, 'batch_size': 16, 'dense_units': 82, 'optimizer': 'sgd', 'activation': 'elu', 'recurrent_activation': 'hard_sigmoid', 'use_batch_norm': False, 'regularizer': 'l1_l2', 'regularizer_strength': 0.021573796349861757, 'cell_type': 'LSTM', 'bidirectional': True}. Best is trial 47 with value: -0.007974579513883865.\n",
      "Using 27 features: ['high_close_ratio', 'low_close_ratio', 'open_close_ratio', 'returns_1d', 'returns_3d', 'returns_7d', 'price_ma_5_ratio', 'price_ma_10_ratio', 'price_ma_20_ratio', 'macd_normalized', 'macd_signal_normalized', 'rsi_normalized', 'bb_position', 'bb_width', 'volatility_10', 'volatility_20', 'volume_avg_ratio', 'volume_change', 'vader_ma_3', 'vader_ma_7', 'article_count_norm', 'funding_rate', 'funding_rate_ma', 'momentum_5', 'momentum_10', 'day_sin', 'day_cos']\n",
      "Training sequences: 709\n",
      "Validation sequences: 101\n",
      "Test sequences: 204\n",
      "Features per timestep: 27\n",
      "Last date in dataset: 2025-05-06 00:00:00\n"
     ]
    },
    {
     "name": "stderr",
     "output_type": "stream",
     "text": [
      "Best trial: 47. Best value: -0.00797458:  54%|█████▍    | 81/150 [1:09:55<2:05:59, 109.55s/it]"
     ]
    },
    {
     "name": "stdout",
     "output_type": "stream",
     "text": [
      "[I 2025-07-08 13:14:50,302] Trial 80 finished with value: -0.008067900784142759 and parameters: {'sequence_length': 31, 'lstm_units_1': 201, 'lstm_units_2': 75, 'lstm_units_3': 35, 'dropout_rate_1': 0.04352755148767736, 'dropout_rate_2': 0.38974158354511235, 'dropout_rate_dense': 0.12300282150471635, 'learning_rate': 0.01839685121422897, 'batch_size': 16, 'dense_units': 89, 'optimizer': 'adam', 'activation': 'elu', 'recurrent_activation': 'tanh', 'use_batch_norm': False, 'regularizer': 'l1', 'regularizer_strength': 0.035852698583308536, 'cell_type': 'LSTM', 'bidirectional': True}. Best is trial 47 with value: -0.007974579513883865.\n",
      "Using 27 features: ['high_close_ratio', 'low_close_ratio', 'open_close_ratio', 'returns_1d', 'returns_3d', 'returns_7d', 'price_ma_5_ratio', 'price_ma_10_ratio', 'price_ma_20_ratio', 'macd_normalized', 'macd_signal_normalized', 'rsi_normalized', 'bb_position', 'bb_width', 'volatility_10', 'volatility_20', 'volume_avg_ratio', 'volume_change', 'vader_ma_3', 'vader_ma_7', 'article_count_norm', 'funding_rate', 'funding_rate_ma', 'momentum_5', 'momentum_10', 'day_sin', 'day_cos']\n",
      "Training sequences: 714\n",
      "Validation sequences: 102\n",
      "Test sequences: 205\n",
      "Features per timestep: 27\n",
      "Last date in dataset: 2025-05-06 00:00:00\n"
     ]
    },
    {
     "name": "stderr",
     "output_type": "stream",
     "text": [
      "Best trial: 47. Best value: -0.00797458:  55%|█████▍    | 82/150 [1:10:45<1:43:40, 91.48s/it] "
     ]
    },
    {
     "name": "stdout",
     "output_type": "stream",
     "text": [
      "[I 2025-07-08 13:15:39,628] Trial 81 finished with value: -0.008017363302513203 and parameters: {'sequence_length': 24, 'lstm_units_1': 182, 'lstm_units_2': 47, 'lstm_units_3': 38, 'dropout_rate_1': 0.026994233639950918, 'dropout_rate_2': 0.419942587296397, 'dropout_rate_dense': 0.17429297905191588, 'learning_rate': 0.08154240999819984, 'batch_size': 32, 'dense_units': 115, 'optimizer': 'adam', 'activation': 'relu', 'recurrent_activation': 'tanh', 'use_batch_norm': False, 'regularizer': 'l1_l2', 'regularizer_strength': 0.09739247635948778, 'cell_type': 'LSTM', 'bidirectional': True}. Best is trial 47 with value: -0.007974579513883865.\n",
      "Using 27 features: ['high_close_ratio', 'low_close_ratio', 'open_close_ratio', 'returns_1d', 'returns_3d', 'returns_7d', 'price_ma_5_ratio', 'price_ma_10_ratio', 'price_ma_20_ratio', 'macd_normalized', 'macd_signal_normalized', 'rsi_normalized', 'bb_position', 'bb_width', 'volatility_10', 'volatility_20', 'volume_avg_ratio', 'volume_change', 'vader_ma_3', 'vader_ma_7', 'article_count_norm', 'funding_rate', 'funding_rate_ma', 'momentum_5', 'momentum_10', 'day_sin', 'day_cos']\n",
      "Training sequences: 718\n",
      "Validation sequences: 102\n",
      "Test sequences: 206\n",
      "Features per timestep: 27\n",
      "Last date in dataset: 2025-05-06 00:00:00\n"
     ]
    },
    {
     "name": "stderr",
     "output_type": "stream",
     "text": [
      "Best trial: 47. Best value: -0.00797458:  55%|█████▌    | 83/150 [1:11:28<1:26:07, 77.12s/it]"
     ]
    },
    {
     "name": "stdout",
     "output_type": "stream",
     "text": [
      "[I 2025-07-08 13:16:23,234] Trial 82 finished with value: -0.008113217704919132 and parameters: {'sequence_length': 19, 'lstm_units_1': 200, 'lstm_units_2': 45, 'lstm_units_3': 38, 'dropout_rate_1': 0.05934411506231789, 'dropout_rate_2': 0.42242257966280766, 'dropout_rate_dense': 0.17417742967768526, 'learning_rate': 0.09839655555700927, 'batch_size': 32, 'dense_units': 113, 'optimizer': 'adam', 'activation': 'relu', 'recurrent_activation': 'tanh', 'use_batch_norm': False, 'regularizer': 'l1_l2', 'regularizer_strength': 0.028075266413608052, 'cell_type': 'LSTM', 'bidirectional': True}. Best is trial 47 with value: -0.007974579513883865.\n",
      "Using 27 features: ['high_close_ratio', 'low_close_ratio', 'open_close_ratio', 'returns_1d', 'returns_3d', 'returns_7d', 'price_ma_5_ratio', 'price_ma_10_ratio', 'price_ma_20_ratio', 'macd_normalized', 'macd_signal_normalized', 'rsi_normalized', 'bb_position', 'bb_width', 'volatility_10', 'volatility_20', 'volume_avg_ratio', 'volume_change', 'vader_ma_3', 'vader_ma_7', 'article_count_norm', 'funding_rate', 'funding_rate_ma', 'momentum_5', 'momentum_10', 'day_sin', 'day_cos']\n",
      "Training sequences: 714\n",
      "Validation sequences: 102\n",
      "Test sequences: 205\n",
      "Features per timestep: 27\n",
      "Last date in dataset: 2025-05-06 00:00:00\n"
     ]
    },
    {
     "name": "stderr",
     "output_type": "stream",
     "text": [
      "Best trial: 47. Best value: -0.00797458:  56%|█████▌    | 84/150 [1:11:58<1:09:17, 62.99s/it]"
     ]
    },
    {
     "name": "stdout",
     "output_type": "stream",
     "text": [
      "[I 2025-07-08 13:16:53,262] Trial 83 finished with value: -0.008009374598468627 and parameters: {'sequence_length': 24, 'lstm_units_1': 163, 'lstm_units_2': 40, 'lstm_units_3': 32, 'dropout_rate_1': 0.034596577666600584, 'dropout_rate_2': 0.3605713200810374, 'dropout_rate_dense': 0.1978011643226495, 'learning_rate': 0.07760862523229488, 'batch_size': 32, 'dense_units': 119, 'optimizer': 'adam', 'activation': 'relu', 'recurrent_activation': 'tanh', 'use_batch_norm': False, 'regularizer': 'l1_l2', 'regularizer_strength': 0.024232170950963878, 'cell_type': 'LSTM', 'bidirectional': True}. Best is trial 47 with value: -0.007974579513883865.\n",
      "Using 27 features: ['high_close_ratio', 'low_close_ratio', 'open_close_ratio', 'returns_1d', 'returns_3d', 'returns_7d', 'price_ma_5_ratio', 'price_ma_10_ratio', 'price_ma_20_ratio', 'macd_normalized', 'macd_signal_normalized', 'rsi_normalized', 'bb_position', 'bb_width', 'volatility_10', 'volatility_20', 'volume_avg_ratio', 'volume_change', 'vader_ma_3', 'vader_ma_7', 'article_count_norm', 'funding_rate', 'funding_rate_ma', 'momentum_5', 'momentum_10', 'day_sin', 'day_cos']\n",
      "Training sequences: 674\n",
      "Validation sequences: 96\n",
      "Test sequences: 193\n",
      "Features per timestep: 27\n",
      "Last date in dataset: 2025-05-06 00:00:00\n"
     ]
    },
    {
     "name": "stderr",
     "output_type": "stream",
     "text": [
      "Best trial: 47. Best value: -0.00797458:  57%|█████▋    | 85/150 [1:13:52<1:24:38, 78.13s/it]"
     ]
    },
    {
     "name": "stdout",
     "output_type": "stream",
     "text": [
      "[I 2025-07-08 13:18:46,698] Trial 84 finished with value: -0.008366061550605618 and parameters: {'sequence_length': 82, 'lstm_units_1': 223, 'lstm_units_2': 30, 'lstm_units_3': 28, 'dropout_rate_1': 0.10154467558079633, 'dropout_rate_2': 0.3615753272656719, 'dropout_rate_dense': 0.19682752768657857, 'learning_rate': 0.0413618590114605, 'batch_size': 32, 'dense_units': 119, 'optimizer': 'adam', 'activation': 'relu', 'recurrent_activation': 'tanh', 'use_batch_norm': False, 'regularizer': 'l1_l2', 'regularizer_strength': 0.025052985624604302, 'cell_type': 'LSTM', 'bidirectional': True}. Best is trial 47 with value: -0.007974579513883865.\n",
      "Using 27 features: ['high_close_ratio', 'low_close_ratio', 'open_close_ratio', 'returns_1d', 'returns_3d', 'returns_7d', 'price_ma_5_ratio', 'price_ma_10_ratio', 'price_ma_20_ratio', 'macd_normalized', 'macd_signal_normalized', 'rsi_normalized', 'bb_position', 'bb_width', 'volatility_10', 'volatility_20', 'volume_avg_ratio', 'volume_change', 'vader_ma_3', 'vader_ma_7', 'article_count_norm', 'funding_rate', 'funding_rate_ma', 'momentum_5', 'momentum_10', 'day_sin', 'day_cos']\n",
      "Training sequences: 709\n",
      "Validation sequences: 101\n",
      "Test sequences: 203\n",
      "Features per timestep: 27\n",
      "Last date in dataset: 2025-05-06 00:00:00\n"
     ]
    },
    {
     "name": "stderr",
     "output_type": "stream",
     "text": [
      "Best trial: 47. Best value: -0.00797458:  57%|█████▋    | 86/150 [1:15:19<1:26:24, 81.01s/it]"
     ]
    },
    {
     "name": "stdout",
     "output_type": "stream",
     "text": [
      "[I 2025-07-08 13:20:14,433] Trial 85 finished with value: -0.008106184263730004 and parameters: {'sequence_length': 32, 'lstm_units_1': 170, 'lstm_units_2': 39, 'lstm_units_3': 32, 'dropout_rate_1': 0.19072056010003183, 'dropout_rate_2': 0.08674235858554999, 'dropout_rate_dense': 0.1455906625250236, 'learning_rate': 0.05338450998567703, 'batch_size': 16, 'dense_units': 107, 'optimizer': 'adam', 'activation': 'relu', 'recurrent_activation': 'tanh', 'use_batch_norm': False, 'regularizer': 'l1_l2', 'regularizer_strength': 0.015746938448904572, 'cell_type': 'LSTM', 'bidirectional': True}. Best is trial 47 with value: -0.007974579513883865.\n",
      "Using 27 features: ['high_close_ratio', 'low_close_ratio', 'open_close_ratio', 'returns_1d', 'returns_3d', 'returns_7d', 'price_ma_5_ratio', 'price_ma_10_ratio', 'price_ma_20_ratio', 'macd_normalized', 'macd_signal_normalized', 'rsi_normalized', 'bb_position', 'bb_width', 'volatility_10', 'volatility_20', 'volume_avg_ratio', 'volume_change', 'vader_ma_3', 'vader_ma_7', 'article_count_norm', 'funding_rate', 'funding_rate_ma', 'momentum_5', 'momentum_10', 'day_sin', 'day_cos']\n",
      "Training sequences: 721\n",
      "Validation sequences: 103\n",
      "Test sequences: 207\n",
      "Features per timestep: 27\n",
      "Last date in dataset: 2025-05-06 00:00:00\n"
     ]
    },
    {
     "name": "stderr",
     "output_type": "stream",
     "text": [
      "Best trial: 47. Best value: -0.00797458:  58%|█████▊    | 87/150 [1:15:36<1:04:35, 61.51s/it]"
     ]
    },
    {
     "name": "stdout",
     "output_type": "stream",
     "text": [
      "[I 2025-07-08 13:20:30,452] Trial 86 finished with value: -0.00807723761256655 and parameters: {'sequence_length': 14, 'lstm_units_1': 131, 'lstm_units_2': 68, 'lstm_units_3': 22, 'dropout_rate_1': 0.244598124274805, 'dropout_rate_2': 0.019469367677105387, 'dropout_rate_dense': 0.1596756409581718, 'learning_rate': 0.07244092484665098, 'batch_size': 32, 'dense_units': 124, 'optimizer': 'sgd', 'activation': 'selu', 'recurrent_activation': 'tanh', 'use_batch_norm': False, 'regularizer': None, 'regularizer_strength': 0.03776918632136013, 'cell_type': 'LSTM', 'bidirectional': True}. Best is trial 47 with value: -0.007974579513883865.\n",
      "Using 27 features: ['high_close_ratio', 'low_close_ratio', 'open_close_ratio', 'returns_1d', 'returns_3d', 'returns_7d', 'price_ma_5_ratio', 'price_ma_10_ratio', 'price_ma_20_ratio', 'macd_normalized', 'macd_signal_normalized', 'rsi_normalized', 'bb_position', 'bb_width', 'volatility_10', 'volatility_20', 'volume_avg_ratio', 'volume_change', 'vader_ma_3', 'vader_ma_7', 'article_count_norm', 'funding_rate', 'funding_rate_ma', 'momentum_5', 'momentum_10', 'day_sin', 'day_cos']\n",
      "Training sequences: 719\n",
      "Validation sequences: 102\n",
      "Test sequences: 207\n",
      "Features per timestep: 27\n",
      "Last date in dataset: 2025-05-06 00:00:00\n"
     ]
    },
    {
     "name": "stderr",
     "output_type": "stream",
     "text": [
      "Best trial: 47. Best value: -0.00797458:  59%|█████▊    | 88/150 [1:15:59<51:51, 50.19s/it]  "
     ]
    },
    {
     "name": "stdout",
     "output_type": "stream",
     "text": [
      "[I 2025-07-08 13:20:54,218] Trial 87 finished with value: -0.008093596543517887 and parameters: {'sequence_length': 17, 'lstm_units_1': 155, 'lstm_units_2': 53, 'lstm_units_3': 58, 'dropout_rate_1': 0.06416552089985843, 'dropout_rate_2': 0.3924571425991123, 'dropout_rate_dense': 0.1550967439734796, 'learning_rate': 0.0012788455165682216, 'batch_size': 128, 'dense_units': 103, 'optimizer': 'adam', 'activation': 'elu', 'recurrent_activation': 'tanh', 'use_batch_norm': False, 'regularizer': 'l1_l2', 'regularizer_strength': 0.01920871310173349, 'cell_type': 'LSTM', 'bidirectional': True}. Best is trial 47 with value: -0.007974579513883865.\n",
      "Using 27 features: ['high_close_ratio', 'low_close_ratio', 'open_close_ratio', 'returns_1d', 'returns_3d', 'returns_7d', 'price_ma_5_ratio', 'price_ma_10_ratio', 'price_ma_20_ratio', 'macd_normalized', 'macd_signal_normalized', 'rsi_normalized', 'bb_position', 'bb_width', 'volatility_10', 'volatility_20', 'volume_avg_ratio', 'volume_change', 'vader_ma_3', 'vader_ma_7', 'article_count_norm', 'funding_rate', 'funding_rate_ma', 'momentum_5', 'momentum_10', 'day_sin', 'day_cos']\n",
      "Training sequences: 716\n",
      "Validation sequences: 102\n",
      "Test sequences: 205\n",
      "Features per timestep: 27\n",
      "Last date in dataset: 2025-05-06 00:00:00\n"
     ]
    },
    {
     "name": "stderr",
     "output_type": "stream",
     "text": [
      "Best trial: 47. Best value: -0.00797458:  59%|█████▉    | 89/150 [1:16:53<52:06, 51.25s/it]"
     ]
    },
    {
     "name": "stdout",
     "output_type": "stream",
     "text": [
      "[I 2025-07-08 13:21:47,959] Trial 88 finished with value: -0.008043575662170984 and parameters: {'sequence_length': 22, 'lstm_units_1': 244, 'lstm_units_2': 23, 'lstm_units_3': 34, 'dropout_rate_1': 0.13529260217785982, 'dropout_rate_2': 0.4533136966168344, 'dropout_rate_dense': 0.21166005842656516, 'learning_rate': 0.08817552956801664, 'batch_size': 32, 'dense_units': 111, 'optimizer': 'adam', 'activation': 'relu', 'recurrent_activation': 'tanh', 'use_batch_norm': False, 'regularizer': 'l1_l2', 'regularizer_strength': 0.03238571667946383, 'cell_type': 'LSTM', 'bidirectional': True}. Best is trial 47 with value: -0.007974579513883865.\n",
      "Using 27 features: ['high_close_ratio', 'low_close_ratio', 'open_close_ratio', 'returns_1d', 'returns_3d', 'returns_7d', 'price_ma_5_ratio', 'price_ma_10_ratio', 'price_ma_20_ratio', 'macd_normalized', 'macd_signal_normalized', 'rsi_normalized', 'bb_position', 'bb_width', 'volatility_10', 'volatility_20', 'volume_avg_ratio', 'volume_change', 'vader_ma_3', 'vader_ma_7', 'article_count_norm', 'funding_rate', 'funding_rate_ma', 'momentum_5', 'momentum_10', 'day_sin', 'day_cos']\n",
      "Training sequences: 711\n",
      "Validation sequences: 101\n",
      "Test sequences: 204\n",
      "Features per timestep: 27\n",
      "Last date in dataset: 2025-05-06 00:00:00\n"
     ]
    },
    {
     "name": "stderr",
     "output_type": "stream",
     "text": [
      "Best trial: 47. Best value: -0.00797458:  60%|██████    | 90/150 [1:17:17<43:12, 43.21s/it]"
     ]
    },
    {
     "name": "stdout",
     "output_type": "stream",
     "text": [
      "[I 2025-07-08 13:22:12,409] Trial 89 finished with value: -0.008005432497045026 and parameters: {'sequence_length': 29, 'lstm_units_1': 94, 'lstm_units_2': 126, 'lstm_units_3': 40, 'dropout_rate_1': 0.0763183603907247, 'dropout_rate_2': 0.14971182137608857, 'dropout_rate_dense': 0.19930474098800127, 'learning_rate': 0.057680863875322085, 'batch_size': 48, 'dense_units': 118, 'optimizer': 'adam', 'activation': 'elu', 'recurrent_activation': 'tanh', 'use_batch_norm': False, 'regularizer': 'l2', 'regularizer_strength': 0.011691335313530955, 'cell_type': 'LSTM', 'bidirectional': True}. Best is trial 47 with value: -0.007974579513883865.\n",
      "Using 27 features: ['high_close_ratio', 'low_close_ratio', 'open_close_ratio', 'returns_1d', 'returns_3d', 'returns_7d', 'price_ma_5_ratio', 'price_ma_10_ratio', 'price_ma_20_ratio', 'macd_normalized', 'macd_signal_normalized', 'rsi_normalized', 'bb_position', 'bb_width', 'volatility_10', 'volatility_20', 'volume_avg_ratio', 'volume_change', 'vader_ma_3', 'vader_ma_7', 'article_count_norm', 'funding_rate', 'funding_rate_ma', 'momentum_5', 'momentum_10', 'day_sin', 'day_cos']\n",
      "Training sequences: 702\n",
      "Validation sequences: 100\n",
      "Test sequences: 201\n",
      "Features per timestep: 27\n",
      "Last date in dataset: 2025-05-06 00:00:00\n"
     ]
    },
    {
     "name": "stderr",
     "output_type": "stream",
     "text": [
      "Best trial: 47. Best value: -0.00797458:  61%|██████    | 91/150 [1:18:16<47:05, 47.89s/it]"
     ]
    },
    {
     "name": "stdout",
     "output_type": "stream",
     "text": [
      "[I 2025-07-08 13:23:11,220] Trial 90 finished with value: -0.00816572283900787 and parameters: {'sequence_length': 42, 'lstm_units_1': 94, 'lstm_units_2': 117, 'lstm_units_3': 36, 'dropout_rate_1': 0.0396131442446728, 'dropout_rate_2': 0.12953309766626794, 'dropout_rate_dense': 0.1285489323945452, 'learning_rate': 0.0275863566206749, 'batch_size': 48, 'dense_units': 117, 'optimizer': 'sgd', 'activation': 'elu', 'recurrent_activation': 'hard_sigmoid', 'use_batch_norm': False, 'regularizer': 'l2', 'regularizer_strength': 0.012782170419119141, 'cell_type': 'LSTM', 'bidirectional': True}. Best is trial 47 with value: -0.007974579513883865.\n",
      "Using 27 features: ['high_close_ratio', 'low_close_ratio', 'open_close_ratio', 'returns_1d', 'returns_3d', 'returns_7d', 'price_ma_5_ratio', 'price_ma_10_ratio', 'price_ma_20_ratio', 'macd_normalized', 'macd_signal_normalized', 'rsi_normalized', 'bb_position', 'bb_width', 'volatility_10', 'volatility_20', 'volume_avg_ratio', 'volume_change', 'vader_ma_3', 'vader_ma_7', 'article_count_norm', 'funding_rate', 'funding_rate_ma', 'momentum_5', 'momentum_10', 'day_sin', 'day_cos']\n",
      "Training sequences: 711\n",
      "Validation sequences: 101\n",
      "Test sequences: 204\n",
      "Features per timestep: 27\n",
      "Last date in dataset: 2025-05-06 00:00:00\n"
     ]
    },
    {
     "name": "stderr",
     "output_type": "stream",
     "text": [
      "Best trial: 47. Best value: -0.00797458:  61%|██████▏   | 92/150 [1:18:41<39:33, 40.93s/it]"
     ]
    },
    {
     "name": "stdout",
     "output_type": "stream",
     "text": [
      "[I 2025-07-08 13:23:35,898] Trial 91 finished with value: -0.008004685062690005 and parameters: {'sequence_length': 29, 'lstm_units_1': 209, 'lstm_units_2': 110, 'lstm_units_3': 40, 'dropout_rate_1': 0.07514762131867166, 'dropout_rate_2': 0.09132705330427837, 'dropout_rate_dense': 0.20071978422526068, 'learning_rate': 0.06453192572821777, 'batch_size': 48, 'dense_units': 122, 'optimizer': 'adam', 'activation': 'elu', 'recurrent_activation': 'tanh', 'use_batch_norm': False, 'regularizer': 'l2', 'regularizer_strength': 0.010995770640090241, 'cell_type': 'LSTM', 'bidirectional': True}. Best is trial 47 with value: -0.007974579513883865.\n",
      "Using 27 features: ['high_close_ratio', 'low_close_ratio', 'open_close_ratio', 'returns_1d', 'returns_3d', 'returns_7d', 'price_ma_5_ratio', 'price_ma_10_ratio', 'price_ma_20_ratio', 'macd_normalized', 'macd_signal_normalized', 'rsi_normalized', 'bb_position', 'bb_width', 'volatility_10', 'volatility_20', 'volume_avg_ratio', 'volume_change', 'vader_ma_3', 'vader_ma_7', 'article_count_norm', 'funding_rate', 'funding_rate_ma', 'momentum_5', 'momentum_10', 'day_sin', 'day_cos']\n",
      "Training sequences: 714\n",
      "Validation sequences: 102\n",
      "Test sequences: 204\n",
      "Features per timestep: 27\n",
      "Last date in dataset: 2025-05-06 00:00:00\n"
     ]
    },
    {
     "name": "stderr",
     "output_type": "stream",
     "text": [
      "Best trial: 47. Best value: -0.00797458:  62%|██████▏   | 93/150 [1:19:01<33:03, 34.80s/it]"
     ]
    },
    {
     "name": "stdout",
     "output_type": "stream",
     "text": [
      "[I 2025-07-08 13:23:56,417] Trial 92 finished with value: -0.008004911242704183 and parameters: {'sequence_length': 25, 'lstm_units_1': 213, 'lstm_units_2': 121, 'lstm_units_3': 31, 'dropout_rate_1': 0.01630989666574494, 'dropout_rate_2': 0.0956877834178319, 'dropout_rate_dense': 0.16548503419776356, 'learning_rate': 0.052586090024496795, 'batch_size': 48, 'dense_units': 121, 'optimizer': 'adam', 'activation': 'elu', 'recurrent_activation': 'tanh', 'use_batch_norm': False, 'regularizer': 'l2', 'regularizer_strength': 0.011604964699318541, 'cell_type': 'LSTM', 'bidirectional': True}. Best is trial 47 with value: -0.007974579513883865.\n",
      "Using 27 features: ['high_close_ratio', 'low_close_ratio', 'open_close_ratio', 'returns_1d', 'returns_3d', 'returns_7d', 'price_ma_5_ratio', 'price_ma_10_ratio', 'price_ma_20_ratio', 'macd_normalized', 'macd_signal_normalized', 'rsi_normalized', 'bb_position', 'bb_width', 'volatility_10', 'volatility_20', 'volume_avg_ratio', 'volume_change', 'vader_ma_3', 'vader_ma_7', 'article_count_norm', 'funding_rate', 'funding_rate_ma', 'momentum_5', 'momentum_10', 'day_sin', 'day_cos']\n",
      "Training sequences: 716\n",
      "Validation sequences: 102\n",
      "Test sequences: 206\n",
      "Features per timestep: 27\n",
      "Last date in dataset: 2025-05-06 00:00:00\n"
     ]
    },
    {
     "name": "stderr",
     "output_type": "stream",
     "text": [
      "Best trial: 47. Best value: -0.00797458:  63%|██████▎   | 94/150 [1:19:20<27:56, 29.94s/it]"
     ]
    },
    {
     "name": "stdout",
     "output_type": "stream",
     "text": [
      "[I 2025-07-08 13:24:14,989] Trial 93 finished with value: -0.008099006396092507 and parameters: {'sequence_length': 21, 'lstm_units_1': 211, 'lstm_units_2': 128, 'lstm_units_3': 29, 'dropout_rate_1': 0.05435528321665425, 'dropout_rate_2': 0.09208414021894736, 'dropout_rate_dense': 0.1869628364035369, 'learning_rate': 0.047888151967656244, 'batch_size': 48, 'dense_units': 121, 'optimizer': 'adam', 'activation': 'elu', 'recurrent_activation': 'tanh', 'use_batch_norm': False, 'regularizer': 'l2', 'regularizer_strength': 0.007577993047300702, 'cell_type': 'LSTM', 'bidirectional': True}. Best is trial 47 with value: -0.007974579513883865.\n",
      "Using 27 features: ['high_close_ratio', 'low_close_ratio', 'open_close_ratio', 'returns_1d', 'returns_3d', 'returns_7d', 'price_ma_5_ratio', 'price_ma_10_ratio', 'price_ma_20_ratio', 'macd_normalized', 'macd_signal_normalized', 'rsi_normalized', 'bb_position', 'bb_width', 'volatility_10', 'volatility_20', 'volume_avg_ratio', 'volume_change', 'vader_ma_3', 'vader_ma_7', 'article_count_norm', 'funding_rate', 'funding_rate_ma', 'momentum_5', 'momentum_10', 'day_sin', 'day_cos']\n",
      "Training sequences: 706\n",
      "Validation sequences: 100\n",
      "Test sequences: 203\n",
      "Features per timestep: 27\n",
      "Last date in dataset: 2025-05-06 00:00:00\n"
     ]
    },
    {
     "name": "stderr",
     "output_type": "stream",
     "text": [
      "Best trial: 47. Best value: -0.00797458:  63%|██████▎   | 95/150 [1:19:47<26:34, 28.99s/it]"
     ]
    },
    {
     "name": "stdout",
     "output_type": "stream",
     "text": [
      "[I 2025-07-08 13:24:41,778] Trial 94 finished with value: -0.008045176472787501 and parameters: {'sequence_length': 36, 'lstm_units_1': 221, 'lstm_units_2': 108, 'lstm_units_3': 30, 'dropout_rate_1': 0.09838645850925654, 'dropout_rate_2': 0.10220267613458936, 'dropout_rate_dense': 0.20493484637061737, 'learning_rate': 0.03823898163941578, 'batch_size': 48, 'dense_units': 124, 'optimizer': 'adam', 'activation': 'elu', 'recurrent_activation': 'tanh', 'use_batch_norm': False, 'regularizer': 'l2', 'regularizer_strength': 0.01150667990089182, 'cell_type': 'LSTM', 'bidirectional': True}. Best is trial 47 with value: -0.007974579513883865.\n",
      "Using 27 features: ['high_close_ratio', 'low_close_ratio', 'open_close_ratio', 'returns_1d', 'returns_3d', 'returns_7d', 'price_ma_5_ratio', 'price_ma_10_ratio', 'price_ma_20_ratio', 'macd_normalized', 'macd_signal_normalized', 'rsi_normalized', 'bb_position', 'bb_width', 'volatility_10', 'volatility_20', 'volume_avg_ratio', 'volume_change', 'vader_ma_3', 'vader_ma_7', 'article_count_norm', 'funding_rate', 'funding_rate_ma', 'momentum_5', 'momentum_10', 'day_sin', 'day_cos']\n",
      "Training sequences: 712\n",
      "Validation sequences: 101\n",
      "Test sequences: 205\n",
      "Features per timestep: 27\n",
      "Last date in dataset: 2025-05-06 00:00:00\n"
     ]
    },
    {
     "name": "stderr",
     "output_type": "stream",
     "text": [
      "Best trial: 95. Best value: -0.00797458:  64%|██████▍   | 96/150 [1:20:10<24:37, 27.36s/it]"
     ]
    },
    {
     "name": "stdout",
     "output_type": "stream",
     "text": [
      "[I 2025-07-08 13:25:05,342] Trial 95 finished with value: -0.007974577651995184 and parameters: {'sequence_length': 27, 'lstm_units_1': 240, 'lstm_units_2': 119, 'lstm_units_3': 40, 'dropout_rate_1': 0.177056896654064, 'dropout_rate_2': 0.062310243829994325, 'dropout_rate_dense': 0.09533792192759646, 'learning_rate': 0.058415735449551934, 'batch_size': 48, 'dense_units': 126, 'optimizer': 'adam', 'activation': 'elu', 'recurrent_activation': 'tanh', 'use_batch_norm': False, 'regularizer': 'l2', 'regularizer_strength': 0.009692079515580819, 'cell_type': 'LSTM', 'bidirectional': True}. Best is trial 95 with value: -0.007974577651995184.\n",
      "Using 27 features: ['high_close_ratio', 'low_close_ratio', 'open_close_ratio', 'returns_1d', 'returns_3d', 'returns_7d', 'price_ma_5_ratio', 'price_ma_10_ratio', 'price_ma_20_ratio', 'macd_normalized', 'macd_signal_normalized', 'rsi_normalized', 'bb_position', 'bb_width', 'volatility_10', 'volatility_20', 'volume_avg_ratio', 'volume_change', 'vader_ma_3', 'vader_ma_7', 'article_count_norm', 'funding_rate', 'funding_rate_ma', 'momentum_5', 'momentum_10', 'day_sin', 'day_cos']\n",
      "Training sequences: 710\n",
      "Validation sequences: 101\n",
      "Test sequences: 204\n",
      "Features per timestep: 27\n",
      "Last date in dataset: 2025-05-06 00:00:00\n"
     ]
    },
    {
     "name": "stderr",
     "output_type": "stream",
     "text": [
      "Best trial: 95. Best value: -0.00797458:  65%|██████▍   | 97/150 [1:20:45<26:12, 29.66s/it]"
     ]
    },
    {
     "name": "stdout",
     "output_type": "stream",
     "text": [
      "[I 2025-07-08 13:25:40,374] Trial 96 finished with value: -0.008008129201577249 and parameters: {'sequence_length': 30, 'lstm_units_1': 242, 'lstm_units_2': 120, 'lstm_units_3': 40, 'dropout_rate_1': 0.21484628608955122, 'dropout_rate_2': 0.0768487787905976, 'dropout_rate_dense': 0.09570871947192683, 'learning_rate': 0.019397943680199273, 'batch_size': 48, 'dense_units': 128, 'optimizer': 'adam', 'activation': 'elu', 'recurrent_activation': 'tanh', 'use_batch_norm': True, 'regularizer': 'l2', 'regularizer_strength': 0.00893165309274002, 'cell_type': 'LSTM', 'bidirectional': True}. Best is trial 95 with value: -0.007974577651995184.\n",
      "Using 27 features: ['high_close_ratio', 'low_close_ratio', 'open_close_ratio', 'returns_1d', 'returns_3d', 'returns_7d', 'price_ma_5_ratio', 'price_ma_10_ratio', 'price_ma_20_ratio', 'macd_normalized', 'macd_signal_normalized', 'rsi_normalized', 'bb_position', 'bb_width', 'volatility_10', 'volatility_20', 'volume_avg_ratio', 'volume_change', 'vader_ma_3', 'vader_ma_7', 'article_count_norm', 'funding_rate', 'funding_rate_ma', 'momentum_5', 'momentum_10', 'day_sin', 'day_cos']\n",
      "Training sequences: 709\n",
      "Validation sequences: 101\n",
      "Test sequences: 204\n",
      "Features per timestep: 27\n",
      "Last date in dataset: 2025-05-06 00:00:00\n"
     ]
    },
    {
     "name": "stderr",
     "output_type": "stream",
     "text": [
      "Best trial: 95. Best value: -0.00797458:  65%|██████▌   | 98/150 [1:21:04<22:42, 26.19s/it]"
     ]
    },
    {
     "name": "stdout",
     "output_type": "stream",
     "text": [
      "[I 2025-07-08 13:25:58,468] Trial 97 finished with value: -0.008025773319825177 and parameters: {'sequence_length': 31, 'lstm_units_1': 243, 'lstm_units_2': 118, 'lstm_units_3': 40, 'dropout_rate_1': 0.22199908926100512, 'dropout_rate_2': 0.07054013200125828, 'dropout_rate_dense': 0.09704067870543946, 'learning_rate': 0.0127252047602528, 'batch_size': 48, 'dense_units': 56, 'optimizer': 'adam', 'activation': 'elu', 'recurrent_activation': 'tanh', 'use_batch_norm': True, 'regularizer': 'l2', 'regularizer_strength': 0.009762694957938274, 'cell_type': 'LSTM', 'bidirectional': False}. Best is trial 95 with value: -0.007974577651995184.\n",
      "Using 27 features: ['high_close_ratio', 'low_close_ratio', 'open_close_ratio', 'returns_1d', 'returns_3d', 'returns_7d', 'price_ma_5_ratio', 'price_ma_10_ratio', 'price_ma_20_ratio', 'macd_normalized', 'macd_signal_normalized', 'rsi_normalized', 'bb_position', 'bb_width', 'volatility_10', 'volatility_20', 'volume_avg_ratio', 'volume_change', 'vader_ma_3', 'vader_ma_7', 'article_count_norm', 'funding_rate', 'funding_rate_ma', 'momentum_5', 'momentum_10', 'day_sin', 'day_cos']\n",
      "Training sequences: 705\n",
      "Validation sequences: 100\n",
      "Test sequences: 203\n",
      "Features per timestep: 27\n",
      "Last date in dataset: 2025-05-06 00:00:00\n"
     ]
    },
    {
     "name": "stderr",
     "output_type": "stream",
     "text": [
      "Best trial: 95. Best value: -0.00797458:  66%|██████▌   | 99/150 [1:21:55<28:40, 33.74s/it]"
     ]
    },
    {
     "name": "stdout",
     "output_type": "stream",
     "text": [
      "[I 2025-07-08 13:26:49,796] Trial 98 finished with value: -0.008042087376807233 and parameters: {'sequence_length': 37, 'lstm_units_1': 239, 'lstm_units_2': 121, 'lstm_units_3': 44, 'dropout_rate_1': 0.17303820007209023, 'dropout_rate_2': 0.0604055515197299, 'dropout_rate_dense': 0.08740541908636926, 'learning_rate': 0.019491740805151665, 'batch_size': 48, 'dense_units': 128, 'optimizer': 'adam', 'activation': 'elu', 'recurrent_activation': 'tanh', 'use_batch_norm': True, 'regularizer': 'l2', 'regularizer_strength': 0.005822081075721997, 'cell_type': 'LSTM', 'bidirectional': True}. Best is trial 95 with value: -0.007974577651995184.\n",
      "Using 27 features: ['high_close_ratio', 'low_close_ratio', 'open_close_ratio', 'returns_1d', 'returns_3d', 'returns_7d', 'price_ma_5_ratio', 'price_ma_10_ratio', 'price_ma_20_ratio', 'macd_normalized', 'macd_signal_normalized', 'rsi_normalized', 'bb_position', 'bb_width', 'volatility_10', 'volatility_20', 'volume_avg_ratio', 'volume_change', 'vader_ma_3', 'vader_ma_7', 'article_count_norm', 'funding_rate', 'funding_rate_ma', 'momentum_5', 'momentum_10', 'day_sin', 'day_cos']\n",
      "Training sequences: 712\n",
      "Validation sequences: 101\n",
      "Test sequences: 205\n",
      "Features per timestep: 27\n",
      "Last date in dataset: 2025-05-06 00:00:00\n"
     ]
    },
    {
     "name": "stderr",
     "output_type": "stream",
     "text": [
      "Best trial: 95. Best value: -0.00797458:  67%|██████▋   | 100/150 [1:28:47<2:02:46, 147.33s/it]"
     ]
    },
    {
     "name": "stdout",
     "output_type": "stream",
     "text": [
      "[I 2025-07-08 13:33:42,197] Trial 99 finished with value: -0.008471756263834642 and parameters: {'sequence_length': 27, 'lstm_units_1': 255, 'lstm_units_2': 113, 'lstm_units_3': 40, 'dropout_rate_1': 0.20316656727532414, 'dropout_rate_2': 0.02651304027108191, 'dropout_rate_dense': 0.07634624986767936, 'learning_rate': 0.023113560648304003, 'batch_size': 48, 'dense_units': 125, 'optimizer': 'adam', 'activation': 'elu', 'recurrent_activation': 'tanh', 'use_batch_norm': True, 'regularizer': 'l2', 'regularizer_strength': 0.009164731739214498, 'cell_type': 'LSTM', 'bidirectional': True}. Best is trial 95 with value: -0.007974577651995184.\n",
      "Using 27 features: ['high_close_ratio', 'low_close_ratio', 'open_close_ratio', 'returns_1d', 'returns_3d', 'returns_7d', 'price_ma_5_ratio', 'price_ma_10_ratio', 'price_ma_20_ratio', 'macd_normalized', 'macd_signal_normalized', 'rsi_normalized', 'bb_position', 'bb_width', 'volatility_10', 'volatility_20', 'volume_avg_ratio', 'volume_change', 'vader_ma_3', 'vader_ma_7', 'article_count_norm', 'funding_rate', 'funding_rate_ma', 'momentum_5', 'momentum_10', 'day_sin', 'day_cos']\n",
      "Training sequences: 707\n",
      "Validation sequences: 101\n",
      "Test sequences: 203\n",
      "Features per timestep: 27\n",
      "Last date in dataset: 2025-05-06 00:00:00\n"
     ]
    },
    {
     "name": "stderr",
     "output_type": "stream",
     "text": [
      "Best trial: 95. Best value: -0.00797458:  67%|██████▋   | 101/150 [1:38:11<3:42:26, 272.38s/it]"
     ]
    },
    {
     "name": "stdout",
     "output_type": "stream",
     "text": [
      "[I 2025-07-08 13:43:06,363] Trial 100 finished with value: -0.008055148168237047 and parameters: {'sequence_length': 34, 'lstm_units_1': 216, 'lstm_units_2': 126, 'lstm_units_3': 62, 'dropout_rate_1': 0.25415044305478884, 'dropout_rate_2': 0.14610211304311566, 'dropout_rate_dense': 0.16575538468623832, 'learning_rate': 0.03561487841366015, 'batch_size': 48, 'dense_units': 127, 'optimizer': 'sgd', 'activation': 'elu', 'recurrent_activation': 'tanh', 'use_batch_norm': True, 'regularizer': 'l2', 'regularizer_strength': 0.00818112013131494, 'cell_type': 'LSTM', 'bidirectional': True}. Best is trial 95 with value: -0.007974577651995184.\n",
      "Using 27 features: ['high_close_ratio', 'low_close_ratio', 'open_close_ratio', 'returns_1d', 'returns_3d', 'returns_7d', 'price_ma_5_ratio', 'price_ma_10_ratio', 'price_ma_20_ratio', 'macd_normalized', 'macd_signal_normalized', 'rsi_normalized', 'bb_position', 'bb_width', 'volatility_10', 'volatility_20', 'volume_avg_ratio', 'volume_change', 'vader_ma_3', 'vader_ma_7', 'article_count_norm', 'funding_rate', 'funding_rate_ma', 'momentum_5', 'momentum_10', 'day_sin', 'day_cos']\n",
      "Training sequences: 713\n",
      "Validation sequences: 101\n",
      "Test sequences: 205\n",
      "Features per timestep: 27\n",
      "Last date in dataset: 2025-05-06 00:00:00\n"
     ]
    },
    {
     "name": "stderr",
     "output_type": "stream",
     "text": [
      "Best trial: 95. Best value: -0.00797458:  68%|██████▊   | 102/150 [1:38:25<2:35:42, 194.64s/it]"
     ]
    },
    {
     "name": "stdout",
     "output_type": "stream",
     "text": [
      "[I 2025-07-08 13:43:19,598] Trial 101 finished with value: -0.25462334555685323 and parameters: {'sequence_length': 26, 'lstm_units_1': 192, 'lstm_units_2': 122, 'lstm_units_3': 49, 'dropout_rate_1': 0.23497896624809117, 'dropout_rate_2': 0.0702095894952551, 'dropout_rate_dense': 0.19232015686396117, 'learning_rate': 0.05203159868997746, 'batch_size': 48, 'dense_units': 122, 'optimizer': 'adam', 'activation': 'elu', 'recurrent_activation': 'tanh', 'use_batch_norm': True, 'regularizer': 'l2', 'regularizer_strength': 0.006368323613525241, 'cell_type': 'LSTM', 'bidirectional': True}. Best is trial 95 with value: -0.007974577651995184.\n",
      "Using 27 features: ['high_close_ratio', 'low_close_ratio', 'open_close_ratio', 'returns_1d', 'returns_3d', 'returns_7d', 'price_ma_5_ratio', 'price_ma_10_ratio', 'price_ma_20_ratio', 'macd_normalized', 'macd_signal_normalized', 'rsi_normalized', 'bb_position', 'bb_width', 'volatility_10', 'volatility_20', 'volume_avg_ratio', 'volume_change', 'vader_ma_3', 'vader_ma_7', 'article_count_norm', 'funding_rate', 'funding_rate_ma', 'momentum_5', 'momentum_10', 'day_sin', 'day_cos']\n",
      "Training sequences: 711\n",
      "Validation sequences: 101\n",
      "Test sequences: 204\n",
      "Features per timestep: 27\n",
      "Last date in dataset: 2025-05-06 00:00:00\n"
     ]
    },
    {
     "name": "stderr",
     "output_type": "stream",
     "text": [
      "Best trial: 95. Best value: -0.00797458:  69%|██████▊   | 103/150 [1:38:54<1:53:36, 145.04s/it]"
     ]
    },
    {
     "name": "stdout",
     "output_type": "stream",
     "text": [
      "[I 2025-07-08 13:43:48,902] Trial 102 finished with value: -0.008007166855129162 and parameters: {'sequence_length': 29, 'lstm_units_1': 208, 'lstm_units_2': 114, 'lstm_units_3': 39, 'dropout_rate_1': 0.1808057550554896, 'dropout_rate_2': 0.050488004471295395, 'dropout_rate_dense': 0.18162698934079202, 'learning_rate': 0.06192617738166089, 'batch_size': 48, 'dense_units': 119, 'optimizer': 'adam', 'activation': 'elu', 'recurrent_activation': 'tanh', 'use_batch_norm': True, 'regularizer': 'l2', 'regularizer_strength': 0.014747108689059825, 'cell_type': 'LSTM', 'bidirectional': True}. Best is trial 95 with value: -0.007974577651995184.\n",
      "Using 27 features: ['high_close_ratio', 'low_close_ratio', 'open_close_ratio', 'returns_1d', 'returns_3d', 'returns_7d', 'price_ma_5_ratio', 'price_ma_10_ratio', 'price_ma_20_ratio', 'macd_normalized', 'macd_signal_normalized', 'rsi_normalized', 'bb_position', 'bb_width', 'volatility_10', 'volatility_20', 'volume_avg_ratio', 'volume_change', 'vader_ma_3', 'vader_ma_7', 'article_count_norm', 'funding_rate', 'funding_rate_ma', 'momentum_5', 'momentum_10', 'day_sin', 'day_cos']\n",
      "Training sequences: 709\n",
      "Validation sequences: 101\n",
      "Test sequences: 204\n",
      "Features per timestep: 27\n",
      "Last date in dataset: 2025-05-06 00:00:00\n"
     ]
    },
    {
     "name": "stderr",
     "output_type": "stream",
     "text": [
      "Best trial: 95. Best value: -0.00797458:  69%|██████▉   | 104/150 [1:40:06<1:34:29, 123.24s/it]"
     ]
    },
    {
     "name": "stdout",
     "output_type": "stream",
     "text": [
      "[I 2025-07-08 13:45:01,291] Trial 103 finished with value: -0.2363511501754351 and parameters: {'sequence_length': 31, 'lstm_units_1': 212, 'lstm_units_2': 114, 'lstm_units_3': 42, 'dropout_rate_1': 0.16392230959912407, 'dropout_rate_2': 0.050350451872031014, 'dropout_rate_dense': 0.18066273515950482, 'learning_rate': 0.06037194980804254, 'batch_size': 48, 'dense_units': 126, 'optimizer': 'adam', 'activation': 'elu', 'recurrent_activation': 'tanh', 'use_batch_norm': True, 'regularizer': 'l2', 'regularizer_strength': 0.014638593657293633, 'cell_type': 'LSTM', 'bidirectional': True}. Best is trial 95 with value: -0.007974577651995184.\n",
      "Using 27 features: ['high_close_ratio', 'low_close_ratio', 'open_close_ratio', 'returns_1d', 'returns_3d', 'returns_7d', 'price_ma_5_ratio', 'price_ma_10_ratio', 'price_ma_20_ratio', 'macd_normalized', 'macd_signal_normalized', 'rsi_normalized', 'bb_position', 'bb_width', 'volatility_10', 'volatility_20', 'volume_avg_ratio', 'volume_change', 'vader_ma_3', 'vader_ma_7', 'article_count_norm', 'funding_rate', 'funding_rate_ma', 'momentum_5', 'momentum_10', 'day_sin', 'day_cos']\n",
      "Training sequences: 711\n",
      "Validation sequences: 101\n",
      "Test sequences: 205\n",
      "Features per timestep: 27\n",
      "Last date in dataset: 2025-05-06 00:00:00\n"
     ]
    },
    {
     "name": "stderr",
     "output_type": "stream",
     "text": [
      "Best trial: 95. Best value: -0.00797458:  70%|███████   | 105/150 [1:40:39<1:12:09, 96.21s/it] "
     ]
    },
    {
     "name": "stdout",
     "output_type": "stream",
     "text": [
      "[I 2025-07-08 13:45:34,414] Trial 104 finished with value: -0.008004311466203434 and parameters: {'sequence_length': 28, 'lstm_units_1': 236, 'lstm_units_2': 110, 'lstm_units_3': 39, 'dropout_rate_1': 0.1860224234775584, 'dropout_rate_2': 0.019086190107869605, 'dropout_rate_dense': 0.11900225006963698, 'learning_rate': 0.030340625862869546, 'batch_size': 48, 'dense_units': 65, 'optimizer': 'adam', 'activation': 'elu', 'recurrent_activation': 'tanh', 'use_batch_norm': True, 'regularizer': 'l2', 'regularizer_strength': 0.016790057303140867, 'cell_type': 'LSTM', 'bidirectional': True}. Best is trial 95 with value: -0.007974577651995184.\n",
      "Using 27 features: ['high_close_ratio', 'low_close_ratio', 'open_close_ratio', 'returns_1d', 'returns_3d', 'returns_7d', 'price_ma_5_ratio', 'price_ma_10_ratio', 'price_ma_20_ratio', 'macd_normalized', 'macd_signal_normalized', 'rsi_normalized', 'bb_position', 'bb_width', 'volatility_10', 'volatility_20', 'volume_avg_ratio', 'volume_change', 'vader_ma_3', 'vader_ma_7', 'article_count_norm', 'funding_rate', 'funding_rate_ma', 'momentum_5', 'momentum_10', 'day_sin', 'day_cos']\n",
      "Training sequences: 711\n",
      "Validation sequences: 101\n",
      "Test sequences: 205\n",
      "Features per timestep: 27\n",
      "Last date in dataset: 2025-05-06 00:00:00\n"
     ]
    },
    {
     "name": "stderr",
     "output_type": "stream",
     "text": [
      "Best trial: 95. Best value: -0.00797458:  71%|███████   | 106/150 [1:42:53<1:18:51, 107.54s/it]"
     ]
    },
    {
     "name": "stdout",
     "output_type": "stream",
     "text": [
      "[I 2025-07-08 13:47:48,385] Trial 105 finished with value: -0.008022808398720565 and parameters: {'sequence_length': 28, 'lstm_units_1': 235, 'lstm_units_2': 103, 'lstm_units_3': 39, 'dropout_rate_1': 0.14680015620375583, 'dropout_rate_2': 0.01111119568160731, 'dropout_rate_dense': 0.1393657558338271, 'learning_rate': 0.00012852230090050636, 'batch_size': 48, 'dense_units': 74, 'optimizer': 'adam', 'activation': 'elu', 'recurrent_activation': 'tanh', 'use_batch_norm': True, 'regularizer': 'l2', 'regularizer_strength': 0.01343653892427005, 'cell_type': 'LSTM', 'bidirectional': True}. Best is trial 95 with value: -0.007974577651995184.\n",
      "Using 27 features: ['high_close_ratio', 'low_close_ratio', 'open_close_ratio', 'returns_1d', 'returns_3d', 'returns_7d', 'price_ma_5_ratio', 'price_ma_10_ratio', 'price_ma_20_ratio', 'macd_normalized', 'macd_signal_normalized', 'rsi_normalized', 'bb_position', 'bb_width', 'volatility_10', 'volatility_20', 'volume_avg_ratio', 'volume_change', 'vader_ma_3', 'vader_ma_7', 'article_count_norm', 'funding_rate', 'funding_rate_ma', 'momentum_5', 'momentum_10', 'day_sin', 'day_cos']\n",
      "Training sequences: 717\n",
      "Validation sequences: 102\n",
      "Test sequences: 206\n",
      "Features per timestep: 27\n",
      "Last date in dataset: 2025-05-06 00:00:00\n"
     ]
    },
    {
     "name": "stderr",
     "output_type": "stream",
     "text": [
      "Best trial: 95. Best value: -0.00797458:  71%|███████▏  | 107/150 [1:44:02<1:08:45, 95.95s/it] "
     ]
    },
    {
     "name": "stdout",
     "output_type": "stream",
     "text": [
      "[I 2025-07-08 13:48:57,304] Trial 106 finished with value: -0.008103489081252569 and parameters: {'sequence_length': 20, 'lstm_units_1': 206, 'lstm_units_2': 111, 'lstm_units_3': 45, 'dropout_rate_1': 0.18426662515203823, 'dropout_rate_2': 0.045656929347475964, 'dropout_rate_dense': 0.175378464348783, 'learning_rate': 0.04216327820802405, 'batch_size': 48, 'dense_units': 64, 'optimizer': 'adam', 'activation': 'elu', 'recurrent_activation': 'tanh', 'use_batch_norm': True, 'regularizer': 'l2', 'regularizer_strength': 0.01631584375989129, 'cell_type': 'LSTM', 'bidirectional': True}. Best is trial 95 with value: -0.007974577651995184.\n",
      "Using 27 features: ['high_close_ratio', 'low_close_ratio', 'open_close_ratio', 'returns_1d', 'returns_3d', 'returns_7d', 'price_ma_5_ratio', 'price_ma_10_ratio', 'price_ma_20_ratio', 'macd_normalized', 'macd_signal_normalized', 'rsi_normalized', 'bb_position', 'bb_width', 'volatility_10', 'volatility_20', 'volume_avg_ratio', 'volume_change', 'vader_ma_3', 'vader_ma_7', 'article_count_norm', 'funding_rate', 'funding_rate_ma', 'momentum_5', 'momentum_10', 'day_sin', 'day_cos']\n",
      "Training sequences: 703\n",
      "Validation sequences: 100\n",
      "Test sequences: 202\n",
      "Features per timestep: 27\n",
      "Last date in dataset: 2025-05-06 00:00:00\n"
     ]
    },
    {
     "name": "stderr",
     "output_type": "stream",
     "text": [
      "Best trial: 95. Best value: -0.00797458:  72%|███████▏  | 108/150 [1:44:52<57:21, 81.94s/it]  "
     ]
    },
    {
     "name": "stdout",
     "output_type": "stream",
     "text": [
      "[I 2025-07-08 13:49:46,568] Trial 107 finished with value: -0.008370250471084457 and parameters: {'sequence_length': 40, 'lstm_units_1': 229, 'lstm_units_2': 123, 'lstm_units_3': 60, 'dropout_rate_1': 0.1941104635959555, 'dropout_rate_2': 0.028665157226668216, 'dropout_rate_dense': 0.11763384431412233, 'learning_rate': 0.02915259728037458, 'batch_size': 48, 'dense_units': 67, 'optimizer': 'adam', 'activation': 'elu', 'recurrent_activation': 'tanh', 'use_batch_norm': True, 'regularizer': 'l2', 'regularizer_strength': 0.01207507608376433, 'cell_type': 'LSTM', 'bidirectional': True}. Best is trial 95 with value: -0.007974577651995184.\n",
      "Using 27 features: ['high_close_ratio', 'low_close_ratio', 'open_close_ratio', 'returns_1d', 'returns_3d', 'returns_7d', 'price_ma_5_ratio', 'price_ma_10_ratio', 'price_ma_20_ratio', 'macd_normalized', 'macd_signal_normalized', 'rsi_normalized', 'bb_position', 'bb_width', 'volatility_10', 'volatility_20', 'volume_avg_ratio', 'volume_change', 'vader_ma_3', 'vader_ma_7', 'article_count_norm', 'funding_rate', 'funding_rate_ma', 'momentum_5', 'momentum_10', 'day_sin', 'day_cos']\n",
      "Training sequences: 718\n",
      "Validation sequences: 102\n",
      "Test sequences: 207\n",
      "Features per timestep: 27\n",
      "Last date in dataset: 2025-05-06 00:00:00\n"
     ]
    },
    {
     "name": "stderr",
     "output_type": "stream",
     "text": [
      "Best trial: 95. Best value: -0.00797458:  73%|███████▎  | 109/150 [1:45:08<42:29, 62.19s/it]"
     ]
    },
    {
     "name": "stdout",
     "output_type": "stream",
     "text": [
      "[I 2025-07-08 13:50:02,672] Trial 108 finished with value: -0.008066843480337751 and parameters: {'sequence_length': 18, 'lstm_units_1': 188, 'lstm_units_2': 102, 'lstm_units_3': 53, 'dropout_rate_1': 0.1250403009560732, 'dropout_rate_2': 0.036157182360440986, 'dropout_rate_dense': 0.10233015479538238, 'learning_rate': 0.057739113362678764, 'batch_size': 48, 'dense_units': 114, 'optimizer': 'adam', 'activation': 'elu', 'recurrent_activation': 'tanh', 'use_batch_norm': True, 'regularizer': 'l2', 'regularizer_strength': 0.01703735432324128, 'cell_type': 'LSTM', 'bidirectional': True}. Best is trial 95 with value: -0.007974577651995184.\n",
      "Using 27 features: ['high_close_ratio', 'low_close_ratio', 'open_close_ratio', 'returns_1d', 'returns_3d', 'returns_7d', 'price_ma_5_ratio', 'price_ma_10_ratio', 'price_ma_20_ratio', 'macd_normalized', 'macd_signal_normalized', 'rsi_normalized', 'bb_position', 'bb_width', 'volatility_10', 'volatility_20', 'volume_avg_ratio', 'volume_change', 'vader_ma_3', 'vader_ma_7', 'article_count_norm', 'funding_rate', 'funding_rate_ma', 'momentum_5', 'momentum_10', 'day_sin', 'day_cos']\n",
      "Training sequences: 707\n",
      "Validation sequences: 101\n",
      "Test sequences: 203\n",
      "Features per timestep: 27\n",
      "Last date in dataset: 2025-05-06 00:00:00\n"
     ]
    },
    {
     "name": "stderr",
     "output_type": "stream",
     "text": [
      "Best trial: 95. Best value: -0.00797458:  73%|███████▎  | 110/150 [1:45:37<34:47, 52.19s/it]"
     ]
    },
    {
     "name": "stdout",
     "output_type": "stream",
     "text": [
      "[I 2025-07-08 13:50:31,508] Trial 109 finished with value: -0.00804208855238982 and parameters: {'sequence_length': 34, 'lstm_units_1': 217, 'lstm_units_2': 107, 'lstm_units_3': 43, 'dropout_rate_1': 0.20198797000896446, 'dropout_rate_2': 0.05549269237939569, 'dropout_rate_dense': 0.15092025926259575, 'learning_rate': 0.03246505858204791, 'batch_size': 48, 'dense_units': 58, 'optimizer': 'adam', 'activation': 'elu', 'recurrent_activation': 'hard_sigmoid', 'use_batch_norm': True, 'regularizer': 'l2', 'regularizer_strength': 0.010717236659965256, 'cell_type': 'LSTM', 'bidirectional': True}. Best is trial 95 with value: -0.007974577651995184.\n",
      "Using 27 features: ['high_close_ratio', 'low_close_ratio', 'open_close_ratio', 'returns_1d', 'returns_3d', 'returns_7d', 'price_ma_5_ratio', 'price_ma_10_ratio', 'price_ma_20_ratio', 'macd_normalized', 'macd_signal_normalized', 'rsi_normalized', 'bb_position', 'bb_width', 'volatility_10', 'volatility_20', 'volume_avg_ratio', 'volume_change', 'vader_ma_3', 'vader_ma_7', 'article_count_norm', 'funding_rate', 'funding_rate_ma', 'momentum_5', 'momentum_10', 'day_sin', 'day_cos']\n",
      "Training sequences: 713\n",
      "Validation sequences: 101\n",
      "Test sequences: 205\n",
      "Features per timestep: 27\n",
      "Last date in dataset: 2025-05-06 00:00:00\n"
     ]
    },
    {
     "name": "stderr",
     "output_type": "stream",
     "text": [
      "Best trial: 95. Best value: -0.00797458:  74%|███████▍  | 111/150 [1:47:17<43:22, 66.73s/it]"
     ]
    },
    {
     "name": "stdout",
     "output_type": "stream",
     "text": [
      "[I 2025-07-08 13:52:12,177] Trial 110 finished with value: -0.008126903486611436 and parameters: {'sequence_length': 26, 'lstm_units_1': 79, 'lstm_units_2': 114, 'lstm_units_3': 37, 'dropout_rate_1': 0.11533880272884489, 'dropout_rate_2': 0.11569378820182259, 'dropout_rate_dense': 0.2137251610584067, 'learning_rate': 0.04988998038887149, 'batch_size': 48, 'dense_units': 48, 'optimizer': 'sgd', 'activation': 'elu', 'recurrent_activation': 'tanh', 'use_batch_norm': True, 'regularizer': 'l2', 'regularizer_strength': 0.001149882956633309, 'cell_type': 'LSTM', 'bidirectional': False}. Best is trial 95 with value: -0.007974577651995184.\n",
      "Using 27 features: ['high_close_ratio', 'low_close_ratio', 'open_close_ratio', 'returns_1d', 'returns_3d', 'returns_7d', 'price_ma_5_ratio', 'price_ma_10_ratio', 'price_ma_20_ratio', 'macd_normalized', 'macd_signal_normalized', 'rsi_normalized', 'bb_position', 'bb_width', 'volatility_10', 'volatility_20', 'volume_avg_ratio', 'volume_change', 'vader_ma_3', 'vader_ma_7', 'article_count_norm', 'funding_rate', 'funding_rate_ma', 'momentum_5', 'momentum_10', 'day_sin', 'day_cos']\n",
      "Training sequences: 711\n",
      "Validation sequences: 101\n",
      "Test sequences: 204\n",
      "Features per timestep: 27\n",
      "Last date in dataset: 2025-05-06 00:00:00\n"
     ]
    },
    {
     "name": "stderr",
     "output_type": "stream",
     "text": [
      "Best trial: 95. Best value: -0.00797458:  75%|███████▍  | 112/150 [1:48:03<38:11, 60.31s/it]"
     ]
    },
    {
     "name": "stdout",
     "output_type": "stream",
     "text": [
      "[I 2025-07-08 13:52:57,492] Trial 111 finished with value: -0.008005231972541039 and parameters: {'sequence_length': 29, 'lstm_units_1': 246, 'lstm_units_2': 126, 'lstm_units_3': 40, 'dropout_rate_1': 0.21629092792044985, 'dropout_rate_2': 0.08213007418292703, 'dropout_rate_dense': 0.16456569414391733, 'learning_rate': 0.026026373303415652, 'batch_size': 48, 'dense_units': 122, 'optimizer': 'adam', 'activation': 'elu', 'recurrent_activation': 'tanh', 'use_batch_norm': True, 'regularizer': 'l2', 'regularizer_strength': 0.008247599618614631, 'cell_type': 'LSTM', 'bidirectional': True}. Best is trial 95 with value: -0.007974577651995184.\n",
      "Using 27 features: ['high_close_ratio', 'low_close_ratio', 'open_close_ratio', 'returns_1d', 'returns_3d', 'returns_7d', 'price_ma_5_ratio', 'price_ma_10_ratio', 'price_ma_20_ratio', 'macd_normalized', 'macd_signal_normalized', 'rsi_normalized', 'bb_position', 'bb_width', 'volatility_10', 'volatility_20', 'volume_avg_ratio', 'volume_change', 'vader_ma_3', 'vader_ma_7', 'article_count_norm', 'funding_rate', 'funding_rate_ma', 'momentum_5', 'momentum_10', 'day_sin', 'day_cos']\n",
      "Training sequences: 711\n",
      "Validation sequences: 101\n",
      "Test sequences: 205\n",
      "Features per timestep: 27\n",
      "Last date in dataset: 2025-05-06 00:00:00\n"
     ]
    },
    {
     "name": "stderr",
     "output_type": "stream",
     "text": [
      "Best trial: 95. Best value: -0.00797458:  75%|███████▌  | 113/150 [1:51:16<1:01:43, 100.10s/it]"
     ]
    },
    {
     "name": "stdout",
     "output_type": "stream",
     "text": [
      "[I 2025-07-08 13:56:10,444] Trial 112 finished with value: -0.23612066944523086 and parameters: {'sequence_length': 28, 'lstm_units_1': 248, 'lstm_units_2': 126, 'lstm_units_3': 44, 'dropout_rate_1': 0.14308628871079387, 'dropout_rate_2': 0.06715356003675033, 'dropout_rate_dense': 0.16521970945549216, 'learning_rate': 0.06386681347586667, 'batch_size': 48, 'dense_units': 119, 'optimizer': 'adam', 'activation': 'elu', 'recurrent_activation': 'tanh', 'use_batch_norm': True, 'regularizer': 'l2', 'regularizer_strength': 0.013835389509170133, 'cell_type': 'LSTM', 'bidirectional': True}. Best is trial 95 with value: -0.007974577651995184.\n",
      "Using 27 features: ['high_close_ratio', 'low_close_ratio', 'open_close_ratio', 'returns_1d', 'returns_3d', 'returns_7d', 'price_ma_5_ratio', 'price_ma_10_ratio', 'price_ma_20_ratio', 'macd_normalized', 'macd_signal_normalized', 'rsi_normalized', 'bb_position', 'bb_width', 'volatility_10', 'volatility_20', 'volume_avg_ratio', 'volume_change', 'vader_ma_3', 'vader_ma_7', 'article_count_norm', 'funding_rate', 'funding_rate_ma', 'momentum_5', 'momentum_10', 'day_sin', 'day_cos']\n",
      "Training sequences: 709\n",
      "Validation sequences: 101\n",
      "Test sequences: 203\n",
      "Features per timestep: 27\n",
      "Last date in dataset: 2025-05-06 00:00:00\n"
     ]
    },
    {
     "name": "stderr",
     "output_type": "stream",
     "text": [
      "Best trial: 95. Best value: -0.00797458:  76%|███████▌  | 114/150 [1:52:03<50:36, 84.36s/it]   "
     ]
    },
    {
     "name": "stdout",
     "output_type": "stream",
     "text": [
      "[I 2025-07-08 13:56:58,063] Trial 113 finished with value: -0.008077304750029908 and parameters: {'sequence_length': 32, 'lstm_units_1': 228, 'lstm_units_2': 117, 'lstm_units_3': 41, 'dropout_rate_1': 0.22458760108764708, 'dropout_rate_2': 0.10239711867526918, 'dropout_rate_dense': 0.18212666155640314, 'learning_rate': 0.014906920478255826, 'batch_size': 48, 'dense_units': 123, 'optimizer': 'adam', 'activation': 'elu', 'recurrent_activation': 'tanh', 'use_batch_norm': True, 'regularizer': 'l2', 'regularizer_strength': 0.008249200987087695, 'cell_type': 'LSTM', 'bidirectional': True}. Best is trial 95 with value: -0.007974577651995184.\n",
      "Using 27 features: ['high_close_ratio', 'low_close_ratio', 'open_close_ratio', 'returns_1d', 'returns_3d', 'returns_7d', 'price_ma_5_ratio', 'price_ma_10_ratio', 'price_ma_20_ratio', 'macd_normalized', 'macd_signal_normalized', 'rsi_normalized', 'bb_position', 'bb_width', 'volatility_10', 'volatility_20', 'volume_avg_ratio', 'volume_change', 'vader_ma_3', 'vader_ma_7', 'article_count_norm', 'funding_rate', 'funding_rate_ma', 'momentum_5', 'momentum_10', 'day_sin', 'day_cos']\n",
      "Training sequences: 715\n",
      "Validation sequences: 102\n",
      "Test sequences: 205\n",
      "Features per timestep: 27\n",
      "Last date in dataset: 2025-05-06 00:00:00\n"
     ]
    },
    {
     "name": "stderr",
     "output_type": "stream",
     "text": [
      "Best trial: 95. Best value: -0.00797458:  77%|███████▋  | 115/150 [1:54:17<57:52, 99.23s/it]"
     ]
    },
    {
     "name": "stdout",
     "output_type": "stream",
     "text": [
      "[I 2025-07-08 13:59:11,991] Trial 114 finished with value: -0.008015123535882778 and parameters: {'sequence_length': 23, 'lstm_units_1': 57, 'lstm_units_2': 111, 'lstm_units_3': 10, 'dropout_rate_1': 0.18409393281056902, 'dropout_rate_2': 0.18305050878897278, 'dropout_rate_dense': 0.18823795418233044, 'learning_rate': 0.04041513325570135, 'batch_size': 8, 'dense_units': 122, 'optimizer': 'adam', 'activation': 'elu', 'recurrent_activation': 'tanh', 'use_batch_norm': True, 'regularizer': 'l2', 'regularizer_strength': 0.010340957089689998, 'cell_type': 'LSTM', 'bidirectional': True}. Best is trial 95 with value: -0.007974577651995184.\n",
      "Using 27 features: ['high_close_ratio', 'low_close_ratio', 'open_close_ratio', 'returns_1d', 'returns_3d', 'returns_7d', 'price_ma_5_ratio', 'price_ma_10_ratio', 'price_ma_20_ratio', 'macd_normalized', 'macd_signal_normalized', 'rsi_normalized', 'bb_position', 'bb_width', 'volatility_10', 'volatility_20', 'volume_avg_ratio', 'volume_change', 'vader_ma_3', 'vader_ma_7', 'article_count_norm', 'funding_rate', 'funding_rate_ma', 'momentum_5', 'momentum_10', 'day_sin', 'day_cos']\n",
      "Training sequences: 711\n",
      "Validation sequences: 101\n",
      "Test sequences: 204\n",
      "Features per timestep: 27\n",
      "Last date in dataset: 2025-05-06 00:00:00\n"
     ]
    },
    {
     "name": "stderr",
     "output_type": "stream",
     "text": [
      "Best trial: 95. Best value: -0.00797458:  77%|███████▋  | 116/150 [1:54:53<45:26, 80.20s/it]"
     ]
    },
    {
     "name": "stdout",
     "output_type": "stream",
     "text": [
      "[I 2025-07-08 13:59:47,786] Trial 115 finished with value: -0.2363511501754351 and parameters: {'sequence_length': 29, 'lstm_units_1': 112, 'lstm_units_2': 124, 'lstm_units_3': 39, 'dropout_rate_1': 0.2683119726520977, 'dropout_rate_2': 0.08165646405280175, 'dropout_rate_dense': 0.17159388614351753, 'learning_rate': 0.09933177254476667, 'batch_size': 48, 'dense_units': 73, 'optimizer': 'adam', 'activation': 'elu', 'recurrent_activation': 'sigmoid', 'use_batch_norm': True, 'regularizer': 'l2', 'regularizer_strength': 0.011944858170412711, 'cell_type': 'LSTM', 'bidirectional': True}. Best is trial 95 with value: -0.007974577651995184.\n",
      "Using 27 features: ['high_close_ratio', 'low_close_ratio', 'open_close_ratio', 'returns_1d', 'returns_3d', 'returns_7d', 'price_ma_5_ratio', 'price_ma_10_ratio', 'price_ma_20_ratio', 'macd_normalized', 'macd_signal_normalized', 'rsi_normalized', 'bb_position', 'bb_width', 'volatility_10', 'volatility_20', 'volume_avg_ratio', 'volume_change', 'vader_ma_3', 'vader_ma_7', 'article_count_norm', 'funding_rate', 'funding_rate_ma', 'momentum_5', 'momentum_10', 'day_sin', 'day_cos']\n",
      "Training sequences: 704\n",
      "Validation sequences: 100\n",
      "Test sequences: 203\n",
      "Features per timestep: 27\n",
      "Last date in dataset: 2025-05-06 00:00:00\n"
     ]
    },
    {
     "name": "stderr",
     "output_type": "stream",
     "text": [
      "Best trial: 95. Best value: -0.00797458:  78%|███████▊  | 117/150 [1:55:36<37:55, 68.95s/it]"
     ]
    },
    {
     "name": "stdout",
     "output_type": "stream",
     "text": [
      "[I 2025-07-08 14:00:30,487] Trial 116 finished with value: -0.00804231280034295 and parameters: {'sequence_length': 38, 'lstm_units_1': 237, 'lstm_units_2': 95, 'lstm_units_3': 57, 'dropout_rate_1': 0.16935942747773847, 'dropout_rate_2': 0.09546418618902613, 'dropout_rate_dense': 0.16206395853968766, 'learning_rate': 0.026395465386591085, 'batch_size': 64, 'dense_units': 61, 'optimizer': 'rmsprop', 'activation': 'elu', 'recurrent_activation': 'tanh', 'use_batch_norm': False, 'regularizer': 'l2', 'regularizer_strength': 0.01830412609191588, 'cell_type': 'LSTM', 'bidirectional': True}. Best is trial 95 with value: -0.007974577651995184.\n",
      "Using 27 features: ['high_close_ratio', 'low_close_ratio', 'open_close_ratio', 'returns_1d', 'returns_3d', 'returns_7d', 'price_ma_5_ratio', 'price_ma_10_ratio', 'price_ma_20_ratio', 'macd_normalized', 'macd_signal_normalized', 'rsi_normalized', 'bb_position', 'bb_width', 'volatility_10', 'volatility_20', 'volume_avg_ratio', 'volume_change', 'vader_ma_3', 'vader_ma_7', 'article_count_norm', 'funding_rate', 'funding_rate_ma', 'momentum_5', 'momentum_10', 'day_sin', 'day_cos']\n",
      "Training sequences: 713\n",
      "Validation sequences: 101\n",
      "Test sequences: 205\n",
      "Features per timestep: 27\n",
      "Last date in dataset: 2025-05-06 00:00:00\n"
     ]
    },
    {
     "name": "stderr",
     "output_type": "stream",
     "text": [
      "Best trial: 95. Best value: -0.00797458:  79%|███████▊  | 118/150 [1:56:23<33:23, 62.60s/it]"
     ]
    },
    {
     "name": "stdout",
     "output_type": "stream",
     "text": [
      "[I 2025-07-08 14:01:18,267] Trial 117 finished with value: -0.00797734827354275 and parameters: {'sequence_length': 26, 'lstm_units_1': 249, 'lstm_units_2': 128, 'lstm_units_3': 37, 'dropout_rate_1': 0.24132148636228465, 'dropout_rate_2': 0.0009176467615940459, 'dropout_rate_dense': 0.13467921247497733, 'learning_rate': 0.06602826388445258, 'batch_size': 48, 'dense_units': 117, 'optimizer': 'adam', 'activation': 'elu', 'recurrent_activation': 'tanh', 'use_batch_norm': True, 'regularizer': 'l2', 'regularizer_strength': 0.02007053173471777, 'cell_type': 'LSTM', 'bidirectional': True}. Best is trial 95 with value: -0.007974577651995184.\n",
      "Using 27 features: ['high_close_ratio', 'low_close_ratio', 'open_close_ratio', 'returns_1d', 'returns_3d', 'returns_7d', 'price_ma_5_ratio', 'price_ma_10_ratio', 'price_ma_20_ratio', 'macd_normalized', 'macd_signal_normalized', 'rsi_normalized', 'bb_position', 'bb_width', 'volatility_10', 'volatility_20', 'volume_avg_ratio', 'volume_change', 'vader_ma_3', 'vader_ma_7', 'article_count_norm', 'funding_rate', 'funding_rate_ma', 'momentum_5', 'momentum_10', 'day_sin', 'day_cos']\n",
      "Training sequences: 717\n",
      "Validation sequences: 102\n",
      "Test sequences: 206\n",
      "Features per timestep: 27\n",
      "Last date in dataset: 2025-05-06 00:00:00\n"
     ]
    },
    {
     "name": "stderr",
     "output_type": "stream",
     "text": [
      "Best trial: 95. Best value: -0.00797458:  79%|███████▉  | 119/150 [1:56:45<25:56, 50.22s/it]"
     ]
    },
    {
     "name": "stdout",
     "output_type": "stream",
     "text": [
      "[I 2025-07-08 14:01:39,613] Trial 118 finished with value: -0.008080816191974685 and parameters: {'sequence_length': 20, 'lstm_units_1': 248, 'lstm_units_2': 128, 'lstm_units_3': 35, 'dropout_rate_1': 0.09136240767690801, 'dropout_rate_2': 0.007472835761242018, 'dropout_rate_dense': 0.12526931507466316, 'learning_rate': 0.04739721409985861, 'batch_size': 48, 'dense_units': 44, 'optimizer': 'adam', 'activation': 'selu', 'recurrent_activation': 'tanh', 'use_batch_norm': False, 'regularizer': 'l2', 'regularizer_strength': 0.022653205105459265, 'cell_type': 'LSTM', 'bidirectional': True}. Best is trial 95 with value: -0.007974577651995184.\n",
      "Using 27 features: ['high_close_ratio', 'low_close_ratio', 'open_close_ratio', 'returns_1d', 'returns_3d', 'returns_7d', 'price_ma_5_ratio', 'price_ma_10_ratio', 'price_ma_20_ratio', 'macd_normalized', 'macd_signal_normalized', 'rsi_normalized', 'bb_position', 'bb_width', 'volatility_10', 'volatility_20', 'volume_avg_ratio', 'volume_change', 'vader_ma_3', 'vader_ma_7', 'article_count_norm', 'funding_rate', 'funding_rate_ma', 'momentum_5', 'momentum_10', 'day_sin', 'day_cos']\n",
      "Training sequences: 713\n",
      "Validation sequences: 101\n",
      "Test sequences: 205\n",
      "Features per timestep: 27\n",
      "Last date in dataset: 2025-05-06 00:00:00\n"
     ]
    },
    {
     "name": "stderr",
     "output_type": "stream",
     "text": [
      "Best trial: 95. Best value: -0.00797458:  80%|████████  | 120/150 [1:57:10<21:22, 42.75s/it]"
     ]
    },
    {
     "name": "stdout",
     "output_type": "stream",
     "text": [
      "[I 2025-07-08 14:02:04,923] Trial 119 finished with value: -0.007975044725082816 and parameters: {'sequence_length': 26, 'lstm_units_1': 247, 'lstm_units_2': 126, 'lstm_units_3': 41, 'dropout_rate_1': 0.24084006683873435, 'dropout_rate_2': 0.0008076768314687344, 'dropout_rate_dense': 0.002056963389185873, 'learning_rate': 0.00915547204261104, 'batch_size': 48, 'dense_units': 117, 'optimizer': 'adam', 'activation': 'elu', 'recurrent_activation': 'tanh', 'use_batch_norm': False, 'regularizer': 'l2', 'regularizer_strength': 0.006642651142459012, 'cell_type': 'LSTM', 'bidirectional': True}. Best is trial 95 with value: -0.007974577651995184.\n",
      "Using 27 features: ['high_close_ratio', 'low_close_ratio', 'open_close_ratio', 'returns_1d', 'returns_3d', 'returns_7d', 'price_ma_5_ratio', 'price_ma_10_ratio', 'price_ma_20_ratio', 'macd_normalized', 'macd_signal_normalized', 'rsi_normalized', 'bb_position', 'bb_width', 'volatility_10', 'volatility_20', 'volume_avg_ratio', 'volume_change', 'vader_ma_3', 'vader_ma_7', 'article_count_norm', 'funding_rate', 'funding_rate_ma', 'momentum_5', 'momentum_10', 'day_sin', 'day_cos']\n",
      "Training sequences: 720\n",
      "Validation sequences: 102\n",
      "Test sequences: 207\n",
      "Features per timestep: 27\n",
      "Last date in dataset: 2025-05-06 00:00:00\n"
     ]
    },
    {
     "name": "stderr",
     "output_type": "stream",
     "text": [
      "Best trial: 95. Best value: -0.00797458:  81%|████████  | 121/150 [1:57:30<17:22, 35.94s/it]"
     ]
    },
    {
     "name": "stdout",
     "output_type": "stream",
     "text": [
      "[I 2025-07-08 14:02:24,972] Trial 120 finished with value: -0.008067929612940639 and parameters: {'sequence_length': 16, 'lstm_units_1': 256, 'lstm_units_2': 125, 'lstm_units_3': 37, 'dropout_rate_1': 0.24536452973027678, 'dropout_rate_2': 0.03412456965831005, 'dropout_rate_dense': 0.05496591534708265, 'learning_rate': 0.02186386671505463, 'batch_size': 48, 'dense_units': 115, 'optimizer': 'adam', 'activation': 'elu', 'recurrent_activation': 'sigmoid', 'use_batch_norm': True, 'regularizer': 'l2', 'regularizer_strength': 0.005392887532415593, 'cell_type': 'LSTM', 'bidirectional': True}. Best is trial 95 with value: -0.007974577651995184.\n",
      "Using 27 features: ['high_close_ratio', 'low_close_ratio', 'open_close_ratio', 'returns_1d', 'returns_3d', 'returns_7d', 'price_ma_5_ratio', 'price_ma_10_ratio', 'price_ma_20_ratio', 'macd_normalized', 'macd_signal_normalized', 'rsi_normalized', 'bb_position', 'bb_width', 'volatility_10', 'volatility_20', 'volume_avg_ratio', 'volume_change', 'vader_ma_3', 'vader_ma_7', 'article_count_norm', 'funding_rate', 'funding_rate_ma', 'momentum_5', 'momentum_10', 'day_sin', 'day_cos']\n",
      "Training sequences: 713\n",
      "Validation sequences: 101\n",
      "Test sequences: 205\n",
      "Features per timestep: 27\n",
      "Last date in dataset: 2025-05-06 00:00:00\n"
     ]
    },
    {
     "name": "stderr",
     "output_type": "stream",
     "text": [
      "Best trial: 95. Best value: -0.00797458:  81%|████████▏ | 122/150 [1:57:51<14:43, 31.56s/it]"
     ]
    },
    {
     "name": "stdout",
     "output_type": "stream",
     "text": [
      "[I 2025-07-08 14:02:46,303] Trial 121 finished with value: -0.007974659744681877 and parameters: {'sequence_length': 26, 'lstm_units_1': 247, 'lstm_units_2': 119, 'lstm_units_3': 42, 'dropout_rate_1': 0.22996104712824292, 'dropout_rate_2': 0.0031232769126760484, 'dropout_rate_dense': 0.014820693251497794, 'learning_rate': 0.010536724929115233, 'batch_size': 48, 'dense_units': 125, 'optimizer': 'adam', 'activation': 'elu', 'recurrent_activation': 'tanh', 'use_batch_norm': False, 'regularizer': 'l2', 'regularizer_strength': 0.019688698674700925, 'cell_type': 'LSTM', 'bidirectional': True}. Best is trial 95 with value: -0.007974577651995184.\n",
      "Using 27 features: ['high_close_ratio', 'low_close_ratio', 'open_close_ratio', 'returns_1d', 'returns_3d', 'returns_7d', 'price_ma_5_ratio', 'price_ma_10_ratio', 'price_ma_20_ratio', 'macd_normalized', 'macd_signal_normalized', 'rsi_normalized', 'bb_position', 'bb_width', 'volatility_10', 'volatility_20', 'volume_avg_ratio', 'volume_change', 'vader_ma_3', 'vader_ma_7', 'article_count_norm', 'funding_rate', 'funding_rate_ma', 'momentum_5', 'momentum_10', 'day_sin', 'day_cos']\n",
      "Training sequences: 713\n",
      "Validation sequences: 101\n",
      "Test sequences: 205\n",
      "Features per timestep: 27\n",
      "Last date in dataset: 2025-05-06 00:00:00\n"
     ]
    },
    {
     "name": "stderr",
     "output_type": "stream",
     "text": [
      "Best trial: 95. Best value: -0.00797458:  82%|████████▏ | 123/150 [1:58:15<13:10, 29.26s/it]"
     ]
    },
    {
     "name": "stdout",
     "output_type": "stream",
     "text": [
      "[I 2025-07-08 14:03:10,212] Trial 122 finished with value: -0.007975583357740177 and parameters: {'sequence_length': 26, 'lstm_units_1': 250, 'lstm_units_2': 118, 'lstm_units_3': 42, 'dropout_rate_1': 0.2333480764737437, 'dropout_rate_2': 0.016900926992281396, 'dropout_rate_dense': 0.014135607316264459, 'learning_rate': 0.01039086493125733, 'batch_size': 48, 'dense_units': 125, 'optimizer': 'adam', 'activation': 'elu', 'recurrent_activation': 'tanh', 'use_batch_norm': False, 'regularizer': 'l2', 'regularizer_strength': 0.019941820936602083, 'cell_type': 'LSTM', 'bidirectional': True}. Best is trial 95 with value: -0.007974577651995184.\n",
      "Using 27 features: ['high_close_ratio', 'low_close_ratio', 'open_close_ratio', 'returns_1d', 'returns_3d', 'returns_7d', 'price_ma_5_ratio', 'price_ma_10_ratio', 'price_ma_20_ratio', 'macd_normalized', 'macd_signal_normalized', 'rsi_normalized', 'bb_position', 'bb_width', 'volatility_10', 'volatility_20', 'volume_avg_ratio', 'volume_change', 'vader_ma_3', 'vader_ma_7', 'article_count_norm', 'funding_rate', 'funding_rate_ma', 'momentum_5', 'momentum_10', 'day_sin', 'day_cos']\n",
      "Training sequences: 713\n",
      "Validation sequences: 101\n",
      "Test sequences: 205\n",
      "Features per timestep: 27\n",
      "Last date in dataset: 2025-05-06 00:00:00\n"
     ]
    },
    {
     "name": "stderr",
     "output_type": "stream",
     "text": [
      "Best trial: 95. Best value: -0.00797458:  83%|████████▎ | 124/150 [1:58:38<11:52, 27.39s/it]"
     ]
    },
    {
     "name": "stdout",
     "output_type": "stream",
     "text": [
      "[I 2025-07-08 14:03:33,229] Trial 123 finished with value: -0.007975275677059825 and parameters: {'sequence_length': 26, 'lstm_units_1': 248, 'lstm_units_2': 120, 'lstm_units_3': 42, 'dropout_rate_1': 0.2831529024448508, 'dropout_rate_2': 0.00599480004062318, 'dropout_rate_dense': 0.0019606794891826734, 'learning_rate': 0.009236928278210073, 'batch_size': 48, 'dense_units': 125, 'optimizer': 'adam', 'activation': 'elu', 'recurrent_activation': 'tanh', 'use_batch_norm': False, 'regularizer': 'l2', 'regularizer_strength': 0.020211446132499453, 'cell_type': 'LSTM', 'bidirectional': True}. Best is trial 95 with value: -0.007974577651995184.\n",
      "Using 27 features: ['high_close_ratio', 'low_close_ratio', 'open_close_ratio', 'returns_1d', 'returns_3d', 'returns_7d', 'price_ma_5_ratio', 'price_ma_10_ratio', 'price_ma_20_ratio', 'macd_normalized', 'macd_signal_normalized', 'rsi_normalized', 'bb_position', 'bb_width', 'volatility_10', 'volatility_20', 'volume_avg_ratio', 'volume_change', 'vader_ma_3', 'vader_ma_7', 'article_count_norm', 'funding_rate', 'funding_rate_ma', 'momentum_5', 'momentum_10', 'day_sin', 'day_cos']\n",
      "Training sequences: 714\n",
      "Validation sequences: 102\n",
      "Test sequences: 204\n",
      "Features per timestep: 27\n",
      "Last date in dataset: 2025-05-06 00:00:00\n"
     ]
    },
    {
     "name": "stderr",
     "output_type": "stream",
     "text": [
      "Best trial: 95. Best value: -0.00797458:  83%|████████▎ | 125/150 [1:59:05<11:16, 27.07s/it]"
     ]
    },
    {
     "name": "stdout",
     "output_type": "stream",
     "text": [
      "[I 2025-07-08 14:03:59,549] Trial 124 finished with value: -0.008004878560201207 and parameters: {'sequence_length': 25, 'lstm_units_1': 248, 'lstm_units_2': 119, 'lstm_units_3': 42, 'dropout_rate_1': 0.292460068793795, 'dropout_rate_2': 0.01735484722949402, 'dropout_rate_dense': 0.0013113406258496753, 'learning_rate': 0.006769758761250233, 'batch_size': 48, 'dense_units': 126, 'optimizer': 'adam', 'activation': 'elu', 'recurrent_activation': 'tanh', 'use_batch_norm': False, 'regularizer': 'l2', 'regularizer_strength': 0.007364364901350392, 'cell_type': 'LSTM', 'bidirectional': True}. Best is trial 95 with value: -0.007974577651995184.\n",
      "Using 27 features: ['high_close_ratio', 'low_close_ratio', 'open_close_ratio', 'returns_1d', 'returns_3d', 'returns_7d', 'price_ma_5_ratio', 'price_ma_10_ratio', 'price_ma_20_ratio', 'macd_normalized', 'macd_signal_normalized', 'rsi_normalized', 'bb_position', 'bb_width', 'volatility_10', 'volatility_20', 'volume_avg_ratio', 'volume_change', 'vader_ma_3', 'vader_ma_7', 'article_count_norm', 'funding_rate', 'funding_rate_ma', 'momentum_5', 'momentum_10', 'day_sin', 'day_cos']\n",
      "Training sequences: 714\n",
      "Validation sequences: 102\n",
      "Test sequences: 204\n",
      "Features per timestep: 27\n",
      "Last date in dataset: 2025-05-06 00:00:00\n"
     ]
    },
    {
     "name": "stderr",
     "output_type": "stream",
     "text": [
      "Best trial: 95. Best value: -0.00797458:  84%|████████▍ | 126/150 [1:59:34<11:05, 27.73s/it]"
     ]
    },
    {
     "name": "stdout",
     "output_type": "stream",
     "text": [
      "[I 2025-07-08 14:04:28,837] Trial 125 finished with value: -0.008006865935073137 and parameters: {'sequence_length': 25, 'lstm_units_1': 252, 'lstm_units_2': 119, 'lstm_units_3': 43, 'dropout_rate_1': 0.2954142280473155, 'dropout_rate_2': 0.013859444280272314, 'dropout_rate_dense': 0.0019126413803572718, 'learning_rate': 0.006045785846767595, 'batch_size': 48, 'dense_units': 125, 'optimizer': 'adam', 'activation': 'elu', 'recurrent_activation': 'tanh', 'use_batch_norm': False, 'regularizer': 'l2', 'regularizer_strength': 0.006783235174496778, 'cell_type': 'LSTM', 'bidirectional': True}. Best is trial 95 with value: -0.007974577651995184.\n",
      "Using 27 features: ['high_close_ratio', 'low_close_ratio', 'open_close_ratio', 'returns_1d', 'returns_3d', 'returns_7d', 'price_ma_5_ratio', 'price_ma_10_ratio', 'price_ma_20_ratio', 'macd_normalized', 'macd_signal_normalized', 'rsi_normalized', 'bb_position', 'bb_width', 'volatility_10', 'volatility_20', 'volume_avg_ratio', 'volume_change', 'vader_ma_3', 'vader_ma_7', 'article_count_norm', 'funding_rate', 'funding_rate_ma', 'momentum_5', 'momentum_10', 'day_sin', 'day_cos']\n",
      "Training sequences: 713\n",
      "Validation sequences: 101\n",
      "Test sequences: 205\n",
      "Features per timestep: 27\n",
      "Last date in dataset: 2025-05-06 00:00:00\n"
     ]
    },
    {
     "name": "stderr",
     "output_type": "stream",
     "text": [
      "Best trial: 95. Best value: -0.00797458:  85%|████████▍ | 127/150 [2:00:00<10:26, 27.23s/it]"
     ]
    },
    {
     "name": "stdout",
     "output_type": "stream",
     "text": [
      "[I 2025-07-08 14:04:54,903] Trial 126 finished with value: -0.007977911452574872 and parameters: {'sequence_length': 26, 'lstm_units_1': 237, 'lstm_units_2': 117, 'lstm_units_3': 45, 'dropout_rate_1': 0.27972380730634494, 'dropout_rate_2': 0.0009387623896457316, 'dropout_rate_dense': 0.021377088041574798, 'learning_rate': 0.008152367727262555, 'batch_size': 48, 'dense_units': 111, 'optimizer': 'adam', 'activation': 'elu', 'recurrent_activation': 'tanh', 'use_batch_norm': False, 'regularizer': 'l2', 'regularizer_strength': 0.020245167974601682, 'cell_type': 'LSTM', 'bidirectional': True}. Best is trial 95 with value: -0.007974577651995184.\n",
      "Using 27 features: ['high_close_ratio', 'low_close_ratio', 'open_close_ratio', 'returns_1d', 'returns_3d', 'returns_7d', 'price_ma_5_ratio', 'price_ma_10_ratio', 'price_ma_20_ratio', 'macd_normalized', 'macd_signal_normalized', 'rsi_normalized', 'bb_position', 'bb_width', 'volatility_10', 'volatility_20', 'volume_avg_ratio', 'volume_change', 'vader_ma_3', 'vader_ma_7', 'article_count_norm', 'funding_rate', 'funding_rate_ma', 'momentum_5', 'momentum_10', 'day_sin', 'day_cos']\n",
      "Training sequences: 717\n",
      "Validation sequences: 102\n",
      "Test sequences: 206\n",
      "Features per timestep: 27\n",
      "Last date in dataset: 2025-05-06 00:00:00\n"
     ]
    },
    {
     "name": "stderr",
     "output_type": "stream",
     "text": [
      "Best trial: 95. Best value: -0.00797458:  85%|████████▌ | 128/150 [2:00:54<12:58, 35.41s/it]"
     ]
    },
    {
     "name": "stdout",
     "output_type": "stream",
     "text": [
      "[I 2025-07-08 14:05:49,378] Trial 127 finished with value: -0.008117963201048487 and parameters: {'sequence_length': 20, 'lstm_units_1': 239, 'lstm_units_2': 116, 'lstm_units_3': 47, 'dropout_rate_1': 0.31569299608266926, 'dropout_rate_2': 0.0031075672238336845, 'dropout_rate_dense': 0.019864797724788972, 'learning_rate': 0.010272023806283326, 'batch_size': 48, 'dense_units': 126, 'optimizer': 'adam', 'activation': 'elu', 'recurrent_activation': 'tanh', 'use_batch_norm': False, 'regularizer': 'l2', 'regularizer_strength': 0.019611916690231043, 'cell_type': 'LSTM', 'bidirectional': True}. Best is trial 95 with value: -0.007974577651995184.\n",
      "Using 27 features: ['high_close_ratio', 'low_close_ratio', 'open_close_ratio', 'returns_1d', 'returns_3d', 'returns_7d', 'price_ma_5_ratio', 'price_ma_10_ratio', 'price_ma_20_ratio', 'macd_normalized', 'macd_signal_normalized', 'rsi_normalized', 'bb_position', 'bb_width', 'volatility_10', 'volatility_20', 'volume_avg_ratio', 'volume_change', 'vader_ma_3', 'vader_ma_7', 'article_count_norm', 'funding_rate', 'funding_rate_ma', 'momentum_5', 'momentum_10', 'day_sin', 'day_cos']\n",
      "Training sequences: 712\n",
      "Validation sequences: 101\n",
      "Test sequences: 205\n",
      "Features per timestep: 27\n",
      "Last date in dataset: 2025-05-06 00:00:00\n"
     ]
    },
    {
     "name": "stderr",
     "output_type": "stream",
     "text": [
      "Best trial: 95. Best value: -0.00797458:  86%|████████▌ | 129/150 [2:01:20<11:22, 32.49s/it]"
     ]
    },
    {
     "name": "stdout",
     "output_type": "stream",
     "text": [
      "[I 2025-07-08 14:06:15,050] Trial 128 finished with value: -0.007974578153938677 and parameters: {'sequence_length': 27, 'lstm_units_1': 249, 'lstm_units_2': 111, 'lstm_units_3': 42, 'dropout_rate_1': 0.2643659463410898, 'dropout_rate_2': 0.021049649418984014, 'dropout_rate_dense': 0.016794029505023025, 'learning_rate': 0.008002893474229096, 'batch_size': 48, 'dense_units': 111, 'optimizer': 'adam', 'activation': 'tanh', 'recurrent_activation': 'tanh', 'use_batch_norm': False, 'regularizer': 'l2', 'regularizer_strength': 0.020808610736791622, 'cell_type': 'LSTM', 'bidirectional': True}. Best is trial 95 with value: -0.007974577651995184.\n",
      "Using 27 features: ['high_close_ratio', 'low_close_ratio', 'open_close_ratio', 'returns_1d', 'returns_3d', 'returns_7d', 'price_ma_5_ratio', 'price_ma_10_ratio', 'price_ma_20_ratio', 'macd_normalized', 'macd_signal_normalized', 'rsi_normalized', 'bb_position', 'bb_width', 'volatility_10', 'volatility_20', 'volume_avg_ratio', 'volume_change', 'vader_ma_3', 'vader_ma_7', 'article_count_norm', 'funding_rate', 'funding_rate_ma', 'momentum_5', 'momentum_10', 'day_sin', 'day_cos']\n",
      "Training sequences: 716\n",
      "Validation sequences: 102\n",
      "Test sequences: 205\n",
      "Features per timestep: 27\n",
      "Last date in dataset: 2025-05-06 00:00:00\n"
     ]
    },
    {
     "name": "stderr",
     "output_type": "stream",
     "text": [
      "Best trial: 95. Best value: -0.00797458:  87%|████████▋ | 130/150 [2:01:43<09:54, 29.75s/it]"
     ]
    },
    {
     "name": "stdout",
     "output_type": "stream",
     "text": [
      "[I 2025-07-08 14:06:38,409] Trial 129 finished with value: -0.008015497859734247 and parameters: {'sequence_length': 22, 'lstm_units_1': 232, 'lstm_units_2': 112, 'lstm_units_3': 46, 'dropout_rate_1': 0.2795217979081794, 'dropout_rate_2': 0.0010157267482339685, 'dropout_rate_dense': 0.023354927599679567, 'learning_rate': 0.0039231752903797126, 'batch_size': 48, 'dense_units': 112, 'optimizer': 'adam', 'activation': 'tanh', 'recurrent_activation': 'tanh', 'use_batch_norm': False, 'regularizer': 'l2', 'regularizer_strength': 0.0266710516323614, 'cell_type': 'LSTM', 'bidirectional': True}. Best is trial 95 with value: -0.007974577651995184.\n",
      "Using 27 features: ['high_close_ratio', 'low_close_ratio', 'open_close_ratio', 'returns_1d', 'returns_3d', 'returns_7d', 'price_ma_5_ratio', 'price_ma_10_ratio', 'price_ma_20_ratio', 'macd_normalized', 'macd_signal_normalized', 'rsi_normalized', 'bb_position', 'bb_width', 'volatility_10', 'volatility_20', 'volume_avg_ratio', 'volume_change', 'vader_ma_3', 'vader_ma_7', 'article_count_norm', 'funding_rate', 'funding_rate_ma', 'momentum_5', 'momentum_10', 'day_sin', 'day_cos']\n",
      "Training sequences: 707\n",
      "Validation sequences: 101\n",
      "Test sequences: 202\n",
      "Features per timestep: 27\n",
      "Last date in dataset: 2025-05-06 00:00:00\n"
     ]
    },
    {
     "name": "stderr",
     "output_type": "stream",
     "text": [
      "Best trial: 95. Best value: -0.00797458:  87%|████████▋ | 131/150 [2:02:19<09:55, 31.33s/it]"
     ]
    },
    {
     "name": "stdout",
     "output_type": "stream",
     "text": [
      "[I 2025-07-08 14:07:13,440] Trial 130 finished with value: -0.00818219251578975 and parameters: {'sequence_length': 35, 'lstm_units_1': 242, 'lstm_units_2': 110, 'lstm_units_3': 41, 'dropout_rate_1': 0.25705615249183206, 'dropout_rate_2': 0.022584579953241608, 'dropout_rate_dense': 0.011738487361682091, 'learning_rate': 0.008534990376016375, 'batch_size': 24, 'dense_units': 110, 'optimizer': 'adam', 'activation': 'tanh', 'recurrent_activation': 'tanh', 'use_batch_norm': False, 'regularizer': 'l2', 'regularizer_strength': 0.020750224442746185, 'cell_type': 'LSTM', 'bidirectional': True}. Best is trial 95 with value: -0.007974577651995184.\n",
      "Using 27 features: ['high_close_ratio', 'low_close_ratio', 'open_close_ratio', 'returns_1d', 'returns_3d', 'returns_7d', 'price_ma_5_ratio', 'price_ma_10_ratio', 'price_ma_20_ratio', 'macd_normalized', 'macd_signal_normalized', 'rsi_normalized', 'bb_position', 'bb_width', 'volatility_10', 'volatility_20', 'volume_avg_ratio', 'volume_change', 'vader_ma_3', 'vader_ma_7', 'article_count_norm', 'funding_rate', 'funding_rate_ma', 'momentum_5', 'momentum_10', 'day_sin', 'day_cos']\n",
      "Training sequences: 716\n",
      "Validation sequences: 102\n",
      "Test sequences: 205\n",
      "Features per timestep: 27\n",
      "Last date in dataset: 2025-05-06 00:00:00\n"
     ]
    },
    {
     "name": "stderr",
     "output_type": "stream",
     "text": [
      "Best trial: 95. Best value: -0.00797458:  88%|████████▊ | 132/150 [2:02:46<09:03, 30.17s/it]"
     ]
    },
    {
     "name": "stdout",
     "output_type": "stream",
     "text": [
      "[I 2025-07-08 14:07:40,915] Trial 131 finished with value: -0.008024515446775713 and parameters: {'sequence_length': 22, 'lstm_units_1': 249, 'lstm_units_2': 107, 'lstm_units_3': 42, 'dropout_rate_1': 0.2769820321823263, 'dropout_rate_2': 0.037129849034369625, 'dropout_rate_dense': 0.0011970371130107377, 'learning_rate': 0.007110058350754278, 'batch_size': 48, 'dense_units': 105, 'optimizer': 'adam', 'activation': 'tanh', 'recurrent_activation': 'tanh', 'use_batch_norm': False, 'regularizer': 'l2', 'regularizer_strength': 0.017449671031087948, 'cell_type': 'LSTM', 'bidirectional': True}. Best is trial 95 with value: -0.007974577651995184.\n",
      "Using 27 features: ['high_close_ratio', 'low_close_ratio', 'open_close_ratio', 'returns_1d', 'returns_3d', 'returns_7d', 'price_ma_5_ratio', 'price_ma_10_ratio', 'price_ma_20_ratio', 'macd_normalized', 'macd_signal_normalized', 'rsi_normalized', 'bb_position', 'bb_width', 'volatility_10', 'volatility_20', 'volume_avg_ratio', 'volume_change', 'vader_ma_3', 'vader_ma_7', 'article_count_norm', 'funding_rate', 'funding_rate_ma', 'momentum_5', 'momentum_10', 'day_sin', 'day_cos']\n",
      "Training sequences: 713\n",
      "Validation sequences: 101\n",
      "Test sequences: 205\n",
      "Features per timestep: 27\n",
      "Last date in dataset: 2025-05-06 00:00:00\n"
     ]
    },
    {
     "name": "stderr",
     "output_type": "stream",
     "text": [
      "Best trial: 95. Best value: -0.00797458:  89%|████████▊ | 133/150 [2:03:21<09:00, 31.77s/it]"
     ]
    },
    {
     "name": "stdout",
     "output_type": "stream",
     "text": [
      "[I 2025-07-08 14:08:16,402] Trial 132 finished with value: -0.008018528285589766 and parameters: {'sequence_length': 26, 'lstm_units_1': 253, 'lstm_units_2': 116, 'lstm_units_3': 44, 'dropout_rate_1': 0.23737308126913148, 'dropout_rate_2': 0.017625556795761416, 'dropout_rate_dense': 0.028446231721492875, 'learning_rate': 0.0044942952666323045, 'batch_size': 48, 'dense_units': 116, 'optimizer': 'adam', 'activation': 'tanh', 'recurrent_activation': 'tanh', 'use_batch_norm': False, 'regularizer': 'l2', 'regularizer_strength': 0.023122940800532097, 'cell_type': 'LSTM', 'bidirectional': True}. Best is trial 95 with value: -0.007974577651995184.\n",
      "Using 27 features: ['high_close_ratio', 'low_close_ratio', 'open_close_ratio', 'returns_1d', 'returns_3d', 'returns_7d', 'price_ma_5_ratio', 'price_ma_10_ratio', 'price_ma_20_ratio', 'macd_normalized', 'macd_signal_normalized', 'rsi_normalized', 'bb_position', 'bb_width', 'volatility_10', 'volatility_20', 'volume_avg_ratio', 'volume_change', 'vader_ma_3', 'vader_ma_7', 'article_count_norm', 'funding_rate', 'funding_rate_ma', 'momentum_5', 'momentum_10', 'day_sin', 'day_cos']\n",
      "Training sequences: 709\n",
      "Validation sequences: 101\n",
      "Test sequences: 203\n",
      "Features per timestep: 27\n",
      "Last date in dataset: 2025-05-06 00:00:00\n"
     ]
    },
    {
     "name": "stderr",
     "output_type": "stream",
     "text": [
      "Best trial: 95. Best value: -0.00797458:  89%|████████▉ | 134/150 [2:04:43<12:25, 46.60s/it]"
     ]
    },
    {
     "name": "stdout",
     "output_type": "stream",
     "text": [
      "[I 2025-07-08 14:09:37,611] Trial 133 finished with value: -0.008089403691736611 and parameters: {'sequence_length': 32, 'lstm_units_1': 238, 'lstm_units_2': 119, 'lstm_units_3': 42, 'dropout_rate_1': 0.27103710791618074, 'dropout_rate_2': 0.00011634497576840791, 'dropout_rate_dense': 0.008503287486530536, 'learning_rate': 0.0032337247840176766, 'batch_size': 48, 'dense_units': 113, 'optimizer': 'adam', 'activation': 'elu', 'recurrent_activation': 'tanh', 'use_batch_norm': False, 'regularizer': 'l2', 'regularizer_strength': 0.02070561140011065, 'cell_type': 'LSTM', 'bidirectional': True}. Best is trial 95 with value: -0.007974577651995184.\n",
      "Using 27 features: ['high_close_ratio', 'low_close_ratio', 'open_close_ratio', 'returns_1d', 'returns_3d', 'returns_7d', 'price_ma_5_ratio', 'price_ma_10_ratio', 'price_ma_20_ratio', 'macd_normalized', 'macd_signal_normalized', 'rsi_normalized', 'bb_position', 'bb_width', 'volatility_10', 'volatility_20', 'volume_avg_ratio', 'volume_change', 'vader_ma_3', 'vader_ma_7', 'article_count_norm', 'funding_rate', 'funding_rate_ma', 'momentum_5', 'momentum_10', 'day_sin', 'day_cos']\n",
      "Training sequences: 712\n",
      "Validation sequences: 101\n",
      "Test sequences: 205\n",
      "Features per timestep: 27\n",
      "Last date in dataset: 2025-05-06 00:00:00\n"
     ]
    },
    {
     "name": "stderr",
     "output_type": "stream",
     "text": [
      "Best trial: 95. Best value: -0.00797458:  90%|█████████ | 135/150 [2:05:11<10:14, 40.97s/it]"
     ]
    },
    {
     "name": "stdout",
     "output_type": "stream",
     "text": [
      "[I 2025-07-08 14:10:05,460] Trial 134 finished with value: -0.007985374304621004 and parameters: {'sequence_length': 27, 'lstm_units_1': 247, 'lstm_units_2': 115, 'lstm_units_3': 44, 'dropout_rate_1': 0.2303129137291043, 'dropout_rate_2': 0.010785204858885974, 'dropout_rate_dense': 0.032695887024527144, 'learning_rate': 0.009036959171469901, 'batch_size': 48, 'dense_units': 51, 'optimizer': 'adam', 'activation': 'tanh', 'recurrent_activation': 'tanh', 'use_batch_norm': False, 'regularizer': 'l2', 'regularizer_strength': 0.026102030931799955, 'cell_type': 'LSTM', 'bidirectional': True}. Best is trial 95 with value: -0.007974577651995184.\n",
      "Using 27 features: ['high_close_ratio', 'low_close_ratio', 'open_close_ratio', 'returns_1d', 'returns_3d', 'returns_7d', 'price_ma_5_ratio', 'price_ma_10_ratio', 'price_ma_20_ratio', 'macd_normalized', 'macd_signal_normalized', 'rsi_normalized', 'bb_position', 'bb_width', 'volatility_10', 'volatility_20', 'volume_avg_ratio', 'volume_change', 'vader_ma_3', 'vader_ma_7', 'article_count_norm', 'funding_rate', 'funding_rate_ma', 'momentum_5', 'momentum_10', 'day_sin', 'day_cos']\n",
      "Training sequences: 708\n",
      "Validation sequences: 101\n",
      "Test sequences: 203\n",
      "Features per timestep: 27\n",
      "Last date in dataset: 2025-05-06 00:00:00\n"
     ]
    },
    {
     "name": "stderr",
     "output_type": "stream",
     "text": [
      "Best trial: 95. Best value: -0.00797458:  91%|█████████ | 136/150 [2:05:52<09:34, 41.07s/it]"
     ]
    },
    {
     "name": "stdout",
     "output_type": "stream",
     "text": [
      "[I 2025-07-08 14:10:46,748] Trial 135 finished with value: -0.008090003365434988 and parameters: {'sequence_length': 33, 'lstm_units_1': 256, 'lstm_units_2': 123, 'lstm_units_3': 50, 'dropout_rate_1': 0.227934704204816, 'dropout_rate_2': 0.025168813358428455, 'dropout_rate_dense': 0.033421306315436494, 'learning_rate': 0.009267301234008029, 'batch_size': 48, 'dense_units': 52, 'optimizer': 'adam', 'activation': 'tanh', 'recurrent_activation': 'tanh', 'use_batch_norm': False, 'regularizer': 'l2', 'regularizer_strength': 0.025024884644136366, 'cell_type': 'LSTM', 'bidirectional': True}. Best is trial 95 with value: -0.007974577651995184.\n",
      "Using 27 features: ['high_close_ratio', 'low_close_ratio', 'open_close_ratio', 'returns_1d', 'returns_3d', 'returns_7d', 'price_ma_5_ratio', 'price_ma_10_ratio', 'price_ma_20_ratio', 'macd_normalized', 'macd_signal_normalized', 'rsi_normalized', 'bb_position', 'bb_width', 'volatility_10', 'volatility_20', 'volume_avg_ratio', 'volume_change', 'vader_ma_3', 'vader_ma_7', 'article_count_norm', 'funding_rate', 'funding_rate_ma', 'momentum_5', 'momentum_10', 'day_sin', 'day_cos']\n",
      "Training sequences: 712\n",
      "Validation sequences: 101\n",
      "Test sequences: 205\n",
      "Features per timestep: 27\n",
      "Last date in dataset: 2025-05-06 00:00:00\n"
     ]
    },
    {
     "name": "stderr",
     "output_type": "stream",
     "text": [
      "Best trial: 95. Best value: -0.00797458:  91%|█████████▏| 137/150 [2:06:48<09:51, 45.47s/it]"
     ]
    },
    {
     "name": "stdout",
     "output_type": "stream",
     "text": [
      "[I 2025-07-08 14:11:42,486] Trial 136 finished with value: -0.00801782067606878 and parameters: {'sequence_length': 27, 'lstm_units_1': 244, 'lstm_units_2': 100, 'lstm_units_3': 45, 'dropout_rate_1': 0.24753361958741663, 'dropout_rate_2': 0.011169611756951659, 'dropout_rate_dense': 0.012496904508781475, 'learning_rate': 0.0129494562983837, 'batch_size': 128, 'dense_units': 40, 'optimizer': 'rmsprop', 'activation': 'tanh', 'recurrent_activation': 'tanh', 'use_batch_norm': False, 'regularizer': 'l1', 'regularizer_strength': 0.016363376492929866, 'cell_type': 'LSTM', 'bidirectional': True}. Best is trial 95 with value: -0.007974577651995184.\n",
      "Using 27 features: ['high_close_ratio', 'low_close_ratio', 'open_close_ratio', 'returns_1d', 'returns_3d', 'returns_7d', 'price_ma_5_ratio', 'price_ma_10_ratio', 'price_ma_20_ratio', 'macd_normalized', 'macd_signal_normalized', 'rsi_normalized', 'bb_position', 'bb_width', 'volatility_10', 'volatility_20', 'volume_avg_ratio', 'volume_change', 'vader_ma_3', 'vader_ma_7', 'article_count_norm', 'funding_rate', 'funding_rate_ma', 'momentum_5', 'momentum_10', 'day_sin', 'day_cos']\n",
      "Training sequences: 718\n",
      "Validation sequences: 102\n",
      "Test sequences: 207\n",
      "Features per timestep: 27\n",
      "Last date in dataset: 2025-05-06 00:00:00\n"
     ]
    },
    {
     "name": "stderr",
     "output_type": "stream",
     "text": [
      "Best trial: 95. Best value: -0.00797458:  92%|█████████▏| 138/150 [2:08:15<11:37, 58.15s/it]"
     ]
    },
    {
     "name": "stdout",
     "output_type": "stream",
     "text": [
      "[I 2025-07-08 14:13:10,216] Trial 137 finished with value: -0.008068493744504522 and parameters: {'sequence_length': 18, 'lstm_units_1': 227, 'lstm_units_2': 109, 'lstm_units_3': 38, 'dropout_rate_1': 0.30948375343862256, 'dropout_rate_2': 0.03190050060023901, 'dropout_rate_dense': 0.04526656567034792, 'learning_rate': 0.010434711737917303, 'batch_size': 48, 'dense_units': 65, 'optimizer': 'adam', 'activation': 'tanh', 'recurrent_activation': 'tanh', 'use_batch_norm': False, 'regularizer': 'l2', 'regularizer_strength': 0.028723295643301786, 'cell_type': 'LSTM', 'bidirectional': True}. Best is trial 95 with value: -0.007974577651995184.\n",
      "Using 27 features: ['high_close_ratio', 'low_close_ratio', 'open_close_ratio', 'returns_1d', 'returns_3d', 'returns_7d', 'price_ma_5_ratio', 'price_ma_10_ratio', 'price_ma_20_ratio', 'macd_normalized', 'macd_signal_normalized', 'rsi_normalized', 'bb_position', 'bb_width', 'volatility_10', 'volatility_20', 'volume_avg_ratio', 'volume_change', 'vader_ma_3', 'vader_ma_7', 'article_count_norm', 'funding_rate', 'funding_rate_ma', 'momentum_5', 'momentum_10', 'day_sin', 'day_cos']\n",
      "Training sequences: 715\n",
      "Validation sequences: 102\n",
      "Test sequences: 205\n",
      "Features per timestep: 27\n",
      "Last date in dataset: 2025-05-06 00:00:00\n"
     ]
    },
    {
     "name": "stderr",
     "output_type": "stream",
     "text": [
      "Best trial: 95. Best value: -0.00797458:  93%|█████████▎| 139/150 [2:08:33<08:24, 45.87s/it]"
     ]
    },
    {
     "name": "stdout",
     "output_type": "stream",
     "text": [
      "[I 2025-07-08 14:13:27,439] Trial 138 finished with value: -0.008010242777172156 and parameters: {'sequence_length': 23, 'lstm_units_1': 234, 'lstm_units_2': 121, 'lstm_units_3': 44, 'dropout_rate_1': 0.25941454898895266, 'dropout_rate_2': 0.04005694473046095, 'dropout_rate_dense': 0.026378786158444224, 'learning_rate': 0.008434511813636534, 'batch_size': 48, 'dense_units': 54, 'optimizer': 'adam', 'activation': 'tanh', 'recurrent_activation': 'hard_sigmoid', 'use_batch_norm': False, 'regularizer': 'l2', 'regularizer_strength': 0.01872567594740147, 'cell_type': 'LSTM', 'bidirectional': False}. Best is trial 95 with value: -0.007974577651995184.\n",
      "Using 27 features: ['high_close_ratio', 'low_close_ratio', 'open_close_ratio', 'returns_1d', 'returns_3d', 'returns_7d', 'price_ma_5_ratio', 'price_ma_10_ratio', 'price_ma_20_ratio', 'macd_normalized', 'macd_signal_normalized', 'rsi_normalized', 'bb_position', 'bb_width', 'volatility_10', 'volatility_20', 'volume_avg_ratio', 'volume_change', 'vader_ma_3', 'vader_ma_7', 'article_count_norm', 'funding_rate', 'funding_rate_ma', 'momentum_5', 'momentum_10', 'day_sin', 'day_cos']\n",
      "Training sequences: 671\n",
      "Validation sequences: 95\n",
      "Test sequences: 193\n",
      "Features per timestep: 27\n",
      "Last date in dataset: 2025-05-06 00:00:00\n"
     ]
    },
    {
     "name": "stderr",
     "output_type": "stream",
     "text": [
      "Best trial: 95. Best value: -0.00797458:  93%|█████████▎| 140/150 [2:09:24<07:55, 47.60s/it]"
     ]
    },
    {
     "name": "stdout",
     "output_type": "stream",
     "text": [
      "[I 2025-07-08 14:14:19,063] Trial 139 finished with value: -0.010098490068482471 and parameters: {'sequence_length': 86, 'lstm_units_1': 242, 'lstm_units_2': 115, 'lstm_units_3': 48, 'dropout_rate_1': 0.283325840014279, 'dropout_rate_2': 0.009377606953272919, 'dropout_rate_dense': 0.015170431154472355, 'learning_rate': 0.00580251840531695, 'batch_size': 96, 'dense_units': 50, 'optimizer': 'adam', 'activation': 'tanh', 'recurrent_activation': 'sigmoid', 'use_batch_norm': False, 'regularizer': None, 'regularizer_strength': 0.020214373830975938, 'cell_type': 'LSTM', 'bidirectional': True}. Best is trial 95 with value: -0.007974577651995184.\n",
      "Using 27 features: ['high_close_ratio', 'low_close_ratio', 'open_close_ratio', 'returns_1d', 'returns_3d', 'returns_7d', 'price_ma_5_ratio', 'price_ma_10_ratio', 'price_ma_20_ratio', 'macd_normalized', 'macd_signal_normalized', 'rsi_normalized', 'bb_position', 'bb_width', 'volatility_10', 'volatility_20', 'volume_avg_ratio', 'volume_change', 'vader_ma_3', 'vader_ma_7', 'article_count_norm', 'funding_rate', 'funding_rate_ma', 'momentum_5', 'momentum_10', 'day_sin', 'day_cos']\n",
      "Training sequences: 712\n",
      "Validation sequences: 101\n",
      "Test sequences: 205\n",
      "Features per timestep: 27\n",
      "Last date in dataset: 2025-05-06 00:00:00\n"
     ]
    },
    {
     "name": "stderr",
     "output_type": "stream",
     "text": [
      "Best trial: 95. Best value: -0.00797458:  94%|█████████▍| 141/150 [2:10:09<07:01, 46.81s/it]"
     ]
    },
    {
     "name": "stdout",
     "output_type": "stream",
     "text": [
      "[I 2025-07-08 14:15:04,053] Trial 140 finished with value: -0.007974601090533422 and parameters: {'sequence_length': 27, 'lstm_units_1': 250, 'lstm_units_2': 105, 'lstm_units_3': 39, 'dropout_rate_1': 0.24071505275522606, 'dropout_rate_2': 0.021309246347402732, 'dropout_rate_dense': 0.034343912345223916, 'learning_rate': 0.014348081355763317, 'batch_size': 8, 'dense_units': 71, 'optimizer': 'adam', 'activation': 'selu', 'recurrent_activation': 'tanh', 'use_batch_norm': False, 'regularizer': 'l2', 'regularizer_strength': 0.03217232681400403, 'cell_type': 'LSTM', 'bidirectional': True}. Best is trial 95 with value: -0.007974577651995184.\n",
      "Using 27 features: ['high_close_ratio', 'low_close_ratio', 'open_close_ratio', 'returns_1d', 'returns_3d', 'returns_7d', 'price_ma_5_ratio', 'price_ma_10_ratio', 'price_ma_20_ratio', 'macd_normalized', 'macd_signal_normalized', 'rsi_normalized', 'bb_position', 'bb_width', 'volatility_10', 'volatility_20', 'volume_avg_ratio', 'volume_change', 'vader_ma_3', 'vader_ma_7', 'article_count_norm', 'funding_rate', 'funding_rate_ma', 'momentum_5', 'momentum_10', 'day_sin', 'day_cos']\n",
      "Training sequences: 712\n",
      "Validation sequences: 101\n",
      "Test sequences: 205\n",
      "Features per timestep: 27\n",
      "Last date in dataset: 2025-05-06 00:00:00\n"
     ]
    },
    {
     "name": "stderr",
     "output_type": "stream",
     "text": [
      "Best trial: 95. Best value: -0.00797458:  95%|█████████▍| 142/150 [2:11:14<06:57, 52.15s/it]"
     ]
    },
    {
     "name": "stdout",
     "output_type": "stream",
     "text": [
      "[I 2025-07-08 14:16:08,640] Trial 141 finished with value: -0.007977366374032704 and parameters: {'sequence_length': 27, 'lstm_units_1': 252, 'lstm_units_2': 104, 'lstm_units_3': 39, 'dropout_rate_1': 0.2380527821486302, 'dropout_rate_2': 9.571000768397904e-05, 'dropout_rate_dense': 0.0339979803224669, 'learning_rate': 0.01233455615673635, 'batch_size': 8, 'dense_units': 78, 'optimizer': 'adam', 'activation': 'selu', 'recurrent_activation': 'tanh', 'use_batch_norm': False, 'regularizer': 'l2', 'regularizer_strength': 0.025778110815185287, 'cell_type': 'LSTM', 'bidirectional': True}. Best is trial 95 with value: -0.007974577651995184.\n",
      "Using 27 features: ['high_close_ratio', 'low_close_ratio', 'open_close_ratio', 'returns_1d', 'returns_3d', 'returns_7d', 'price_ma_5_ratio', 'price_ma_10_ratio', 'price_ma_20_ratio', 'macd_normalized', 'macd_signal_normalized', 'rsi_normalized', 'bb_position', 'bb_width', 'volatility_10', 'volatility_20', 'volume_avg_ratio', 'volume_change', 'vader_ma_3', 'vader_ma_7', 'article_count_norm', 'funding_rate', 'funding_rate_ma', 'momentum_5', 'momentum_10', 'day_sin', 'day_cos']\n",
      "Training sequences: 683\n",
      "Validation sequences: 97\n",
      "Test sequences: 196\n",
      "Features per timestep: 27\n",
      "Last date in dataset: 2025-05-06 00:00:00\n"
     ]
    },
    {
     "name": "stderr",
     "output_type": "stream",
     "text": [
      "Best trial: 95. Best value: -0.00797458:  95%|█████████▌| 143/150 [2:12:43<07:24, 63.43s/it]"
     ]
    },
    {
     "name": "stdout",
     "output_type": "stream",
     "text": [
      "[I 2025-07-08 14:17:38,412] Trial 142 finished with value: -0.008372020411689393 and parameters: {'sequence_length': 69, 'lstm_units_1': 249, 'lstm_units_2': 105, 'lstm_units_3': 39, 'dropout_rate_1': 0.23849627914126684, 'dropout_rate_2': 0.021288592098486596, 'dropout_rate_dense': 0.03379102292230508, 'learning_rate': 0.013781680701489385, 'batch_size': 8, 'dense_units': 80, 'optimizer': 'adam', 'activation': 'selu', 'recurrent_activation': 'tanh', 'use_batch_norm': False, 'regularizer': 'l2', 'regularizer_strength': 0.02709822335379765, 'cell_type': 'LSTM', 'bidirectional': True}. Best is trial 95 with value: -0.007974577651995184.\n",
      "Using 27 features: ['high_close_ratio', 'low_close_ratio', 'open_close_ratio', 'returns_1d', 'returns_3d', 'returns_7d', 'price_ma_5_ratio', 'price_ma_10_ratio', 'price_ma_20_ratio', 'macd_normalized', 'macd_signal_normalized', 'rsi_normalized', 'bb_position', 'bb_width', 'volatility_10', 'volatility_20', 'volume_avg_ratio', 'volume_change', 'vader_ma_3', 'vader_ma_7', 'article_count_norm', 'funding_rate', 'funding_rate_ma', 'momentum_5', 'momentum_10', 'day_sin', 'day_cos']\n",
      "Training sequences: 712\n",
      "Validation sequences: 101\n",
      "Test sequences: 205\n",
      "Features per timestep: 27\n",
      "Last date in dataset: 2025-05-06 00:00:00\n"
     ]
    },
    {
     "name": "stderr",
     "output_type": "stream",
     "text": [
      "Best trial: 95. Best value: -0.00797458:  96%|█████████▌| 144/150 [2:13:47<06:20, 63.40s/it]"
     ]
    },
    {
     "name": "stdout",
     "output_type": "stream",
     "text": [
      "[I 2025-07-08 14:18:41,730] Trial 143 finished with value: -0.007975326879510917 and parameters: {'sequence_length': 27, 'lstm_units_1': 252, 'lstm_units_2': 117, 'lstm_units_3': 37, 'dropout_rate_1': 0.20804064550678414, 'dropout_rate_2': 0.009188817460221666, 'dropout_rate_dense': 0.04834454487641995, 'learning_rate': 0.011462039158453886, 'batch_size': 8, 'dense_units': 73, 'optimizer': 'adam', 'activation': 'selu', 'recurrent_activation': 'tanh', 'use_batch_norm': False, 'regularizer': 'l2', 'regularizer_strength': 0.022405165272534933, 'cell_type': 'LSTM', 'bidirectional': True}. Best is trial 95 with value: -0.007974577651995184.\n",
      "Using 27 features: ['high_close_ratio', 'low_close_ratio', 'open_close_ratio', 'returns_1d', 'returns_3d', 'returns_7d', 'price_ma_5_ratio', 'price_ma_10_ratio', 'price_ma_20_ratio', 'macd_normalized', 'macd_signal_normalized', 'rsi_normalized', 'bb_position', 'bb_width', 'volatility_10', 'volatility_20', 'volume_avg_ratio', 'volume_change', 'vader_ma_3', 'vader_ma_7', 'article_count_norm', 'funding_rate', 'funding_rate_ma', 'momentum_5', 'momentum_10', 'day_sin', 'day_cos']\n",
      "Training sequences: 716\n",
      "Validation sequences: 102\n",
      "Test sequences: 206\n",
      "Features per timestep: 27\n",
      "Last date in dataset: 2025-05-06 00:00:00\n"
     ]
    },
    {
     "name": "stderr",
     "output_type": "stream",
     "text": [
      "Best trial: 95. Best value: -0.00797458:  97%|█████████▋| 145/150 [2:14:30<04:46, 57.33s/it]"
     ]
    },
    {
     "name": "stdout",
     "output_type": "stream",
     "text": [
      "[I 2025-07-08 14:19:24,903] Trial 144 finished with value: -0.00812317679924445 and parameters: {'sequence_length': 21, 'lstm_units_1': 252, 'lstm_units_2': 117, 'lstm_units_3': 37, 'dropout_rate_1': 0.2648970033215812, 'dropout_rate_2': 0.000977930250820963, 'dropout_rate_dense': 0.04484647212311986, 'learning_rate': 0.011004590653411766, 'batch_size': 8, 'dense_units': 75, 'optimizer': 'adam', 'activation': 'selu', 'recurrent_activation': 'tanh', 'use_batch_norm': False, 'regularizer': 'l2', 'regularizer_strength': 0.031722999400004746, 'cell_type': 'LSTM', 'bidirectional': True}. Best is trial 95 with value: -0.007974577651995184.\n",
      "Using 27 features: ['high_close_ratio', 'low_close_ratio', 'open_close_ratio', 'returns_1d', 'returns_3d', 'returns_7d', 'price_ma_5_ratio', 'price_ma_10_ratio', 'price_ma_20_ratio', 'macd_normalized', 'macd_signal_normalized', 'rsi_normalized', 'bb_position', 'bb_width', 'volatility_10', 'volatility_20', 'volume_avg_ratio', 'volume_change', 'vader_ma_3', 'vader_ma_7', 'article_count_norm', 'funding_rate', 'funding_rate_ma', 'momentum_5', 'momentum_10', 'day_sin', 'day_cos']\n",
      "Training sequences: 709\n",
      "Validation sequences: 101\n",
      "Test sequences: 204\n",
      "Features per timestep: 27\n",
      "Last date in dataset: 2025-05-06 00:00:00\n"
     ]
    },
    {
     "name": "stderr",
     "output_type": "stream",
     "text": [
      "Best trial: 95. Best value: -0.00797458:  97%|█████████▋| 146/150 [2:15:51<04:17, 64.45s/it]"
     ]
    },
    {
     "name": "stdout",
     "output_type": "stream",
     "text": [
      "[I 2025-07-08 14:20:45,965] Trial 145 finished with value: -0.008010198829024 and parameters: {'sequence_length': 31, 'lstm_units_1': 256, 'lstm_units_2': 93, 'lstm_units_3': 35, 'dropout_rate_1': 0.2097031920851204, 'dropout_rate_2': 0.011622271794966806, 'dropout_rate_dense': 0.019427327982506785, 'learning_rate': 0.01590511727868412, 'batch_size': 8, 'dense_units': 69, 'optimizer': 'adam', 'activation': 'selu', 'recurrent_activation': 'tanh', 'use_batch_norm': False, 'regularizer': 'l2', 'regularizer_strength': 0.022988483529063602, 'cell_type': 'LSTM', 'bidirectional': True}. Best is trial 95 with value: -0.007974577651995184.\n",
      "Using 27 features: ['high_close_ratio', 'low_close_ratio', 'open_close_ratio', 'returns_1d', 'returns_3d', 'returns_7d', 'price_ma_5_ratio', 'price_ma_10_ratio', 'price_ma_20_ratio', 'macd_normalized', 'macd_signal_normalized', 'rsi_normalized', 'bb_position', 'bb_width', 'volatility_10', 'volatility_20', 'volume_avg_ratio', 'volume_change', 'vader_ma_3', 'vader_ma_7', 'article_count_norm', 'funding_rate', 'funding_rate_ma', 'momentum_5', 'momentum_10', 'day_sin', 'day_cos']\n",
      "Training sequences: 713\n",
      "Validation sequences: 101\n",
      "Test sequences: 205\n",
      "Features per timestep: 27\n",
      "Last date in dataset: 2025-05-06 00:00:00\n"
     ]
    },
    {
     "name": "stderr",
     "output_type": "stream",
     "text": [
      "Best trial: 95. Best value: -0.00797458:  98%|█████████▊| 147/150 [2:17:55<04:07, 82.40s/it]"
     ]
    },
    {
     "name": "stdout",
     "output_type": "stream",
     "text": [
      "[I 2025-07-08 14:22:50,249] Trial 146 finished with value: -0.007983195685434742 and parameters: {'sequence_length': 26, 'lstm_units_1': 245, 'lstm_units_2': 123, 'lstm_units_3': 41, 'dropout_rate_1': 0.23183109485520165, 'dropout_rate_2': 0.029296782002594467, 'dropout_rate_dense': 0.0569800224889496, 'learning_rate': 0.008967025284516154, 'batch_size': 8, 'dense_units': 70, 'optimizer': 'adam', 'activation': 'selu', 'recurrent_activation': 'tanh', 'use_batch_norm': False, 'regularizer': 'l2', 'regularizer_strength': 0.02565143686731511, 'cell_type': 'LSTM', 'bidirectional': True}. Best is trial 95 with value: -0.007974577651995184.\n",
      "Using 27 features: ['high_close_ratio', 'low_close_ratio', 'open_close_ratio', 'returns_1d', 'returns_3d', 'returns_7d', 'price_ma_5_ratio', 'price_ma_10_ratio', 'price_ma_20_ratio', 'macd_normalized', 'macd_signal_normalized', 'rsi_normalized', 'bb_position', 'bb_width', 'volatility_10', 'volatility_20', 'volume_avg_ratio', 'volume_change', 'vader_ma_3', 'vader_ma_7', 'article_count_norm', 'funding_rate', 'funding_rate_ma', 'momentum_5', 'momentum_10', 'day_sin', 'day_cos']\n",
      "Training sequences: 714\n",
      "Validation sequences: 102\n",
      "Test sequences: 204\n",
      "Features per timestep: 27\n",
      "Last date in dataset: 2025-05-06 00:00:00\n"
     ]
    },
    {
     "name": "stderr",
     "output_type": "stream",
     "text": [
      "Best trial: 95. Best value: -0.00797458:  99%|█████████▊| 148/150 [2:19:34<02:54, 87.28s/it]"
     ]
    },
    {
     "name": "stdout",
     "output_type": "stream",
     "text": [
      "[I 2025-07-08 14:24:28,929] Trial 147 finished with value: -0.00800564152396645 and parameters: {'sequence_length': 25, 'lstm_units_1': 246, 'lstm_units_2': 128, 'lstm_units_3': 43, 'dropout_rate_1': 0.22755380592117125, 'dropout_rate_2': 0.029273170338343472, 'dropout_rate_dense': 0.036359901959169064, 'learning_rate': 0.008199030713510413, 'batch_size': 8, 'dense_units': 79, 'optimizer': 'rmsprop', 'activation': 'selu', 'recurrent_activation': 'tanh', 'use_batch_norm': False, 'regularizer': 'l2', 'regularizer_strength': 0.0301067384613251, 'cell_type': 'LSTM', 'bidirectional': True}. Best is trial 95 with value: -0.007974577651995184.\n",
      "Using 27 features: ['high_close_ratio', 'low_close_ratio', 'open_close_ratio', 'returns_1d', 'returns_3d', 'returns_7d', 'price_ma_5_ratio', 'price_ma_10_ratio', 'price_ma_20_ratio', 'macd_normalized', 'macd_signal_normalized', 'rsi_normalized', 'bb_position', 'bb_width', 'volatility_10', 'volatility_20', 'volume_avg_ratio', 'volume_change', 'vader_ma_3', 'vader_ma_7', 'article_count_norm', 'funding_rate', 'funding_rate_ma', 'momentum_5', 'momentum_10', 'day_sin', 'day_cos']\n",
      "Training sequences: 715\n",
      "Validation sequences: 102\n",
      "Test sequences: 205\n",
      "Features per timestep: 27\n",
      "Last date in dataset: 2025-05-06 00:00:00\n"
     ]
    },
    {
     "name": "stderr",
     "output_type": "stream",
     "text": [
      "Best trial: 95. Best value: -0.00797458:  99%|█████████▉| 149/150 [2:20:23<01:15, 75.86s/it]"
     ]
    },
    {
     "name": "stdout",
     "output_type": "stream",
     "text": [
      "[I 2025-07-08 14:25:18,124] Trial 148 finished with value: -0.008005827317030803 and parameters: {'sequence_length': 23, 'lstm_units_1': 239, 'lstm_units_2': 122, 'lstm_units_3': 41, 'dropout_rate_1': 0.2509790723072898, 'dropout_rate_2': 0.04313494117549428, 'dropout_rate_dense': 0.057647591442487184, 'learning_rate': 0.006057931664249651, 'batch_size': 8, 'dense_units': 70, 'optimizer': 'adam', 'activation': 'selu', 'recurrent_activation': 'tanh', 'use_batch_norm': False, 'regularizer': 'l2', 'regularizer_strength': 0.024738398298983784, 'cell_type': 'LSTM', 'bidirectional': True}. Best is trial 95 with value: -0.007974577651995184.\n",
      "Using 27 features: ['high_close_ratio', 'low_close_ratio', 'open_close_ratio', 'returns_1d', 'returns_3d', 'returns_7d', 'price_ma_5_ratio', 'price_ma_10_ratio', 'price_ma_20_ratio', 'macd_normalized', 'macd_signal_normalized', 'rsi_normalized', 'bb_position', 'bb_width', 'volatility_10', 'volatility_20', 'volume_avg_ratio', 'volume_change', 'vader_ma_3', 'vader_ma_7', 'article_count_norm', 'funding_rate', 'funding_rate_ma', 'momentum_5', 'momentum_10', 'day_sin', 'day_cos']\n",
      "Training sequences: 722\n",
      "Validation sequences: 103\n",
      "Test sequences: 207\n",
      "Features per timestep: 27\n",
      "Last date in dataset: 2025-05-06 00:00:00\n"
     ]
    },
    {
     "name": "stderr",
     "output_type": "stream",
     "text": [
      "Best trial: 95. Best value: -0.00797458: 100%|██████████| 150/150 [2:22:22<00:00, 56.95s/it]\n"
     ]
    },
    {
     "name": "stdout",
     "output_type": "stream",
     "text": [
      "[I 2025-07-08 14:27:17,330] Trial 149 finished with value: -0.00808427106294186 and parameters: {'sequence_length': 13, 'lstm_units_1': 249, 'lstm_units_2': 124, 'lstm_units_3': 46, 'dropout_rate_1': 0.2357923327622996, 'dropout_rate_2': 0.008279231739032628, 'dropout_rate_dense': 0.006085485619973224, 'learning_rate': 0.005413791445434552, 'batch_size': 8, 'dense_units': 76, 'optimizer': 'adam', 'activation': 'selu', 'recurrent_activation': 'tanh', 'use_batch_norm': False, 'regularizer': 'l2', 'regularizer_strength': 0.026457882790429484, 'cell_type': 'LSTM', 'bidirectional': True}. Best is trial 95 with value: -0.007974577651995184.\n",
      "\n",
      "============================================================\n",
      "COMPREHENSIVE TUNING RESULTS - RETURN MODEL\n",
      "============================================================\n",
      "Total evaluations: 300\n",
      "Best score: -0.007947\n",
      "Best method: grid_search\n",
      "Best parameters:\n",
      "  batch_size: 16\n",
      "  dense_units: 8\n",
      "  dropout_rate: 0.1\n",
      "  learning_rate: 0.01\n",
      "  lstm_units_1: 64\n",
      "  lstm_units_2: 16\n",
      "  sequence_length: 30\n",
      "Best metrics: {'mse': 0.007947153529160693, 'mae': 0.06260370296555019, 'test_loss': 0.00794715341180563}\n",
      "============================================================\n",
      "PHASE 1: GRID SEARCH\n",
      "============================================================\n",
      "Starting Grid Search for direction model...\n",
      "Limited to 50 combinations\n",
      "Grid Search 1/50: {'batch_size': 16, 'dense_units': 8, 'dropout_rate': 0.1, 'learning_rate': 0.001, 'lstm_units_1': 32, 'lstm_units_2': 16, 'sequence_length': 15}\n",
      "Using 27 features: ['high_close_ratio', 'low_close_ratio', 'open_close_ratio', 'returns_1d', 'returns_3d', 'returns_7d', 'price_ma_5_ratio', 'price_ma_10_ratio', 'price_ma_20_ratio', 'macd_normalized', 'macd_signal_normalized', 'rsi_normalized', 'bb_position', 'bb_width', 'volatility_10', 'volatility_20', 'volume_avg_ratio', 'volume_change', 'vader_ma_3', 'vader_ma_7', 'article_count_norm', 'funding_rate', 'funding_rate_ma', 'momentum_5', 'momentum_10', 'day_sin', 'day_cos']\n",
      "Training sequences: 721\n",
      "Validation sequences: 103\n",
      "Test sequences: 206\n",
      "Features per timestep: 27\n",
      "Last date in dataset: 2025-05-06 00:00:00\n",
      "New best score: 0.548544\n",
      "Grid Search 2/50: {'batch_size': 16, 'dense_units': 8, 'dropout_rate': 0.1, 'learning_rate': 0.001, 'lstm_units_1': 32, 'lstm_units_2': 16, 'sequence_length': 30}\n",
      "Using 27 features: ['high_close_ratio', 'low_close_ratio', 'open_close_ratio', 'returns_1d', 'returns_3d', 'returns_7d', 'price_ma_5_ratio', 'price_ma_10_ratio', 'price_ma_20_ratio', 'macd_normalized', 'macd_signal_normalized', 'rsi_normalized', 'bb_position', 'bb_width', 'volatility_10', 'volatility_20', 'volume_avg_ratio', 'volume_change', 'vader_ma_3', 'vader_ma_7', 'article_count_norm', 'funding_rate', 'funding_rate_ma', 'momentum_5', 'momentum_10', 'day_sin', 'day_cos']\n",
      "Training sequences: 710\n",
      "Validation sequences: 101\n",
      "Test sequences: 204\n",
      "Features per timestep: 27\n",
      "Last date in dataset: 2025-05-06 00:00:00\n",
      "Grid Search 3/50: {'batch_size': 16, 'dense_units': 8, 'dropout_rate': 0.1, 'learning_rate': 0.001, 'lstm_units_1': 32, 'lstm_units_2': 16, 'sequence_length': 60}\n",
      "Using 27 features: ['high_close_ratio', 'low_close_ratio', 'open_close_ratio', 'returns_1d', 'returns_3d', 'returns_7d', 'price_ma_5_ratio', 'price_ma_10_ratio', 'price_ma_20_ratio', 'macd_normalized', 'macd_signal_normalized', 'rsi_normalized', 'bb_position', 'bb_width', 'volatility_10', 'volatility_20', 'volume_avg_ratio', 'volume_change', 'vader_ma_3', 'vader_ma_7', 'article_count_norm', 'funding_rate', 'funding_rate_ma', 'momentum_5', 'momentum_10', 'day_sin', 'day_cos']\n",
      "Training sequences: 689\n",
      "Validation sequences: 98\n",
      "Test sequences: 198\n",
      "Features per timestep: 27\n",
      "Last date in dataset: 2025-05-06 00:00:00\n",
      "Grid Search 4/50: {'batch_size': 16, 'dense_units': 8, 'dropout_rate': 0.1, 'learning_rate': 0.001, 'lstm_units_1': 32, 'lstm_units_2': 16, 'sequence_length': 90}\n",
      "Using 27 features: ['high_close_ratio', 'low_close_ratio', 'open_close_ratio', 'returns_1d', 'returns_3d', 'returns_7d', 'price_ma_5_ratio', 'price_ma_10_ratio', 'price_ma_20_ratio', 'macd_normalized', 'macd_signal_normalized', 'rsi_normalized', 'bb_position', 'bb_width', 'volatility_10', 'volatility_20', 'volume_avg_ratio', 'volume_change', 'vader_ma_3', 'vader_ma_7', 'article_count_norm', 'funding_rate', 'funding_rate_ma', 'momentum_5', 'momentum_10', 'day_sin', 'day_cos']\n",
      "Training sequences: 668\n",
      "Validation sequences: 95\n",
      "Test sequences: 192\n",
      "Features per timestep: 27\n",
      "Last date in dataset: 2025-05-06 00:00:00\n",
      "Grid Search 5/50: {'batch_size': 16, 'dense_units': 8, 'dropout_rate': 0.1, 'learning_rate': 0.001, 'lstm_units_1': 32, 'lstm_units_2': 32, 'sequence_length': 15}\n",
      "Using 27 features: ['high_close_ratio', 'low_close_ratio', 'open_close_ratio', 'returns_1d', 'returns_3d', 'returns_7d', 'price_ma_5_ratio', 'price_ma_10_ratio', 'price_ma_20_ratio', 'macd_normalized', 'macd_signal_normalized', 'rsi_normalized', 'bb_position', 'bb_width', 'volatility_10', 'volatility_20', 'volume_avg_ratio', 'volume_change', 'vader_ma_3', 'vader_ma_7', 'article_count_norm', 'funding_rate', 'funding_rate_ma', 'momentum_5', 'momentum_10', 'day_sin', 'day_cos']\n",
      "Training sequences: 721\n",
      "Validation sequences: 103\n",
      "Test sequences: 206\n",
      "Features per timestep: 27\n",
      "Last date in dataset: 2025-05-06 00:00:00\n",
      "Grid Search 6/50: {'batch_size': 16, 'dense_units': 8, 'dropout_rate': 0.1, 'learning_rate': 0.001, 'lstm_units_1': 32, 'lstm_units_2': 32, 'sequence_length': 30}\n",
      "Using 27 features: ['high_close_ratio', 'low_close_ratio', 'open_close_ratio', 'returns_1d', 'returns_3d', 'returns_7d', 'price_ma_5_ratio', 'price_ma_10_ratio', 'price_ma_20_ratio', 'macd_normalized', 'macd_signal_normalized', 'rsi_normalized', 'bb_position', 'bb_width', 'volatility_10', 'volatility_20', 'volume_avg_ratio', 'volume_change', 'vader_ma_3', 'vader_ma_7', 'article_count_norm', 'funding_rate', 'funding_rate_ma', 'momentum_5', 'momentum_10', 'day_sin', 'day_cos']\n",
      "Training sequences: 710\n",
      "Validation sequences: 101\n",
      "Test sequences: 204\n",
      "Features per timestep: 27\n",
      "Last date in dataset: 2025-05-06 00:00:00\n",
      "Grid Search 7/50: {'batch_size': 16, 'dense_units': 8, 'dropout_rate': 0.1, 'learning_rate': 0.001, 'lstm_units_1': 32, 'lstm_units_2': 32, 'sequence_length': 60}\n",
      "Using 27 features: ['high_close_ratio', 'low_close_ratio', 'open_close_ratio', 'returns_1d', 'returns_3d', 'returns_7d', 'price_ma_5_ratio', 'price_ma_10_ratio', 'price_ma_20_ratio', 'macd_normalized', 'macd_signal_normalized', 'rsi_normalized', 'bb_position', 'bb_width', 'volatility_10', 'volatility_20', 'volume_avg_ratio', 'volume_change', 'vader_ma_3', 'vader_ma_7', 'article_count_norm', 'funding_rate', 'funding_rate_ma', 'momentum_5', 'momentum_10', 'day_sin', 'day_cos']\n",
      "Training sequences: 689\n",
      "Validation sequences: 98\n",
      "Test sequences: 198\n",
      "Features per timestep: 27\n",
      "Last date in dataset: 2025-05-06 00:00:00\n",
      "Grid Search 8/50: {'batch_size': 16, 'dense_units': 8, 'dropout_rate': 0.1, 'learning_rate': 0.001, 'lstm_units_1': 32, 'lstm_units_2': 32, 'sequence_length': 90}\n",
      "Using 27 features: ['high_close_ratio', 'low_close_ratio', 'open_close_ratio', 'returns_1d', 'returns_3d', 'returns_7d', 'price_ma_5_ratio', 'price_ma_10_ratio', 'price_ma_20_ratio', 'macd_normalized', 'macd_signal_normalized', 'rsi_normalized', 'bb_position', 'bb_width', 'volatility_10', 'volatility_20', 'volume_avg_ratio', 'volume_change', 'vader_ma_3', 'vader_ma_7', 'article_count_norm', 'funding_rate', 'funding_rate_ma', 'momentum_5', 'momentum_10', 'day_sin', 'day_cos']\n",
      "Training sequences: 668\n",
      "Validation sequences: 95\n",
      "Test sequences: 192\n",
      "Features per timestep: 27\n",
      "Last date in dataset: 2025-05-06 00:00:00\n",
      "Grid Search 9/50: {'batch_size': 16, 'dense_units': 8, 'dropout_rate': 0.1, 'learning_rate': 0.001, 'lstm_units_1': 32, 'lstm_units_2': 64, 'sequence_length': 15}\n",
      "Using 27 features: ['high_close_ratio', 'low_close_ratio', 'open_close_ratio', 'returns_1d', 'returns_3d', 'returns_7d', 'price_ma_5_ratio', 'price_ma_10_ratio', 'price_ma_20_ratio', 'macd_normalized', 'macd_signal_normalized', 'rsi_normalized', 'bb_position', 'bb_width', 'volatility_10', 'volatility_20', 'volume_avg_ratio', 'volume_change', 'vader_ma_3', 'vader_ma_7', 'article_count_norm', 'funding_rate', 'funding_rate_ma', 'momentum_5', 'momentum_10', 'day_sin', 'day_cos']\n",
      "Training sequences: 721\n",
      "Validation sequences: 103\n",
      "Test sequences: 206\n",
      "Features per timestep: 27\n",
      "Last date in dataset: 2025-05-06 00:00:00\n",
      "Grid Search 10/50: {'batch_size': 16, 'dense_units': 8, 'dropout_rate': 0.1, 'learning_rate': 0.001, 'lstm_units_1': 32, 'lstm_units_2': 64, 'sequence_length': 30}\n",
      "Using 27 features: ['high_close_ratio', 'low_close_ratio', 'open_close_ratio', 'returns_1d', 'returns_3d', 'returns_7d', 'price_ma_5_ratio', 'price_ma_10_ratio', 'price_ma_20_ratio', 'macd_normalized', 'macd_signal_normalized', 'rsi_normalized', 'bb_position', 'bb_width', 'volatility_10', 'volatility_20', 'volume_avg_ratio', 'volume_change', 'vader_ma_3', 'vader_ma_7', 'article_count_norm', 'funding_rate', 'funding_rate_ma', 'momentum_5', 'momentum_10', 'day_sin', 'day_cos']\n",
      "Training sequences: 710\n",
      "Validation sequences: 101\n",
      "Test sequences: 204\n",
      "Features per timestep: 27\n",
      "Last date in dataset: 2025-05-06 00:00:00\n",
      "Grid Search 11/50: {'batch_size': 16, 'dense_units': 8, 'dropout_rate': 0.1, 'learning_rate': 0.001, 'lstm_units_1': 32, 'lstm_units_2': 64, 'sequence_length': 60}\n",
      "Using 27 features: ['high_close_ratio', 'low_close_ratio', 'open_close_ratio', 'returns_1d', 'returns_3d', 'returns_7d', 'price_ma_5_ratio', 'price_ma_10_ratio', 'price_ma_20_ratio', 'macd_normalized', 'macd_signal_normalized', 'rsi_normalized', 'bb_position', 'bb_width', 'volatility_10', 'volatility_20', 'volume_avg_ratio', 'volume_change', 'vader_ma_3', 'vader_ma_7', 'article_count_norm', 'funding_rate', 'funding_rate_ma', 'momentum_5', 'momentum_10', 'day_sin', 'day_cos']\n",
      "Training sequences: 689\n",
      "Validation sequences: 98\n",
      "Test sequences: 198\n",
      "Features per timestep: 27\n",
      "Last date in dataset: 2025-05-06 00:00:00\n",
      "Grid Search 12/50: {'batch_size': 16, 'dense_units': 8, 'dropout_rate': 0.1, 'learning_rate': 0.001, 'lstm_units_1': 32, 'lstm_units_2': 64, 'sequence_length': 90}\n",
      "Using 27 features: ['high_close_ratio', 'low_close_ratio', 'open_close_ratio', 'returns_1d', 'returns_3d', 'returns_7d', 'price_ma_5_ratio', 'price_ma_10_ratio', 'price_ma_20_ratio', 'macd_normalized', 'macd_signal_normalized', 'rsi_normalized', 'bb_position', 'bb_width', 'volatility_10', 'volatility_20', 'volume_avg_ratio', 'volume_change', 'vader_ma_3', 'vader_ma_7', 'article_count_norm', 'funding_rate', 'funding_rate_ma', 'momentum_5', 'momentum_10', 'day_sin', 'day_cos']\n",
      "Training sequences: 668\n",
      "Validation sequences: 95\n",
      "Test sequences: 192\n",
      "Features per timestep: 27\n",
      "Last date in dataset: 2025-05-06 00:00:00\n",
      "Grid Search 13/50: {'batch_size': 16, 'dense_units': 8, 'dropout_rate': 0.1, 'learning_rate': 0.001, 'lstm_units_1': 64, 'lstm_units_2': 16, 'sequence_length': 15}\n",
      "Using 27 features: ['high_close_ratio', 'low_close_ratio', 'open_close_ratio', 'returns_1d', 'returns_3d', 'returns_7d', 'price_ma_5_ratio', 'price_ma_10_ratio', 'price_ma_20_ratio', 'macd_normalized', 'macd_signal_normalized', 'rsi_normalized', 'bb_position', 'bb_width', 'volatility_10', 'volatility_20', 'volume_avg_ratio', 'volume_change', 'vader_ma_3', 'vader_ma_7', 'article_count_norm', 'funding_rate', 'funding_rate_ma', 'momentum_5', 'momentum_10', 'day_sin', 'day_cos']\n",
      "Training sequences: 721\n",
      "Validation sequences: 103\n",
      "Test sequences: 206\n",
      "Features per timestep: 27\n",
      "Last date in dataset: 2025-05-06 00:00:00\n",
      "Grid Search 14/50: {'batch_size': 16, 'dense_units': 8, 'dropout_rate': 0.1, 'learning_rate': 0.001, 'lstm_units_1': 64, 'lstm_units_2': 16, 'sequence_length': 30}\n",
      "Using 27 features: ['high_close_ratio', 'low_close_ratio', 'open_close_ratio', 'returns_1d', 'returns_3d', 'returns_7d', 'price_ma_5_ratio', 'price_ma_10_ratio', 'price_ma_20_ratio', 'macd_normalized', 'macd_signal_normalized', 'rsi_normalized', 'bb_position', 'bb_width', 'volatility_10', 'volatility_20', 'volume_avg_ratio', 'volume_change', 'vader_ma_3', 'vader_ma_7', 'article_count_norm', 'funding_rate', 'funding_rate_ma', 'momentum_5', 'momentum_10', 'day_sin', 'day_cos']\n",
      "Training sequences: 710\n",
      "Validation sequences: 101\n",
      "Test sequences: 204\n",
      "Features per timestep: 27\n",
      "Last date in dataset: 2025-05-06 00:00:00\n",
      "Grid Search 15/50: {'batch_size': 16, 'dense_units': 8, 'dropout_rate': 0.1, 'learning_rate': 0.001, 'lstm_units_1': 64, 'lstm_units_2': 16, 'sequence_length': 60}\n",
      "Using 27 features: ['high_close_ratio', 'low_close_ratio', 'open_close_ratio', 'returns_1d', 'returns_3d', 'returns_7d', 'price_ma_5_ratio', 'price_ma_10_ratio', 'price_ma_20_ratio', 'macd_normalized', 'macd_signal_normalized', 'rsi_normalized', 'bb_position', 'bb_width', 'volatility_10', 'volatility_20', 'volume_avg_ratio', 'volume_change', 'vader_ma_3', 'vader_ma_7', 'article_count_norm', 'funding_rate', 'funding_rate_ma', 'momentum_5', 'momentum_10', 'day_sin', 'day_cos']\n",
      "Training sequences: 689\n",
      "Validation sequences: 98\n",
      "Test sequences: 198\n",
      "Features per timestep: 27\n",
      "Last date in dataset: 2025-05-06 00:00:00\n",
      "Grid Search 16/50: {'batch_size': 16, 'dense_units': 8, 'dropout_rate': 0.1, 'learning_rate': 0.001, 'lstm_units_1': 64, 'lstm_units_2': 16, 'sequence_length': 90}\n",
      "Using 27 features: ['high_close_ratio', 'low_close_ratio', 'open_close_ratio', 'returns_1d', 'returns_3d', 'returns_7d', 'price_ma_5_ratio', 'price_ma_10_ratio', 'price_ma_20_ratio', 'macd_normalized', 'macd_signal_normalized', 'rsi_normalized', 'bb_position', 'bb_width', 'volatility_10', 'volatility_20', 'volume_avg_ratio', 'volume_change', 'vader_ma_3', 'vader_ma_7', 'article_count_norm', 'funding_rate', 'funding_rate_ma', 'momentum_5', 'momentum_10', 'day_sin', 'day_cos']\n",
      "Training sequences: 668\n",
      "Validation sequences: 95\n",
      "Test sequences: 192\n",
      "Features per timestep: 27\n",
      "Last date in dataset: 2025-05-06 00:00:00\n",
      "Grid Search 17/50: {'batch_size': 16, 'dense_units': 8, 'dropout_rate': 0.1, 'learning_rate': 0.001, 'lstm_units_1': 64, 'lstm_units_2': 32, 'sequence_length': 15}\n",
      "Using 27 features: ['high_close_ratio', 'low_close_ratio', 'open_close_ratio', 'returns_1d', 'returns_3d', 'returns_7d', 'price_ma_5_ratio', 'price_ma_10_ratio', 'price_ma_20_ratio', 'macd_normalized', 'macd_signal_normalized', 'rsi_normalized', 'bb_position', 'bb_width', 'volatility_10', 'volatility_20', 'volume_avg_ratio', 'volume_change', 'vader_ma_3', 'vader_ma_7', 'article_count_norm', 'funding_rate', 'funding_rate_ma', 'momentum_5', 'momentum_10', 'day_sin', 'day_cos']\n",
      "Training sequences: 721\n",
      "Validation sequences: 103\n",
      "Test sequences: 206\n",
      "Features per timestep: 27\n",
      "Last date in dataset: 2025-05-06 00:00:00\n",
      "Grid Search 18/50: {'batch_size': 16, 'dense_units': 8, 'dropout_rate': 0.1, 'learning_rate': 0.001, 'lstm_units_1': 64, 'lstm_units_2': 32, 'sequence_length': 30}\n",
      "Using 27 features: ['high_close_ratio', 'low_close_ratio', 'open_close_ratio', 'returns_1d', 'returns_3d', 'returns_7d', 'price_ma_5_ratio', 'price_ma_10_ratio', 'price_ma_20_ratio', 'macd_normalized', 'macd_signal_normalized', 'rsi_normalized', 'bb_position', 'bb_width', 'volatility_10', 'volatility_20', 'volume_avg_ratio', 'volume_change', 'vader_ma_3', 'vader_ma_7', 'article_count_norm', 'funding_rate', 'funding_rate_ma', 'momentum_5', 'momentum_10', 'day_sin', 'day_cos']\n",
      "Training sequences: 710\n",
      "Validation sequences: 101\n",
      "Test sequences: 204\n",
      "Features per timestep: 27\n",
      "Last date in dataset: 2025-05-06 00:00:00\n",
      "Grid Search 19/50: {'batch_size': 16, 'dense_units': 8, 'dropout_rate': 0.1, 'learning_rate': 0.001, 'lstm_units_1': 64, 'lstm_units_2': 32, 'sequence_length': 60}\n",
      "Using 27 features: ['high_close_ratio', 'low_close_ratio', 'open_close_ratio', 'returns_1d', 'returns_3d', 'returns_7d', 'price_ma_5_ratio', 'price_ma_10_ratio', 'price_ma_20_ratio', 'macd_normalized', 'macd_signal_normalized', 'rsi_normalized', 'bb_position', 'bb_width', 'volatility_10', 'volatility_20', 'volume_avg_ratio', 'volume_change', 'vader_ma_3', 'vader_ma_7', 'article_count_norm', 'funding_rate', 'funding_rate_ma', 'momentum_5', 'momentum_10', 'day_sin', 'day_cos']\n",
      "Training sequences: 689\n",
      "Validation sequences: 98\n",
      "Test sequences: 198\n",
      "Features per timestep: 27\n",
      "Last date in dataset: 2025-05-06 00:00:00\n",
      "Grid Search 20/50: {'batch_size': 16, 'dense_units': 8, 'dropout_rate': 0.1, 'learning_rate': 0.001, 'lstm_units_1': 64, 'lstm_units_2': 32, 'sequence_length': 90}\n",
      "Using 27 features: ['high_close_ratio', 'low_close_ratio', 'open_close_ratio', 'returns_1d', 'returns_3d', 'returns_7d', 'price_ma_5_ratio', 'price_ma_10_ratio', 'price_ma_20_ratio', 'macd_normalized', 'macd_signal_normalized', 'rsi_normalized', 'bb_position', 'bb_width', 'volatility_10', 'volatility_20', 'volume_avg_ratio', 'volume_change', 'vader_ma_3', 'vader_ma_7', 'article_count_norm', 'funding_rate', 'funding_rate_ma', 'momentum_5', 'momentum_10', 'day_sin', 'day_cos']\n",
      "Training sequences: 668\n",
      "Validation sequences: 95\n",
      "Test sequences: 192\n",
      "Features per timestep: 27\n",
      "Last date in dataset: 2025-05-06 00:00:00\n",
      "Grid Search 21/50: {'batch_size': 16, 'dense_units': 8, 'dropout_rate': 0.1, 'learning_rate': 0.001, 'lstm_units_1': 64, 'lstm_units_2': 64, 'sequence_length': 15}\n",
      "Using 27 features: ['high_close_ratio', 'low_close_ratio', 'open_close_ratio', 'returns_1d', 'returns_3d', 'returns_7d', 'price_ma_5_ratio', 'price_ma_10_ratio', 'price_ma_20_ratio', 'macd_normalized', 'macd_signal_normalized', 'rsi_normalized', 'bb_position', 'bb_width', 'volatility_10', 'volatility_20', 'volume_avg_ratio', 'volume_change', 'vader_ma_3', 'vader_ma_7', 'article_count_norm', 'funding_rate', 'funding_rate_ma', 'momentum_5', 'momentum_10', 'day_sin', 'day_cos']\n",
      "Training sequences: 721\n",
      "Validation sequences: 103\n",
      "Test sequences: 206\n",
      "Features per timestep: 27\n",
      "Last date in dataset: 2025-05-06 00:00:00\n",
      "Grid Search 22/50: {'batch_size': 16, 'dense_units': 8, 'dropout_rate': 0.1, 'learning_rate': 0.001, 'lstm_units_1': 64, 'lstm_units_2': 64, 'sequence_length': 30}\n",
      "Using 27 features: ['high_close_ratio', 'low_close_ratio', 'open_close_ratio', 'returns_1d', 'returns_3d', 'returns_7d', 'price_ma_5_ratio', 'price_ma_10_ratio', 'price_ma_20_ratio', 'macd_normalized', 'macd_signal_normalized', 'rsi_normalized', 'bb_position', 'bb_width', 'volatility_10', 'volatility_20', 'volume_avg_ratio', 'volume_change', 'vader_ma_3', 'vader_ma_7', 'article_count_norm', 'funding_rate', 'funding_rate_ma', 'momentum_5', 'momentum_10', 'day_sin', 'day_cos']\n",
      "Training sequences: 710\n",
      "Validation sequences: 101\n",
      "Test sequences: 204\n",
      "Features per timestep: 27\n",
      "Last date in dataset: 2025-05-06 00:00:00\n",
      "Grid Search 23/50: {'batch_size': 16, 'dense_units': 8, 'dropout_rate': 0.1, 'learning_rate': 0.001, 'lstm_units_1': 64, 'lstm_units_2': 64, 'sequence_length': 60}\n",
      "Using 27 features: ['high_close_ratio', 'low_close_ratio', 'open_close_ratio', 'returns_1d', 'returns_3d', 'returns_7d', 'price_ma_5_ratio', 'price_ma_10_ratio', 'price_ma_20_ratio', 'macd_normalized', 'macd_signal_normalized', 'rsi_normalized', 'bb_position', 'bb_width', 'volatility_10', 'volatility_20', 'volume_avg_ratio', 'volume_change', 'vader_ma_3', 'vader_ma_7', 'article_count_norm', 'funding_rate', 'funding_rate_ma', 'momentum_5', 'momentum_10', 'day_sin', 'day_cos']\n",
      "Training sequences: 689\n",
      "Validation sequences: 98\n",
      "Test sequences: 198\n",
      "Features per timestep: 27\n",
      "Last date in dataset: 2025-05-06 00:00:00\n",
      "Grid Search 24/50: {'batch_size': 16, 'dense_units': 8, 'dropout_rate': 0.1, 'learning_rate': 0.001, 'lstm_units_1': 64, 'lstm_units_2': 64, 'sequence_length': 90}\n",
      "Using 27 features: ['high_close_ratio', 'low_close_ratio', 'open_close_ratio', 'returns_1d', 'returns_3d', 'returns_7d', 'price_ma_5_ratio', 'price_ma_10_ratio', 'price_ma_20_ratio', 'macd_normalized', 'macd_signal_normalized', 'rsi_normalized', 'bb_position', 'bb_width', 'volatility_10', 'volatility_20', 'volume_avg_ratio', 'volume_change', 'vader_ma_3', 'vader_ma_7', 'article_count_norm', 'funding_rate', 'funding_rate_ma', 'momentum_5', 'momentum_10', 'day_sin', 'day_cos']\n",
      "Training sequences: 668\n",
      "Validation sequences: 95\n",
      "Test sequences: 192\n",
      "Features per timestep: 27\n",
      "Last date in dataset: 2025-05-06 00:00:00\n",
      "Grid Search 25/50: {'batch_size': 16, 'dense_units': 8, 'dropout_rate': 0.1, 'learning_rate': 0.001, 'lstm_units_1': 128, 'lstm_units_2': 16, 'sequence_length': 15}\n",
      "Using 27 features: ['high_close_ratio', 'low_close_ratio', 'open_close_ratio', 'returns_1d', 'returns_3d', 'returns_7d', 'price_ma_5_ratio', 'price_ma_10_ratio', 'price_ma_20_ratio', 'macd_normalized', 'macd_signal_normalized', 'rsi_normalized', 'bb_position', 'bb_width', 'volatility_10', 'volatility_20', 'volume_avg_ratio', 'volume_change', 'vader_ma_3', 'vader_ma_7', 'article_count_norm', 'funding_rate', 'funding_rate_ma', 'momentum_5', 'momentum_10', 'day_sin', 'day_cos']\n",
      "Training sequences: 721\n",
      "Validation sequences: 103\n",
      "Test sequences: 206\n",
      "Features per timestep: 27\n",
      "Last date in dataset: 2025-05-06 00:00:00\n",
      "Grid Search 26/50: {'batch_size': 16, 'dense_units': 8, 'dropout_rate': 0.1, 'learning_rate': 0.001, 'lstm_units_1': 128, 'lstm_units_2': 16, 'sequence_length': 30}\n",
      "Using 27 features: ['high_close_ratio', 'low_close_ratio', 'open_close_ratio', 'returns_1d', 'returns_3d', 'returns_7d', 'price_ma_5_ratio', 'price_ma_10_ratio', 'price_ma_20_ratio', 'macd_normalized', 'macd_signal_normalized', 'rsi_normalized', 'bb_position', 'bb_width', 'volatility_10', 'volatility_20', 'volume_avg_ratio', 'volume_change', 'vader_ma_3', 'vader_ma_7', 'article_count_norm', 'funding_rate', 'funding_rate_ma', 'momentum_5', 'momentum_10', 'day_sin', 'day_cos']\n",
      "Training sequences: 710\n",
      "Validation sequences: 101\n",
      "Test sequences: 204\n",
      "Features per timestep: 27\n",
      "Last date in dataset: 2025-05-06 00:00:00\n",
      "Grid Search 27/50: {'batch_size': 16, 'dense_units': 8, 'dropout_rate': 0.1, 'learning_rate': 0.001, 'lstm_units_1': 128, 'lstm_units_2': 16, 'sequence_length': 60}\n",
      "Using 27 features: ['high_close_ratio', 'low_close_ratio', 'open_close_ratio', 'returns_1d', 'returns_3d', 'returns_7d', 'price_ma_5_ratio', 'price_ma_10_ratio', 'price_ma_20_ratio', 'macd_normalized', 'macd_signal_normalized', 'rsi_normalized', 'bb_position', 'bb_width', 'volatility_10', 'volatility_20', 'volume_avg_ratio', 'volume_change', 'vader_ma_3', 'vader_ma_7', 'article_count_norm', 'funding_rate', 'funding_rate_ma', 'momentum_5', 'momentum_10', 'day_sin', 'day_cos']\n",
      "Training sequences: 689\n",
      "Validation sequences: 98\n",
      "Test sequences: 198\n",
      "Features per timestep: 27\n",
      "Last date in dataset: 2025-05-06 00:00:00\n",
      "Grid Search 28/50: {'batch_size': 16, 'dense_units': 8, 'dropout_rate': 0.1, 'learning_rate': 0.001, 'lstm_units_1': 128, 'lstm_units_2': 16, 'sequence_length': 90}\n",
      "Using 27 features: ['high_close_ratio', 'low_close_ratio', 'open_close_ratio', 'returns_1d', 'returns_3d', 'returns_7d', 'price_ma_5_ratio', 'price_ma_10_ratio', 'price_ma_20_ratio', 'macd_normalized', 'macd_signal_normalized', 'rsi_normalized', 'bb_position', 'bb_width', 'volatility_10', 'volatility_20', 'volume_avg_ratio', 'volume_change', 'vader_ma_3', 'vader_ma_7', 'article_count_norm', 'funding_rate', 'funding_rate_ma', 'momentum_5', 'momentum_10', 'day_sin', 'day_cos']\n",
      "Training sequences: 668\n",
      "Validation sequences: 95\n",
      "Test sequences: 192\n",
      "Features per timestep: 27\n",
      "Last date in dataset: 2025-05-06 00:00:00\n",
      "Grid Search 29/50: {'batch_size': 16, 'dense_units': 8, 'dropout_rate': 0.1, 'learning_rate': 0.001, 'lstm_units_1': 128, 'lstm_units_2': 32, 'sequence_length': 15}\n",
      "Using 27 features: ['high_close_ratio', 'low_close_ratio', 'open_close_ratio', 'returns_1d', 'returns_3d', 'returns_7d', 'price_ma_5_ratio', 'price_ma_10_ratio', 'price_ma_20_ratio', 'macd_normalized', 'macd_signal_normalized', 'rsi_normalized', 'bb_position', 'bb_width', 'volatility_10', 'volatility_20', 'volume_avg_ratio', 'volume_change', 'vader_ma_3', 'vader_ma_7', 'article_count_norm', 'funding_rate', 'funding_rate_ma', 'momentum_5', 'momentum_10', 'day_sin', 'day_cos']\n",
      "Training sequences: 721\n",
      "Validation sequences: 103\n",
      "Test sequences: 206\n",
      "Features per timestep: 27\n",
      "Last date in dataset: 2025-05-06 00:00:00\n",
      "Grid Search 30/50: {'batch_size': 16, 'dense_units': 8, 'dropout_rate': 0.1, 'learning_rate': 0.001, 'lstm_units_1': 128, 'lstm_units_2': 32, 'sequence_length': 30}\n",
      "Using 27 features: ['high_close_ratio', 'low_close_ratio', 'open_close_ratio', 'returns_1d', 'returns_3d', 'returns_7d', 'price_ma_5_ratio', 'price_ma_10_ratio', 'price_ma_20_ratio', 'macd_normalized', 'macd_signal_normalized', 'rsi_normalized', 'bb_position', 'bb_width', 'volatility_10', 'volatility_20', 'volume_avg_ratio', 'volume_change', 'vader_ma_3', 'vader_ma_7', 'article_count_norm', 'funding_rate', 'funding_rate_ma', 'momentum_5', 'momentum_10', 'day_sin', 'day_cos']\n",
      "Training sequences: 710\n",
      "Validation sequences: 101\n",
      "Test sequences: 204\n",
      "Features per timestep: 27\n",
      "Last date in dataset: 2025-05-06 00:00:00\n",
      "Grid Search 31/50: {'batch_size': 16, 'dense_units': 8, 'dropout_rate': 0.1, 'learning_rate': 0.001, 'lstm_units_1': 128, 'lstm_units_2': 32, 'sequence_length': 60}\n",
      "Using 27 features: ['high_close_ratio', 'low_close_ratio', 'open_close_ratio', 'returns_1d', 'returns_3d', 'returns_7d', 'price_ma_5_ratio', 'price_ma_10_ratio', 'price_ma_20_ratio', 'macd_normalized', 'macd_signal_normalized', 'rsi_normalized', 'bb_position', 'bb_width', 'volatility_10', 'volatility_20', 'volume_avg_ratio', 'volume_change', 'vader_ma_3', 'vader_ma_7', 'article_count_norm', 'funding_rate', 'funding_rate_ma', 'momentum_5', 'momentum_10', 'day_sin', 'day_cos']\n",
      "Training sequences: 689\n",
      "Validation sequences: 98\n",
      "Test sequences: 198\n",
      "Features per timestep: 27\n",
      "Last date in dataset: 2025-05-06 00:00:00\n",
      "Grid Search 32/50: {'batch_size': 16, 'dense_units': 8, 'dropout_rate': 0.1, 'learning_rate': 0.001, 'lstm_units_1': 128, 'lstm_units_2': 32, 'sequence_length': 90}\n",
      "Using 27 features: ['high_close_ratio', 'low_close_ratio', 'open_close_ratio', 'returns_1d', 'returns_3d', 'returns_7d', 'price_ma_5_ratio', 'price_ma_10_ratio', 'price_ma_20_ratio', 'macd_normalized', 'macd_signal_normalized', 'rsi_normalized', 'bb_position', 'bb_width', 'volatility_10', 'volatility_20', 'volume_avg_ratio', 'volume_change', 'vader_ma_3', 'vader_ma_7', 'article_count_norm', 'funding_rate', 'funding_rate_ma', 'momentum_5', 'momentum_10', 'day_sin', 'day_cos']\n",
      "Training sequences: 668\n",
      "Validation sequences: 95\n",
      "Test sequences: 192\n",
      "Features per timestep: 27\n",
      "Last date in dataset: 2025-05-06 00:00:00\n",
      "Grid Search 33/50: {'batch_size': 16, 'dense_units': 8, 'dropout_rate': 0.1, 'learning_rate': 0.001, 'lstm_units_1': 128, 'lstm_units_2': 64, 'sequence_length': 15}\n",
      "Using 27 features: ['high_close_ratio', 'low_close_ratio', 'open_close_ratio', 'returns_1d', 'returns_3d', 'returns_7d', 'price_ma_5_ratio', 'price_ma_10_ratio', 'price_ma_20_ratio', 'macd_normalized', 'macd_signal_normalized', 'rsi_normalized', 'bb_position', 'bb_width', 'volatility_10', 'volatility_20', 'volume_avg_ratio', 'volume_change', 'vader_ma_3', 'vader_ma_7', 'article_count_norm', 'funding_rate', 'funding_rate_ma', 'momentum_5', 'momentum_10', 'day_sin', 'day_cos']\n",
      "Training sequences: 721\n",
      "Validation sequences: 103\n",
      "Test sequences: 206\n",
      "Features per timestep: 27\n",
      "Last date in dataset: 2025-05-06 00:00:00\n",
      "Grid Search 34/50: {'batch_size': 16, 'dense_units': 8, 'dropout_rate': 0.1, 'learning_rate': 0.001, 'lstm_units_1': 128, 'lstm_units_2': 64, 'sequence_length': 30}\n",
      "Using 27 features: ['high_close_ratio', 'low_close_ratio', 'open_close_ratio', 'returns_1d', 'returns_3d', 'returns_7d', 'price_ma_5_ratio', 'price_ma_10_ratio', 'price_ma_20_ratio', 'macd_normalized', 'macd_signal_normalized', 'rsi_normalized', 'bb_position', 'bb_width', 'volatility_10', 'volatility_20', 'volume_avg_ratio', 'volume_change', 'vader_ma_3', 'vader_ma_7', 'article_count_norm', 'funding_rate', 'funding_rate_ma', 'momentum_5', 'momentum_10', 'day_sin', 'day_cos']\n",
      "Training sequences: 710\n",
      "Validation sequences: 101\n",
      "Test sequences: 204\n",
      "Features per timestep: 27\n",
      "Last date in dataset: 2025-05-06 00:00:00\n",
      "Grid Search 35/50: {'batch_size': 16, 'dense_units': 8, 'dropout_rate': 0.1, 'learning_rate': 0.001, 'lstm_units_1': 128, 'lstm_units_2': 64, 'sequence_length': 60}\n",
      "Using 27 features: ['high_close_ratio', 'low_close_ratio', 'open_close_ratio', 'returns_1d', 'returns_3d', 'returns_7d', 'price_ma_5_ratio', 'price_ma_10_ratio', 'price_ma_20_ratio', 'macd_normalized', 'macd_signal_normalized', 'rsi_normalized', 'bb_position', 'bb_width', 'volatility_10', 'volatility_20', 'volume_avg_ratio', 'volume_change', 'vader_ma_3', 'vader_ma_7', 'article_count_norm', 'funding_rate', 'funding_rate_ma', 'momentum_5', 'momentum_10', 'day_sin', 'day_cos']\n",
      "Training sequences: 689\n",
      "Validation sequences: 98\n",
      "Test sequences: 198\n",
      "Features per timestep: 27\n",
      "Last date in dataset: 2025-05-06 00:00:00\n",
      "Grid Search 36/50: {'batch_size': 16, 'dense_units': 8, 'dropout_rate': 0.1, 'learning_rate': 0.001, 'lstm_units_1': 128, 'lstm_units_2': 64, 'sequence_length': 90}\n",
      "Using 27 features: ['high_close_ratio', 'low_close_ratio', 'open_close_ratio', 'returns_1d', 'returns_3d', 'returns_7d', 'price_ma_5_ratio', 'price_ma_10_ratio', 'price_ma_20_ratio', 'macd_normalized', 'macd_signal_normalized', 'rsi_normalized', 'bb_position', 'bb_width', 'volatility_10', 'volatility_20', 'volume_avg_ratio', 'volume_change', 'vader_ma_3', 'vader_ma_7', 'article_count_norm', 'funding_rate', 'funding_rate_ma', 'momentum_5', 'momentum_10', 'day_sin', 'day_cos']\n",
      "Training sequences: 668\n",
      "Validation sequences: 95\n",
      "Test sequences: 192\n",
      "Features per timestep: 27\n",
      "Last date in dataset: 2025-05-06 00:00:00\n"
     ]
    },
    {
     "ename": "KeyboardInterrupt",
     "evalue": "",
     "output_type": "error",
     "traceback": [
      "\u001b[0;31m---------------------------------------------------------------------------\u001b[0m",
      "\u001b[0;31mKeyboardInterrupt\u001b[0m                         Traceback (most recent call last)",
      "Cell \u001b[0;32mIn[21], line 537\u001b[0m\n\u001b[1;32m    534\u001b[0m tuner \u001b[38;5;241m=\u001b[39m BitcoinLSTMHyperparameterTuner(predictor)\n\u001b[1;32m    536\u001b[0m \u001b[38;5;66;03m# Run comprehensive tuning\u001b[39;00m\n\u001b[0;32m--> 537\u001b[0m results \u001b[38;5;241m=\u001b[39m \u001b[43mtuner\u001b[49m\u001b[38;5;241;43m.\u001b[39;49m\u001b[43mtune_both_models\u001b[49m\u001b[43m(\u001b[49m\u001b[43m)\u001b[49m\n\u001b[1;32m    539\u001b[0m \u001b[38;5;66;03m# The best parameters will be stored in tuner.best_params\u001b[39;00m\n\u001b[1;32m    540\u001b[0m \u001b[38;5;28mprint\u001b[39m(\u001b[38;5;124m\"\u001b[39m\u001b[38;5;124mBest parameters for return model:\u001b[39m\u001b[38;5;124m\"\u001b[39m, tuner\u001b[38;5;241m.\u001b[39mbest_params[\u001b[38;5;124m'\u001b[39m\u001b[38;5;124mreturn\u001b[39m\u001b[38;5;124m'\u001b[39m])\n",
      "Cell \u001b[0;32mIn[21], line 507\u001b[0m, in \u001b[0;36mBitcoinLSTMHyperparameterTuner.tune_both_models\u001b[0;34m(self)\u001b[0m\n\u001b[1;32m    504\u001b[0m return_params, return_score, return_results \u001b[38;5;241m=\u001b[39m \u001b[38;5;28mself\u001b[39m\u001b[38;5;241m.\u001b[39mcomprehensive_tuning(\u001b[38;5;124m'\u001b[39m\u001b[38;5;124mreturn\u001b[39m\u001b[38;5;124m'\u001b[39m)\n\u001b[1;32m    506\u001b[0m \u001b[38;5;66;03m# Tune direction model\u001b[39;00m\n\u001b[0;32m--> 507\u001b[0m direction_params, direction_score, direction_results \u001b[38;5;241m=\u001b[39m \u001b[38;5;28;43mself\u001b[39;49m\u001b[38;5;241;43m.\u001b[39;49m\u001b[43mcomprehensive_tuning\u001b[49m\u001b[43m(\u001b[49m\u001b[38;5;124;43m'\u001b[39;49m\u001b[38;5;124;43mdirection\u001b[39;49m\u001b[38;5;124;43m'\u001b[39;49m\u001b[43m)\u001b[49m\n\u001b[1;32m    509\u001b[0m \u001b[38;5;66;03m# Analyze results\u001b[39;00m\n\u001b[1;32m    510\u001b[0m \u001b[38;5;28mself\u001b[39m\u001b[38;5;241m.\u001b[39manalyze_results()\n",
      "Cell \u001b[0;32mIn[21], line 406\u001b[0m, in \u001b[0;36mBitcoinLSTMHyperparameterTuner.comprehensive_tuning\u001b[0;34m(self, model_type)\u001b[0m\n\u001b[1;32m    404\u001b[0m \u001b[38;5;28mprint\u001b[39m(\u001b[38;5;124m\"\u001b[39m\u001b[38;5;124mPHASE 1: GRID SEARCH\u001b[39m\u001b[38;5;124m\"\u001b[39m)\n\u001b[1;32m    405\u001b[0m \u001b[38;5;28mprint\u001b[39m(\u001b[38;5;124m\"\u001b[39m\u001b[38;5;124m=\u001b[39m\u001b[38;5;124m\"\u001b[39m\u001b[38;5;241m*\u001b[39m\u001b[38;5;241m60\u001b[39m)\n\u001b[0;32m--> 406\u001b[0m grid_best_params, grid_best_score, grid_results \u001b[38;5;241m=\u001b[39m \u001b[38;5;28;43mself\u001b[39;49m\u001b[38;5;241;43m.\u001b[39;49m\u001b[43mgrid_search\u001b[49m\u001b[43m(\u001b[49m\u001b[43mmodel_type\u001b[49m\u001b[43m,\u001b[49m\u001b[43m \u001b[49m\u001b[43mmax_combinations\u001b[49m\u001b[38;5;241;43m=\u001b[39;49m\u001b[38;5;241;43m50\u001b[39;49m\u001b[43m)\u001b[49m\n\u001b[1;32m    407\u001b[0m all_results\u001b[38;5;241m.\u001b[39mextend(grid_results)\n\u001b[1;32m    409\u001b[0m \u001b[38;5;66;03m# 2. Random Search (exploration)\u001b[39;00m\n",
      "Cell \u001b[0;32mIn[21], line 291\u001b[0m, in \u001b[0;36mBitcoinLSTMHyperparameterTuner.grid_search\u001b[0;34m(self, model_type, max_combinations)\u001b[0m\n\u001b[1;32m    288\u001b[0m \u001b[38;5;28;01mfor\u001b[39;00m i, params \u001b[38;5;129;01min\u001b[39;00m \u001b[38;5;28menumerate\u001b[39m(param_grid):\n\u001b[1;32m    289\u001b[0m     \u001b[38;5;28mprint\u001b[39m(\u001b[38;5;124mf\u001b[39m\u001b[38;5;124m\"\u001b[39m\u001b[38;5;124mGrid Search \u001b[39m\u001b[38;5;132;01m{\u001b[39;00mi\u001b[38;5;241m+\u001b[39m\u001b[38;5;241m1\u001b[39m\u001b[38;5;132;01m}\u001b[39;00m\u001b[38;5;124m/\u001b[39m\u001b[38;5;132;01m{\u001b[39;00m\u001b[38;5;28mlen\u001b[39m(param_grid)\u001b[38;5;132;01m}\u001b[39;00m\u001b[38;5;124m: \u001b[39m\u001b[38;5;132;01m{\u001b[39;00mparams\u001b[38;5;132;01m}\u001b[39;00m\u001b[38;5;124m\"\u001b[39m)\n\u001b[0;32m--> 291\u001b[0m     score, metrics, epochs \u001b[38;5;241m=\u001b[39m \u001b[38;5;28;43mself\u001b[39;49m\u001b[38;5;241;43m.\u001b[39;49m\u001b[43mevaluate_model\u001b[49m\u001b[43m(\u001b[49m\u001b[43mparams\u001b[49m\u001b[43m,\u001b[49m\u001b[43m \u001b[49m\u001b[43mmodel_type\u001b[49m\u001b[43m)\u001b[49m\n\u001b[1;32m    293\u001b[0m     result \u001b[38;5;241m=\u001b[39m {\n\u001b[1;32m    294\u001b[0m         \u001b[38;5;124m'\u001b[39m\u001b[38;5;124mparams\u001b[39m\u001b[38;5;124m'\u001b[39m: params\u001b[38;5;241m.\u001b[39mcopy(),\n\u001b[1;32m    295\u001b[0m         \u001b[38;5;124m'\u001b[39m\u001b[38;5;124mscore\u001b[39m\u001b[38;5;124m'\u001b[39m: score,\n\u001b[0;32m   (...)\u001b[0m\n\u001b[1;32m    298\u001b[0m         \u001b[38;5;124m'\u001b[39m\u001b[38;5;124mmethod\u001b[39m\u001b[38;5;124m'\u001b[39m: \u001b[38;5;124m'\u001b[39m\u001b[38;5;124mgrid_search\u001b[39m\u001b[38;5;124m'\u001b[39m\n\u001b[1;32m    299\u001b[0m     }\n\u001b[1;32m    300\u001b[0m     results\u001b[38;5;241m.\u001b[39mappend(result)\n",
      "Cell \u001b[0;32mIn[21], line 246\u001b[0m, in \u001b[0;36mBitcoinLSTMHyperparameterTuner.evaluate_model\u001b[0;34m(self, params, model_type, max_epochs)\u001b[0m\n\u001b[1;32m    243\u001b[0m test_loss \u001b[38;5;241m=\u001b[39m model\u001b[38;5;241m.\u001b[39mevaluate(\u001b[38;5;28mself\u001b[39m\u001b[38;5;241m.\u001b[39mpredictor\u001b[38;5;241m.\u001b[39mX_test, y_test, verbose\u001b[38;5;241m=\u001b[39m\u001b[38;5;241m0\u001b[39m)\n\u001b[1;32m    245\u001b[0m \u001b[38;5;66;03m# Get predictions\u001b[39;00m\n\u001b[0;32m--> 246\u001b[0m predictions \u001b[38;5;241m=\u001b[39m \u001b[43mmodel\u001b[49m\u001b[38;5;241;43m.\u001b[39;49m\u001b[43mpredict\u001b[49m\u001b[43m(\u001b[49m\u001b[38;5;28;43mself\u001b[39;49m\u001b[38;5;241;43m.\u001b[39;49m\u001b[43mpredictor\u001b[49m\u001b[38;5;241;43m.\u001b[39;49m\u001b[43mX_test\u001b[49m\u001b[43m,\u001b[49m\u001b[43m \u001b[49m\u001b[43mverbose\u001b[49m\u001b[38;5;241;43m=\u001b[39;49m\u001b[38;5;241;43m0\u001b[39;49m\u001b[43m)\u001b[49m\n\u001b[1;32m    248\u001b[0m \u001b[38;5;28;01mif\u001b[39;00m model_type \u001b[38;5;241m==\u001b[39m \u001b[38;5;124m'\u001b[39m\u001b[38;5;124mreturn\u001b[39m\u001b[38;5;124m'\u001b[39m:\n\u001b[1;32m    249\u001b[0m     \u001b[38;5;66;03m# For return prediction, calculate MSE and MAE\u001b[39;00m\n\u001b[1;32m    250\u001b[0m     mse \u001b[38;5;241m=\u001b[39m mean_squared_error(y_test, predictions)\n",
      "File \u001b[0;32m~/Desktop/CLASSES/MSc Project/deltalens/venv/lib/python3.9/site-packages/keras/src/utils/traceback_utils.py:117\u001b[0m, in \u001b[0;36mfilter_traceback.<locals>.error_handler\u001b[0;34m(*args, **kwargs)\u001b[0m\n\u001b[1;32m    115\u001b[0m filtered_tb \u001b[38;5;241m=\u001b[39m \u001b[38;5;28;01mNone\u001b[39;00m\n\u001b[1;32m    116\u001b[0m \u001b[38;5;28;01mtry\u001b[39;00m:\n\u001b[0;32m--> 117\u001b[0m     \u001b[38;5;28;01mreturn\u001b[39;00m \u001b[43mfn\u001b[49m\u001b[43m(\u001b[49m\u001b[38;5;241;43m*\u001b[39;49m\u001b[43margs\u001b[49m\u001b[43m,\u001b[49m\u001b[43m \u001b[49m\u001b[38;5;241;43m*\u001b[39;49m\u001b[38;5;241;43m*\u001b[39;49m\u001b[43mkwargs\u001b[49m\u001b[43m)\u001b[49m\n\u001b[1;32m    118\u001b[0m \u001b[38;5;28;01mexcept\u001b[39;00m \u001b[38;5;167;01mException\u001b[39;00m \u001b[38;5;28;01mas\u001b[39;00m e:\n\u001b[1;32m    119\u001b[0m     filtered_tb \u001b[38;5;241m=\u001b[39m _process_traceback_frames(e\u001b[38;5;241m.\u001b[39m__traceback__)\n",
      "File \u001b[0;32m~/Desktop/CLASSES/MSc Project/deltalens/venv/lib/python3.9/site-packages/keras/src/backend/tensorflow/trainer.py:566\u001b[0m, in \u001b[0;36mTensorFlowTrainer.predict\u001b[0;34m(self, x, batch_size, verbose, steps, callbacks)\u001b[0m\n\u001b[1;32m    564\u001b[0m callbacks\u001b[38;5;241m.\u001b[39mon_predict_batch_begin(step)\n\u001b[1;32m    565\u001b[0m data \u001b[38;5;241m=\u001b[39m get_data(iterator)\n\u001b[0;32m--> 566\u001b[0m batch_outputs \u001b[38;5;241m=\u001b[39m \u001b[38;5;28;43mself\u001b[39;49m\u001b[38;5;241;43m.\u001b[39;49m\u001b[43mpredict_function\u001b[49m\u001b[43m(\u001b[49m\u001b[43mdata\u001b[49m\u001b[43m)\u001b[49m\n\u001b[1;32m    567\u001b[0m outputs \u001b[38;5;241m=\u001b[39m append_to_outputs(batch_outputs, outputs)\n\u001b[1;32m    568\u001b[0m callbacks\u001b[38;5;241m.\u001b[39mon_predict_batch_end(step, {\u001b[38;5;124m\"\u001b[39m\u001b[38;5;124moutputs\u001b[39m\u001b[38;5;124m\"\u001b[39m: batch_outputs})\n",
      "File \u001b[0;32m~/Desktop/CLASSES/MSc Project/deltalens/venv/lib/python3.9/site-packages/tensorflow/python/util/traceback_utils.py:150\u001b[0m, in \u001b[0;36mfilter_traceback.<locals>.error_handler\u001b[0;34m(*args, **kwargs)\u001b[0m\n\u001b[1;32m    148\u001b[0m filtered_tb \u001b[38;5;241m=\u001b[39m \u001b[38;5;28;01mNone\u001b[39;00m\n\u001b[1;32m    149\u001b[0m \u001b[38;5;28;01mtry\u001b[39;00m:\n\u001b[0;32m--> 150\u001b[0m   \u001b[38;5;28;01mreturn\u001b[39;00m \u001b[43mfn\u001b[49m\u001b[43m(\u001b[49m\u001b[38;5;241;43m*\u001b[39;49m\u001b[43margs\u001b[49m\u001b[43m,\u001b[49m\u001b[43m \u001b[49m\u001b[38;5;241;43m*\u001b[39;49m\u001b[38;5;241;43m*\u001b[39;49m\u001b[43mkwargs\u001b[49m\u001b[43m)\u001b[49m\n\u001b[1;32m    151\u001b[0m \u001b[38;5;28;01mexcept\u001b[39;00m \u001b[38;5;167;01mException\u001b[39;00m \u001b[38;5;28;01mas\u001b[39;00m e:\n\u001b[1;32m    152\u001b[0m   filtered_tb \u001b[38;5;241m=\u001b[39m _process_traceback_frames(e\u001b[38;5;241m.\u001b[39m__traceback__)\n",
      "File \u001b[0;32m~/Desktop/CLASSES/MSc Project/deltalens/venv/lib/python3.9/site-packages/tensorflow/python/eager/polymorphic_function/polymorphic_function.py:833\u001b[0m, in \u001b[0;36mFunction.__call__\u001b[0;34m(self, *args, **kwds)\u001b[0m\n\u001b[1;32m    830\u001b[0m compiler \u001b[38;5;241m=\u001b[39m \u001b[38;5;124m\"\u001b[39m\u001b[38;5;124mxla\u001b[39m\u001b[38;5;124m\"\u001b[39m \u001b[38;5;28;01mif\u001b[39;00m \u001b[38;5;28mself\u001b[39m\u001b[38;5;241m.\u001b[39m_jit_compile \u001b[38;5;28;01melse\u001b[39;00m \u001b[38;5;124m\"\u001b[39m\u001b[38;5;124mnonXla\u001b[39m\u001b[38;5;124m\"\u001b[39m\n\u001b[1;32m    832\u001b[0m \u001b[38;5;28;01mwith\u001b[39;00m OptionalXlaContext(\u001b[38;5;28mself\u001b[39m\u001b[38;5;241m.\u001b[39m_jit_compile):\n\u001b[0;32m--> 833\u001b[0m   result \u001b[38;5;241m=\u001b[39m \u001b[38;5;28;43mself\u001b[39;49m\u001b[38;5;241;43m.\u001b[39;49m\u001b[43m_call\u001b[49m\u001b[43m(\u001b[49m\u001b[38;5;241;43m*\u001b[39;49m\u001b[43margs\u001b[49m\u001b[43m,\u001b[49m\u001b[43m \u001b[49m\u001b[38;5;241;43m*\u001b[39;49m\u001b[38;5;241;43m*\u001b[39;49m\u001b[43mkwds\u001b[49m\u001b[43m)\u001b[49m\n\u001b[1;32m    835\u001b[0m new_tracing_count \u001b[38;5;241m=\u001b[39m \u001b[38;5;28mself\u001b[39m\u001b[38;5;241m.\u001b[39mexperimental_get_tracing_count()\n\u001b[1;32m    836\u001b[0m without_tracing \u001b[38;5;241m=\u001b[39m (tracing_count \u001b[38;5;241m==\u001b[39m new_tracing_count)\n",
      "File \u001b[0;32m~/Desktop/CLASSES/MSc Project/deltalens/venv/lib/python3.9/site-packages/tensorflow/python/eager/polymorphic_function/polymorphic_function.py:889\u001b[0m, in \u001b[0;36mFunction._call\u001b[0;34m(self, *args, **kwds)\u001b[0m\n\u001b[1;32m    886\u001b[0m \u001b[38;5;28;01mtry\u001b[39;00m:\n\u001b[1;32m    887\u001b[0m   \u001b[38;5;66;03m# This is the first call of __call__, so we have to initialize.\u001b[39;00m\n\u001b[1;32m    888\u001b[0m   initializers \u001b[38;5;241m=\u001b[39m []\n\u001b[0;32m--> 889\u001b[0m   \u001b[38;5;28;43mself\u001b[39;49m\u001b[38;5;241;43m.\u001b[39;49m\u001b[43m_initialize\u001b[49m\u001b[43m(\u001b[49m\u001b[43margs\u001b[49m\u001b[43m,\u001b[49m\u001b[43m \u001b[49m\u001b[43mkwds\u001b[49m\u001b[43m,\u001b[49m\u001b[43m \u001b[49m\u001b[43madd_initializers_to\u001b[49m\u001b[38;5;241;43m=\u001b[39;49m\u001b[43minitializers\u001b[49m\u001b[43m)\u001b[49m\n\u001b[1;32m    890\u001b[0m \u001b[38;5;28;01mfinally\u001b[39;00m:\n\u001b[1;32m    891\u001b[0m   \u001b[38;5;66;03m# At this point we know that the initialization is complete (or less\u001b[39;00m\n\u001b[1;32m    892\u001b[0m   \u001b[38;5;66;03m# interestingly an exception was raised) so we no longer need a lock.\u001b[39;00m\n\u001b[1;32m    893\u001b[0m   \u001b[38;5;28mself\u001b[39m\u001b[38;5;241m.\u001b[39m_lock\u001b[38;5;241m.\u001b[39mrelease()\n",
      "File \u001b[0;32m~/Desktop/CLASSES/MSc Project/deltalens/venv/lib/python3.9/site-packages/tensorflow/python/eager/polymorphic_function/polymorphic_function.py:696\u001b[0m, in \u001b[0;36mFunction._initialize\u001b[0;34m(self, args, kwds, add_initializers_to)\u001b[0m\n\u001b[1;32m    691\u001b[0m \u001b[38;5;28mself\u001b[39m\u001b[38;5;241m.\u001b[39m_variable_creation_config \u001b[38;5;241m=\u001b[39m \u001b[38;5;28mself\u001b[39m\u001b[38;5;241m.\u001b[39m_generate_scoped_tracing_options(\n\u001b[1;32m    692\u001b[0m     variable_capturing_scope,\n\u001b[1;32m    693\u001b[0m     tracing_compilation\u001b[38;5;241m.\u001b[39mScopeType\u001b[38;5;241m.\u001b[39mVARIABLE_CREATION,\n\u001b[1;32m    694\u001b[0m )\n\u001b[1;32m    695\u001b[0m \u001b[38;5;66;03m# Force the definition of the function for these arguments\u001b[39;00m\n\u001b[0;32m--> 696\u001b[0m \u001b[38;5;28mself\u001b[39m\u001b[38;5;241m.\u001b[39m_concrete_variable_creation_fn \u001b[38;5;241m=\u001b[39m \u001b[43mtracing_compilation\u001b[49m\u001b[38;5;241;43m.\u001b[39;49m\u001b[43mtrace_function\u001b[49m\u001b[43m(\u001b[49m\n\u001b[1;32m    697\u001b[0m \u001b[43m    \u001b[49m\u001b[43margs\u001b[49m\u001b[43m,\u001b[49m\u001b[43m \u001b[49m\u001b[43mkwds\u001b[49m\u001b[43m,\u001b[49m\u001b[43m \u001b[49m\u001b[38;5;28;43mself\u001b[39;49m\u001b[38;5;241;43m.\u001b[39;49m\u001b[43m_variable_creation_config\u001b[49m\n\u001b[1;32m    698\u001b[0m \u001b[43m\u001b[49m\u001b[43m)\u001b[49m\n\u001b[1;32m    700\u001b[0m \u001b[38;5;28;01mdef\u001b[39;00m\u001b[38;5;250m \u001b[39m\u001b[38;5;21minvalid_creator_scope\u001b[39m(\u001b[38;5;241m*\u001b[39munused_args, \u001b[38;5;241m*\u001b[39m\u001b[38;5;241m*\u001b[39munused_kwds):\n\u001b[1;32m    701\u001b[0m \u001b[38;5;250m  \u001b[39m\u001b[38;5;124;03m\"\"\"Disables variable creation.\"\"\"\u001b[39;00m\n",
      "File \u001b[0;32m~/Desktop/CLASSES/MSc Project/deltalens/venv/lib/python3.9/site-packages/tensorflow/python/eager/polymorphic_function/tracing_compilation.py:178\u001b[0m, in \u001b[0;36mtrace_function\u001b[0;34m(args, kwargs, tracing_options)\u001b[0m\n\u001b[1;32m    175\u001b[0m     args \u001b[38;5;241m=\u001b[39m tracing_options\u001b[38;5;241m.\u001b[39minput_signature\n\u001b[1;32m    176\u001b[0m     kwargs \u001b[38;5;241m=\u001b[39m {}\n\u001b[0;32m--> 178\u001b[0m   concrete_function \u001b[38;5;241m=\u001b[39m \u001b[43m_maybe_define_function\u001b[49m\u001b[43m(\u001b[49m\n\u001b[1;32m    179\u001b[0m \u001b[43m      \u001b[49m\u001b[43margs\u001b[49m\u001b[43m,\u001b[49m\u001b[43m \u001b[49m\u001b[43mkwargs\u001b[49m\u001b[43m,\u001b[49m\u001b[43m \u001b[49m\u001b[43mtracing_options\u001b[49m\n\u001b[1;32m    180\u001b[0m \u001b[43m  \u001b[49m\u001b[43m)\u001b[49m\n\u001b[1;32m    182\u001b[0m \u001b[38;5;28;01mif\u001b[39;00m \u001b[38;5;129;01mnot\u001b[39;00m tracing_options\u001b[38;5;241m.\u001b[39mbind_graph_to_function:\n\u001b[1;32m    183\u001b[0m   concrete_function\u001b[38;5;241m.\u001b[39m_garbage_collector\u001b[38;5;241m.\u001b[39mrelease()  \u001b[38;5;66;03m# pylint: disable=protected-access\u001b[39;00m\n",
      "File \u001b[0;32m~/Desktop/CLASSES/MSc Project/deltalens/venv/lib/python3.9/site-packages/tensorflow/python/eager/polymorphic_function/tracing_compilation.py:283\u001b[0m, in \u001b[0;36m_maybe_define_function\u001b[0;34m(args, kwargs, tracing_options)\u001b[0m\n\u001b[1;32m    281\u001b[0m \u001b[38;5;28;01melse\u001b[39;00m:\n\u001b[1;32m    282\u001b[0m   target_func_type \u001b[38;5;241m=\u001b[39m lookup_func_type\n\u001b[0;32m--> 283\u001b[0m concrete_function \u001b[38;5;241m=\u001b[39m \u001b[43m_create_concrete_function\u001b[49m\u001b[43m(\u001b[49m\n\u001b[1;32m    284\u001b[0m \u001b[43m    \u001b[49m\u001b[43mtarget_func_type\u001b[49m\u001b[43m,\u001b[49m\u001b[43m \u001b[49m\u001b[43mlookup_func_context\u001b[49m\u001b[43m,\u001b[49m\u001b[43m \u001b[49m\u001b[43mfunc_graph\u001b[49m\u001b[43m,\u001b[49m\u001b[43m \u001b[49m\u001b[43mtracing_options\u001b[49m\n\u001b[1;32m    285\u001b[0m \u001b[43m\u001b[49m\u001b[43m)\u001b[49m\n\u001b[1;32m    287\u001b[0m \u001b[38;5;28;01mif\u001b[39;00m tracing_options\u001b[38;5;241m.\u001b[39mfunction_cache \u001b[38;5;129;01mis\u001b[39;00m \u001b[38;5;129;01mnot\u001b[39;00m \u001b[38;5;28;01mNone\u001b[39;00m:\n\u001b[1;32m    288\u001b[0m   tracing_options\u001b[38;5;241m.\u001b[39mfunction_cache\u001b[38;5;241m.\u001b[39madd(\n\u001b[1;32m    289\u001b[0m       concrete_function, current_func_context\n\u001b[1;32m    290\u001b[0m   )\n",
      "File \u001b[0;32m~/Desktop/CLASSES/MSc Project/deltalens/venv/lib/python3.9/site-packages/tensorflow/python/eager/polymorphic_function/tracing_compilation.py:310\u001b[0m, in \u001b[0;36m_create_concrete_function\u001b[0;34m(function_type, type_context, func_graph, tracing_options)\u001b[0m\n\u001b[1;32m    303\u001b[0m   placeholder_bound_args \u001b[38;5;241m=\u001b[39m function_type\u001b[38;5;241m.\u001b[39mplaceholder_arguments(\n\u001b[1;32m    304\u001b[0m       placeholder_context\n\u001b[1;32m    305\u001b[0m   )\n\u001b[1;32m    307\u001b[0m disable_acd \u001b[38;5;241m=\u001b[39m tracing_options\u001b[38;5;241m.\u001b[39mattributes \u001b[38;5;129;01mand\u001b[39;00m tracing_options\u001b[38;5;241m.\u001b[39mattributes\u001b[38;5;241m.\u001b[39mget(\n\u001b[1;32m    308\u001b[0m     attributes_lib\u001b[38;5;241m.\u001b[39mDISABLE_ACD, \u001b[38;5;28;01mFalse\u001b[39;00m\n\u001b[1;32m    309\u001b[0m )\n\u001b[0;32m--> 310\u001b[0m traced_func_graph \u001b[38;5;241m=\u001b[39m \u001b[43mfunc_graph_module\u001b[49m\u001b[38;5;241;43m.\u001b[39;49m\u001b[43mfunc_graph_from_py_func\u001b[49m\u001b[43m(\u001b[49m\n\u001b[1;32m    311\u001b[0m \u001b[43m    \u001b[49m\u001b[43mtracing_options\u001b[49m\u001b[38;5;241;43m.\u001b[39;49m\u001b[43mname\u001b[49m\u001b[43m,\u001b[49m\n\u001b[1;32m    312\u001b[0m \u001b[43m    \u001b[49m\u001b[43mtracing_options\u001b[49m\u001b[38;5;241;43m.\u001b[39;49m\u001b[43mpython_function\u001b[49m\u001b[43m,\u001b[49m\n\u001b[1;32m    313\u001b[0m \u001b[43m    \u001b[49m\u001b[43mplaceholder_bound_args\u001b[49m\u001b[38;5;241;43m.\u001b[39;49m\u001b[43margs\u001b[49m\u001b[43m,\u001b[49m\n\u001b[1;32m    314\u001b[0m \u001b[43m    \u001b[49m\u001b[43mplaceholder_bound_args\u001b[49m\u001b[38;5;241;43m.\u001b[39;49m\u001b[43mkwargs\u001b[49m\u001b[43m,\u001b[49m\n\u001b[1;32m    315\u001b[0m \u001b[43m    \u001b[49m\u001b[38;5;28;43;01mNone\u001b[39;49;00m\u001b[43m,\u001b[49m\n\u001b[1;32m    316\u001b[0m \u001b[43m    \u001b[49m\u001b[43mfunc_graph\u001b[49m\u001b[38;5;241;43m=\u001b[39;49m\u001b[43mfunc_graph\u001b[49m\u001b[43m,\u001b[49m\n\u001b[1;32m    317\u001b[0m \u001b[43m    \u001b[49m\u001b[43madd_control_dependencies\u001b[49m\u001b[38;5;241;43m=\u001b[39;49m\u001b[38;5;129;43;01mnot\u001b[39;49;00m\u001b[43m \u001b[49m\u001b[43mdisable_acd\u001b[49m\u001b[43m,\u001b[49m\n\u001b[1;32m    318\u001b[0m \u001b[43m    \u001b[49m\u001b[43marg_names\u001b[49m\u001b[38;5;241;43m=\u001b[39;49m\u001b[43mfunction_type_utils\u001b[49m\u001b[38;5;241;43m.\u001b[39;49m\u001b[43mto_arg_names\u001b[49m\u001b[43m(\u001b[49m\u001b[43mfunction_type\u001b[49m\u001b[43m)\u001b[49m\u001b[43m,\u001b[49m\n\u001b[1;32m    319\u001b[0m \u001b[43m    \u001b[49m\u001b[43mcreate_placeholders\u001b[49m\u001b[38;5;241;43m=\u001b[39;49m\u001b[38;5;28;43;01mFalse\u001b[39;49;00m\u001b[43m,\u001b[49m\n\u001b[1;32m    320\u001b[0m \u001b[43m\u001b[49m\u001b[43m)\u001b[49m\n\u001b[1;32m    322\u001b[0m transform\u001b[38;5;241m.\u001b[39mapply_func_graph_transforms(traced_func_graph)\n\u001b[1;32m    324\u001b[0m graph_capture_container \u001b[38;5;241m=\u001b[39m traced_func_graph\u001b[38;5;241m.\u001b[39mfunction_captures\n",
      "File \u001b[0;32m~/Desktop/CLASSES/MSc Project/deltalens/venv/lib/python3.9/site-packages/tensorflow/python/framework/func_graph.py:1060\u001b[0m, in \u001b[0;36mfunc_graph_from_py_func\u001b[0;34m(name, python_func, args, kwargs, signature, func_graph, add_control_dependencies, arg_names, op_return_value, collections, capture_by_value, create_placeholders)\u001b[0m\n\u001b[1;32m   1057\u001b[0m   \u001b[38;5;28;01mreturn\u001b[39;00m x\n\u001b[1;32m   1059\u001b[0m _, original_func \u001b[38;5;241m=\u001b[39m tf_decorator\u001b[38;5;241m.\u001b[39munwrap(python_func)\n\u001b[0;32m-> 1060\u001b[0m func_outputs \u001b[38;5;241m=\u001b[39m \u001b[43mpython_func\u001b[49m\u001b[43m(\u001b[49m\u001b[38;5;241;43m*\u001b[39;49m\u001b[43mfunc_args\u001b[49m\u001b[43m,\u001b[49m\u001b[43m \u001b[49m\u001b[38;5;241;43m*\u001b[39;49m\u001b[38;5;241;43m*\u001b[39;49m\u001b[43mfunc_kwargs\u001b[49m\u001b[43m)\u001b[49m\n\u001b[1;32m   1062\u001b[0m \u001b[38;5;66;03m# invariant: `func_outputs` contains only Tensors, CompositeTensors,\u001b[39;00m\n\u001b[1;32m   1063\u001b[0m \u001b[38;5;66;03m# TensorArrays and `None`s.\u001b[39;00m\n\u001b[1;32m   1064\u001b[0m func_outputs \u001b[38;5;241m=\u001b[39m variable_utils\u001b[38;5;241m.\u001b[39mconvert_variables_to_tensors(func_outputs)\n",
      "File \u001b[0;32m~/Desktop/CLASSES/MSc Project/deltalens/venv/lib/python3.9/site-packages/tensorflow/python/eager/polymorphic_function/polymorphic_function.py:599\u001b[0m, in \u001b[0;36mFunction._generate_scoped_tracing_options.<locals>.wrapped_fn\u001b[0;34m(*args, **kwds)\u001b[0m\n\u001b[1;32m    595\u001b[0m \u001b[38;5;28;01mwith\u001b[39;00m default_graph\u001b[38;5;241m.\u001b[39m_variable_creator_scope(scope, priority\u001b[38;5;241m=\u001b[39m\u001b[38;5;241m50\u001b[39m):  \u001b[38;5;66;03m# pylint: disable=protected-access\u001b[39;00m\n\u001b[1;32m    596\u001b[0m   \u001b[38;5;66;03m# __wrapped__ allows AutoGraph to swap in a converted function. We give\u001b[39;00m\n\u001b[1;32m    597\u001b[0m   \u001b[38;5;66;03m# the function a weak reference to itself to avoid a reference cycle.\u001b[39;00m\n\u001b[1;32m    598\u001b[0m   \u001b[38;5;28;01mwith\u001b[39;00m OptionalXlaContext(compile_with_xla):\n\u001b[0;32m--> 599\u001b[0m     out \u001b[38;5;241m=\u001b[39m \u001b[43mweak_wrapped_fn\u001b[49m\u001b[43m(\u001b[49m\u001b[43m)\u001b[49m\u001b[38;5;241;43m.\u001b[39;49m\u001b[43m__wrapped__\u001b[49m\u001b[43m(\u001b[49m\u001b[38;5;241;43m*\u001b[39;49m\u001b[43margs\u001b[49m\u001b[43m,\u001b[49m\u001b[43m \u001b[49m\u001b[38;5;241;43m*\u001b[39;49m\u001b[38;5;241;43m*\u001b[39;49m\u001b[43mkwds\u001b[49m\u001b[43m)\u001b[49m\n\u001b[1;32m    600\u001b[0m   \u001b[38;5;28;01mreturn\u001b[39;00m out\n",
      "File \u001b[0;32m~/Desktop/CLASSES/MSc Project/deltalens/venv/lib/python3.9/site-packages/tensorflow/python/eager/polymorphic_function/autograph_util.py:41\u001b[0m, in \u001b[0;36mpy_func_from_autograph.<locals>.autograph_handler\u001b[0;34m(*args, **kwargs)\u001b[0m\n\u001b[1;32m     39\u001b[0m \u001b[38;5;250m\u001b[39m\u001b[38;5;124;03m\"\"\"Calls a converted version of original_func.\"\"\"\u001b[39;00m\n\u001b[1;32m     40\u001b[0m \u001b[38;5;28;01mtry\u001b[39;00m:\n\u001b[0;32m---> 41\u001b[0m   \u001b[38;5;28;01mreturn\u001b[39;00m \u001b[43mapi\u001b[49m\u001b[38;5;241;43m.\u001b[39;49m\u001b[43mconverted_call\u001b[49m\u001b[43m(\u001b[49m\n\u001b[1;32m     42\u001b[0m \u001b[43m      \u001b[49m\u001b[43moriginal_func\u001b[49m\u001b[43m,\u001b[49m\n\u001b[1;32m     43\u001b[0m \u001b[43m      \u001b[49m\u001b[43margs\u001b[49m\u001b[43m,\u001b[49m\n\u001b[1;32m     44\u001b[0m \u001b[43m      \u001b[49m\u001b[43mkwargs\u001b[49m\u001b[43m,\u001b[49m\n\u001b[1;32m     45\u001b[0m \u001b[43m      \u001b[49m\u001b[43moptions\u001b[49m\u001b[38;5;241;43m=\u001b[39;49m\u001b[43mconverter\u001b[49m\u001b[38;5;241;43m.\u001b[39;49m\u001b[43mConversionOptions\u001b[49m\u001b[43m(\u001b[49m\n\u001b[1;32m     46\u001b[0m \u001b[43m          \u001b[49m\u001b[43mrecursive\u001b[49m\u001b[38;5;241;43m=\u001b[39;49m\u001b[38;5;28;43;01mTrue\u001b[39;49;00m\u001b[43m,\u001b[49m\n\u001b[1;32m     47\u001b[0m \u001b[43m          \u001b[49m\u001b[43moptional_features\u001b[49m\u001b[38;5;241;43m=\u001b[39;49m\u001b[43mautograph_options\u001b[49m\u001b[43m,\u001b[49m\n\u001b[1;32m     48\u001b[0m \u001b[43m          \u001b[49m\u001b[43muser_requested\u001b[49m\u001b[38;5;241;43m=\u001b[39;49m\u001b[38;5;28;43;01mTrue\u001b[39;49;00m\u001b[43m,\u001b[49m\n\u001b[1;32m     49\u001b[0m \u001b[43m      \u001b[49m\u001b[43m)\u001b[49m\u001b[43m)\u001b[49m\n\u001b[1;32m     50\u001b[0m \u001b[38;5;28;01mexcept\u001b[39;00m \u001b[38;5;167;01mException\u001b[39;00m \u001b[38;5;28;01mas\u001b[39;00m e:  \u001b[38;5;66;03m# pylint:disable=broad-except\u001b[39;00m\n\u001b[1;32m     51\u001b[0m   \u001b[38;5;28;01mif\u001b[39;00m \u001b[38;5;28mhasattr\u001b[39m(e, \u001b[38;5;124m\"\u001b[39m\u001b[38;5;124mag_error_metadata\u001b[39m\u001b[38;5;124m\"\u001b[39m):\n",
      "File \u001b[0;32m~/Desktop/CLASSES/MSc Project/deltalens/venv/lib/python3.9/site-packages/tensorflow/python/autograph/impl/api.py:339\u001b[0m, in \u001b[0;36mconverted_call\u001b[0;34m(f, args, kwargs, caller_fn_scope, options)\u001b[0m\n\u001b[1;32m    337\u001b[0m \u001b[38;5;28;01mif\u001b[39;00m is_autograph_artifact(f):\n\u001b[1;32m    338\u001b[0m   logging\u001b[38;5;241m.\u001b[39mlog(\u001b[38;5;241m2\u001b[39m, \u001b[38;5;124m'\u001b[39m\u001b[38;5;124mPermanently allowed: \u001b[39m\u001b[38;5;132;01m%s\u001b[39;00m\u001b[38;5;124m: AutoGraph artifact\u001b[39m\u001b[38;5;124m'\u001b[39m, f)\n\u001b[0;32m--> 339\u001b[0m   \u001b[38;5;28;01mreturn\u001b[39;00m \u001b[43m_call_unconverted\u001b[49m\u001b[43m(\u001b[49m\u001b[43mf\u001b[49m\u001b[43m,\u001b[49m\u001b[43m \u001b[49m\u001b[43margs\u001b[49m\u001b[43m,\u001b[49m\u001b[43m \u001b[49m\u001b[43mkwargs\u001b[49m\u001b[43m,\u001b[49m\u001b[43m \u001b[49m\u001b[43moptions\u001b[49m\u001b[43m)\u001b[49m\n\u001b[1;32m    341\u001b[0m \u001b[38;5;66;03m# If this is a partial, unwrap it and redo all the checks.\u001b[39;00m\n\u001b[1;32m    342\u001b[0m \u001b[38;5;28;01mif\u001b[39;00m \u001b[38;5;28misinstance\u001b[39m(f, functools\u001b[38;5;241m.\u001b[39mpartial):\n",
      "File \u001b[0;32m~/Desktop/CLASSES/MSc Project/deltalens/venv/lib/python3.9/site-packages/tensorflow/python/autograph/impl/api.py:459\u001b[0m, in \u001b[0;36m_call_unconverted\u001b[0;34m(f, args, kwargs, options, update_cache)\u001b[0m\n\u001b[1;32m    456\u001b[0m   \u001b[38;5;28;01mreturn\u001b[39;00m f\u001b[38;5;241m.\u001b[39m\u001b[38;5;18m__self__\u001b[39m\u001b[38;5;241m.\u001b[39mcall(args, kwargs)\n\u001b[1;32m    458\u001b[0m \u001b[38;5;28;01mif\u001b[39;00m kwargs \u001b[38;5;129;01mis\u001b[39;00m \u001b[38;5;129;01mnot\u001b[39;00m \u001b[38;5;28;01mNone\u001b[39;00m:\n\u001b[0;32m--> 459\u001b[0m   \u001b[38;5;28;01mreturn\u001b[39;00m \u001b[43mf\u001b[49m\u001b[43m(\u001b[49m\u001b[38;5;241;43m*\u001b[39;49m\u001b[43margs\u001b[49m\u001b[43m,\u001b[49m\u001b[43m \u001b[49m\u001b[38;5;241;43m*\u001b[39;49m\u001b[38;5;241;43m*\u001b[39;49m\u001b[43mkwargs\u001b[49m\u001b[43m)\u001b[49m\n\u001b[1;32m    460\u001b[0m \u001b[38;5;28;01mreturn\u001b[39;00m f(\u001b[38;5;241m*\u001b[39margs)\n",
      "File \u001b[0;32m~/Desktop/CLASSES/MSc Project/deltalens/venv/lib/python3.9/site-packages/tensorflow/python/autograph/impl/api.py:643\u001b[0m, in \u001b[0;36mdo_not_convert.<locals>.wrapper\u001b[0;34m(*args, **kwargs)\u001b[0m\n\u001b[1;32m    641\u001b[0m \u001b[38;5;28;01mdef\u001b[39;00m\u001b[38;5;250m \u001b[39m\u001b[38;5;21mwrapper\u001b[39m(\u001b[38;5;241m*\u001b[39margs, \u001b[38;5;241m*\u001b[39m\u001b[38;5;241m*\u001b[39mkwargs):\n\u001b[1;32m    642\u001b[0m   \u001b[38;5;28;01mwith\u001b[39;00m ag_ctx\u001b[38;5;241m.\u001b[39mControlStatusCtx(status\u001b[38;5;241m=\u001b[39mag_ctx\u001b[38;5;241m.\u001b[39mStatus\u001b[38;5;241m.\u001b[39mDISABLED):\n\u001b[0;32m--> 643\u001b[0m     \u001b[38;5;28;01mreturn\u001b[39;00m \u001b[43mfunc\u001b[49m\u001b[43m(\u001b[49m\u001b[38;5;241;43m*\u001b[39;49m\u001b[43margs\u001b[49m\u001b[43m,\u001b[49m\u001b[43m \u001b[49m\u001b[38;5;241;43m*\u001b[39;49m\u001b[38;5;241;43m*\u001b[39;49m\u001b[43mkwargs\u001b[49m\u001b[43m)\u001b[49m\n",
      "File \u001b[0;32m~/Desktop/CLASSES/MSc Project/deltalens/venv/lib/python3.9/site-packages/keras/src/backend/tensorflow/trainer.py:260\u001b[0m, in \u001b[0;36mTensorFlowTrainer.make_predict_function.<locals>.one_step_on_data_distributed\u001b[0;34m(data)\u001b[0m\n\u001b[1;32m    257\u001b[0m \u001b[38;5;129m@tf\u001b[39m\u001b[38;5;241m.\u001b[39mautograph\u001b[38;5;241m.\u001b[39mexperimental\u001b[38;5;241m.\u001b[39mdo_not_convert\n\u001b[1;32m    258\u001b[0m \u001b[38;5;28;01mdef\u001b[39;00m\u001b[38;5;250m \u001b[39m\u001b[38;5;21mone_step_on_data_distributed\u001b[39m(data):\n\u001b[1;32m    259\u001b[0m     data \u001b[38;5;241m=\u001b[39m data[\u001b[38;5;241m0\u001b[39m]\n\u001b[0;32m--> 260\u001b[0m     outputs \u001b[38;5;241m=\u001b[39m \u001b[38;5;28;43mself\u001b[39;49m\u001b[38;5;241;43m.\u001b[39;49m\u001b[43mdistribute_strategy\u001b[49m\u001b[38;5;241;43m.\u001b[39;49m\u001b[43mrun\u001b[49m\u001b[43m(\u001b[49m\n\u001b[1;32m    261\u001b[0m \u001b[43m        \u001b[49m\u001b[43mone_step_on_data\u001b[49m\u001b[43m,\u001b[49m\u001b[43m \u001b[49m\u001b[43margs\u001b[49m\u001b[38;5;241;43m=\u001b[39;49m\u001b[43m(\u001b[49m\u001b[43mdata\u001b[49m\u001b[43m,\u001b[49m\u001b[43m)\u001b[49m\n\u001b[1;32m    262\u001b[0m \u001b[43m    \u001b[49m\u001b[43m)\u001b[49m\n\u001b[1;32m    263\u001b[0m     outputs \u001b[38;5;241m=\u001b[39m reduce_per_replica(\n\u001b[1;32m    264\u001b[0m         outputs,\n\u001b[1;32m    265\u001b[0m         \u001b[38;5;28mself\u001b[39m\u001b[38;5;241m.\u001b[39mdistribute_strategy,\n\u001b[1;32m    266\u001b[0m         reduction\u001b[38;5;241m=\u001b[39m\u001b[38;5;124m\"\u001b[39m\u001b[38;5;124mconcat\u001b[39m\u001b[38;5;124m\"\u001b[39m,\n\u001b[1;32m    267\u001b[0m     )\n\u001b[1;32m    268\u001b[0m     \u001b[38;5;28;01mreturn\u001b[39;00m outputs\n",
      "File \u001b[0;32m~/Desktop/CLASSES/MSc Project/deltalens/venv/lib/python3.9/site-packages/tensorflow/python/distribute/distribute_lib.py:1673\u001b[0m, in \u001b[0;36mStrategyBase.run\u001b[0;34m(***failed resolving arguments***)\u001b[0m\n\u001b[1;32m   1668\u001b[0m \u001b[38;5;28;01mwith\u001b[39;00m \u001b[38;5;28mself\u001b[39m\u001b[38;5;241m.\u001b[39mscope():\n\u001b[1;32m   1669\u001b[0m   \u001b[38;5;66;03m# tf.distribute supports Eager functions, so AutoGraph should not be\u001b[39;00m\n\u001b[1;32m   1670\u001b[0m   \u001b[38;5;66;03m# applied when the caller is also in Eager mode.\u001b[39;00m\n\u001b[1;32m   1671\u001b[0m   fn \u001b[38;5;241m=\u001b[39m autograph\u001b[38;5;241m.\u001b[39mtf_convert(\n\u001b[1;32m   1672\u001b[0m       fn, autograph_ctx\u001b[38;5;241m.\u001b[39mcontrol_status_ctx(), convert_by_default\u001b[38;5;241m=\u001b[39m\u001b[38;5;28;01mFalse\u001b[39;00m)\n\u001b[0;32m-> 1673\u001b[0m   \u001b[38;5;28;01mreturn\u001b[39;00m \u001b[38;5;28;43mself\u001b[39;49m\u001b[38;5;241;43m.\u001b[39;49m\u001b[43m_extended\u001b[49m\u001b[38;5;241;43m.\u001b[39;49m\u001b[43mcall_for_each_replica\u001b[49m\u001b[43m(\u001b[49m\u001b[43mfn\u001b[49m\u001b[43m,\u001b[49m\u001b[43m \u001b[49m\u001b[43margs\u001b[49m\u001b[38;5;241;43m=\u001b[39;49m\u001b[43margs\u001b[49m\u001b[43m,\u001b[49m\u001b[43m \u001b[49m\u001b[43mkwargs\u001b[49m\u001b[38;5;241;43m=\u001b[39;49m\u001b[43mkwargs\u001b[49m\u001b[43m)\u001b[49m\n",
      "File \u001b[0;32m~/Desktop/CLASSES/MSc Project/deltalens/venv/lib/python3.9/site-packages/tensorflow/python/distribute/distribute_lib.py:3263\u001b[0m, in \u001b[0;36mStrategyExtendedV1.call_for_each_replica\u001b[0;34m(self, fn, args, kwargs)\u001b[0m\n\u001b[1;32m   3261\u001b[0m   kwargs \u001b[38;5;241m=\u001b[39m {}\n\u001b[1;32m   3262\u001b[0m \u001b[38;5;28;01mwith\u001b[39;00m \u001b[38;5;28mself\u001b[39m\u001b[38;5;241m.\u001b[39m_container_strategy()\u001b[38;5;241m.\u001b[39mscope():\n\u001b[0;32m-> 3263\u001b[0m   \u001b[38;5;28;01mreturn\u001b[39;00m \u001b[38;5;28;43mself\u001b[39;49m\u001b[38;5;241;43m.\u001b[39;49m\u001b[43m_call_for_each_replica\u001b[49m\u001b[43m(\u001b[49m\u001b[43mfn\u001b[49m\u001b[43m,\u001b[49m\u001b[43m \u001b[49m\u001b[43margs\u001b[49m\u001b[43m,\u001b[49m\u001b[43m \u001b[49m\u001b[43mkwargs\u001b[49m\u001b[43m)\u001b[49m\n",
      "File \u001b[0;32m~/Desktop/CLASSES/MSc Project/deltalens/venv/lib/python3.9/site-packages/tensorflow/python/distribute/distribute_lib.py:4061\u001b[0m, in \u001b[0;36m_DefaultDistributionExtended._call_for_each_replica\u001b[0;34m(self, fn, args, kwargs)\u001b[0m\n\u001b[1;32m   4059\u001b[0m \u001b[38;5;28;01mdef\u001b[39;00m\u001b[38;5;250m \u001b[39m\u001b[38;5;21m_call_for_each_replica\u001b[39m(\u001b[38;5;28mself\u001b[39m, fn, args, kwargs):\n\u001b[1;32m   4060\u001b[0m   \u001b[38;5;28;01mwith\u001b[39;00m ReplicaContext(\u001b[38;5;28mself\u001b[39m\u001b[38;5;241m.\u001b[39m_container_strategy(), replica_id_in_sync_group\u001b[38;5;241m=\u001b[39m\u001b[38;5;241m0\u001b[39m):\n\u001b[0;32m-> 4061\u001b[0m     \u001b[38;5;28;01mreturn\u001b[39;00m \u001b[43mfn\u001b[49m\u001b[43m(\u001b[49m\u001b[38;5;241;43m*\u001b[39;49m\u001b[43margs\u001b[49m\u001b[43m,\u001b[49m\u001b[43m \u001b[49m\u001b[38;5;241;43m*\u001b[39;49m\u001b[38;5;241;43m*\u001b[39;49m\u001b[43mkwargs\u001b[49m\u001b[43m)\u001b[49m\n",
      "File \u001b[0;32m~/Desktop/CLASSES/MSc Project/deltalens/venv/lib/python3.9/site-packages/tensorflow/python/autograph/impl/api.py:643\u001b[0m, in \u001b[0;36mdo_not_convert.<locals>.wrapper\u001b[0;34m(*args, **kwargs)\u001b[0m\n\u001b[1;32m    641\u001b[0m \u001b[38;5;28;01mdef\u001b[39;00m\u001b[38;5;250m \u001b[39m\u001b[38;5;21mwrapper\u001b[39m(\u001b[38;5;241m*\u001b[39margs, \u001b[38;5;241m*\u001b[39m\u001b[38;5;241m*\u001b[39mkwargs):\n\u001b[1;32m    642\u001b[0m   \u001b[38;5;28;01mwith\u001b[39;00m ag_ctx\u001b[38;5;241m.\u001b[39mControlStatusCtx(status\u001b[38;5;241m=\u001b[39mag_ctx\u001b[38;5;241m.\u001b[39mStatus\u001b[38;5;241m.\u001b[39mDISABLED):\n\u001b[0;32m--> 643\u001b[0m     \u001b[38;5;28;01mreturn\u001b[39;00m \u001b[43mfunc\u001b[49m\u001b[43m(\u001b[49m\u001b[38;5;241;43m*\u001b[39;49m\u001b[43margs\u001b[49m\u001b[43m,\u001b[49m\u001b[43m \u001b[49m\u001b[38;5;241;43m*\u001b[39;49m\u001b[38;5;241;43m*\u001b[39;49m\u001b[43mkwargs\u001b[49m\u001b[43m)\u001b[49m\n",
      "File \u001b[0;32m~/Desktop/CLASSES/MSc Project/deltalens/venv/lib/python3.9/site-packages/keras/src/backend/tensorflow/trainer.py:250\u001b[0m, in \u001b[0;36mTensorFlowTrainer.make_predict_function.<locals>.one_step_on_data\u001b[0;34m(data)\u001b[0m\n\u001b[1;32m    247\u001b[0m \u001b[38;5;129m@tf\u001b[39m\u001b[38;5;241m.\u001b[39mautograph\u001b[38;5;241m.\u001b[39mexperimental\u001b[38;5;241m.\u001b[39mdo_not_convert\n\u001b[1;32m    248\u001b[0m \u001b[38;5;28;01mdef\u001b[39;00m\u001b[38;5;250m \u001b[39m\u001b[38;5;21mone_step_on_data\u001b[39m(data):\n\u001b[1;32m    249\u001b[0m \u001b[38;5;250m    \u001b[39m\u001b[38;5;124;03m\"\"\"Runs a predict test step on a batch of data.\"\"\"\u001b[39;00m\n\u001b[0;32m--> 250\u001b[0m     \u001b[38;5;28;01mreturn\u001b[39;00m \u001b[38;5;28;43mself\u001b[39;49m\u001b[38;5;241;43m.\u001b[39;49m\u001b[43mpredict_step\u001b[49m\u001b[43m(\u001b[49m\u001b[43mdata\u001b[49m\u001b[43m)\u001b[49m\n",
      "File \u001b[0;32m~/Desktop/CLASSES/MSc Project/deltalens/venv/lib/python3.9/site-packages/keras/src/backend/tensorflow/trainer.py:105\u001b[0m, in \u001b[0;36mTensorFlowTrainer.predict_step\u001b[0;34m(self, data)\u001b[0m\n\u001b[1;32m    103\u001b[0m x, _, _ \u001b[38;5;241m=\u001b[39m data_adapter_utils\u001b[38;5;241m.\u001b[39munpack_x_y_sample_weight(data)\n\u001b[1;32m    104\u001b[0m \u001b[38;5;28;01mif\u001b[39;00m \u001b[38;5;28mself\u001b[39m\u001b[38;5;241m.\u001b[39m_call_has_training_arg:\n\u001b[0;32m--> 105\u001b[0m     y_pred \u001b[38;5;241m=\u001b[39m \u001b[38;5;28;43mself\u001b[39;49m\u001b[43m(\u001b[49m\u001b[43mx\u001b[49m\u001b[43m,\u001b[49m\u001b[43m \u001b[49m\u001b[43mtraining\u001b[49m\u001b[38;5;241;43m=\u001b[39;49m\u001b[38;5;28;43;01mFalse\u001b[39;49;00m\u001b[43m)\u001b[49m\n\u001b[1;32m    106\u001b[0m \u001b[38;5;28;01melse\u001b[39;00m:\n\u001b[1;32m    107\u001b[0m     y_pred \u001b[38;5;241m=\u001b[39m \u001b[38;5;28mself\u001b[39m(x)\n",
      "File \u001b[0;32m~/Desktop/CLASSES/MSc Project/deltalens/venv/lib/python3.9/site-packages/keras/src/utils/traceback_utils.py:117\u001b[0m, in \u001b[0;36mfilter_traceback.<locals>.error_handler\u001b[0;34m(*args, **kwargs)\u001b[0m\n\u001b[1;32m    115\u001b[0m filtered_tb \u001b[38;5;241m=\u001b[39m \u001b[38;5;28;01mNone\u001b[39;00m\n\u001b[1;32m    116\u001b[0m \u001b[38;5;28;01mtry\u001b[39;00m:\n\u001b[0;32m--> 117\u001b[0m     \u001b[38;5;28;01mreturn\u001b[39;00m \u001b[43mfn\u001b[49m\u001b[43m(\u001b[49m\u001b[38;5;241;43m*\u001b[39;49m\u001b[43margs\u001b[49m\u001b[43m,\u001b[49m\u001b[43m \u001b[49m\u001b[38;5;241;43m*\u001b[39;49m\u001b[38;5;241;43m*\u001b[39;49m\u001b[43mkwargs\u001b[49m\u001b[43m)\u001b[49m\n\u001b[1;32m    118\u001b[0m \u001b[38;5;28;01mexcept\u001b[39;00m \u001b[38;5;167;01mException\u001b[39;00m \u001b[38;5;28;01mas\u001b[39;00m e:\n\u001b[1;32m    119\u001b[0m     filtered_tb \u001b[38;5;241m=\u001b[39m _process_traceback_frames(e\u001b[38;5;241m.\u001b[39m__traceback__)\n",
      "File \u001b[0;32m~/Desktop/CLASSES/MSc Project/deltalens/venv/lib/python3.9/site-packages/keras/src/layers/layer.py:936\u001b[0m, in \u001b[0;36mLayer.__call__\u001b[0;34m(self, *args, **kwargs)\u001b[0m\n\u001b[1;32m    934\u001b[0m         outputs \u001b[38;5;241m=\u001b[39m \u001b[38;5;28msuper\u001b[39m()\u001b[38;5;241m.\u001b[39m\u001b[38;5;21m__call__\u001b[39m(\u001b[38;5;241m*\u001b[39margs, \u001b[38;5;241m*\u001b[39m\u001b[38;5;241m*\u001b[39mkwargs)\n\u001b[1;32m    935\u001b[0m \u001b[38;5;28;01melse\u001b[39;00m:\n\u001b[0;32m--> 936\u001b[0m     outputs \u001b[38;5;241m=\u001b[39m \u001b[38;5;28;43msuper\u001b[39;49m\u001b[43m(\u001b[49m\u001b[43m)\u001b[49m\u001b[38;5;241;43m.\u001b[39;49m\u001b[38;5;21;43m__call__\u001b[39;49m\u001b[43m(\u001b[49m\u001b[38;5;241;43m*\u001b[39;49m\u001b[43margs\u001b[49m\u001b[43m,\u001b[49m\u001b[43m \u001b[49m\u001b[38;5;241;43m*\u001b[39;49m\u001b[38;5;241;43m*\u001b[39;49m\u001b[43mkwargs\u001b[49m\u001b[43m)\u001b[49m\n\u001b[1;32m    937\u001b[0m \u001b[38;5;66;03m# Change the layout for the layer output if needed.\u001b[39;00m\n\u001b[1;32m    938\u001b[0m \u001b[38;5;66;03m# This is useful for relayout intermediate tensor in the model\u001b[39;00m\n\u001b[1;32m    939\u001b[0m \u001b[38;5;66;03m# to achieve the optimal performance.\u001b[39;00m\n\u001b[1;32m    940\u001b[0m distribution \u001b[38;5;241m=\u001b[39m distribution_lib\u001b[38;5;241m.\u001b[39mdistribution()\n",
      "File \u001b[0;32m~/Desktop/CLASSES/MSc Project/deltalens/venv/lib/python3.9/site-packages/keras/src/utils/traceback_utils.py:117\u001b[0m, in \u001b[0;36mfilter_traceback.<locals>.error_handler\u001b[0;34m(*args, **kwargs)\u001b[0m\n\u001b[1;32m    115\u001b[0m filtered_tb \u001b[38;5;241m=\u001b[39m \u001b[38;5;28;01mNone\u001b[39;00m\n\u001b[1;32m    116\u001b[0m \u001b[38;5;28;01mtry\u001b[39;00m:\n\u001b[0;32m--> 117\u001b[0m     \u001b[38;5;28;01mreturn\u001b[39;00m \u001b[43mfn\u001b[49m\u001b[43m(\u001b[49m\u001b[38;5;241;43m*\u001b[39;49m\u001b[43margs\u001b[49m\u001b[43m,\u001b[49m\u001b[43m \u001b[49m\u001b[38;5;241;43m*\u001b[39;49m\u001b[38;5;241;43m*\u001b[39;49m\u001b[43mkwargs\u001b[49m\u001b[43m)\u001b[49m\n\u001b[1;32m    118\u001b[0m \u001b[38;5;28;01mexcept\u001b[39;00m \u001b[38;5;167;01mException\u001b[39;00m \u001b[38;5;28;01mas\u001b[39;00m e:\n\u001b[1;32m    119\u001b[0m     filtered_tb \u001b[38;5;241m=\u001b[39m _process_traceback_frames(e\u001b[38;5;241m.\u001b[39m__traceback__)\n",
      "File \u001b[0;32m~/Desktop/CLASSES/MSc Project/deltalens/venv/lib/python3.9/site-packages/keras/src/ops/operation.py:58\u001b[0m, in \u001b[0;36mOperation.__call__\u001b[0;34m(self, *args, **kwargs)\u001b[0m\n\u001b[1;32m     53\u001b[0m                 call_fn \u001b[38;5;241m=\u001b[39m \u001b[38;5;28mself\u001b[39m\u001b[38;5;241m.\u001b[39mcall\n\u001b[1;32m     54\u001b[0m     call_fn \u001b[38;5;241m=\u001b[39m traceback_utils\u001b[38;5;241m.\u001b[39minject_argument_info_in_traceback(\n\u001b[1;32m     55\u001b[0m         call_fn,\n\u001b[1;32m     56\u001b[0m         object_name\u001b[38;5;241m=\u001b[39m(\u001b[38;5;124mf\u001b[39m\u001b[38;5;124m\"\u001b[39m\u001b[38;5;132;01m{\u001b[39;00m\u001b[38;5;28mself\u001b[39m\u001b[38;5;241m.\u001b[39m\u001b[38;5;18m__class__\u001b[39m\u001b[38;5;241m.\u001b[39m\u001b[38;5;18m__name__\u001b[39m\u001b[38;5;132;01m}\u001b[39;00m\u001b[38;5;124m.call()\u001b[39m\u001b[38;5;124m\"\u001b[39m),\n\u001b[1;32m     57\u001b[0m     )\n\u001b[0;32m---> 58\u001b[0m     \u001b[38;5;28;01mreturn\u001b[39;00m \u001b[43mcall_fn\u001b[49m\u001b[43m(\u001b[49m\u001b[38;5;241;43m*\u001b[39;49m\u001b[43margs\u001b[49m\u001b[43m,\u001b[49m\u001b[43m \u001b[49m\u001b[38;5;241;43m*\u001b[39;49m\u001b[38;5;241;43m*\u001b[39;49m\u001b[43mkwargs\u001b[49m\u001b[43m)\u001b[49m\n\u001b[1;32m     60\u001b[0m \u001b[38;5;66;03m# Plain flow.\u001b[39;00m\n\u001b[1;32m     61\u001b[0m \u001b[38;5;28;01mif\u001b[39;00m any_symbolic_tensors(args, kwargs):\n",
      "File \u001b[0;32m~/Desktop/CLASSES/MSc Project/deltalens/venv/lib/python3.9/site-packages/keras/src/utils/traceback_utils.py:156\u001b[0m, in \u001b[0;36minject_argument_info_in_traceback.<locals>.error_handler\u001b[0;34m(*args, **kwargs)\u001b[0m\n\u001b[1;32m    154\u001b[0m bound_signature \u001b[38;5;241m=\u001b[39m \u001b[38;5;28;01mNone\u001b[39;00m\n\u001b[1;32m    155\u001b[0m \u001b[38;5;28;01mtry\u001b[39;00m:\n\u001b[0;32m--> 156\u001b[0m     \u001b[38;5;28;01mreturn\u001b[39;00m \u001b[43mfn\u001b[49m\u001b[43m(\u001b[49m\u001b[38;5;241;43m*\u001b[39;49m\u001b[43margs\u001b[49m\u001b[43m,\u001b[49m\u001b[43m \u001b[49m\u001b[38;5;241;43m*\u001b[39;49m\u001b[38;5;241;43m*\u001b[39;49m\u001b[43mkwargs\u001b[49m\u001b[43m)\u001b[49m\n\u001b[1;32m    157\u001b[0m \u001b[38;5;28;01mexcept\u001b[39;00m \u001b[38;5;167;01mException\u001b[39;00m \u001b[38;5;28;01mas\u001b[39;00m e:\n\u001b[1;32m    158\u001b[0m     \u001b[38;5;28;01mif\u001b[39;00m \u001b[38;5;28mhasattr\u001b[39m(e, \u001b[38;5;124m\"\u001b[39m\u001b[38;5;124m_keras_call_info_injected\u001b[39m\u001b[38;5;124m\"\u001b[39m):\n\u001b[1;32m    159\u001b[0m         \u001b[38;5;66;03m# Only inject info for the innermost failing call\u001b[39;00m\n",
      "File \u001b[0;32m~/Desktop/CLASSES/MSc Project/deltalens/venv/lib/python3.9/site-packages/keras/src/models/sequential.py:220\u001b[0m, in \u001b[0;36mSequential.call\u001b[0;34m(self, inputs, training, mask, **kwargs)\u001b[0m\n\u001b[1;32m    218\u001b[0m \u001b[38;5;28;01mdef\u001b[39;00m\u001b[38;5;250m \u001b[39m\u001b[38;5;21mcall\u001b[39m(\u001b[38;5;28mself\u001b[39m, inputs, training\u001b[38;5;241m=\u001b[39m\u001b[38;5;28;01mNone\u001b[39;00m, mask\u001b[38;5;241m=\u001b[39m\u001b[38;5;28;01mNone\u001b[39;00m, \u001b[38;5;241m*\u001b[39m\u001b[38;5;241m*\u001b[39mkwargs):\n\u001b[1;32m    219\u001b[0m     \u001b[38;5;28;01mif\u001b[39;00m \u001b[38;5;28mself\u001b[39m\u001b[38;5;241m.\u001b[39m_functional:\n\u001b[0;32m--> 220\u001b[0m         \u001b[38;5;28;01mreturn\u001b[39;00m \u001b[38;5;28;43mself\u001b[39;49m\u001b[38;5;241;43m.\u001b[39;49m\u001b[43m_functional\u001b[49m\u001b[38;5;241;43m.\u001b[39;49m\u001b[43mcall\u001b[49m\u001b[43m(\u001b[49m\n\u001b[1;32m    221\u001b[0m \u001b[43m            \u001b[49m\u001b[43minputs\u001b[49m\u001b[43m,\u001b[49m\u001b[43m \u001b[49m\u001b[43mtraining\u001b[49m\u001b[38;5;241;43m=\u001b[39;49m\u001b[43mtraining\u001b[49m\u001b[43m,\u001b[49m\u001b[43m \u001b[49m\u001b[43mmask\u001b[49m\u001b[38;5;241;43m=\u001b[39;49m\u001b[43mmask\u001b[49m\u001b[43m,\u001b[49m\u001b[43m \u001b[49m\u001b[38;5;241;43m*\u001b[39;49m\u001b[38;5;241;43m*\u001b[39;49m\u001b[43mkwargs\u001b[49m\n\u001b[1;32m    222\u001b[0m \u001b[43m        \u001b[49m\u001b[43m)\u001b[49m\n\u001b[1;32m    224\u001b[0m     \u001b[38;5;66;03m# Fallback: Just apply the layer sequence.\u001b[39;00m\n\u001b[1;32m    225\u001b[0m     \u001b[38;5;66;03m# This typically happens if `inputs` is a nested struct.\u001b[39;00m\n\u001b[1;32m    226\u001b[0m     \u001b[38;5;28;01mfor\u001b[39;00m layer \u001b[38;5;129;01min\u001b[39;00m \u001b[38;5;28mself\u001b[39m\u001b[38;5;241m.\u001b[39mlayers:\n\u001b[1;32m    227\u001b[0m         \u001b[38;5;66;03m# During each iteration, `inputs` are the inputs to `layer`, and\u001b[39;00m\n\u001b[1;32m    228\u001b[0m         \u001b[38;5;66;03m# `outputs` are the outputs of `layer` applied to `inputs`. At the\u001b[39;00m\n\u001b[1;32m    229\u001b[0m         \u001b[38;5;66;03m# end of each iteration `inputs` is set to `outputs` to prepare for\u001b[39;00m\n\u001b[1;32m    230\u001b[0m         \u001b[38;5;66;03m# the next layer.\u001b[39;00m\n",
      "File \u001b[0;32m~/Desktop/CLASSES/MSc Project/deltalens/venv/lib/python3.9/site-packages/keras/src/models/functional.py:183\u001b[0m, in \u001b[0;36mFunctional.call\u001b[0;34m(self, inputs, training, mask, **kwargs)\u001b[0m\n\u001b[1;32m    181\u001b[0m         \u001b[38;5;28;01mif\u001b[39;00m mask \u001b[38;5;129;01mis\u001b[39;00m \u001b[38;5;129;01mnot\u001b[39;00m \u001b[38;5;28;01mNone\u001b[39;00m:\n\u001b[1;32m    182\u001b[0m             backend\u001b[38;5;241m.\u001b[39mset_keras_mask(x, mask)\n\u001b[0;32m--> 183\u001b[0m outputs \u001b[38;5;241m=\u001b[39m \u001b[38;5;28;43mself\u001b[39;49m\u001b[38;5;241;43m.\u001b[39;49m\u001b[43m_run_through_graph\u001b[49m\u001b[43m(\u001b[49m\n\u001b[1;32m    184\u001b[0m \u001b[43m    \u001b[49m\u001b[43minputs\u001b[49m\u001b[43m,\u001b[49m\n\u001b[1;32m    185\u001b[0m \u001b[43m    \u001b[49m\u001b[43moperation_fn\u001b[49m\u001b[38;5;241;43m=\u001b[39;49m\u001b[38;5;28;43;01mlambda\u001b[39;49;00m\u001b[43m \u001b[49m\u001b[43mop\u001b[49m\u001b[43m:\u001b[49m\u001b[43m \u001b[49m\u001b[43moperation_fn\u001b[49m\u001b[43m(\u001b[49m\n\u001b[1;32m    186\u001b[0m \u001b[43m        \u001b[49m\u001b[43mop\u001b[49m\u001b[43m,\u001b[49m\u001b[43m \u001b[49m\u001b[43mtraining\u001b[49m\u001b[38;5;241;43m=\u001b[39;49m\u001b[43mtraining\u001b[49m\u001b[43m,\u001b[49m\u001b[43m \u001b[49m\u001b[38;5;241;43m*\u001b[39;49m\u001b[38;5;241;43m*\u001b[39;49m\u001b[43mkwargs\u001b[49m\n\u001b[1;32m    187\u001b[0m \u001b[43m    \u001b[49m\u001b[43m)\u001b[49m\u001b[43m,\u001b[49m\n\u001b[1;32m    188\u001b[0m \u001b[43m\u001b[49m\u001b[43m)\u001b[49m\n\u001b[1;32m    189\u001b[0m \u001b[38;5;28;01mreturn\u001b[39;00m unpack_singleton(outputs)\n",
      "File \u001b[0;32m~/Desktop/CLASSES/MSc Project/deltalens/venv/lib/python3.9/site-packages/keras/src/ops/function.py:177\u001b[0m, in \u001b[0;36mFunction._run_through_graph\u001b[0;34m(self, inputs, operation_fn, call_fn)\u001b[0m\n\u001b[1;32m    175\u001b[0m     outputs \u001b[38;5;241m=\u001b[39m call_fn(op, \u001b[38;5;241m*\u001b[39margs, \u001b[38;5;241m*\u001b[39m\u001b[38;5;241m*\u001b[39mkwargs)\n\u001b[1;32m    176\u001b[0m \u001b[38;5;28;01melse\u001b[39;00m:\n\u001b[0;32m--> 177\u001b[0m     outputs \u001b[38;5;241m=\u001b[39m \u001b[43mop\u001b[49m\u001b[43m(\u001b[49m\u001b[38;5;241;43m*\u001b[39;49m\u001b[43margs\u001b[49m\u001b[43m,\u001b[49m\u001b[43m \u001b[49m\u001b[38;5;241;43m*\u001b[39;49m\u001b[38;5;241;43m*\u001b[39;49m\u001b[43mkwargs\u001b[49m\u001b[43m)\u001b[49m\n\u001b[1;32m    179\u001b[0m \u001b[38;5;66;03m# Update tensor_dict.\u001b[39;00m\n\u001b[1;32m    180\u001b[0m \u001b[38;5;28;01mfor\u001b[39;00m x, y \u001b[38;5;129;01min\u001b[39;00m \u001b[38;5;28mzip\u001b[39m(node\u001b[38;5;241m.\u001b[39moutputs, tree\u001b[38;5;241m.\u001b[39mflatten(outputs)):\n",
      "File \u001b[0;32m~/Desktop/CLASSES/MSc Project/deltalens/venv/lib/python3.9/site-packages/keras/src/models/functional.py:648\u001b[0m, in \u001b[0;36moperation_fn.<locals>.call\u001b[0;34m(*args, **kwargs)\u001b[0m\n\u001b[1;32m    642\u001b[0m     \u001b[38;5;28;01mif\u001b[39;00m (\n\u001b[1;32m    643\u001b[0m         name \u001b[38;5;129;01min\u001b[39;00m \u001b[38;5;28mgetattr\u001b[39m(operation, \u001b[38;5;124m\"\u001b[39m\u001b[38;5;124m_call_context_args\u001b[39m\u001b[38;5;124m\"\u001b[39m, {})\n\u001b[1;32m    644\u001b[0m         \u001b[38;5;129;01mand\u001b[39;00m value \u001b[38;5;129;01mis\u001b[39;00m \u001b[38;5;129;01mnot\u001b[39;00m \u001b[38;5;28;01mNone\u001b[39;00m\n\u001b[1;32m    645\u001b[0m     ):\n\u001b[1;32m    646\u001b[0m         kwargs[name] \u001b[38;5;241m=\u001b[39m value\n\u001b[0;32m--> 648\u001b[0m \u001b[38;5;28;01mreturn\u001b[39;00m \u001b[43moperation\u001b[49m\u001b[43m(\u001b[49m\u001b[38;5;241;43m*\u001b[39;49m\u001b[43margs\u001b[49m\u001b[43m,\u001b[49m\u001b[43m \u001b[49m\u001b[38;5;241;43m*\u001b[39;49m\u001b[38;5;241;43m*\u001b[39;49m\u001b[43mkwargs\u001b[49m\u001b[43m)\u001b[49m\n",
      "File \u001b[0;32m~/Desktop/CLASSES/MSc Project/deltalens/venv/lib/python3.9/site-packages/keras/src/utils/traceback_utils.py:117\u001b[0m, in \u001b[0;36mfilter_traceback.<locals>.error_handler\u001b[0;34m(*args, **kwargs)\u001b[0m\n\u001b[1;32m    115\u001b[0m filtered_tb \u001b[38;5;241m=\u001b[39m \u001b[38;5;28;01mNone\u001b[39;00m\n\u001b[1;32m    116\u001b[0m \u001b[38;5;28;01mtry\u001b[39;00m:\n\u001b[0;32m--> 117\u001b[0m     \u001b[38;5;28;01mreturn\u001b[39;00m \u001b[43mfn\u001b[49m\u001b[43m(\u001b[49m\u001b[38;5;241;43m*\u001b[39;49m\u001b[43margs\u001b[49m\u001b[43m,\u001b[49m\u001b[43m \u001b[49m\u001b[38;5;241;43m*\u001b[39;49m\u001b[38;5;241;43m*\u001b[39;49m\u001b[43mkwargs\u001b[49m\u001b[43m)\u001b[49m\n\u001b[1;32m    118\u001b[0m \u001b[38;5;28;01mexcept\u001b[39;00m \u001b[38;5;167;01mException\u001b[39;00m \u001b[38;5;28;01mas\u001b[39;00m e:\n\u001b[1;32m    119\u001b[0m     filtered_tb \u001b[38;5;241m=\u001b[39m _process_traceback_frames(e\u001b[38;5;241m.\u001b[39m__traceback__)\n",
      "File \u001b[0;32m~/Desktop/CLASSES/MSc Project/deltalens/venv/lib/python3.9/site-packages/keras/src/layers/layer.py:936\u001b[0m, in \u001b[0;36mLayer.__call__\u001b[0;34m(self, *args, **kwargs)\u001b[0m\n\u001b[1;32m    934\u001b[0m         outputs \u001b[38;5;241m=\u001b[39m \u001b[38;5;28msuper\u001b[39m()\u001b[38;5;241m.\u001b[39m\u001b[38;5;21m__call__\u001b[39m(\u001b[38;5;241m*\u001b[39margs, \u001b[38;5;241m*\u001b[39m\u001b[38;5;241m*\u001b[39mkwargs)\n\u001b[1;32m    935\u001b[0m \u001b[38;5;28;01melse\u001b[39;00m:\n\u001b[0;32m--> 936\u001b[0m     outputs \u001b[38;5;241m=\u001b[39m \u001b[38;5;28;43msuper\u001b[39;49m\u001b[43m(\u001b[49m\u001b[43m)\u001b[49m\u001b[38;5;241;43m.\u001b[39;49m\u001b[38;5;21;43m__call__\u001b[39;49m\u001b[43m(\u001b[49m\u001b[38;5;241;43m*\u001b[39;49m\u001b[43margs\u001b[49m\u001b[43m,\u001b[49m\u001b[43m \u001b[49m\u001b[38;5;241;43m*\u001b[39;49m\u001b[38;5;241;43m*\u001b[39;49m\u001b[43mkwargs\u001b[49m\u001b[43m)\u001b[49m\n\u001b[1;32m    937\u001b[0m \u001b[38;5;66;03m# Change the layout for the layer output if needed.\u001b[39;00m\n\u001b[1;32m    938\u001b[0m \u001b[38;5;66;03m# This is useful for relayout intermediate tensor in the model\u001b[39;00m\n\u001b[1;32m    939\u001b[0m \u001b[38;5;66;03m# to achieve the optimal performance.\u001b[39;00m\n\u001b[1;32m    940\u001b[0m distribution \u001b[38;5;241m=\u001b[39m distribution_lib\u001b[38;5;241m.\u001b[39mdistribution()\n",
      "File \u001b[0;32m~/Desktop/CLASSES/MSc Project/deltalens/venv/lib/python3.9/site-packages/keras/src/utils/traceback_utils.py:117\u001b[0m, in \u001b[0;36mfilter_traceback.<locals>.error_handler\u001b[0;34m(*args, **kwargs)\u001b[0m\n\u001b[1;32m    115\u001b[0m filtered_tb \u001b[38;5;241m=\u001b[39m \u001b[38;5;28;01mNone\u001b[39;00m\n\u001b[1;32m    116\u001b[0m \u001b[38;5;28;01mtry\u001b[39;00m:\n\u001b[0;32m--> 117\u001b[0m     \u001b[38;5;28;01mreturn\u001b[39;00m \u001b[43mfn\u001b[49m\u001b[43m(\u001b[49m\u001b[38;5;241;43m*\u001b[39;49m\u001b[43margs\u001b[49m\u001b[43m,\u001b[49m\u001b[43m \u001b[49m\u001b[38;5;241;43m*\u001b[39;49m\u001b[38;5;241;43m*\u001b[39;49m\u001b[43mkwargs\u001b[49m\u001b[43m)\u001b[49m\n\u001b[1;32m    118\u001b[0m \u001b[38;5;28;01mexcept\u001b[39;00m \u001b[38;5;167;01mException\u001b[39;00m \u001b[38;5;28;01mas\u001b[39;00m e:\n\u001b[1;32m    119\u001b[0m     filtered_tb \u001b[38;5;241m=\u001b[39m _process_traceback_frames(e\u001b[38;5;241m.\u001b[39m__traceback__)\n",
      "File \u001b[0;32m~/Desktop/CLASSES/MSc Project/deltalens/venv/lib/python3.9/site-packages/keras/src/ops/operation.py:58\u001b[0m, in \u001b[0;36mOperation.__call__\u001b[0;34m(self, *args, **kwargs)\u001b[0m\n\u001b[1;32m     53\u001b[0m                 call_fn \u001b[38;5;241m=\u001b[39m \u001b[38;5;28mself\u001b[39m\u001b[38;5;241m.\u001b[39mcall\n\u001b[1;32m     54\u001b[0m     call_fn \u001b[38;5;241m=\u001b[39m traceback_utils\u001b[38;5;241m.\u001b[39minject_argument_info_in_traceback(\n\u001b[1;32m     55\u001b[0m         call_fn,\n\u001b[1;32m     56\u001b[0m         object_name\u001b[38;5;241m=\u001b[39m(\u001b[38;5;124mf\u001b[39m\u001b[38;5;124m\"\u001b[39m\u001b[38;5;132;01m{\u001b[39;00m\u001b[38;5;28mself\u001b[39m\u001b[38;5;241m.\u001b[39m\u001b[38;5;18m__class__\u001b[39m\u001b[38;5;241m.\u001b[39m\u001b[38;5;18m__name__\u001b[39m\u001b[38;5;132;01m}\u001b[39;00m\u001b[38;5;124m.call()\u001b[39m\u001b[38;5;124m\"\u001b[39m),\n\u001b[1;32m     57\u001b[0m     )\n\u001b[0;32m---> 58\u001b[0m     \u001b[38;5;28;01mreturn\u001b[39;00m \u001b[43mcall_fn\u001b[49m\u001b[43m(\u001b[49m\u001b[38;5;241;43m*\u001b[39;49m\u001b[43margs\u001b[49m\u001b[43m,\u001b[49m\u001b[43m \u001b[49m\u001b[38;5;241;43m*\u001b[39;49m\u001b[38;5;241;43m*\u001b[39;49m\u001b[43mkwargs\u001b[49m\u001b[43m)\u001b[49m\n\u001b[1;32m     60\u001b[0m \u001b[38;5;66;03m# Plain flow.\u001b[39;00m\n\u001b[1;32m     61\u001b[0m \u001b[38;5;28;01mif\u001b[39;00m any_symbolic_tensors(args, kwargs):\n",
      "File \u001b[0;32m~/Desktop/CLASSES/MSc Project/deltalens/venv/lib/python3.9/site-packages/keras/src/utils/traceback_utils.py:156\u001b[0m, in \u001b[0;36minject_argument_info_in_traceback.<locals>.error_handler\u001b[0;34m(*args, **kwargs)\u001b[0m\n\u001b[1;32m    154\u001b[0m bound_signature \u001b[38;5;241m=\u001b[39m \u001b[38;5;28;01mNone\u001b[39;00m\n\u001b[1;32m    155\u001b[0m \u001b[38;5;28;01mtry\u001b[39;00m:\n\u001b[0;32m--> 156\u001b[0m     \u001b[38;5;28;01mreturn\u001b[39;00m \u001b[43mfn\u001b[49m\u001b[43m(\u001b[49m\u001b[38;5;241;43m*\u001b[39;49m\u001b[43margs\u001b[49m\u001b[43m,\u001b[49m\u001b[43m \u001b[49m\u001b[38;5;241;43m*\u001b[39;49m\u001b[38;5;241;43m*\u001b[39;49m\u001b[43mkwargs\u001b[49m\u001b[43m)\u001b[49m\n\u001b[1;32m    157\u001b[0m \u001b[38;5;28;01mexcept\u001b[39;00m \u001b[38;5;167;01mException\u001b[39;00m \u001b[38;5;28;01mas\u001b[39;00m e:\n\u001b[1;32m    158\u001b[0m     \u001b[38;5;28;01mif\u001b[39;00m \u001b[38;5;28mhasattr\u001b[39m(e, \u001b[38;5;124m\"\u001b[39m\u001b[38;5;124m_keras_call_info_injected\u001b[39m\u001b[38;5;124m\"\u001b[39m):\n\u001b[1;32m    159\u001b[0m         \u001b[38;5;66;03m# Only inject info for the innermost failing call\u001b[39;00m\n",
      "File \u001b[0;32m~/Desktop/CLASSES/MSc Project/deltalens/venv/lib/python3.9/site-packages/keras/src/layers/rnn/lstm.py:583\u001b[0m, in \u001b[0;36mLSTM.call\u001b[0;34m(self, sequences, initial_state, mask, training)\u001b[0m\n\u001b[1;32m    582\u001b[0m \u001b[38;5;28;01mdef\u001b[39;00m\u001b[38;5;250m \u001b[39m\u001b[38;5;21mcall\u001b[39m(\u001b[38;5;28mself\u001b[39m, sequences, initial_state\u001b[38;5;241m=\u001b[39m\u001b[38;5;28;01mNone\u001b[39;00m, mask\u001b[38;5;241m=\u001b[39m\u001b[38;5;28;01mNone\u001b[39;00m, training\u001b[38;5;241m=\u001b[39m\u001b[38;5;28;01mFalse\u001b[39;00m):\n\u001b[0;32m--> 583\u001b[0m     \u001b[38;5;28;01mreturn\u001b[39;00m \u001b[38;5;28;43msuper\u001b[39;49m\u001b[43m(\u001b[49m\u001b[43m)\u001b[49m\u001b[38;5;241;43m.\u001b[39;49m\u001b[43mcall\u001b[49m\u001b[43m(\u001b[49m\n\u001b[1;32m    584\u001b[0m \u001b[43m        \u001b[49m\u001b[43msequences\u001b[49m\u001b[43m,\u001b[49m\u001b[43m \u001b[49m\u001b[43mmask\u001b[49m\u001b[38;5;241;43m=\u001b[39;49m\u001b[43mmask\u001b[49m\u001b[43m,\u001b[49m\u001b[43m \u001b[49m\u001b[43mtraining\u001b[49m\u001b[38;5;241;43m=\u001b[39;49m\u001b[43mtraining\u001b[49m\u001b[43m,\u001b[49m\u001b[43m \u001b[49m\u001b[43minitial_state\u001b[49m\u001b[38;5;241;43m=\u001b[39;49m\u001b[43minitial_state\u001b[49m\n\u001b[1;32m    585\u001b[0m \u001b[43m    \u001b[49m\u001b[43m)\u001b[49m\n",
      "File \u001b[0;32m~/Desktop/CLASSES/MSc Project/deltalens/venv/lib/python3.9/site-packages/keras/src/layers/rnn/rnn.py:406\u001b[0m, in \u001b[0;36mRNN.call\u001b[0;34m(self, sequences, initial_state, mask, training)\u001b[0m\n\u001b[1;32m    400\u001b[0m \u001b[38;5;66;03m# Prepopulate the dropout state so that the inner_loop is stateless\u001b[39;00m\n\u001b[1;32m    401\u001b[0m \u001b[38;5;66;03m# this is particularly important for JAX backend.\u001b[39;00m\n\u001b[1;32m    402\u001b[0m \u001b[38;5;28mself\u001b[39m\u001b[38;5;241m.\u001b[39m_maybe_config_dropout_masks(\n\u001b[1;32m    403\u001b[0m     \u001b[38;5;28mself\u001b[39m\u001b[38;5;241m.\u001b[39mcell, sequences[:, \u001b[38;5;241m0\u001b[39m, :], initial_state\n\u001b[1;32m    404\u001b[0m )\n\u001b[0;32m--> 406\u001b[0m last_output, outputs, states \u001b[38;5;241m=\u001b[39m \u001b[38;5;28;43mself\u001b[39;49m\u001b[38;5;241;43m.\u001b[39;49m\u001b[43minner_loop\u001b[49m\u001b[43m(\u001b[49m\n\u001b[1;32m    407\u001b[0m \u001b[43m    \u001b[49m\u001b[43msequences\u001b[49m\u001b[38;5;241;43m=\u001b[39;49m\u001b[43msequences\u001b[49m\u001b[43m,\u001b[49m\n\u001b[1;32m    408\u001b[0m \u001b[43m    \u001b[49m\u001b[43minitial_state\u001b[49m\u001b[38;5;241;43m=\u001b[39;49m\u001b[43minitial_state\u001b[49m\u001b[43m,\u001b[49m\n\u001b[1;32m    409\u001b[0m \u001b[43m    \u001b[49m\u001b[43mmask\u001b[49m\u001b[38;5;241;43m=\u001b[39;49m\u001b[43mmask\u001b[49m\u001b[43m,\u001b[49m\n\u001b[1;32m    410\u001b[0m \u001b[43m    \u001b[49m\u001b[43mtraining\u001b[49m\u001b[38;5;241;43m=\u001b[39;49m\u001b[43mtraining\u001b[49m\u001b[43m,\u001b[49m\n\u001b[1;32m    411\u001b[0m \u001b[43m\u001b[49m\u001b[43m)\u001b[49m\n\u001b[1;32m    412\u001b[0m last_output \u001b[38;5;241m=\u001b[39m ops\u001b[38;5;241m.\u001b[39mcast(last_output, \u001b[38;5;28mself\u001b[39m\u001b[38;5;241m.\u001b[39mcompute_dtype)\n\u001b[1;32m    413\u001b[0m outputs \u001b[38;5;241m=\u001b[39m ops\u001b[38;5;241m.\u001b[39mcast(outputs, \u001b[38;5;28mself\u001b[39m\u001b[38;5;241m.\u001b[39mcompute_dtype)\n",
      "File \u001b[0;32m~/Desktop/CLASSES/MSc Project/deltalens/venv/lib/python3.9/site-packages/keras/src/layers/rnn/lstm.py:578\u001b[0m, in \u001b[0;36mLSTM.inner_loop\u001b[0;34m(self, sequences, initial_state, mask, training)\u001b[0m\n\u001b[1;32m    571\u001b[0m \u001b[38;5;28;01mif\u001b[39;00m \u001b[38;5;28mself\u001b[39m\u001b[38;5;241m.\u001b[39muse_cudnn \u001b[38;5;129;01mis\u001b[39;00m \u001b[38;5;28;01mTrue\u001b[39;00m:\n\u001b[1;32m    572\u001b[0m     \u001b[38;5;28;01mraise\u001b[39;00m \u001b[38;5;167;01mValueError\u001b[39;00m(\n\u001b[1;32m    573\u001b[0m         \u001b[38;5;124m\"\u001b[39m\u001b[38;5;124muse_cudnn=True was specified, \u001b[39m\u001b[38;5;124m\"\u001b[39m\n\u001b[1;32m    574\u001b[0m         \u001b[38;5;124m\"\u001b[39m\u001b[38;5;124mbut cuDNN is not supported for this layer configuration \u001b[39m\u001b[38;5;124m\"\u001b[39m\n\u001b[1;32m    575\u001b[0m         \u001b[38;5;124m\"\u001b[39m\u001b[38;5;124mwith this backend. Pass use_cudnn=\u001b[39m\u001b[38;5;124m'\u001b[39m\u001b[38;5;124mauto\u001b[39m\u001b[38;5;124m'\u001b[39m\u001b[38;5;124m to fallback \u001b[39m\u001b[38;5;124m\"\u001b[39m\n\u001b[1;32m    576\u001b[0m         \u001b[38;5;124m\"\u001b[39m\u001b[38;5;124mto a non-cuDNN implementation.\u001b[39m\u001b[38;5;124m\"\u001b[39m\n\u001b[1;32m    577\u001b[0m     )\n\u001b[0;32m--> 578\u001b[0m \u001b[38;5;28;01mreturn\u001b[39;00m \u001b[38;5;28;43msuper\u001b[39;49m\u001b[43m(\u001b[49m\u001b[43m)\u001b[49m\u001b[38;5;241;43m.\u001b[39;49m\u001b[43minner_loop\u001b[49m\u001b[43m(\u001b[49m\n\u001b[1;32m    579\u001b[0m \u001b[43m    \u001b[49m\u001b[43msequences\u001b[49m\u001b[43m,\u001b[49m\u001b[43m \u001b[49m\u001b[43minitial_state\u001b[49m\u001b[43m,\u001b[49m\u001b[43m \u001b[49m\u001b[43mmask\u001b[49m\u001b[38;5;241;43m=\u001b[39;49m\u001b[43mmask\u001b[49m\u001b[43m,\u001b[49m\u001b[43m \u001b[49m\u001b[43mtraining\u001b[49m\u001b[38;5;241;43m=\u001b[39;49m\u001b[43mtraining\u001b[49m\n\u001b[1;32m    580\u001b[0m \u001b[43m\u001b[49m\u001b[43m)\u001b[49m\n",
      "File \u001b[0;32m~/Desktop/CLASSES/MSc Project/deltalens/venv/lib/python3.9/site-packages/keras/src/layers/rnn/rnn.py:346\u001b[0m, in \u001b[0;36mRNN.inner_loop\u001b[0;34m(self, sequences, initial_state, mask, training)\u001b[0m\n\u001b[1;32m    343\u001b[0m \u001b[38;5;28;01mif\u001b[39;00m \u001b[38;5;129;01mnot\u001b[39;00m tree\u001b[38;5;241m.\u001b[39mis_nested(initial_state):\n\u001b[1;32m    344\u001b[0m     initial_state \u001b[38;5;241m=\u001b[39m [initial_state]\n\u001b[0;32m--> 346\u001b[0m \u001b[38;5;28;01mreturn\u001b[39;00m \u001b[43mbackend\u001b[49m\u001b[38;5;241;43m.\u001b[39;49m\u001b[43mrnn\u001b[49m\u001b[43m(\u001b[49m\n\u001b[1;32m    347\u001b[0m \u001b[43m    \u001b[49m\u001b[43mstep\u001b[49m\u001b[43m,\u001b[49m\n\u001b[1;32m    348\u001b[0m \u001b[43m    \u001b[49m\u001b[43msequences\u001b[49m\u001b[43m,\u001b[49m\n\u001b[1;32m    349\u001b[0m \u001b[43m    \u001b[49m\u001b[43minitial_state\u001b[49m\u001b[43m,\u001b[49m\n\u001b[1;32m    350\u001b[0m \u001b[43m    \u001b[49m\u001b[43mgo_backwards\u001b[49m\u001b[38;5;241;43m=\u001b[39;49m\u001b[38;5;28;43mself\u001b[39;49m\u001b[38;5;241;43m.\u001b[39;49m\u001b[43mgo_backwards\u001b[49m\u001b[43m,\u001b[49m\n\u001b[1;32m    351\u001b[0m \u001b[43m    \u001b[49m\u001b[43mmask\u001b[49m\u001b[38;5;241;43m=\u001b[39;49m\u001b[43mmask\u001b[49m\u001b[43m,\u001b[49m\n\u001b[1;32m    352\u001b[0m \u001b[43m    \u001b[49m\u001b[43munroll\u001b[49m\u001b[38;5;241;43m=\u001b[39;49m\u001b[38;5;28;43mself\u001b[39;49m\u001b[38;5;241;43m.\u001b[39;49m\u001b[43munroll\u001b[49m\u001b[43m,\u001b[49m\n\u001b[1;32m    353\u001b[0m \u001b[43m    \u001b[49m\u001b[43minput_length\u001b[49m\u001b[38;5;241;43m=\u001b[39;49m\u001b[43msequences\u001b[49m\u001b[38;5;241;43m.\u001b[39;49m\u001b[43mshape\u001b[49m\u001b[43m[\u001b[49m\u001b[38;5;241;43m1\u001b[39;49m\u001b[43m]\u001b[49m\u001b[43m,\u001b[49m\n\u001b[1;32m    354\u001b[0m \u001b[43m    \u001b[49m\u001b[43mzero_output_for_mask\u001b[49m\u001b[38;5;241;43m=\u001b[39;49m\u001b[38;5;28;43mself\u001b[39;49m\u001b[38;5;241;43m.\u001b[39;49m\u001b[43mzero_output_for_mask\u001b[49m\u001b[43m,\u001b[49m\n\u001b[1;32m    355\u001b[0m \u001b[43m    \u001b[49m\u001b[43mreturn_all_outputs\u001b[49m\u001b[38;5;241;43m=\u001b[39;49m\u001b[38;5;28;43mself\u001b[39;49m\u001b[38;5;241;43m.\u001b[39;49m\u001b[43mreturn_sequences\u001b[49m\u001b[43m,\u001b[49m\n\u001b[1;32m    356\u001b[0m \u001b[43m\u001b[49m\u001b[43m)\u001b[49m\n",
      "File \u001b[0;32m~/Desktop/CLASSES/MSc Project/deltalens/venv/lib/python3.9/site-packages/keras/src/backend/tensorflow/rnn.py:428\u001b[0m, in \u001b[0;36mrnn\u001b[0;34m(step_function, inputs, initial_states, go_backwards, mask, constants, unroll, input_length, time_major, zero_output_for_mask, return_all_outputs)\u001b[0m\n\u001b[1;32m    423\u001b[0m         new_states \u001b[38;5;241m=\u001b[39m tree\u001b[38;5;241m.\u001b[39mpack_sequence_as(\n\u001b[1;32m    424\u001b[0m             initial_states, flat_new_state\n\u001b[1;32m    425\u001b[0m         )\n\u001b[1;32m    426\u001b[0m         \u001b[38;5;28;01mreturn\u001b[39;00m (time \u001b[38;5;241m+\u001b[39m \u001b[38;5;241m1\u001b[39m, output_ta_t) \u001b[38;5;241m+\u001b[39m \u001b[38;5;28mtuple\u001b[39m(new_states)\n\u001b[0;32m--> 428\u001b[0m     final_outputs \u001b[38;5;241m=\u001b[39m \u001b[43mtf\u001b[49m\u001b[38;5;241;43m.\u001b[39;49m\u001b[43mwhile_loop\u001b[49m\u001b[43m(\u001b[49m\n\u001b[1;32m    429\u001b[0m \u001b[43m        \u001b[49m\u001b[43mbody\u001b[49m\u001b[38;5;241;43m=\u001b[39;49m\u001b[43m_step\u001b[49m\u001b[43m,\u001b[49m\n\u001b[1;32m    430\u001b[0m \u001b[43m        \u001b[49m\u001b[43mloop_vars\u001b[49m\u001b[38;5;241;43m=\u001b[39;49m\u001b[43m(\u001b[49m\u001b[43mtime\u001b[49m\u001b[43m,\u001b[49m\u001b[43m \u001b[49m\u001b[43moutput_ta\u001b[49m\u001b[43m)\u001b[49m\u001b[43m \u001b[49m\u001b[38;5;241;43m+\u001b[39;49m\u001b[43m \u001b[49m\u001b[43mstates\u001b[49m\u001b[43m,\u001b[49m\n\u001b[1;32m    431\u001b[0m \u001b[43m        \u001b[49m\u001b[38;5;241;43m*\u001b[39;49m\u001b[38;5;241;43m*\u001b[39;49m\u001b[43mwhile_loop_kwargs\u001b[49m\u001b[43m,\u001b[49m\n\u001b[1;32m    432\u001b[0m \u001b[43m    \u001b[49m\u001b[43m)\u001b[49m\n\u001b[1;32m    433\u001b[0m     new_states \u001b[38;5;241m=\u001b[39m final_outputs[\u001b[38;5;241m2\u001b[39m:]\n\u001b[1;32m    435\u001b[0m output_ta \u001b[38;5;241m=\u001b[39m final_outputs[\u001b[38;5;241m1\u001b[39m]\n",
      "File \u001b[0;32m~/Desktop/CLASSES/MSc Project/deltalens/venv/lib/python3.9/site-packages/tensorflow/python/util/deprecation.py:660\u001b[0m, in \u001b[0;36mdeprecated_arg_values.<locals>.deprecated_wrapper.<locals>.new_func\u001b[0;34m(*args, **kwargs)\u001b[0m\n\u001b[1;32m    652\u001b[0m           _PRINTED_WARNING[(func, arg_name)] \u001b[38;5;241m=\u001b[39m \u001b[38;5;28;01mTrue\u001b[39;00m\n\u001b[1;32m    653\u001b[0m         _log_deprecation(\n\u001b[1;32m    654\u001b[0m             \u001b[38;5;124m'\u001b[39m\u001b[38;5;124mFrom \u001b[39m\u001b[38;5;132;01m%s\u001b[39;00m\u001b[38;5;124m: calling \u001b[39m\u001b[38;5;132;01m%s\u001b[39;00m\u001b[38;5;124m (from \u001b[39m\u001b[38;5;132;01m%s\u001b[39;00m\u001b[38;5;124m) with \u001b[39m\u001b[38;5;132;01m%s\u001b[39;00m\u001b[38;5;124m=\u001b[39m\u001b[38;5;132;01m%s\u001b[39;00m\u001b[38;5;124m is deprecated and \u001b[39m\u001b[38;5;124m'\u001b[39m\n\u001b[1;32m    655\u001b[0m             \u001b[38;5;124m'\u001b[39m\u001b[38;5;124mwill be removed \u001b[39m\u001b[38;5;132;01m%s\u001b[39;00m\u001b[38;5;124m.\u001b[39m\u001b[38;5;130;01m\\n\u001b[39;00m\u001b[38;5;124mInstructions for updating:\u001b[39m\u001b[38;5;130;01m\\n\u001b[39;00m\u001b[38;5;132;01m%s\u001b[39;00m\u001b[38;5;124m'\u001b[39m,\n\u001b[0;32m   (...)\u001b[0m\n\u001b[1;32m    658\u001b[0m             \u001b[38;5;124m'\u001b[39m\u001b[38;5;124min a future version\u001b[39m\u001b[38;5;124m'\u001b[39m \u001b[38;5;28;01mif\u001b[39;00m date \u001b[38;5;129;01mis\u001b[39;00m \u001b[38;5;28;01mNone\u001b[39;00m \u001b[38;5;28;01melse\u001b[39;00m\n\u001b[1;32m    659\u001b[0m             (\u001b[38;5;124m'\u001b[39m\u001b[38;5;124mafter \u001b[39m\u001b[38;5;132;01m%s\u001b[39;00m\u001b[38;5;124m'\u001b[39m \u001b[38;5;241m%\u001b[39m date), instructions)\n\u001b[0;32m--> 660\u001b[0m \u001b[38;5;28;01mreturn\u001b[39;00m \u001b[43mfunc\u001b[49m\u001b[43m(\u001b[49m\u001b[38;5;241;43m*\u001b[39;49m\u001b[43margs\u001b[49m\u001b[43m,\u001b[49m\u001b[43m \u001b[49m\u001b[38;5;241;43m*\u001b[39;49m\u001b[38;5;241;43m*\u001b[39;49m\u001b[43mkwargs\u001b[49m\u001b[43m)\u001b[49m\n",
      "File \u001b[0;32m~/Desktop/CLASSES/MSc Project/deltalens/venv/lib/python3.9/site-packages/tensorflow/python/ops/while_loop.py:241\u001b[0m, in \u001b[0;36mwhile_loop_v2\u001b[0;34m(cond, body, loop_vars, shape_invariants, parallel_iterations, back_prop, swap_memory, maximum_iterations, name)\u001b[0m\n\u001b[1;32m     35\u001b[0m \u001b[38;5;129m@tf_export\u001b[39m(\u001b[38;5;124m\"\u001b[39m\u001b[38;5;124mwhile_loop\u001b[39m\u001b[38;5;124m\"\u001b[39m, v1\u001b[38;5;241m=\u001b[39m[])\n\u001b[1;32m     36\u001b[0m \u001b[38;5;129m@deprecation\u001b[39m\u001b[38;5;241m.\u001b[39mdeprecated_arg_values(\n\u001b[1;32m     37\u001b[0m     \u001b[38;5;28;01mNone\u001b[39;00m,\n\u001b[0;32m   (...)\u001b[0m\n\u001b[1;32m     52\u001b[0m                   maximum_iterations\u001b[38;5;241m=\u001b[39m\u001b[38;5;28;01mNone\u001b[39;00m,\n\u001b[1;32m     53\u001b[0m                   name\u001b[38;5;241m=\u001b[39m\u001b[38;5;28;01mNone\u001b[39;00m):\n\u001b[1;32m     54\u001b[0m \u001b[38;5;250m  \u001b[39m\u001b[38;5;124;03m\"\"\"Repeat `body` while the condition `cond` is true.\u001b[39;00m\n\u001b[1;32m     55\u001b[0m \n\u001b[1;32m     56\u001b[0m \u001b[38;5;124;03m  Note: This op is automatically used in a `tf.function` to convert Python for-\u001b[39;00m\n\u001b[0;32m   (...)\u001b[0m\n\u001b[1;32m    239\u001b[0m \n\u001b[1;32m    240\u001b[0m \u001b[38;5;124;03m  \"\"\"\u001b[39;00m\n\u001b[0;32m--> 241\u001b[0m   \u001b[38;5;28;01mreturn\u001b[39;00m \u001b[43mwhile_loop\u001b[49m\u001b[43m(\u001b[49m\n\u001b[1;32m    242\u001b[0m \u001b[43m      \u001b[49m\u001b[43mcond\u001b[49m\u001b[38;5;241;43m=\u001b[39;49m\u001b[43mcond\u001b[49m\u001b[43m,\u001b[49m\n\u001b[1;32m    243\u001b[0m \u001b[43m      \u001b[49m\u001b[43mbody\u001b[49m\u001b[38;5;241;43m=\u001b[39;49m\u001b[43mbody\u001b[49m\u001b[43m,\u001b[49m\n\u001b[1;32m    244\u001b[0m \u001b[43m      \u001b[49m\u001b[43mloop_vars\u001b[49m\u001b[38;5;241;43m=\u001b[39;49m\u001b[43mloop_vars\u001b[49m\u001b[43m,\u001b[49m\n\u001b[1;32m    245\u001b[0m \u001b[43m      \u001b[49m\u001b[43mshape_invariants\u001b[49m\u001b[38;5;241;43m=\u001b[39;49m\u001b[43mshape_invariants\u001b[49m\u001b[43m,\u001b[49m\n\u001b[1;32m    246\u001b[0m \u001b[43m      \u001b[49m\u001b[43mparallel_iterations\u001b[49m\u001b[38;5;241;43m=\u001b[39;49m\u001b[43mparallel_iterations\u001b[49m\u001b[43m,\u001b[49m\n\u001b[1;32m    247\u001b[0m \u001b[43m      \u001b[49m\u001b[43mback_prop\u001b[49m\u001b[38;5;241;43m=\u001b[39;49m\u001b[43mback_prop\u001b[49m\u001b[43m,\u001b[49m\n\u001b[1;32m    248\u001b[0m \u001b[43m      \u001b[49m\u001b[43mswap_memory\u001b[49m\u001b[38;5;241;43m=\u001b[39;49m\u001b[43mswap_memory\u001b[49m\u001b[43m,\u001b[49m\n\u001b[1;32m    249\u001b[0m \u001b[43m      \u001b[49m\u001b[43mname\u001b[49m\u001b[38;5;241;43m=\u001b[39;49m\u001b[43mname\u001b[49m\u001b[43m,\u001b[49m\n\u001b[1;32m    250\u001b[0m \u001b[43m      \u001b[49m\u001b[43mmaximum_iterations\u001b[49m\u001b[38;5;241;43m=\u001b[39;49m\u001b[43mmaximum_iterations\u001b[49m\u001b[43m,\u001b[49m\n\u001b[1;32m    251\u001b[0m \u001b[43m      \u001b[49m\u001b[43mreturn_same_structure\u001b[49m\u001b[38;5;241;43m=\u001b[39;49m\u001b[38;5;28;43;01mTrue\u001b[39;49;00m\u001b[43m)\u001b[49m\n",
      "File \u001b[0;32m~/Desktop/CLASSES/MSc Project/deltalens/venv/lib/python3.9/site-packages/tensorflow/python/ops/while_loop.py:440\u001b[0m, in \u001b[0;36mwhile_loop\u001b[0;34m(cond, body, loop_vars, shape_invariants, parallel_iterations, back_prop, swap_memory, name, maximum_iterations, return_same_structure)\u001b[0m\n\u001b[1;32m    437\u001b[0m executing_eagerly \u001b[38;5;241m=\u001b[39m context\u001b[38;5;241m.\u001b[39mexecuting_eagerly()\n\u001b[1;32m    438\u001b[0m \u001b[38;5;28;01mif\u001b[39;00m (util\u001b[38;5;241m.\u001b[39mEnableControlFlowV2(ops\u001b[38;5;241m.\u001b[39mget_default_graph()) \u001b[38;5;129;01mand\u001b[39;00m\n\u001b[1;32m    439\u001b[0m     \u001b[38;5;129;01mnot\u001b[39;00m executing_eagerly):\n\u001b[0;32m--> 440\u001b[0m   \u001b[38;5;28;01mreturn\u001b[39;00m \u001b[43mwhile_v2\u001b[49m\u001b[38;5;241;43m.\u001b[39;49m\u001b[43mwhile_loop\u001b[49m\u001b[43m(\u001b[49m\n\u001b[1;32m    441\u001b[0m \u001b[43m      \u001b[49m\u001b[43mcond\u001b[49m\u001b[43m,\u001b[49m\n\u001b[1;32m    442\u001b[0m \u001b[43m      \u001b[49m\u001b[43mbody\u001b[49m\u001b[43m,\u001b[49m\n\u001b[1;32m    443\u001b[0m \u001b[43m      \u001b[49m\u001b[43mloop_vars\u001b[49m\u001b[43m,\u001b[49m\n\u001b[1;32m    444\u001b[0m \u001b[43m      \u001b[49m\u001b[43mshape_invariants\u001b[49m\u001b[38;5;241;43m=\u001b[39;49m\u001b[43mshape_invariants\u001b[49m\u001b[43m,\u001b[49m\n\u001b[1;32m    445\u001b[0m \u001b[43m      \u001b[49m\u001b[43mparallel_iterations\u001b[49m\u001b[38;5;241;43m=\u001b[39;49m\u001b[43mparallel_iterations\u001b[49m\u001b[43m,\u001b[49m\n\u001b[1;32m    446\u001b[0m \u001b[43m      \u001b[49m\u001b[43mmaximum_iterations\u001b[49m\u001b[38;5;241;43m=\u001b[39;49m\u001b[43mmaximum_iterations\u001b[49m\u001b[43m,\u001b[49m\n\u001b[1;32m    447\u001b[0m \u001b[43m      \u001b[49m\u001b[43mname\u001b[49m\u001b[38;5;241;43m=\u001b[39;49m\u001b[43mname\u001b[49m\u001b[43m,\u001b[49m\n\u001b[1;32m    448\u001b[0m \u001b[43m      \u001b[49m\u001b[43mreturn_same_structure\u001b[49m\u001b[38;5;241;43m=\u001b[39;49m\u001b[43mreturn_same_structure\u001b[49m\u001b[43m,\u001b[49m\n\u001b[1;32m    449\u001b[0m \u001b[43m      \u001b[49m\u001b[43mback_prop\u001b[49m\u001b[38;5;241;43m=\u001b[39;49m\u001b[43mback_prop\u001b[49m\u001b[43m)\u001b[49m\n\u001b[1;32m    451\u001b[0m \u001b[38;5;28;01mwith\u001b[39;00m ops\u001b[38;5;241m.\u001b[39mname_scope(name, \u001b[38;5;124m\"\u001b[39m\u001b[38;5;124mwhile\u001b[39m\u001b[38;5;124m\"\u001b[39m, loop_vars):\n\u001b[1;32m    452\u001b[0m   \u001b[38;5;28;01mif\u001b[39;00m \u001b[38;5;129;01mnot\u001b[39;00m loop_vars:\n",
      "File \u001b[0;32m~/Desktop/CLASSES/MSc Project/deltalens/venv/lib/python3.9/site-packages/tensorflow/python/ops/while_v2.py:287\u001b[0m, in \u001b[0;36mwhile_loop\u001b[0;34m(cond, body, loop_vars, shape_invariants, parallel_iterations, maximum_iterations, name, return_same_structure, back_prop)\u001b[0m\n\u001b[1;32m    283\u001b[0m   orig_loop_vars_range \u001b[38;5;241m=\u001b[39m \u001b[38;5;28mslice\u001b[39m(first_loop_var_index,\n\u001b[1;32m    284\u001b[0m                                first_loop_var_index \u001b[38;5;241m+\u001b[39m num_flattened_outputs)\n\u001b[1;32m    285\u001b[0m   output_shapes[orig_loop_vars_range] \u001b[38;5;241m=\u001b[39m flat_shape_invariants\n\u001b[0;32m--> 287\u001b[0m   outputs \u001b[38;5;241m=\u001b[39m \u001b[43m_build_while_op\u001b[49m\u001b[43m(\u001b[49m\n\u001b[1;32m    288\u001b[0m \u001b[43m      \u001b[49m\u001b[43mflattened_loop_vars\u001b[49m\u001b[43m,\u001b[49m\n\u001b[1;32m    289\u001b[0m \u001b[43m      \u001b[49m\u001b[43mcond_graph\u001b[49m\u001b[43m,\u001b[49m\n\u001b[1;32m    290\u001b[0m \u001b[43m      \u001b[49m\u001b[43mbody_graph\u001b[49m\u001b[43m,\u001b[49m\n\u001b[1;32m    291\u001b[0m \u001b[43m      \u001b[49m\u001b[43moutput_shapes\u001b[49m\u001b[38;5;241;43m=\u001b[39;49m\u001b[43moutput_shapes\u001b[49m\u001b[43m,\u001b[49m\n\u001b[1;32m    292\u001b[0m \u001b[43m      \u001b[49m\u001b[43mparallel_iterations\u001b[49m\u001b[38;5;241;43m=\u001b[39;49m\u001b[43mparallel_iterations\u001b[49m\u001b[43m,\u001b[49m\n\u001b[1;32m    293\u001b[0m \u001b[43m      \u001b[49m\u001b[43mname\u001b[49m\u001b[38;5;241;43m=\u001b[39;49m\u001b[43mscope\u001b[49m\u001b[43m,\u001b[49m\n\u001b[1;32m    294\u001b[0m \u001b[43m      \u001b[49m\u001b[43mnum_original_outputs\u001b[49m\u001b[38;5;241;43m=\u001b[39;49m\u001b[43mnum_original_outputs\u001b[49m\u001b[43m)\u001b[49m\n\u001b[1;32m    295\u001b[0m \u001b[38;5;28;01mif\u001b[39;00m \u001b[38;5;129;01mnot\u001b[39;00m ops\u001b[38;5;241m.\u001b[39mget_default_graph()\u001b[38;5;241m.\u001b[39mbuilding_function:\n\u001b[1;32m    296\u001b[0m   \u001b[38;5;66;03m# In V1 graph mode, return identities for each output of the While op,\u001b[39;00m\n\u001b[1;32m    297\u001b[0m   \u001b[38;5;66;03m# rather than the output of the While op directly. This makes pruning work\u001b[39;00m\n\u001b[0;32m   (...)\u001b[0m\n\u001b[1;32m    301\u001b[0m   \u001b[38;5;66;03m# lowering, each output identity op will end up with only the appropriate\u001b[39;00m\n\u001b[1;32m    302\u001b[0m   \u001b[38;5;66;03m# exit op as input.\u001b[39;00m\n\u001b[1;32m    303\u001b[0m   outputs \u001b[38;5;241m=\u001b[39m \u001b[38;5;28mtuple\u001b[39m(array_ops\u001b[38;5;241m.\u001b[39midentity(t) \u001b[38;5;28;01mfor\u001b[39;00m t \u001b[38;5;129;01min\u001b[39;00m outputs)\n",
      "File \u001b[0;32m~/Desktop/CLASSES/MSc Project/deltalens/venv/lib/python3.9/site-packages/tensorflow/python/ops/while_v2.py:477\u001b[0m, in \u001b[0;36m_build_while_op\u001b[0;34m(loop_vars, cond_graph, body_graph, output_shapes, parallel_iterations, name, num_original_outputs)\u001b[0m\n\u001b[1;32m    475\u001b[0m   while_op\u001b[38;5;241m.\u001b[39m_body_graph \u001b[38;5;241m=\u001b[39m body_graph\n\u001b[1;32m    476\u001b[0m   \u001b[38;5;28;01mreturn\u001b[39;00m tensors\n\u001b[0;32m--> 477\u001b[0m \u001b[38;5;28;01mreturn\u001b[39;00m \u001b[43mutil\u001b[49m\u001b[38;5;241;43m.\u001b[39;49m\u001b[43mrun_as_function_for_tape_gradients\u001b[49m\u001b[43m(\u001b[49m\u001b[43m_make_op\u001b[49m\u001b[43m,\u001b[49m\u001b[43m \u001b[49m\u001b[43mloop_vars\u001b[49m\u001b[43m)\u001b[49m\n",
      "File \u001b[0;32m~/Desktop/CLASSES/MSc Project/deltalens/venv/lib/python3.9/site-packages/tensorflow/python/ops/control_flow_util_v2.py:401\u001b[0m, in \u001b[0;36mrun_as_function_for_tape_gradients\u001b[0;34m(make_op, inputs)\u001b[0m\n\u001b[1;32m    399\u001b[0m   \u001b[38;5;28;01mreturn\u001b[39;00m results\n\u001b[1;32m    400\u001b[0m \u001b[38;5;28;01melse\u001b[39;00m:\n\u001b[0;32m--> 401\u001b[0m   \u001b[38;5;28;01mreturn\u001b[39;00m \u001b[43mmake_op\u001b[49m\u001b[43m(\u001b[49m\u001b[43minputs\u001b[49m\u001b[43m)\u001b[49m\n",
      "File \u001b[0;32m~/Desktop/CLASSES/MSc Project/deltalens/venv/lib/python3.9/site-packages/tensorflow/python/ops/while_v2.py:462\u001b[0m, in \u001b[0;36m_build_while_op.<locals>._make_op\u001b[0;34m(inputs)\u001b[0m\n\u001b[1;32m    454\u001b[0m \u001b[38;5;28;01mdef\u001b[39;00m\u001b[38;5;250m \u001b[39m\u001b[38;5;21m_make_op\u001b[39m(inputs):\n\u001b[1;32m    455\u001b[0m   while_op, tensors \u001b[38;5;241m=\u001b[39m util\u001b[38;5;241m.\u001b[39mget_op_and_outputs(op_fn(\n\u001b[1;32m    456\u001b[0m       inputs,\n\u001b[1;32m    457\u001b[0m       util\u001b[38;5;241m.\u001b[39mcreate_new_tf_function(cond_graph),\n\u001b[0;32m   (...)\u001b[0m\n\u001b[1;32m    460\u001b[0m       parallel_iterations\u001b[38;5;241m=\u001b[39mparallel_iterations,\n\u001b[1;32m    461\u001b[0m       name\u001b[38;5;241m=\u001b[39mname))\n\u001b[0;32m--> 462\u001b[0m   \u001b[43m_copy_handle_data\u001b[49m\u001b[43m(\u001b[49m\u001b[43mbody_graph\u001b[49m\u001b[38;5;241;43m.\u001b[39;49m\u001b[43moutputs\u001b[49m\u001b[43m,\u001b[49m\u001b[43m \u001b[49m\u001b[43mtensors\u001b[49m\u001b[43m)\u001b[49m\n\u001b[1;32m    463\u001b[0m   util\u001b[38;5;241m.\u001b[39mmaybe_set_lowering_attr(while_op)\n\u001b[1;32m    464\u001b[0m   util\u001b[38;5;241m.\u001b[39mmaybe_propagate_compile_time_consts_in_xla(while_op)\n",
      "File \u001b[0;32m~/Desktop/CLASSES/MSc Project/deltalens/venv/lib/python3.9/site-packages/tensorflow/python/ops/while_v2.py:1339\u001b[0m, in \u001b[0;36m_copy_handle_data\u001b[0;34m(src_tensors, tgt_tensors)\u001b[0m\n\u001b[1;32m   1337\u001b[0m \u001b[38;5;28;01mdef\u001b[39;00m\u001b[38;5;250m \u001b[39m\u001b[38;5;21m_copy_handle_data\u001b[39m(src_tensors, tgt_tensors):\n\u001b[1;32m   1338\u001b[0m   \u001b[38;5;28;01mfor\u001b[39;00m src_t, tgt_t \u001b[38;5;129;01min\u001b[39;00m \u001b[38;5;28mzip\u001b[39m(src_tensors, tgt_tensors):\n\u001b[0;32m-> 1339\u001b[0m     \u001b[43mhandle_data_util\u001b[49m\u001b[38;5;241;43m.\u001b[39;49m\u001b[43mcopy_handle_data\u001b[49m\u001b[43m(\u001b[49m\u001b[43msrc_t\u001b[49m\u001b[43m,\u001b[49m\u001b[43m \u001b[49m\u001b[43mtgt_t\u001b[49m\u001b[43m)\u001b[49m\n",
      "File \u001b[0;32m~/Desktop/CLASSES/MSc Project/deltalens/venv/lib/python3.9/site-packages/tensorflow/python/ops/handle_data_util.py:62\u001b[0m, in \u001b[0;36mcopy_handle_data\u001b[0;34m(source_t, target_t)\u001b[0m\n\u001b[1;32m     46\u001b[0m \u001b[38;5;250m\u001b[39m\u001b[38;5;124;03m\"\"\"Copies HandleData for variant and resource type tensors if available.\u001b[39;00m\n\u001b[1;32m     47\u001b[0m \n\u001b[1;32m     48\u001b[0m \u001b[38;5;124;03mThe CppShapeInferenceResult::HandleData proto contains information about the\u001b[39;00m\n\u001b[0;32m   (...)\u001b[0m\n\u001b[1;32m     58\u001b[0m \u001b[38;5;124;03m  target_t: The tensor to copy HandleData to.\u001b[39;00m\n\u001b[1;32m     59\u001b[0m \u001b[38;5;124;03m\"\"\"\u001b[39;00m\n\u001b[1;32m     60\u001b[0m \u001b[38;5;28;01mif\u001b[39;00m (target_t\u001b[38;5;241m.\u001b[39mdtype \u001b[38;5;241m==\u001b[39m dtypes\u001b[38;5;241m.\u001b[39mresource \u001b[38;5;129;01mor\u001b[39;00m\n\u001b[1;32m     61\u001b[0m     target_t\u001b[38;5;241m.\u001b[39mdtype \u001b[38;5;241m==\u001b[39m dtypes\u001b[38;5;241m.\u001b[39mvariant):\n\u001b[0;32m---> 62\u001b[0m   handle_data \u001b[38;5;241m=\u001b[39m \u001b[43mget_handle_data\u001b[49m\u001b[43m(\u001b[49m\u001b[43msource_t\u001b[49m\u001b[43m)\u001b[49m\n\u001b[1;32m     63\u001b[0m   set_handle_data(target_t, handle_data)\n",
      "File \u001b[0;32m~/Desktop/CLASSES/MSc Project/deltalens/venv/lib/python3.9/site-packages/tensorflow/python/ops/handle_data_util.py:42\u001b[0m, in \u001b[0;36mget_handle_data\u001b[0;34m(source_t)\u001b[0m\n\u001b[1;32m     40\u001b[0m \u001b[38;5;28;01mif\u001b[39;00m \u001b[38;5;28misinstance\u001b[39m(source_t, core\u001b[38;5;241m.\u001b[39mValue):\n\u001b[1;32m     41\u001b[0m   \u001b[38;5;28;01mreturn\u001b[39;00m source_t\u001b[38;5;241m.\u001b[39m_handle_data  \u001b[38;5;66;03m# pylint: disable=protected-access\u001b[39;00m\n\u001b[0;32m---> 42\u001b[0m \u001b[38;5;28;01mreturn\u001b[39;00m \u001b[43mget_resource_handle_data\u001b[49m\u001b[43m(\u001b[49m\u001b[43msource_t\u001b[49m\u001b[43m)\u001b[49m\n",
      "File \u001b[0;32m~/Desktop/CLASSES/MSc Project/deltalens/venv/lib/python3.9/site-packages/tensorflow/python/ops/handle_data_util.py:31\u001b[0m, in \u001b[0;36mget_resource_handle_data\u001b[0;34m(graph_op)\u001b[0m\n\u001b[1;32m     27\u001b[0m \u001b[38;5;28;01massert\u001b[39;00m (\u001b[38;5;28misinstance\u001b[39m(graph_op, core\u001b[38;5;241m.\u001b[39mSymbol)\n\u001b[1;32m     28\u001b[0m         \u001b[38;5;129;01mand\u001b[39;00m \u001b[38;5;129;01mnot\u001b[39;00m \u001b[38;5;28misinstance\u001b[39m(graph_op, core\u001b[38;5;241m.\u001b[39mValue))\n\u001b[1;32m     30\u001b[0m \u001b[38;5;28;01mwith\u001b[39;00m graph_op\u001b[38;5;241m.\u001b[39mgraph\u001b[38;5;241m.\u001b[39m_c_graph\u001b[38;5;241m.\u001b[39mget() \u001b[38;5;28;01mas\u001b[39;00m c_graph:  \u001b[38;5;66;03m# pylint: disable=protected-access\u001b[39;00m\n\u001b[0;32m---> 31\u001b[0m   handle_data \u001b[38;5;241m=\u001b[39m \u001b[43mpywrap_tf_session\u001b[49m\u001b[38;5;241;43m.\u001b[39;49m\u001b[43mGetHandleShapeAndType\u001b[49m\u001b[43m(\u001b[49m\n\u001b[1;32m     32\u001b[0m \u001b[43m      \u001b[49m\u001b[43mc_graph\u001b[49m\u001b[43m,\u001b[49m\u001b[43m \u001b[49m\u001b[43mgraph_op\u001b[49m\u001b[38;5;241;43m.\u001b[39;49m\u001b[43m_as_tf_output\u001b[49m\u001b[43m(\u001b[49m\u001b[43m)\u001b[49m\u001b[43m)\u001b[49m  \u001b[38;5;66;03m# pylint: disable=protected-access\u001b[39;00m\n\u001b[1;32m     34\u001b[0m \u001b[38;5;28;01mreturn\u001b[39;00m cpp_shape_inference_pb2\u001b[38;5;241m.\u001b[39mCppShapeInferenceResult\u001b[38;5;241m.\u001b[39mHandleData\u001b[38;5;241m.\u001b[39mFromString(\n\u001b[1;32m     35\u001b[0m     compat\u001b[38;5;241m.\u001b[39mas_bytes(handle_data))\n",
      "\u001b[0;31mKeyboardInterrupt\u001b[0m: "
     ]
    }
   ],
   "source": [
    "import numpy as np\n",
    "import pandas as pd\n",
    "from sklearn.model_selection import ParameterGrid, ParameterSampler\n",
    "from sklearn.metrics import mean_squared_error, mean_absolute_error, accuracy_score\n",
    "from tensorflow.keras.models import Sequential\n",
    "from tensorflow.keras.layers import LSTM, Dense, Dropout, BatchNormalization, GRU, SimpleRNN\n",
    "from tensorflow.keras.optimizers import Adam, RMSprop, SGD\n",
    "from tensorflow.keras.callbacks import EarlyStopping, ReduceLROnPlateau\n",
    "from tensorflow.keras.regularizers import l1, l2, l1_l2\n",
    "import optuna\n",
    "import itertools\n",
    "import warnings\n",
    "warnings.filterwarnings('ignore')\n",
    "\n",
    "class BitcoinLSTMHyperparameterTuner:\n",
    "    def __init__(self, predictor_instance):\n",
    "        \"\"\"\n",
    "        Initialize with a trained BitcoinLSTMPredictor instance\n",
    "        \"\"\"\n",
    "        self.predictor = predictor_instance\n",
    "        self.best_params = {}\n",
    "        self.tuning_results = []\n",
    "        \n",
    "    def define_hyperparameter_space(self):\n",
    "        \"\"\"Define comprehensive hyperparameter search space\"\"\"\n",
    "        \n",
    "        # Grid Search Space (for exhaustive search on key parameters)\n",
    "        self.grid_space = {\n",
    "            'sequence_length': [15, 30, 60, 90],\n",
    "            'lstm_units_1': [32, 64, 128],\n",
    "            'lstm_units_2': [16, 32, 64],\n",
    "            'dropout_rate': [0.1, 0.2, 0.3, 0.4],\n",
    "            'learning_rate': [0.001, 0.01, 0.0001],\n",
    "            'batch_size': [16, 32, 64],\n",
    "            'dense_units': [8, 16, 32, 64]\n",
    "        }\n",
    "        \n",
    "        # Random Search Space (for broader exploration)\n",
    "        self.random_space = {\n",
    "            'sequence_length': [10, 15, 20, 30, 45, 60, 90, 120],\n",
    "            'lstm_units_1': [16, 32, 48, 64, 96, 128, 192, 256],\n",
    "            'lstm_units_2': [8, 16, 24, 32, 48, 64, 96, 128],\n",
    "            'lstm_units_3': [0, 8, 16, 32],  # 0 means no third layer\n",
    "            'dropout_rate_1': [0.0, 0.1, 0.15, 0.2, 0.25, 0.3, 0.35, 0.4, 0.5],\n",
    "            'dropout_rate_2': [0.0, 0.1, 0.15, 0.2, 0.25, 0.3, 0.35, 0.4, 0.5],\n",
    "            'dropout_rate_dense': [0.0, 0.05, 0.1, 0.15, 0.2, 0.25, 0.3],\n",
    "            'learning_rate': [0.1, 0.01, 0.001, 0.0001, 0.00001],\n",
    "            'batch_size': [8, 16, 24, 32, 48, 64, 96, 128],\n",
    "            'dense_units': [4, 8, 16, 24, 32, 48, 64, 96, 128],\n",
    "            'optimizer': ['adam', 'rmsprop', 'sgd'],\n",
    "            'activation': ['relu', 'tanh', 'elu', 'selu'],\n",
    "            'recurrent_activation': ['sigmoid', 'tanh', 'hard_sigmoid'],\n",
    "            'use_batch_norm': [True, False],\n",
    "            'regularizer': [None, 'l1', 'l2', 'l1_l2'],\n",
    "            'regularizer_strength': [0.001, 0.01, 0.1],\n",
    "            'cell_type': ['LSTM', 'GRU'],\n",
    "            'bidirectional': [True, False]\n",
    "        }\n",
    "        \n",
    "        # Bayesian Optimization bounds\n",
    "        self.bayesian_bounds = {\n",
    "            'sequence_length': (10, 120),\n",
    "            'lstm_units_1': (16, 256),\n",
    "            'lstm_units_2': (8, 128),\n",
    "            'dropout_rate': (0.0, 0.5),\n",
    "            'learning_rate': (1e-5, 1e-1),\n",
    "            'batch_size': (8, 128),\n",
    "            'dense_units': (4, 128)\n",
    "        }\n",
    "    \n",
    "    def build_model_with_params(self, params, input_shape, model_type='return'):\n",
    "        \"\"\"Build model with given hyperparameters\"\"\"\n",
    "        model = Sequential()\n",
    "        \n",
    "        # Get regularizer\n",
    "        reg = None\n",
    "        if params.get('regularizer') == 'l1':\n",
    "            reg = l1(params.get('regularizer_strength', 0.01))\n",
    "        elif params.get('regularizer') == 'l2':\n",
    "            reg = l2(params.get('regularizer_strength', 0.01))\n",
    "        elif params.get('regularizer') == 'l1_l2':\n",
    "            reg = l1_l2(l1=params.get('regularizer_strength', 0.01)/2, \n",
    "                       l2=params.get('regularizer_strength', 0.01)/2)\n",
    "        \n",
    "        # Cell type\n",
    "        cell_type = params.get('cell_type', 'LSTM')\n",
    "        if cell_type == 'LSTM':\n",
    "            CellLayer = LSTM\n",
    "        elif cell_type == 'GRU':\n",
    "            CellLayer = GRU\n",
    "        else:\n",
    "            CellLayer = SimpleRNN\n",
    "        \n",
    "        # First layer\n",
    "        if params.get('bidirectional', False):\n",
    "            from tensorflow.keras.layers import Bidirectional\n",
    "            model.add(Bidirectional(CellLayer(\n",
    "                params['lstm_units_1'], \n",
    "                return_sequences=True,\n",
    "                input_shape=input_shape,\n",
    "                recurrent_activation=params.get('recurrent_activation', 'sigmoid'),\n",
    "                kernel_regularizer=reg,\n",
    "                recurrent_regularizer=reg\n",
    "            )))\n",
    "        else:\n",
    "            model.add(CellLayer(\n",
    "                params['lstm_units_1'], \n",
    "                return_sequences=True,\n",
    "                input_shape=input_shape,\n",
    "                recurrent_activation=params.get('recurrent_activation', 'sigmoid'),\n",
    "                kernel_regularizer=reg,\n",
    "                recurrent_regularizer=reg\n",
    "            ))\n",
    "        \n",
    "        model.add(Dropout(params.get('dropout_rate_1', params.get('dropout_rate', 0.2))))\n",
    "        \n",
    "        if params.get('use_batch_norm', True):\n",
    "            model.add(BatchNormalization())\n",
    "        \n",
    "        # Second layer\n",
    "        return_sequences = params.get('lstm_units_3', 0) > 0\n",
    "        \n",
    "        if params.get('bidirectional', False):\n",
    "            model.add(Bidirectional(CellLayer(\n",
    "                params['lstm_units_2'], \n",
    "                return_sequences=return_sequences,\n",
    "                recurrent_activation=params.get('recurrent_activation', 'sigmoid'),\n",
    "                kernel_regularizer=reg,\n",
    "                recurrent_regularizer=reg\n",
    "            )))\n",
    "        else:\n",
    "            model.add(CellLayer(\n",
    "                params['lstm_units_2'], \n",
    "                return_sequences=return_sequences,\n",
    "                recurrent_activation=params.get('recurrent_activation', 'sigmoid'),\n",
    "                kernel_regularizer=reg,\n",
    "                recurrent_regularizer=reg\n",
    "            ))\n",
    "        \n",
    "        model.add(Dropout(params.get('dropout_rate_2', params.get('dropout_rate', 0.2))))\n",
    "        \n",
    "        # Optional third layer\n",
    "        if params.get('lstm_units_3', 0) > 0:\n",
    "            if params.get('bidirectional', False):\n",
    "                model.add(Bidirectional(CellLayer(\n",
    "                    params['lstm_units_3'], \n",
    "                    return_sequences=False,\n",
    "                    recurrent_activation=params.get('recurrent_activation', 'sigmoid'),\n",
    "                    kernel_regularizer=reg,\n",
    "                    recurrent_regularizer=reg\n",
    "                )))\n",
    "            else:\n",
    "                model.add(CellLayer(\n",
    "                    params['lstm_units_3'], \n",
    "                    return_sequences=False,\n",
    "                    recurrent_activation=params.get('recurrent_activation', 'sigmoid'),\n",
    "                    kernel_regularizer=reg,\n",
    "                    recurrent_regularizer=reg\n",
    "                ))\n",
    "            model.add(Dropout(params.get('dropout_rate_2', params.get('dropout_rate', 0.2))))\n",
    "        \n",
    "        # Dense layers\n",
    "        model.add(Dense(\n",
    "            params.get('dense_units', 16), \n",
    "            activation=params.get('activation', 'relu'),\n",
    "            kernel_regularizer=reg\n",
    "        ))\n",
    "        model.add(Dropout(params.get('dropout_rate_dense', 0.1)))\n",
    "        \n",
    "        # Output layer\n",
    "        if model_type == 'return':\n",
    "            model.add(Dense(1, activation='tanh'))\n",
    "        else:  # direction\n",
    "            model.add(Dense(1, activation='sigmoid'))\n",
    "        \n",
    "        # Compile model\n",
    "        optimizer_name = params.get('optimizer', 'adam')\n",
    "        lr = params.get('learning_rate', 0.001)\n",
    "        \n",
    "        if optimizer_name == 'adam':\n",
    "            optimizer = Adam(learning_rate=lr)\n",
    "        elif optimizer_name == 'rmsprop':\n",
    "            optimizer = RMSprop(learning_rate=lr)\n",
    "        else:\n",
    "            optimizer = SGD(learning_rate=lr)\n",
    "        \n",
    "        if model_type == 'return':\n",
    "            model.compile(optimizer=optimizer, loss='mse', metrics=['mae'])\n",
    "        else:\n",
    "            model.compile(optimizer=optimizer, loss='binary_crossentropy', metrics=['accuracy'])\n",
    "        \n",
    "        return model\n",
    "    \n",
    "    def evaluate_model(self, params, model_type='return', max_epochs=100):\n",
    "        \"\"\"Evaluate model with given parameters\"\"\"\n",
    "        try:\n",
    "            # Prepare data with new sequence length\n",
    "            old_sequence_length = self.predictor.sequence_length\n",
    "            self.predictor.sequence_length = params['sequence_length']\n",
    "            \n",
    "            # Re-prepare data with new sequence length\n",
    "            self.predictor.prepare_data()\n",
    "            \n",
    "            # Build model\n",
    "            input_shape = (self.predictor.sequence_length, self.predictor.X_train.shape[2])\n",
    "            model = self.build_model_with_params(params, input_shape, model_type)\n",
    "            \n",
    "            # Callbacks\n",
    "            early_stopping = EarlyStopping(\n",
    "                monitor='val_loss',\n",
    "                patience=15,\n",
    "                restore_best_weights=True\n",
    "            )\n",
    "            \n",
    "            reduce_lr = ReduceLROnPlateau(\n",
    "                monitor='val_loss',\n",
    "                factor=0.5,\n",
    "                patience=8,\n",
    "                min_lr=1e-7\n",
    "            )\n",
    "            \n",
    "            # Select target based on model type\n",
    "            if model_type == 'return':\n",
    "                y_train = self.predictor.y_return_train\n",
    "                y_val = self.predictor.y_return_val\n",
    "                y_test = self.predictor.y_return_test\n",
    "            else:\n",
    "                y_train = self.predictor.y_dir_train\n",
    "                y_val = self.predictor.y_dir_val\n",
    "                y_test = self.predictor.y_dir_test\n",
    "            \n",
    "            # Train model\n",
    "            history = model.fit(\n",
    "                self.predictor.X_train, y_train,\n",
    "                validation_data=(self.predictor.X_val, y_val),\n",
    "                epochs=max_epochs,\n",
    "                batch_size=params.get('batch_size', 32),\n",
    "                callbacks=[early_stopping, reduce_lr],\n",
    "                verbose=0\n",
    "            )\n",
    "            \n",
    "            # Evaluate\n",
    "            test_loss = model.evaluate(self.predictor.X_test, y_test, verbose=0)\n",
    "            \n",
    "            # Get predictions\n",
    "            predictions = model.predict(self.predictor.X_test, verbose=0)\n",
    "            \n",
    "            if model_type == 'return':\n",
    "                # For return prediction, calculate MSE and MAE\n",
    "                mse = mean_squared_error(y_test, predictions)\n",
    "                mae = mean_absolute_error(y_test, predictions)\n",
    "                score = -mse  # Negative because we want to maximize\n",
    "                metrics = {'mse': mse, 'mae': mae, 'test_loss': test_loss[0]}\n",
    "            else:\n",
    "                # For direction prediction, calculate accuracy\n",
    "                pred_classes = (predictions > 0.5).astype(int)\n",
    "                accuracy = accuracy_score(y_test, pred_classes)\n",
    "                score = accuracy\n",
    "                metrics = {'accuracy': accuracy, 'test_loss': test_loss[0]}\n",
    "            \n",
    "            # Restore original sequence length\n",
    "            self.predictor.sequence_length = old_sequence_length\n",
    "            \n",
    "            return score, metrics, len(history.history['loss'])\n",
    "            \n",
    "        except Exception as e:\n",
    "            print(f\"Error evaluating parameters: {e}\")\n",
    "            # Restore original sequence length\n",
    "            self.predictor.sequence_length = old_sequence_length\n",
    "            return -np.inf, {}, 0\n",
    "    \n",
    "    def grid_search(self, model_type='return', max_combinations=100):\n",
    "        \"\"\"Perform grid search on key parameters\"\"\"\n",
    "        print(f\"Starting Grid Search for {model_type} model...\")\n",
    "        \n",
    "        # Create parameter grid\n",
    "        param_grid = list(ParameterGrid(self.grid_space))\n",
    "        \n",
    "        # Limit combinations if too many\n",
    "        if len(param_grid) > max_combinations:\n",
    "            param_grid = param_grid[:max_combinations]\n",
    "            print(f\"Limited to {max_combinations} combinations\")\n",
    "        \n",
    "        best_score = -np.inf\n",
    "        best_params = None\n",
    "        results = []\n",
    "        \n",
    "        for i, params in enumerate(param_grid):\n",
    "            print(f\"Grid Search {i+1}/{len(param_grid)}: {params}\")\n",
    "            \n",
    "            score, metrics, epochs = self.evaluate_model(params, model_type)\n",
    "            \n",
    "            result = {\n",
    "                'params': params.copy(),\n",
    "                'score': score,\n",
    "                'metrics': metrics,\n",
    "                'epochs': epochs,\n",
    "                'method': 'grid_search'\n",
    "            }\n",
    "            results.append(result)\n",
    "            \n",
    "            if score > best_score:\n",
    "                best_score = score\n",
    "                best_params = params.copy()\n",
    "                print(f\"New best score: {best_score:.6f}\")\n",
    "        \n",
    "        return best_params, best_score, results\n",
    "    \n",
    "    def random_search(self, model_type='return', n_trials=50):\n",
    "        \"\"\"Perform random search\"\"\"\n",
    "        print(f\"Starting Random Search for {model_type} model...\")\n",
    "        \n",
    "        # Create random parameter samples\n",
    "        param_samples = list(ParameterSampler(self.random_space, n_trials, random_state=42))\n",
    "        \n",
    "        best_score = -np.inf\n",
    "        best_params = None\n",
    "        results = []\n",
    "        \n",
    "        for i, params in enumerate(param_samples):\n",
    "            print(f\"Random Search {i+1}/{len(param_samples)}: {params}\")\n",
    "            \n",
    "            score, metrics, epochs = self.evaluate_model(params, model_type)\n",
    "            \n",
    "            result = {\n",
    "                'params': params.copy(),\n",
    "                'score': score,\n",
    "                'metrics': metrics,\n",
    "                'epochs': epochs,\n",
    "                'method': 'random_search'\n",
    "            }\n",
    "            results.append(result)\n",
    "            \n",
    "            if score > best_score:\n",
    "                best_score = score\n",
    "                best_params = params.copy()\n",
    "                print(f\"New best score: {best_score:.6f}\")\n",
    "        \n",
    "        return best_params, best_score, results\n",
    "    \n",
    "    def bayesian_optimization(self, model_type='return', n_trials=100):\n",
    "        \"\"\"Perform Bayesian optimization using Optuna\"\"\"\n",
    "        print(f\"Starting Bayesian Optimization for {model_type} model...\")\n",
    "        \n",
    "        def objective(trial):\n",
    "            params = {\n",
    "                'sequence_length': trial.suggest_int('sequence_length', 10, 120),\n",
    "                'lstm_units_1': trial.suggest_int('lstm_units_1', 16, 256),\n",
    "                'lstm_units_2': trial.suggest_int('lstm_units_2', 8, 128),\n",
    "                'lstm_units_3': trial.suggest_int('lstm_units_3', 0, 64),\n",
    "                'dropout_rate_1': trial.suggest_float('dropout_rate_1', 0.0, 0.5),\n",
    "                'dropout_rate_2': trial.suggest_float('dropout_rate_2', 0.0, 0.5),\n",
    "                'dropout_rate_dense': trial.suggest_float('dropout_rate_dense', 0.0, 0.3),\n",
    "                'learning_rate': trial.suggest_float('learning_rate', 1e-5, 1e-1, log=True),\n",
    "                'batch_size': trial.suggest_categorical('batch_size', [8, 16, 24, 32, 48, 64, 96, 128]),\n",
    "                'dense_units': trial.suggest_int('dense_units', 4, 128),\n",
    "                'optimizer': trial.suggest_categorical('optimizer', ['adam', 'rmsprop', 'sgd']),\n",
    "                'activation': trial.suggest_categorical('activation', ['relu', 'tanh', 'elu', 'selu']),\n",
    "                'recurrent_activation': trial.suggest_categorical('recurrent_activation', ['sigmoid', 'tanh', 'hard_sigmoid']),\n",
    "                'use_batch_norm': trial.suggest_categorical('use_batch_norm', [True, False]),\n",
    "                'regularizer': trial.suggest_categorical('regularizer', [None, 'l1', 'l2', 'l1_l2']),\n",
    "                'regularizer_strength': trial.suggest_float('regularizer_strength', 0.001, 0.1, log=True),\n",
    "                'cell_type': trial.suggest_categorical('cell_type', ['LSTM', 'GRU']),\n",
    "                'bidirectional': trial.suggest_categorical('bidirectional', [True, False])\n",
    "            }\n",
    "            \n",
    "            score, metrics, epochs = self.evaluate_model(params, model_type)\n",
    "            \n",
    "            # Store additional info\n",
    "            trial.set_user_attr('metrics', metrics)\n",
    "            trial.set_user_attr('epochs', epochs)\n",
    "            \n",
    "            return score\n",
    "        \n",
    "        # Create study\n",
    "        study = optuna.create_study(direction='maximize')\n",
    "        study.optimize(objective, n_trials=n_trials, show_progress_bar=True)\n",
    "        \n",
    "        # Extract results\n",
    "        best_params = study.best_params\n",
    "        best_score = study.best_value\n",
    "        \n",
    "        results = []\n",
    "        for trial in study.trials:\n",
    "            result = {\n",
    "                'params': trial.params,\n",
    "                'score': trial.value if trial.value is not None else -np.inf,\n",
    "                'metrics': trial.user_attrs.get('metrics', {}),\n",
    "                'epochs': trial.user_attrs.get('epochs', 0),\n",
    "                'method': 'bayesian_optimization'\n",
    "            }\n",
    "            results.append(result)\n",
    "        \n",
    "        return best_params, best_score, results\n",
    "    \n",
    "    def comprehensive_tuning(self, model_type='return'):\n",
    "        \"\"\"Perform comprehensive hyperparameter tuning\"\"\"\n",
    "        self.define_hyperparameter_space()\n",
    "        \n",
    "        all_results = []\n",
    "        \n",
    "        # 1. Grid Search (focused)\n",
    "        print(\"=\"*60)\n",
    "        print(\"PHASE 1: GRID SEARCH\")\n",
    "        print(\"=\"*60)\n",
    "        grid_best_params, grid_best_score, grid_results = self.grid_search(model_type, max_combinations=50)\n",
    "        all_results.extend(grid_results)\n",
    "        \n",
    "        # 2. Random Search (exploration)\n",
    "        print(\"\\n\" + \"=\"*60)\n",
    "        print(\"PHASE 2: RANDOM SEARCH\")\n",
    "        print(\"=\"*60)\n",
    "        random_best_params, random_best_score, random_results = self.random_search(model_type, n_trials=100)\n",
    "        all_results.extend(random_results)\n",
    "        \n",
    "        # 3. Bayesian Optimization (exploitation)\n",
    "        print(\"\\n\" + \"=\"*60)\n",
    "        print(\"PHASE 3: BAYESIAN OPTIMIZATION\")\n",
    "        print(\"=\"*60)\n",
    "        bayes_best_params, bayes_best_score, bayes_results = self.bayesian_optimization(model_type, n_trials=150)\n",
    "        all_results.extend(bayes_results)\n",
    "        \n",
    "        # Find overall best\n",
    "        best_result = max(all_results, key=lambda x: x['score'])\n",
    "        \n",
    "        print(\"\\n\" + \"=\"*60)\n",
    "        print(f\"COMPREHENSIVE TUNING RESULTS - {model_type.upper()} MODEL\")\n",
    "        print(\"=\"*60)\n",
    "        print(f\"Total evaluations: {len(all_results)}\")\n",
    "        print(f\"Best score: {best_result['score']:.6f}\")\n",
    "        print(f\"Best method: {best_result['method']}\")\n",
    "        print(f\"Best parameters:\")\n",
    "        for param, value in best_result['params'].items():\n",
    "            print(f\"  {param}: {value}\")\n",
    "        print(f\"Best metrics: {best_result['metrics']}\")\n",
    "        \n",
    "        # Store results\n",
    "        self.tuning_results = all_results\n",
    "        self.best_params[model_type] = best_result['params']\n",
    "        \n",
    "        return best_result['params'], best_result['score'], all_results\n",
    "    \n",
    "    def analyze_results(self):\n",
    "        \"\"\"Analyze tuning results and provide insights\"\"\"\n",
    "        if not self.tuning_results:\n",
    "            print(\"No tuning results available. Run comprehensive_tuning first.\")\n",
    "            return\n",
    "        \n",
    "        df = pd.DataFrame(self.tuning_results)\n",
    "        \n",
    "        print(\"\\n\" + \"=\"*60)\n",
    "        print(\"HYPERPARAMETER ANALYSIS\")\n",
    "        print(\"=\"*60)\n",
    "        \n",
    "        # Best results by method\n",
    "        print(\"\\nBest scores by method:\")\n",
    "        for method in df['method'].unique():\n",
    "            method_results = df[df['method'] == method]\n",
    "            best_score = method_results['score'].max()\n",
    "            print(f\"{method}: {best_score:.6f}\")\n",
    "        \n",
    "        # Parameter importance analysis\n",
    "        print(\"\\nParameter importance analysis:\")\n",
    "        \n",
    "        # For each parameter, analyze correlation with performance\n",
    "        param_importance = {}\n",
    "        for result in self.tuning_results:\n",
    "            for param, value in result['params'].items():\n",
    "                if param not in param_importance:\n",
    "                    param_importance[param] = []\n",
    "                param_importance[param].append((value, result['score']))\n",
    "        \n",
    "        # Calculate correlations for numerical parameters\n",
    "        numerical_params = ['sequence_length', 'lstm_units_1', 'lstm_units_2', 'dropout_rate_1', \n",
    "                          'dropout_rate_2', 'learning_rate', 'batch_size', 'dense_units']\n",
    "        \n",
    "        for param in numerical_params:\n",
    "            if param in param_importance:\n",
    "                values = [x[0] for x in param_importance[param]]\n",
    "                scores = [x[1] for x in param_importance[param]]\n",
    "                if len(set(values)) > 1:  # Only if there's variation\n",
    "                    correlation = np.corrcoef(values, scores)[0, 1]\n",
    "                    print(f\"{param}: correlation = {correlation:.3f}\")\n",
    "        \n",
    "        # Best value ranges for top parameters\n",
    "        print(\"\\nOptimal parameter ranges (top 10% results):\")\n",
    "        top_results = df.nlargest(max(1, len(df) // 10), 'score')\n",
    "        \n",
    "        for param in numerical_params:\n",
    "            if param in top_results.iloc[0]['params']:\n",
    "                param_values = [result['params'][param] for _, result in top_results.iterrows() \n",
    "                              if param in result['params']]\n",
    "                if param_values:\n",
    "                    print(f\"{param}: {min(param_values):.4f} - {max(param_values):.4f} \"\n",
    "                          f\"(median: {np.median(param_values):.4f})\")\n",
    "        \n",
    "        return df\n",
    "    \n",
    "    def tune_both_models(self):\n",
    "        \"\"\"Tune both return and direction models\"\"\"\n",
    "        print(\"Starting comprehensive tuning for both models...\")\n",
    "        \n",
    "        # Tune return model\n",
    "        return_params, return_score, return_results = self.comprehensive_tuning('return')\n",
    "        \n",
    "        # Tune direction model\n",
    "        direction_params, direction_score, direction_results = self.comprehensive_tuning('direction')\n",
    "        \n",
    "        # Analyze results\n",
    "        self.analyze_results()\n",
    "        \n",
    "        return {\n",
    "            'return_model': {\n",
    "                'best_params': return_params,\n",
    "                'best_score': return_score,\n",
    "                'results': return_results\n",
    "            },\n",
    "            'direction_model': {\n",
    "                'best_params': direction_params,\n",
    "                'best_score': direction_score,\n",
    "                'results': direction_results\n",
    "            }\n",
    "        }\n",
    "\n",
    "\n",
    "# Usage example:\n",
    "\n",
    "# Assuming you have a trained BitcoinLSTMPredictor instance\n",
    "predictor = BitcoinLSTMPredictor(df_daily)\n",
    "predictor.engineer_features()\n",
    "predictor.prepare_data()\n",
    "\n",
    "# Create tuner\n",
    "tuner = BitcoinLSTMHyperparameterTuner(predictor)\n",
    "\n",
    "# Run comprehensive tuning\n",
    "results = tuner.tune_both_models()\n",
    "\n",
    "# The best parameters will be stored in tuner.best_params\n",
    "print(\"Best parameters for return model:\", tuner.best_params['return'])\n",
    "print(\"Best parameters for direction model:\", tuner.best_params['direction'])\n"
   ]
  },
  {
   "cell_type": "code",
   "execution_count": 37,
   "metadata": {},
   "outputs": [],
   "source": [
    "class TunedBitcoinLSTMPredictor:\n",
    "    def __init__(self, df_daily):\n",
    "        self.df = df_daily.copy()\n",
    "        self.price_scaler = MinMaxScaler(feature_range=(0, 1))\n",
    "        self.feature_scaler = RobustScaler()\n",
    "        self.target_scaler = MinMaxScaler(feature_range=(0, 1))\n",
    "        # Optimized hyperparameters from comprehensive tuning\n",
    "        self.sequence_length = 30\n",
    "        self.lstm_units_1 = 64\n",
    "        self.lstm_units_2 = 16\n",
    "        self.dense_units = 8\n",
    "        self.dropout_rate = 0.1\n",
    "        self.learning_rate = 0.01\n",
    "        self.batch_size = 16\n",
    "        self.price_model = None\n",
    "        self.direction_model = None\n",
    "        self.feature_names = None\n",
    "        \n",
    "    def engineer_features(self):\n",
    "        \"\"\"Create technical indicators and features\"\"\"\n",
    "        df = self.df.copy()\n",
    "        \n",
    "        # Ensure we have enough data\n",
    "        if len(df) < 100:\n",
    "            raise ValueError(\"Need at least 100 data points for proper LSTM training\")\n",
    "        \n",
    "        # Basic price ratios (more stable than absolute differences)\n",
    "        df['high_close_ratio'] = df['high'] / df['close']\n",
    "        df['low_close_ratio'] = df['low'] / df['close']\n",
    "        df['open_close_ratio'] = df['open'] / df['close']\n",
    "        df['volume_avg_ratio'] = df['volume'] / df['volume'].rolling(20).mean()\n",
    "        \n",
    "        # Returns instead of absolute prices (more stationary)\n",
    "        df['returns_1d'] = df['close'].pct_change()\n",
    "        df['returns_3d'] = df['close'].pct_change(3)\n",
    "        df['returns_7d'] = df['close'].pct_change(7)\n",
    "        df['log_returns'] = np.log(df['close'] / df['close'].shift(1))\n",
    "        \n",
    "        # Moving average ratios\n",
    "        for window in [5, 10, 20]:\n",
    "            df[f'ma_{window}'] = df['close'].rolling(window).mean()\n",
    "            df[f'price_ma_{window}_ratio'] = df['close'] / df[f'ma_{window}']\n",
    "        \n",
    "        # Exponential moving averages\n",
    "        df['ema_12'] = df['close'].ewm(span=12).mean()\n",
    "        df['ema_26'] = df['close'].ewm(span=26).mean()\n",
    "        \n",
    "        # MACD (normalized)\n",
    "        df['macd'] = df['ema_12'] - df['ema_26']\n",
    "        df['macd_signal'] = df['macd'].ewm(span=9).mean()\n",
    "        df['macd_normalized'] = df['macd'] / df['close']\n",
    "        df['macd_signal_normalized'] = df['macd_signal'] / df['close']\n",
    "        \n",
    "        # RSI\n",
    "        delta = df['close'].diff()\n",
    "        gain = (delta.where(delta > 0, 0)).rolling(window=14).mean()\n",
    "        loss = (-delta.where(delta < 0, 0)).rolling(window=14).mean()\n",
    "        rs = gain / loss\n",
    "        df['rsi'] = 100 - (100 / (1 + rs))\n",
    "        df['rsi_normalized'] = df['rsi'] / 100  # Normalize to 0-1\n",
    "        \n",
    "        # Bollinger Bands (normalized)\n",
    "        df['bb_middle'] = df['close'].rolling(20).mean()\n",
    "        bb_std = df['close'].rolling(20).std()\n",
    "        df['bb_upper'] = df['bb_middle'] + (bb_std * 2)\n",
    "        df['bb_lower'] = df['bb_middle'] - (bb_std * 2)\n",
    "        df['bb_position'] = (df['close'] - df['bb_lower']) / (df['bb_upper'] - df['bb_lower'])\n",
    "        df['bb_width'] = (df['bb_upper'] - df['bb_lower']) / df['bb_middle']\n",
    "        \n",
    "        # Volatility (normalized)\n",
    "        df['volatility_10'] = df['returns_1d'].rolling(10).std()\n",
    "        df['volatility_20'] = df['returns_1d'].rolling(20).std()\n",
    "        \n",
    "        # Volume indicators (normalized)\n",
    "        df['volume_sma_20'] = df['volume'].rolling(20).mean()\n",
    "        df['volume_change'] = df['volume'].pct_change()\n",
    "        \n",
    "        # Sentiment features (already mostly normalized)\n",
    "        df['vader_ma_3'] = df['avg_vader_compound'].rolling(3).mean()\n",
    "        df['vader_ma_7'] = df['avg_vader_compound'].rolling(7).mean()\n",
    "        df['article_count_norm'] = df['article_count'] / df['article_count'].rolling(30).mean()\n",
    "        \n",
    "        # Funding rate (already mostly normalized)\n",
    "        df['funding_rate_ma'] = df['funding_rate'].rolling(7).mean()\n",
    "        \n",
    "        # Momentum indicators\n",
    "        df['momentum_5'] = df['close'].pct_change(5)\n",
    "        df['momentum_10'] = df['close'].pct_change(10)\n",
    "        \n",
    "        # Time features (cyclical encoding)\n",
    "        df['day_of_week'] = df.index.dayofweek\n",
    "        df['day_sin'] = np.sin(2 * np.pi * df['day_of_week'] / 7)\n",
    "        df['day_cos'] = np.cos(2 * np.pi * df['day_of_week'] / 7)\n",
    "        \n",
    "        # Target: predict next day's return instead of absolute price\n",
    "        df['next_close'] = df['close'].shift(-1)\n",
    "        df['target_return'] = (df['next_close'] - df['close']) / df['close']\n",
    "        df['target_direction'] = (df['target_return'] > 0).astype(int)\n",
    "        \n",
    "        # Clean data\n",
    "        df = df.replace([np.inf, -np.inf], np.nan)\n",
    "        df.to_csv(\"my_data.csv\")\n",
    "\n",
    "        df = df.dropna()\n",
    "        print(len(df))\n",
    "        if len(df) < 50:\n",
    "            raise ValueError(\"Not enough clean data after preprocessing\")\n",
    "        \n",
    "        self.df_processed = df\n",
    "        print(f\"Processed {len(df)} data points with {df.shape[1]} features\")\n",
    "        \n",
    "        return df\n",
    "    \n",
    "    def create_sequences(self, data, target, sequence_length):\n",
    "        \"\"\"Create sequences for LSTM input\"\"\"\n",
    "        X, y = [], []\n",
    "        for i in range(sequence_length, len(data)):\n",
    "            X.append(data[i-sequence_length:i])\n",
    "            y.append(target[i])\n",
    "        return np.array(X), np.array(y)\n",
    "    \n",
    "    def prepare_data(self, test_size=0.2, val_size=0.1):\n",
    "        \"\"\"Prepare data for LSTM training with better scaling\"\"\"\n",
    "        df = self.df_processed\n",
    "        \n",
    "        # Select features (focus on ratios and normalized indicators)\n",
    "        feature_cols = [\n",
    "            'high_close_ratio', 'low_close_ratio', 'open_close_ratio',\n",
    "            'returns_1d', 'returns_3d', 'returns_7d',\n",
    "            'price_ma_5_ratio', 'price_ma_10_ratio', 'price_ma_20_ratio',\n",
    "            'macd_normalized', 'macd_signal_normalized',\n",
    "            'rsi_normalized', 'bb_position', 'bb_width',\n",
    "            'volatility_10', 'volatility_20',\n",
    "            'volume_avg_ratio', 'volume_change',\n",
    "            'vader_ma_3', 'vader_ma_7', 'article_count_norm',\n",
    "            'funding_rate', 'funding_rate_ma',\n",
    "            'momentum_5', 'momentum_10',\n",
    "            'day_sin', 'day_cos'\n",
    "        ]\n",
    "        \n",
    "        # Filter existing columns\n",
    "        available_cols = [col for col in feature_cols if col in df.columns]\n",
    "        print(f\"Using {len(available_cols)} features: {available_cols}\")\n",
    "        \n",
    "        # Prepare feature data\n",
    "        feature_data = df[available_cols].values\n",
    "        \n",
    "        # Handle any remaining NaN or inf values\n",
    "        feature_data = np.nan_to_num(feature_data, nan=0.0, posinf=1.0, neginf=-1.0)\n",
    "        \n",
    "        # Scale features\n",
    "        feature_data_scaled = self.feature_scaler.fit_transform(feature_data)\n",
    "        \n",
    "        # Prepare targets\n",
    "        target_returns = df['target_return'].values\n",
    "        target_directions = df['target_direction'].values\n",
    "        \n",
    "        # Scale target returns\n",
    "        target_returns_scaled = self.target_scaler.fit_transform(target_returns.reshape(-1, 1)).flatten()\n",
    "        \n",
    "        # Create sequences using optimized sequence_length\n",
    "        X, y_returns = self.create_sequences(feature_data_scaled, target_returns_scaled, self.sequence_length)\n",
    "        _, y_directions = self.create_sequences(feature_data_scaled, target_directions, self.sequence_length)\n",
    "        \n",
    "        # Split data (time series split)\n",
    "        total_samples = len(X)\n",
    "        train_size = int(total_samples * (1 - test_size - val_size))\n",
    "        val_size_samples = int(total_samples * val_size)\n",
    "        \n",
    "        # Training data\n",
    "        self.X_train = X[:train_size]\n",
    "        self.y_return_train = y_returns[:train_size]\n",
    "        self.y_dir_train = y_directions[:train_size]\n",
    "        \n",
    "        # Validation data\n",
    "        self.X_val = X[train_size:train_size + val_size_samples]\n",
    "        self.y_return_val = y_returns[train_size:train_size + val_size_samples]\n",
    "        self.y_dir_val = y_directions[train_size:train_size + val_size_samples]\n",
    "        \n",
    "        # Test data\n",
    "        self.X_test = X[train_size + val_size_samples:]\n",
    "        self.y_return_test = y_returns[train_size + val_size_samples:]\n",
    "        self.y_dir_test = y_directions[train_size + val_size_samples:]\n",
    "        \n",
    "        # Store current prices for test period (for converting returns back to prices)\n",
    "        self.test_current_prices = df['close'].iloc[train_size + val_size_samples + self.sequence_length:].values\n",
    "        \n",
    "        # Store dates for test period - this is the key addition for date tracking\n",
    "        self.test_dates = df.index[train_size + val_size_samples + self.sequence_length:]\n",
    "        \n",
    "        # Store the last date in the dataset to calculate prediction date\n",
    "        self.last_date = df.index[-1]\n",
    "        \n",
    "        self.feature_names = available_cols\n",
    "        \n",
    "        print(f\"Training sequences: {len(self.X_train)}\")\n",
    "        print(f\"Validation sequences: {len(self.X_val)}\")\n",
    "        print(f\"Test sequences: {len(self.X_test)}\")\n",
    "        print(f\"Features per timestep: {self.X_train.shape[2]}\")\n",
    "        print(f\"Last date in dataset: {self.last_date}\")\n",
    "        \n",
    "    def build_return_model(self):\n",
    "        \"\"\"Build LSTM model for return prediction with optimized hyperparameters\"\"\"\n",
    "        model = Sequential([\n",
    "            LSTM(self.lstm_units_1, return_sequences=True, input_shape=(self.sequence_length, self.X_train.shape[2])),\n",
    "            Dropout(self.dropout_rate),\n",
    "            BatchNormalization(),\n",
    "            \n",
    "            LSTM(self.lstm_units_2, return_sequences=False),\n",
    "            Dropout(self.dropout_rate),\n",
    "            \n",
    "            Dense(self.dense_units, activation='relu'),\n",
    "            Dropout(self.dropout_rate),\n",
    "            Dense(1, activation='tanh')  # tanh for bounded returns\n",
    "        ])\n",
    "        \n",
    "        model.compile(\n",
    "            optimizer=Adam(learning_rate=self.learning_rate),\n",
    "            loss='mse',\n",
    "            metrics=['mae']\n",
    "        )\n",
    "        \n",
    "        return model\n",
    "    \n",
    "    def build_direction_model(self):\n",
    "        \"\"\"Build LSTM model for direction prediction with optimized hyperparameters\"\"\"\n",
    "        model = Sequential([\n",
    "            LSTM(self.lstm_units_1, return_sequences=True, input_shape=(self.sequence_length, self.X_train.shape[2])),\n",
    "            Dropout(self.dropout_rate + 0.2),  # Slightly higher dropout for classification\n",
    "            BatchNormalization(),\n",
    "            \n",
    "            LSTM(self.lstm_units_2, return_sequences=False),\n",
    "            Dropout(self.dropout_rate + 0.2),\n",
    "            \n",
    "            Dense(self.dense_units, activation='relu'),\n",
    "            Dropout(self.dropout_rate + 0.1),\n",
    "            Dense(1, activation='sigmoid')\n",
    "        ])\n",
    "        \n",
    "        model.compile(\n",
    "            optimizer=Adam(learning_rate=self.learning_rate),\n",
    "            loss='binary_crossentropy',\n",
    "            metrics=['accuracy']\n",
    "        )\n",
    "        \n",
    "        return model\n",
    "    \n",
    "    def train_models(self, epochs=50, batch_size=None):\n",
    "        \"\"\"Train both LSTM models with optimized hyperparameters\"\"\"\n",
    "        # Use provided batch_size or default to optimized value\n",
    "        if batch_size is not None:\n",
    "            print(f\"Using provided batch_size: {batch_size} (optimized: {self.batch_size})\")\n",
    "            training_batch_size = batch_size\n",
    "        else:\n",
    "            training_batch_size = self.batch_size\n",
    "            print(f\"Using optimized batch_size: {training_batch_size}\")\n",
    "        # Callbacks\n",
    "        early_stopping = EarlyStopping(\n",
    "            monitor='val_loss',\n",
    "            patience=10,\n",
    "            restore_best_weights=True\n",
    "        )\n",
    "        \n",
    "        reduce_lr = ReduceLROnPlateau(\n",
    "            monitor='val_loss',\n",
    "            factor=0.5,\n",
    "            patience=5,\n",
    "            min_lr=1e-6\n",
    "        )\n",
    "        \n",
    "        # Train return prediction model with optimized batch size\n",
    "        print(\"Training return prediction LSTM with optimized hyperparameters...\")\n",
    "        self.return_model = self.build_return_model()\n",
    "        \n",
    "        return_history = self.return_model.fit(\n",
    "            self.X_train, self.y_return_train,\n",
    "            validation_data=(self.X_val, self.y_return_val),\n",
    "            epochs=epochs,\n",
    "            batch_size=training_batch_size,\n",
    "            callbacks=[early_stopping, reduce_lr],\n",
    "            verbose=1\n",
    "        )\n",
    "        \n",
    "        # Train direction prediction model with same batch size\n",
    "        print(\"\\nTraining direction prediction LSTM with optimized hyperparameters...\")\n",
    "        self.direction_model = self.build_direction_model()\n",
    "        \n",
    "        direction_history = self.direction_model.fit(\n",
    "            self.X_train, self.y_dir_train,\n",
    "            validation_data=(self.X_val, self.y_dir_val),\n",
    "            epochs=epochs,\n",
    "            batch_size=training_batch_size,\n",
    "            callbacks=[early_stopping, reduce_lr],\n",
    "            verbose=1\n",
    "        )\n",
    "        \n",
    "        return return_history, direction_history\n",
    "    \n",
    "    def evaluate_models(self):\n",
    "        \"\"\"Evaluate both LSTM models\"\"\"\n",
    "        print(\"\\n\" + \"=\"*50)\n",
    "        print(\"OPTIMIZED LSTM RETURN PREDICTION RESULTS\")\n",
    "        print(\"=\"*50)\n",
    "        \n",
    "        # Return predictions\n",
    "        y_return_pred_scaled = self.return_model.predict(self.X_test)\n",
    "        \n",
    "        # Inverse transform returns\n",
    "        y_return_pred = self.target_scaler.inverse_transform(y_return_pred_scaled).flatten()\n",
    "        y_return_actual = self.target_scaler.inverse_transform(self.y_return_test.reshape(-1, 1)).flatten()\n",
    "        \n",
    "        # Convert returns to prices\n",
    "        y_price_pred = self.test_current_prices * (1 + y_return_pred)\n",
    "        y_price_actual = self.test_current_prices * (1 + y_return_actual)\n",
    "        \n",
    "        # Calculate metrics\n",
    "        mse_return = mean_squared_error(y_return_actual, y_return_pred)\n",
    "        mae_return = mean_absolute_error(y_return_actual, y_return_pred)\n",
    "        mse_price = mean_squared_error(y_price_actual, y_price_pred)\n",
    "        mae_price = mean_absolute_error(y_price_actual, y_price_pred)\n",
    "        mape_price = np.mean(np.abs((y_price_actual - y_price_pred) / y_price_actual)) * 100\n",
    "        \n",
    "        print(f\"Return MSE: {mse_return:.6f} (Expected: ~0.007947)\")\n",
    "        print(f\"Return MAE: {mae_return:.6f} (Expected: ~0.06260)\")\n",
    "        print(f\"Price MSE: ${mse_price:,.2f}\")\n",
    "        print(f\"Price MAE: ${mae_price:,.2f}\")\n",
    "        print(f\"Price MAPE: {mape_price:.2f}%\")\n",
    "        \n",
    "        # Direction predictions\n",
    "        print(\"\\n\" + \"=\"*50)\n",
    "        print(\"OPTIMIZED LSTM DIRECTION PREDICTION RESULTS\")\n",
    "        print(\"=\"*50)\n",
    "        \n",
    "        y_dir_pred_proba = self.direction_model.predict(self.X_test)\n",
    "        y_dir_pred = (y_dir_pred_proba > 0.5).astype(int).flatten()\n",
    "        \n",
    "        accuracy = accuracy_score(self.y_dir_test, y_dir_pred)\n",
    "        print(f\"Direction Accuracy: {accuracy:.4f} ({accuracy*100:.2f}%)\")\n",
    "        \n",
    "        # Calculate additional metrics\n",
    "        tp = np.sum((self.y_dir_test == 1) & (y_dir_pred == 1))\n",
    "        fp = np.sum((self.y_dir_test == 0) & (y_dir_pred == 1))\n",
    "        fn = np.sum((self.y_dir_test == 1) & (y_dir_pred == 0))\n",
    "        tn = np.sum((self.y_dir_test == 0) & (y_dir_pred == 0))\n",
    "        \n",
    "        precision = tp / (tp + fp) if (tp + fp) > 0 else 0\n",
    "        recall = tp / (tp + fn) if (tp + fn) > 0 else 0\n",
    "        f1 = 2 * (precision * recall) / (precision + recall) if (precision + recall) > 0 else 0\n",
    "        \n",
    "        print(f\"Precision (Up): {precision:.4f}\")\n",
    "        print(f\"Recall (Up): {recall:.4f}\")\n",
    "        print(f\"F1-Score: {f1:.4f}\")\n",
    "        \n",
    "        # Compare with expected results\n",
    "        if mse_return <= 0.008:\n",
    "            print(f\"\\n✓ Return MSE achieved expected performance (≤0.008)\")\n",
    "        else:\n",
    "            print(f\"\\n⚠ Return MSE ({mse_return:.6f}) is higher than expected (~0.008)\")\n",
    "        \n",
    "        return {\n",
    "            'return_predictions': y_return_pred,\n",
    "            'return_actual': y_return_actual,\n",
    "            'price_predictions': y_price_pred,\n",
    "            'price_actual': y_price_actual,\n",
    "            'direction_predictions': y_dir_pred,\n",
    "            'direction_probabilities': y_dir_pred_proba.flatten(),\n",
    "            'return_metrics': {'mse': mse_return, 'mae': mae_return},\n",
    "            'price_metrics': {'mse': mse_price, 'mae': mae_price, 'mape': mape_price},\n",
    "            'direction_accuracy': accuracy,\n",
    "            'direction_metrics': {'precision': precision, 'recall': recall, 'f1': f1}\n",
    "        }\n",
    "    \n",
    "    def predict_next_day(self):\n",
    "        \"\"\"Predict next day return and direction with optimized model\"\"\"\n",
    "        \n",
    "        # Use the last sequence from test data\n",
    "        last_sequence = self.X_test[-1:] \n",
    "        \n",
    "        # Predict return\n",
    "        predicted_return_scaled = self.return_model.predict(last_sequence)[0][0]\n",
    "        predicted_return = self.target_scaler.inverse_transform([[predicted_return_scaled]])[0][0]\n",
    "        \n",
    "        # Get current price (last known price)\n",
    "        current_price = self.test_current_prices[-1]\n",
    "        \n",
    "        # Calculate the prediction date (next business day after last date)\n",
    "        import pandas as pd\n",
    "        prediction_date = self.last_date + pd.Timedelta(days=1)\n",
    "        \n",
    "        # If it's a weekend, adjust to next Monday\n",
    "        if prediction_date.weekday() >= 5:  # Saturday=5, Sunday=6\n",
    "            days_to_add = 7 - prediction_date.weekday()\n",
    "            prediction_date = prediction_date + pd.Timedelta(days=days_to_add)\n",
    "        \n",
    "        # Calculate predicted price\n",
    "        predicted_price = current_price * (1 + predicted_return)\n",
    "        \n",
    "        # Ensure predicted price is positive\n",
    "        if predicted_price <= 0:\n",
    "            print(\"Warning: Negative price prediction corrected\")\n",
    "            predicted_price = current_price * 1.001  # Small positive change\n",
    "            predicted_return = 0.001\n",
    "        \n",
    "        # Predict direction\n",
    "        direction_prob = self.direction_model.predict(last_sequence)[0][0]\n",
    "        predicted_direction = \"UP\" if direction_prob > 0.5 else \"DOWN\"\n",
    "        confidence = max(direction_prob, 1 - direction_prob) * 100\n",
    "        \n",
    "        # Calculate expected return percentage\n",
    "        expected_return_pct = predicted_return * 100\n",
    "        \n",
    "        print(\"\\n\" + \"=\"*50)\n",
    "        print(\"OPTIMIZED LSTM NEXT DAY PREDICTION\")\n",
    "        print(\"=\"*50)\n",
    "        print(f\"Model Configuration:\")\n",
    "        print(f\"  - LSTM Units: {self.lstm_units_1} -> {self.lstm_units_2}\")\n",
    "        print(f\"  - Dense Units: {self.dense_units}\")\n",
    "        print(f\"  - Dropout Rate: {self.dropout_rate}\")\n",
    "        print(f\"  - Learning Rate: {self.learning_rate}\")\n",
    "        print(f\"  - Batch Size: {self.batch_size}\")\n",
    "        print(f\"  - Sequence Length: {self.sequence_length}\")\n",
    "        print(\"-\" * 50)\n",
    "        print(f\"Last Known Date: {self.last_date.strftime('%Y-%m-%d (%A)')}\")\n",
    "        print(f\"Prediction Date: {prediction_date.strftime('%Y-%m-%d (%A)')}\")\n",
    "        print(f\"Current Price: ${current_price:,.2f}\")\n",
    "        print(f\"Predicted Price: ${predicted_price:,.2f}\")\n",
    "        print(f\"Expected Return: {expected_return_pct:+.2f}%\")\n",
    "        print(f\"Predicted Direction: {predicted_direction}\")\n",
    "        print(f\"Direction Confidence: {confidence:.1f}%\")\n",
    "        print(f\"Probability UP: {direction_prob*100:.1f}%\")\n",
    "        print(f\"Probability DOWN: {(1-direction_prob)*100:.1f}%\")\n",
    "        \n",
    "        # Sanity checks\n",
    "        if abs(predicted_return) > 0.5:  # More than 50% change\n",
    "            print(f\"WARNING: Large predicted return ({expected_return_pct:.1f}%) - consider model retraining\")\n",
    "        \n",
    "        return {\n",
    "            'last_known_date': self.last_date,\n",
    "            'prediction_date': prediction_date,\n",
    "            'current_price': current_price,\n",
    "            'predicted_price': predicted_price,\n",
    "            'expected_return': predicted_return,\n",
    "            'predicted_direction': predicted_direction,\n",
    "            'confidence': confidence,\n",
    "            'prob_up': direction_prob,\n",
    "            'prob_down': 1 - direction_prob,\n",
    "            'model_config': {\n",
    "                'lstm_units_1': self.lstm_units_1,\n",
    "                'lstm_units_2': self.lstm_units_2,\n",
    "                'dense_units': self.dense_units,\n",
    "                'dropout_rate': self.dropout_rate,\n",
    "                'learning_rate': self.learning_rate,\n",
    "                'batch_size': self.batch_size,\n",
    "                'sequence_length': self.sequence_length\n",
    "            }\n",
    "        }\n",
    "    \n",
    "    def plot_predictions(self, results, n_days=30):\n",
    "        \"\"\"Plot recent predictions vs actual\"\"\"\n",
    "        fig, (ax1, ax2) = plt.subplots(2, 1, figsize=(12, 10))\n",
    "        \n",
    "        # Plot last n_days of predictions\n",
    "        recent_actual = results['price_actual'][-n_days:]\n",
    "        recent_pred = results['price_predictions'][-n_days:]\n",
    "        recent_dates = self.test_dates[-n_days:]\n",
    "        \n",
    "        ax1.plot(recent_dates, recent_actual, label='Actual Price', color='blue', linewidth=2)\n",
    "        ax1.plot(recent_dates, recent_pred, label='Predicted Price', color='red', linewidth=2, alpha=0.7)\n",
    "        ax1.set_title('Recent Price Predictions vs Actual (Optimized Model)')\n",
    "        ax1.set_ylabel('Price ($)')\n",
    "        ax1.legend()\n",
    "        ax1.grid(True, alpha=0.3)\n",
    "        ax1.tick_params(axis='x', rotation=45)\n",
    "        \n",
    "        # Plot returns\n",
    "        recent_return_actual = results['return_actual'][-n_days:]\n",
    "        recent_return_pred = results['return_predictions'][-n_days:]\n",
    "        \n",
    "        ax2.plot(recent_dates, recent_return_actual, label='Actual Return', color='blue', linewidth=2)\n",
    "        ax2.plot(recent_dates, recent_return_pred, label='Predicted Return', color='red', linewidth=2, alpha=0.7)\n",
    "        ax2.axhline(y=0, color='black', linestyle='--', alpha=0.5)\n",
    "        ax2.set_title('Recent Return Predictions vs Actual (Optimized Model)')\n",
    "        ax2.set_xlabel('Date')\n",
    "        ax2.set_ylabel('Return')\n",
    "        ax2.legend()\n",
    "        ax2.grid(True, alpha=0.3)\n",
    "        ax2.tick_params(axis='x', rotation=45)\n",
    "        \n",
    "        plt.tight_layout()\n",
    "        plt.show()\n",
    "        \n",
    "    def get_model_summary(self):\n",
    "        \"\"\"Get a summary of the optimized model configuration\"\"\"\n",
    "        summary = {\n",
    "            'optimized_hyperparameters': {\n",
    "                'batch_size': self.batch_size,\n",
    "                'dense_units': self.dense_units,\n",
    "                'dropout_rate': self.dropout_rate,\n",
    "                'learning_rate': self.learning_rate,\n",
    "                'lstm_units_1': self.lstm_units_1,\n",
    "                'lstm_units_2': self.lstm_units_2,\n",
    "                'sequence_length': self.sequence_length\n",
    "            },\n",
    "            'expected_performance': {\n",
    "                'mse': 0.007947,\n",
    "                'mae': 0.06260,\n",
    "                'optimization_method': 'grid_search',\n",
    "                'total_evaluations': 300\n",
    "            }\n",
    "        }\n",
    "        return summary"
   ]
  },
  {
   "cell_type": "code",
   "execution_count": 38,
   "metadata": {},
   "outputs": [
    {
     "name": "stdout",
     "output_type": "stream",
     "text": [
      "1080\n",
      "Processed 1080 data points with 53 features\n",
      "Using 27 features: ['high_close_ratio', 'low_close_ratio', 'open_close_ratio', 'returns_1d', 'returns_3d', 'returns_7d', 'price_ma_5_ratio', 'price_ma_10_ratio', 'price_ma_20_ratio', 'macd_normalized', 'macd_signal_normalized', 'rsi_normalized', 'bb_position', 'bb_width', 'volatility_10', 'volatility_20', 'volume_avg_ratio', 'volume_change', 'vader_ma_3', 'vader_ma_7', 'article_count_norm', 'funding_rate', 'funding_rate_ma', 'momentum_5', 'momentum_10', 'day_sin', 'day_cos']\n",
      "Training sequences: 735\n",
      "Validation sequences: 105\n",
      "Test sequences: 210\n",
      "Features per timestep: 27\n",
      "Last date in dataset: 2025-06-10 00:00:00\n",
      "Using provided batch_size: 32 (optimized: 16)\n",
      "Training return prediction LSTM with optimized hyperparameters...\n",
      "Epoch 1/200\n",
      "\u001b[1m23/23\u001b[0m \u001b[32m━━━━━━━━━━━━━━━━━━━━\u001b[0m\u001b[37m\u001b[0m \u001b[1m1s\u001b[0m 14ms/step - loss: 0.1270 - mae: 0.2748 - val_loss: 0.0160 - val_mae: 0.1039 - learning_rate: 0.0100\n",
      "Epoch 2/200\n",
      "\u001b[1m23/23\u001b[0m \u001b[32m━━━━━━━━━━━━━━━━━━━━\u001b[0m\u001b[37m\u001b[0m \u001b[1m0s\u001b[0m 8ms/step - loss: 0.0255 - mae: 0.1230 - val_loss: 0.0115 - val_mae: 0.0794 - learning_rate: 0.0100\n",
      "Epoch 3/200\n",
      "\u001b[1m23/23\u001b[0m \u001b[32m━━━━━━━━━━━━━━━━━━━━\u001b[0m\u001b[37m\u001b[0m \u001b[1m0s\u001b[0m 7ms/step - loss: 0.0160 - mae: 0.0957 - val_loss: 0.0109 - val_mae: 0.0757 - learning_rate: 0.0100\n",
      "Epoch 4/200\n",
      "\u001b[1m23/23\u001b[0m \u001b[32m━━━━━━━━━━━━━━━━━━━━\u001b[0m\u001b[37m\u001b[0m \u001b[1m0s\u001b[0m 7ms/step - loss: 0.0145 - mae: 0.0903 - val_loss: 0.0107 - val_mae: 0.0751 - learning_rate: 0.0100\n",
      "Epoch 5/200\n",
      "\u001b[1m23/23\u001b[0m \u001b[32m━━━━━━━━━━━━━━━━━━━━\u001b[0m\u001b[37m\u001b[0m \u001b[1m0s\u001b[0m 8ms/step - loss: 0.0131 - mae: 0.0826 - val_loss: 0.0101 - val_mae: 0.0725 - learning_rate: 0.0100\n",
      "Epoch 6/200\n",
      "\u001b[1m23/23\u001b[0m \u001b[32m━━━━━━━━━━━━━━━━━━━━\u001b[0m\u001b[37m\u001b[0m \u001b[1m0s\u001b[0m 7ms/step - loss: 0.0114 - mae: 0.0775 - val_loss: 0.0098 - val_mae: 0.0717 - learning_rate: 0.0100\n",
      "Epoch 7/200\n",
      "\u001b[1m23/23\u001b[0m \u001b[32m━━━━━━━━━━━━━━━━━━━━\u001b[0m\u001b[37m\u001b[0m \u001b[1m0s\u001b[0m 7ms/step - loss: 0.0114 - mae: 0.0773 - val_loss: 0.0094 - val_mae: 0.0690 - learning_rate: 0.0100\n",
      "Epoch 8/200\n",
      "\u001b[1m23/23\u001b[0m \u001b[32m━━━━━━━━━━━━━━━━━━━━\u001b[0m\u001b[37m\u001b[0m \u001b[1m0s\u001b[0m 7ms/step - loss: 0.0114 - mae: 0.0768 - val_loss: 0.0096 - val_mae: 0.0699 - learning_rate: 0.0100\n",
      "Epoch 9/200\n",
      "\u001b[1m23/23\u001b[0m \u001b[32m━━━━━━━━━━━━━━━━━━━━\u001b[0m\u001b[37m\u001b[0m \u001b[1m0s\u001b[0m 8ms/step - loss: 0.0115 - mae: 0.0758 - val_loss: 0.0100 - val_mae: 0.0690 - learning_rate: 0.0100\n",
      "Epoch 10/200\n",
      "\u001b[1m23/23\u001b[0m \u001b[32m━━━━━━━━━━━━━━━━━━━━\u001b[0m\u001b[37m\u001b[0m \u001b[1m0s\u001b[0m 8ms/step - loss: 0.0106 - mae: 0.0737 - val_loss: 0.0099 - val_mae: 0.0679 - learning_rate: 0.0100\n",
      "Epoch 11/200\n",
      "\u001b[1m23/23\u001b[0m \u001b[32m━━━━━━━━━━━━━━━━━━━━\u001b[0m\u001b[37m\u001b[0m \u001b[1m0s\u001b[0m 8ms/step - loss: 0.0103 - mae: 0.0720 - val_loss: 0.0102 - val_mae: 0.0696 - learning_rate: 0.0100\n",
      "Epoch 12/200\n",
      "\u001b[1m23/23\u001b[0m \u001b[32m━━━━━━━━━━━━━━━━━━━━\u001b[0m\u001b[37m\u001b[0m \u001b[1m0s\u001b[0m 7ms/step - loss: 0.0098 - mae: 0.0698 - val_loss: 0.0101 - val_mae: 0.0709 - learning_rate: 0.0100\n",
      "Epoch 13/200\n",
      "\u001b[1m23/23\u001b[0m \u001b[32m━━━━━━━━━━━━━━━━━━━━\u001b[0m\u001b[37m\u001b[0m \u001b[1m0s\u001b[0m 7ms/step - loss: 0.0097 - mae: 0.0693 - val_loss: 0.0103 - val_mae: 0.0704 - learning_rate: 0.0050\n",
      "Epoch 14/200\n",
      "\u001b[1m23/23\u001b[0m \u001b[32m━━━━━━━━━━━━━━━━━━━━\u001b[0m\u001b[37m\u001b[0m \u001b[1m0s\u001b[0m 7ms/step - loss: 0.0093 - mae: 0.0664 - val_loss: 0.0097 - val_mae: 0.0690 - learning_rate: 0.0050\n",
      "Epoch 15/200\n",
      "\u001b[1m23/23\u001b[0m \u001b[32m━━━━━━━━━━━━━━━━━━━━\u001b[0m\u001b[37m\u001b[0m \u001b[1m0s\u001b[0m 7ms/step - loss: 0.0090 - mae: 0.0649 - val_loss: 0.0100 - val_mae: 0.0705 - learning_rate: 0.0050\n",
      "Epoch 16/200\n",
      "\u001b[1m23/23\u001b[0m \u001b[32m━━━━━━━━━━━━━━━━━━━━\u001b[0m\u001b[37m\u001b[0m \u001b[1m0s\u001b[0m 7ms/step - loss: 0.0094 - mae: 0.0666 - val_loss: 0.0100 - val_mae: 0.0700 - learning_rate: 0.0050\n",
      "Epoch 17/200\n",
      "\u001b[1m23/23\u001b[0m \u001b[32m━━━━━━━━━━━━━━━━━━━━\u001b[0m\u001b[37m\u001b[0m \u001b[1m0s\u001b[0m 7ms/step - loss: 0.0092 - mae: 0.0663 - val_loss: 0.0106 - val_mae: 0.0706 - learning_rate: 0.0050\n",
      "\n",
      "Training direction prediction LSTM with optimized hyperparameters...\n",
      "Epoch 1/200\n",
      "\u001b[1m23/23\u001b[0m \u001b[32m━━━━━━━━━━━━━━━━━━━━\u001b[0m\u001b[37m\u001b[0m \u001b[1m1s\u001b[0m 14ms/step - accuracy: 0.5246 - loss: 0.7138 - val_accuracy: 0.5238 - val_loss: 0.6975 - learning_rate: 0.0100\n",
      "Epoch 2/200\n",
      "\u001b[1m23/23\u001b[0m \u001b[32m━━━━━━━━━━━━━━━━━━━━\u001b[0m\u001b[37m\u001b[0m \u001b[1m0s\u001b[0m 7ms/step - accuracy: 0.5009 - loss: 0.7135 - val_accuracy: 0.4857 - val_loss: 0.7025 - learning_rate: 0.0100\n",
      "Epoch 3/200\n",
      "\u001b[1m23/23\u001b[0m \u001b[32m━━━━━━━━━━━━━━━━━━━━\u001b[0m\u001b[37m\u001b[0m \u001b[1m0s\u001b[0m 10ms/step - accuracy: 0.5279 - loss: 0.6929 - val_accuracy: 0.4762 - val_loss: 0.6959 - learning_rate: 0.0100\n",
      "Epoch 4/200\n",
      "\u001b[1m23/23\u001b[0m \u001b[32m━━━━━━━━━━━━━━━━━━━━\u001b[0m\u001b[37m\u001b[0m \u001b[1m0s\u001b[0m 7ms/step - accuracy: 0.5413 - loss: 0.6910 - val_accuracy: 0.4952 - val_loss: 0.7015 - learning_rate: 0.0100\n",
      "Epoch 5/200\n",
      "\u001b[1m23/23\u001b[0m \u001b[32m━━━━━━━━━━━━━━━━━━━━\u001b[0m\u001b[37m\u001b[0m \u001b[1m0s\u001b[0m 8ms/step - accuracy: 0.5118 - loss: 0.6979 - val_accuracy: 0.4857 - val_loss: 0.6983 - learning_rate: 0.0100\n",
      "Epoch 6/200\n",
      "\u001b[1m23/23\u001b[0m \u001b[32m━━━━━━━━━━━━━━━━━━━━\u001b[0m\u001b[37m\u001b[0m \u001b[1m0s\u001b[0m 7ms/step - accuracy: 0.5493 - loss: 0.6901 - val_accuracy: 0.4762 - val_loss: 0.6991 - learning_rate: 0.0100\n",
      "Epoch 7/200\n",
      "\u001b[1m23/23\u001b[0m \u001b[32m━━━━━━━━━━━━━━━━━━━━\u001b[0m\u001b[37m\u001b[0m \u001b[1m0s\u001b[0m 8ms/step - accuracy: 0.5487 - loss: 0.6897 - val_accuracy: 0.4762 - val_loss: 0.6961 - learning_rate: 0.0100\n",
      "Epoch 8/200\n",
      "\u001b[1m23/23\u001b[0m \u001b[32m━━━━━━━━━━━━━━━━━━━━\u001b[0m\u001b[37m\u001b[0m \u001b[1m0s\u001b[0m 7ms/step - accuracy: 0.5533 - loss: 0.6874 - val_accuracy: 0.4762 - val_loss: 0.7017 - learning_rate: 0.0100\n",
      "Epoch 9/200\n",
      "\u001b[1m23/23\u001b[0m \u001b[32m━━━━━━━━━━━━━━━━━━━━\u001b[0m\u001b[37m\u001b[0m \u001b[1m0s\u001b[0m 7ms/step - accuracy: 0.5522 - loss: 0.6895 - val_accuracy: 0.4762 - val_loss: 0.7013 - learning_rate: 0.0050\n",
      "Epoch 10/200\n",
      "\u001b[1m23/23\u001b[0m \u001b[32m━━━━━━━━━━━━━━━━━━━━\u001b[0m\u001b[37m\u001b[0m \u001b[1m0s\u001b[0m 8ms/step - accuracy: 0.5426 - loss: 0.6873 - val_accuracy: 0.4667 - val_loss: 0.6976 - learning_rate: 0.0050\n",
      "Epoch 11/200\n",
      "\u001b[1m23/23\u001b[0m \u001b[32m━━━━━━━━━━━━━━━━━━━━\u001b[0m\u001b[37m\u001b[0m \u001b[1m0s\u001b[0m 8ms/step - accuracy: 0.5657 - loss: 0.6835 - val_accuracy: 0.4952 - val_loss: 0.6926 - learning_rate: 0.0050\n",
      "Epoch 12/200\n",
      "\u001b[1m23/23\u001b[0m \u001b[32m━━━━━━━━━━━━━━━━━━━━\u001b[0m\u001b[37m\u001b[0m \u001b[1m0s\u001b[0m 8ms/step - accuracy: 0.5555 - loss: 0.6804 - val_accuracy: 0.4762 - val_loss: 0.7006 - learning_rate: 0.0050\n",
      "Epoch 13/200\n",
      "\u001b[1m23/23\u001b[0m \u001b[32m━━━━━━━━━━━━━━━━━━━━\u001b[0m\u001b[37m\u001b[0m \u001b[1m0s\u001b[0m 9ms/step - accuracy: 0.5321 - loss: 0.6802 - val_accuracy: 0.4762 - val_loss: 0.7198 - learning_rate: 0.0050\n",
      "Epoch 14/200\n",
      "\u001b[1m23/23\u001b[0m \u001b[32m━━━━━━━━━━━━━━━━━━━━\u001b[0m\u001b[37m\u001b[0m \u001b[1m0s\u001b[0m 8ms/step - accuracy: 0.5886 - loss: 0.6783 - val_accuracy: 0.5048 - val_loss: 0.6924 - learning_rate: 0.0050\n",
      "Epoch 15/200\n",
      "\u001b[1m23/23\u001b[0m \u001b[32m━━━━━━━━━━━━━━━━━━━━\u001b[0m\u001b[37m\u001b[0m \u001b[1m0s\u001b[0m 8ms/step - accuracy: 0.5732 - loss: 0.6767 - val_accuracy: 0.4952 - val_loss: 0.6990 - learning_rate: 0.0050\n",
      "Epoch 16/200\n",
      "\u001b[1m23/23\u001b[0m \u001b[32m━━━━━━━━━━━━━━━━━━━━\u001b[0m\u001b[37m\u001b[0m \u001b[1m0s\u001b[0m 8ms/step - accuracy: 0.5869 - loss: 0.6752 - val_accuracy: 0.4857 - val_loss: 0.7113 - learning_rate: 0.0050\n",
      "Epoch 17/200\n",
      "\u001b[1m23/23\u001b[0m \u001b[32m━━━━━━━━━━━━━━━━━━━━\u001b[0m\u001b[37m\u001b[0m \u001b[1m0s\u001b[0m 8ms/step - accuracy: 0.5699 - loss: 0.6652 - val_accuracy: 0.5524 - val_loss: 0.6896 - learning_rate: 0.0050\n",
      "Epoch 18/200\n",
      "\u001b[1m23/23\u001b[0m \u001b[32m━━━━━━━━━━━━━━━━━━━━\u001b[0m\u001b[37m\u001b[0m \u001b[1m0s\u001b[0m 8ms/step - accuracy: 0.5661 - loss: 0.6735 - val_accuracy: 0.5429 - val_loss: 0.6978 - learning_rate: 0.0050\n",
      "Epoch 19/200\n",
      "\u001b[1m23/23\u001b[0m \u001b[32m━━━━━━━━━━━━━━━━━━━━\u001b[0m\u001b[37m\u001b[0m \u001b[1m0s\u001b[0m 8ms/step - accuracy: 0.6175 - loss: 0.6538 - val_accuracy: 0.5619 - val_loss: 0.7047 - learning_rate: 0.0050\n",
      "Epoch 20/200\n",
      "\u001b[1m23/23\u001b[0m \u001b[32m━━━━━━━━━━━━━━━━━━━━\u001b[0m\u001b[37m\u001b[0m \u001b[1m0s\u001b[0m 7ms/step - accuracy: 0.5911 - loss: 0.6622 - val_accuracy: 0.5429 - val_loss: 0.7015 - learning_rate: 0.0050\n",
      "Epoch 21/200\n",
      "\u001b[1m23/23\u001b[0m \u001b[32m━━━━━━━━━━━━━━━━━━━━\u001b[0m\u001b[37m\u001b[0m \u001b[1m0s\u001b[0m 7ms/step - accuracy: 0.6073 - loss: 0.6495 - val_accuracy: 0.5143 - val_loss: 0.7180 - learning_rate: 0.0050\n",
      "Epoch 22/200\n",
      "\u001b[1m23/23\u001b[0m \u001b[32m━━━━━━━━━━━━━━━━━━━━\u001b[0m\u001b[37m\u001b[0m \u001b[1m0s\u001b[0m 7ms/step - accuracy: 0.5944 - loss: 0.6487 - val_accuracy: 0.5048 - val_loss: 0.7065 - learning_rate: 0.0050\n",
      "Epoch 23/200\n",
      "\u001b[1m23/23\u001b[0m \u001b[32m━━━━━━━━━━━━━━━━━━━━\u001b[0m\u001b[37m\u001b[0m \u001b[1m0s\u001b[0m 8ms/step - accuracy: 0.6132 - loss: 0.6552 - val_accuracy: 0.5333 - val_loss: 0.7092 - learning_rate: 0.0025\n",
      "Epoch 24/200\n",
      "\u001b[1m23/23\u001b[0m \u001b[32m━━━━━━━━━━━━━━━━━━━━\u001b[0m\u001b[37m\u001b[0m \u001b[1m0s\u001b[0m 7ms/step - accuracy: 0.5901 - loss: 0.6471 - val_accuracy: 0.5524 - val_loss: 0.7042 - learning_rate: 0.0025\n",
      "Epoch 25/200\n",
      "\u001b[1m23/23\u001b[0m \u001b[32m━━━━━━━━━━━━━━━━━━━━\u001b[0m\u001b[37m\u001b[0m \u001b[1m0s\u001b[0m 7ms/step - accuracy: 0.6880 - loss: 0.6132 - val_accuracy: 0.6381 - val_loss: 0.7058 - learning_rate: 0.0025\n",
      "Epoch 26/200\n",
      "\u001b[1m23/23\u001b[0m \u001b[32m━━━━━━━━━━━━━━━━━━━━\u001b[0m\u001b[37m\u001b[0m \u001b[1m0s\u001b[0m 7ms/step - accuracy: 0.6598 - loss: 0.6323 - val_accuracy: 0.5714 - val_loss: 0.7296 - learning_rate: 0.0025\n",
      "Epoch 27/200\n",
      "\u001b[1m23/23\u001b[0m \u001b[32m━━━━━━━━━━━━━━━━━━━━\u001b[0m\u001b[37m\u001b[0m \u001b[1m0s\u001b[0m 8ms/step - accuracy: 0.6386 - loss: 0.6085 - val_accuracy: 0.5524 - val_loss: 0.7238 - learning_rate: 0.0025\n",
      "\n",
      "==================================================\n",
      "OPTIMIZED LSTM RETURN PREDICTION RESULTS\n",
      "==================================================\n",
      "\u001b[1m7/7\u001b[0m \u001b[32m━━━━━━━━━━━━━━━━━━━━\u001b[0m\u001b[37m\u001b[0m \u001b[1m0s\u001b[0m 17ms/step\n",
      "Return MSE: 0.000664 (Expected: ~0.007947)\n",
      "Return MAE: 0.018490 (Expected: ~0.06260)\n",
      "Price MSE: $5,699,312.98\n",
      "Price MAE: $1,739.59\n",
      "Price MAPE: 1.85%\n",
      "\n",
      "==================================================\n",
      "OPTIMIZED LSTM DIRECTION PREDICTION RESULTS\n",
      "==================================================\n",
      "\u001b[1m7/7\u001b[0m \u001b[32m━━━━━━━━━━━━━━━━━━━━\u001b[0m\u001b[37m\u001b[0m \u001b[1m0s\u001b[0m 43ms/step\n",
      "Direction Accuracy: 0.4952 (49.52%)\n",
      "Precision (Up): 0.4833\n",
      "Recall (Up): 0.2788\n",
      "F1-Score: 0.3537\n",
      "\n",
      "✓ Return MSE achieved expected performance (≤0.008)\n",
      "\u001b[1m1/1\u001b[0m \u001b[32m━━━━━━━━━━━━━━━━━━━━\u001b[0m\u001b[37m\u001b[0m \u001b[1m0s\u001b[0m 14ms/step\n",
      "\u001b[1m1/1\u001b[0m \u001b[32m━━━━━━━━━━━━━━━━━━━━\u001b[0m\u001b[37m\u001b[0m \u001b[1m0s\u001b[0m 15ms/step\n",
      "\n",
      "==================================================\n",
      "OPTIMIZED LSTM NEXT DAY PREDICTION\n",
      "==================================================\n",
      "Model Configuration:\n",
      "  - LSTM Units: 64 -> 16\n",
      "  - Dense Units: 8\n",
      "  - Dropout Rate: 0.1\n",
      "  - Learning Rate: 0.01\n",
      "  - Batch Size: 16\n",
      "  - Sequence Length: 30\n",
      "--------------------------------------------------\n",
      "Last Known Date: 2025-06-10 (Tuesday)\n",
      "Prediction Date: 2025-06-11 (Wednesday)\n",
      "Current Price: $110,274.39\n",
      "Predicted Price: $110,981.56\n",
      "Expected Return: +0.64%\n",
      "Predicted Direction: UP\n",
      "Direction Confidence: 51.7%\n",
      "Probability UP: 51.7%\n",
      "Probability DOWN: 48.3%\n"
     ]
    },
    {
     "data": {
      "image/png": "[encoded data removed]",
      "text/plain": [
       "<Figure size 1200x1000 with 2 Axes>"
      ]
     },
     "metadata": {},
     "output_type": "display_data"
    }
   ],
   "source": [
    "# Initialize the LSTM predictor\n",
    "lstm_predictor = TunedBitcoinLSTMPredictor(df_daily)\n",
    "\n",
    "# Engineer features\n",
    "df_processed = lstm_predictor.engineer_features()\n",
    "\n",
    "# Prepare data for LSTM training\n",
    "lstm_predictor.prepare_data(test_size=0.2, val_size=0.1)\n",
    "\n",
    "# Train models\n",
    "return_hist, dir_hist = lstm_predictor.train_models(epochs=200, batch_size=32)\n",
    "\n",
    "# Evaluate models\n",
    "results = lstm_predictor.evaluate_models()\n",
    "\n",
    "# Make next day prediction\n",
    "next_day_pred = lstm_predictor.predict_next_day()\n",
    "\n",
    "# Plot recent predictions\n",
    "lstm_predictor.plot_predictions(results)\n"
   ]
  },
  {
   "cell_type": "code",
   "execution_count": null,
   "metadata": {},
   "outputs": [],
   "source": []
  }
 ],
 "metadata": {
  "kernelspec": {
   "display_name": "env",
   "language": "python",
   "name": "python3"
  },
  "language_info": {
   "codemirror_mode": {
    "name": "ipython",
    "version": 3
   },
   "file_extension": ".py",
   "mimetype": "text/x-python",
   "name": "python",
   "nbconvert_exporter": "python",
   "pygments_lexer": "ipython3",
   "version": "3.9.18"
  }
 },
 "nbformat": 4,
 "nbformat_minor": 2
}
